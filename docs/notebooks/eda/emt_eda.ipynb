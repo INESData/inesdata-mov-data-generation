{
 "cells": [
  {
   "cell_type": "markdown",
   "metadata": {},
   "source": [
    "# Indice. Cosas hechas\n",
    "\n",
    "- Preprocesamiento previo\n",
    "    - Creación de PK\n",
    "    - Quitamos datos estáticos (ETA <2400): ERROR\n",
    "    - Nueva columna `predict_arrival_date`: check\n",
    "    - Nueva columna `reliable_arrival_date`: FALTA COMPROBAR\n",
    "\n",
    "- Matriz de correlaciones: casi check but peta\n",
    "\n",
    "    \n",
    "- Para cada variable: \n",
    "    - Valores nulos. Posibles soluciones\n",
    "    - Correlaciones con ETA\n",
    "    - Gráfico según categoría\n",
    "    - Conclusión. La quitamos o la dejamos\n",
    "\n",
    "\n"
   ]
  },
  {
   "cell_type": "code",
   "execution_count": 1,
   "metadata": {},
   "outputs": [],
   "source": [
    "import os\n",
    "import polars as pl\n",
    "import pandas as pd\n",
    "import seaborn as sns\n",
    "import polars.selectors as cs\n",
    "import matplotlib.pyplot as plt\n",
    "from datetime import datetime, timedelta\n",
    "\n",
    "import warnings\n",
    "\n",
    "warnings.filterwarnings(\"ignore\")"
   ]
  },
  {
   "cell_type": "code",
   "execution_count": 2,
   "metadata": {},
   "outputs": [],
   "source": [
    "ROOT_PATH = os.path.dirname(os.path.dirname(os.path.dirname(os.path.abspath(os.getcwd()))))\n",
    "DATA_PATH = os.path.join(ROOT_PATH, \"data\", \"processed\")\n",
    "EMT_DATA_PATH = os.path.join(DATA_PATH, \"emt\")\n"
   ]
  },
  {
   "cell_type": "markdown",
   "metadata": {},
   "source": [
    "# Leemos los datos "
   ]
  },
  {
   "cell_type": "code",
   "execution_count": 3,
   "metadata": {},
   "outputs": [
    {
     "data": {
      "text/html": [
       "<div><style>\n",
       ".dataframe > thead > tr,\n",
       ".dataframe > tbody > tr {\n",
       "  text-align: right;\n",
       "  white-space: pre-wrap;\n",
       "}\n",
       "</style>\n",
       "<small>shape: (5, 19)</small><table border=\"1\" class=\"dataframe\"><thead><tr><th>date</th><th>datetime</th><th>bus</th><th>line</th><th>stop</th><th>positionBusLon</th><th>positionBusLat</th><th>positionTypeBus</th><th>DistanceBus</th><th>destination</th><th>deviation</th><th>StartTime</th><th>StopTime</th><th>MinimunFrequency</th><th>MaximumFrequency</th><th>isHead</th><th>dayType</th><th>strike</th><th>estimateArrive</th></tr><tr><td>str</td><td>str</td><td>i64</td><td>str</td><td>i64</td><td>f64</td><td>f64</td><td>i64</td><td>i64</td><td>str</td><td>i64</td><td>str</td><td>str</td><td>i64</td><td>i64</td><td>bool</td><td>str</td><td>str</td><td>i64</td></tr></thead><tbody><tr><td>&quot;2024-03-02&quot;</td><td>&quot;2024-03-02 07:…</td><td>579</td><td>&quot;27&quot;</td><td>33</td><td>-3.702641</td><td>40.40528</td><td>0</td><td>7528</td><td>&quot;PLAZA CASTILLA…</td><td>0</td><td>&quot;05:55&quot;</td><td>&quot;23:30&quot;</td><td>9</td><td>16</td><td>false</td><td>&quot;SA&quot;</td><td>&quot;N&quot;</td><td>1409</td></tr><tr><td>&quot;2024-03-02&quot;</td><td>&quot;2024-03-02 07:…</td><td>581</td><td>&quot;27&quot;</td><td>33</td><td>-3.689498</td><td>40.437068</td><td>0</td><td>2771</td><td>&quot;PLAZA CASTILLA…</td><td>0</td><td>&quot;05:55&quot;</td><td>&quot;23:30&quot;</td><td>9</td><td>16</td><td>false</td><td>&quot;SA&quot;</td><td>&quot;N&quot;</td><td>476</td></tr><tr><td>&quot;2024-03-02&quot;</td><td>&quot;2024-03-02 07:…</td><td>4855</td><td>&quot;5&quot;</td><td>33</td><td>-3.695955</td><td>40.435</td><td>0</td><td>10663</td><td>&quot;CHAMARTIN&quot;</td><td>0</td><td>null</td><td>null</td><td>null</td><td>null</td><td>false</td><td>null</td><td>null</td><td>2481</td></tr><tr><td>&quot;2024-03-02&quot;</td><td>&quot;2024-03-02 07:…</td><td>4857</td><td>&quot;5&quot;</td><td>33</td><td>-3.688575</td><td>40.430257</td><td>0</td><td>4550</td><td>&quot;CHAMARTIN&quot;</td><td>0</td><td>null</td><td>null</td><td>null</td><td>null</td><td>false</td><td>null</td><td>null</td><td>967</td></tr><tr><td>&quot;2024-03-02&quot;</td><td>&quot;2024-03-02 07:…</td><td>5631</td><td>&quot;147&quot;</td><td>33</td><td>-3.705854</td><td>40.428887</td><td>0</td><td>4754</td><td>&quot;BARRIO DEL PIL…</td><td>0</td><td>null</td><td>null</td><td>null</td><td>null</td><td>false</td><td>null</td><td>null</td><td>899</td></tr></tbody></table></div>"
      ],
      "text/plain": [
       "shape: (5, 19)\n",
       "┌────────────┬─────────────────┬──────┬──────┬───┬────────┬─────────┬────────┬────────────────┐\n",
       "│ date       ┆ datetime        ┆ bus  ┆ line ┆ … ┆ isHead ┆ dayType ┆ strike ┆ estimateArrive │\n",
       "│ ---        ┆ ---             ┆ ---  ┆ ---  ┆   ┆ ---    ┆ ---     ┆ ---    ┆ ---            │\n",
       "│ str        ┆ str             ┆ i64  ┆ str  ┆   ┆ bool   ┆ str     ┆ str    ┆ i64            │\n",
       "╞════════════╪═════════════════╪══════╪══════╪═══╪════════╪═════════╪════════╪════════════════╡\n",
       "│ 2024-03-02 ┆ 2024-03-02      ┆ 579  ┆ 27   ┆ … ┆ false  ┆ SA      ┆ N      ┆ 1409           │\n",
       "│            ┆ 07:59:38.430943 ┆      ┆      ┆   ┆        ┆         ┆        ┆                │\n",
       "│ 2024-03-02 ┆ 2024-03-02      ┆ 581  ┆ 27   ┆ … ┆ false  ┆ SA      ┆ N      ┆ 476            │\n",
       "│            ┆ 07:59:38.430943 ┆      ┆      ┆   ┆        ┆         ┆        ┆                │\n",
       "│ 2024-03-02 ┆ 2024-03-02      ┆ 4855 ┆ 5    ┆ … ┆ false  ┆ null    ┆ null   ┆ 2481           │\n",
       "│            ┆ 07:59:38.430943 ┆      ┆      ┆   ┆        ┆         ┆        ┆                │\n",
       "│ 2024-03-02 ┆ 2024-03-02      ┆ 4857 ┆ 5    ┆ … ┆ false  ┆ null    ┆ null   ┆ 967            │\n",
       "│            ┆ 07:59:38.430943 ┆      ┆      ┆   ┆        ┆         ┆        ┆                │\n",
       "│ 2024-03-02 ┆ 2024-03-02      ┆ 5631 ┆ 147  ┆ … ┆ false  ┆ null    ┆ null   ┆ 899            │\n",
       "│            ┆ 07:59:38.430943 ┆      ┆      ┆   ┆        ┆         ┆        ┆                │\n",
       "└────────────┴─────────────────┴──────┴──────┴───┴────────┴─────────┴────────┴────────────────┘"
      ]
     },
     "execution_count": 3,
     "metadata": {},
     "output_type": "execute_result"
    }
   ],
   "source": [
    "lf = pl.scan_csv(os.path.join(EMT_DATA_PATH, \"2024\", \"03\", \"emt_202403.csv\"))\n",
    "lf.head().collect()"
   ]
  },
  {
   "cell_type": "markdown",
   "metadata": {},
   "source": [
    "# Variables numéricas"
   ]
  },
  {
   "cell_type": "code",
   "execution_count": 4,
   "metadata": {},
   "outputs": [
    {
     "data": {
      "text/html": [
       "<div><style>\n",
       ".dataframe > thead > tr,\n",
       ".dataframe > tbody > tr {\n",
       "  text-align: right;\n",
       "  white-space: pre-wrap;\n",
       "}\n",
       "</style>\n",
       "<small>shape: (5, 10)</small><table border=\"1\" class=\"dataframe\"><thead><tr><th>bus</th><th>stop</th><th>positionBusLon</th><th>positionBusLat</th><th>positionTypeBus</th><th>DistanceBus</th><th>deviation</th><th>MinimunFrequency</th><th>MaximumFrequency</th><th>estimateArrive</th></tr><tr><td>i64</td><td>i64</td><td>f64</td><td>f64</td><td>i64</td><td>i64</td><td>i64</td><td>i64</td><td>i64</td><td>i64</td></tr></thead><tbody><tr><td>579</td><td>33</td><td>-3.702641</td><td>40.40528</td><td>0</td><td>7528</td><td>0</td><td>9</td><td>16</td><td>1409</td></tr><tr><td>581</td><td>33</td><td>-3.689498</td><td>40.437068</td><td>0</td><td>2771</td><td>0</td><td>9</td><td>16</td><td>476</td></tr><tr><td>4855</td><td>33</td><td>-3.695955</td><td>40.435</td><td>0</td><td>10663</td><td>0</td><td>null</td><td>null</td><td>2481</td></tr><tr><td>4857</td><td>33</td><td>-3.688575</td><td>40.430257</td><td>0</td><td>4550</td><td>0</td><td>null</td><td>null</td><td>967</td></tr><tr><td>5631</td><td>33</td><td>-3.705854</td><td>40.428887</td><td>0</td><td>4754</td><td>0</td><td>null</td><td>null</td><td>899</td></tr></tbody></table></div>"
      ],
      "text/plain": [
       "shape: (5, 10)\n",
       "┌──────┬──────┬─────────────┬─────────────┬───┬───────────┬─────────────┬─────────────┬────────────┐\n",
       "│ bus  ┆ stop ┆ positionBus ┆ positionBus ┆ … ┆ deviation ┆ MinimunFreq ┆ MaximumFreq ┆ estimateAr │\n",
       "│ ---  ┆ ---  ┆ Lon         ┆ Lat         ┆   ┆ ---       ┆ uency       ┆ uency       ┆ rive       │\n",
       "│ i64  ┆ i64  ┆ ---         ┆ ---         ┆   ┆ i64       ┆ ---         ┆ ---         ┆ ---        │\n",
       "│      ┆      ┆ f64         ┆ f64         ┆   ┆           ┆ i64         ┆ i64         ┆ i64        │\n",
       "╞══════╪══════╪═════════════╪═════════════╪═══╪═══════════╪═════════════╪═════════════╪════════════╡\n",
       "│ 579  ┆ 33   ┆ -3.702641   ┆ 40.40528    ┆ … ┆ 0         ┆ 9           ┆ 16          ┆ 1409       │\n",
       "│ 581  ┆ 33   ┆ -3.689498   ┆ 40.437068   ┆ … ┆ 0         ┆ 9           ┆ 16          ┆ 476        │\n",
       "│ 4855 ┆ 33   ┆ -3.695955   ┆ 40.435      ┆ … ┆ 0         ┆ null        ┆ null        ┆ 2481       │\n",
       "│ 4857 ┆ 33   ┆ -3.688575   ┆ 40.430257   ┆ … ┆ 0         ┆ null        ┆ null        ┆ 967        │\n",
       "│ 5631 ┆ 33   ┆ -3.705854   ┆ 40.428887   ┆ … ┆ 0         ┆ null        ┆ null        ┆ 899        │\n",
       "└──────┴──────┴─────────────┴─────────────┴───┴───────────┴─────────────┴─────────────┴────────────┘"
      ]
     },
     "execution_count": 4,
     "metadata": {},
     "output_type": "execute_result"
    }
   ],
   "source": [
    "lf.select(cs.numeric()).head().collect()"
   ]
  },
  {
   "cell_type": "markdown",
   "metadata": {},
   "source": [
    "# Variables categóricas"
   ]
  },
  {
   "cell_type": "code",
   "execution_count": 5,
   "metadata": {},
   "outputs": [
    {
     "data": {
      "text/html": [
       "<div><style>\n",
       ".dataframe > thead > tr,\n",
       ".dataframe > tbody > tr {\n",
       "  text-align: right;\n",
       "  white-space: pre-wrap;\n",
       "}\n",
       "</style>\n",
       "<small>shape: (5, 8)</small><table border=\"1\" class=\"dataframe\"><thead><tr><th>date</th><th>datetime</th><th>line</th><th>destination</th><th>StartTime</th><th>StopTime</th><th>dayType</th><th>strike</th></tr><tr><td>str</td><td>str</td><td>str</td><td>str</td><td>str</td><td>str</td><td>str</td><td>str</td></tr></thead><tbody><tr><td>&quot;2024-03-02&quot;</td><td>&quot;2024-03-02 07:…</td><td>&quot;27&quot;</td><td>&quot;PLAZA CASTILLA…</td><td>&quot;05:55&quot;</td><td>&quot;23:30&quot;</td><td>&quot;SA&quot;</td><td>&quot;N&quot;</td></tr><tr><td>&quot;2024-03-02&quot;</td><td>&quot;2024-03-02 07:…</td><td>&quot;27&quot;</td><td>&quot;PLAZA CASTILLA…</td><td>&quot;05:55&quot;</td><td>&quot;23:30&quot;</td><td>&quot;SA&quot;</td><td>&quot;N&quot;</td></tr><tr><td>&quot;2024-03-02&quot;</td><td>&quot;2024-03-02 07:…</td><td>&quot;5&quot;</td><td>&quot;CHAMARTIN&quot;</td><td>null</td><td>null</td><td>null</td><td>null</td></tr><tr><td>&quot;2024-03-02&quot;</td><td>&quot;2024-03-02 07:…</td><td>&quot;5&quot;</td><td>&quot;CHAMARTIN&quot;</td><td>null</td><td>null</td><td>null</td><td>null</td></tr><tr><td>&quot;2024-03-02&quot;</td><td>&quot;2024-03-02 07:…</td><td>&quot;147&quot;</td><td>&quot;BARRIO DEL PIL…</td><td>null</td><td>null</td><td>null</td><td>null</td></tr></tbody></table></div>"
      ],
      "text/plain": [
       "shape: (5, 8)\n",
       "┌────────────┬──────────────────┬──────┬─────────────────┬───────────┬──────────┬─────────┬────────┐\n",
       "│ date       ┆ datetime         ┆ line ┆ destination     ┆ StartTime ┆ StopTime ┆ dayType ┆ strike │\n",
       "│ ---        ┆ ---              ┆ ---  ┆ ---             ┆ ---       ┆ ---      ┆ ---     ┆ ---    │\n",
       "│ str        ┆ str              ┆ str  ┆ str             ┆ str       ┆ str      ┆ str     ┆ str    │\n",
       "╞════════════╪══════════════════╪══════╪═════════════════╪═══════════╪══════════╪═════════╪════════╡\n",
       "│ 2024-03-02 ┆ 2024-03-02       ┆ 27   ┆ PLAZA CASTILLA  ┆ 05:55     ┆ 23:30    ┆ SA      ┆ N      │\n",
       "│            ┆ 07:59:38.430943  ┆      ┆                 ┆           ┆          ┆         ┆        │\n",
       "│ 2024-03-02 ┆ 2024-03-02       ┆ 27   ┆ PLAZA CASTILLA  ┆ 05:55     ┆ 23:30    ┆ SA      ┆ N      │\n",
       "│            ┆ 07:59:38.430943  ┆      ┆                 ┆           ┆          ┆         ┆        │\n",
       "│ 2024-03-02 ┆ 2024-03-02       ┆ 5    ┆ CHAMARTIN       ┆ null      ┆ null     ┆ null    ┆ null   │\n",
       "│            ┆ 07:59:38.430943  ┆      ┆                 ┆           ┆          ┆         ┆        │\n",
       "│ 2024-03-02 ┆ 2024-03-02       ┆ 5    ┆ CHAMARTIN       ┆ null      ┆ null     ┆ null    ┆ null   │\n",
       "│            ┆ 07:59:38.430943  ┆      ┆                 ┆           ┆          ┆         ┆        │\n",
       "│ 2024-03-02 ┆ 2024-03-02       ┆ 147  ┆ BARRIO DEL      ┆ null      ┆ null     ┆ null    ┆ null   │\n",
       "│            ┆ 07:59:38.430943  ┆      ┆ PILAR           ┆           ┆          ┆         ┆        │\n",
       "└────────────┴──────────────────┴──────┴─────────────────┴───────────┴──────────┴─────────┴────────┘"
      ]
     },
     "execution_count": 5,
     "metadata": {},
     "output_type": "execute_result"
    }
   ],
   "source": [
    "lf.select(cs.string()).head().collect()"
   ]
  },
  {
   "cell_type": "markdown",
   "metadata": {},
   "source": [
    "# Preprocesamiento previo \n",
    "## 1. Creamos la PK"
   ]
  },
  {
   "cell_type": "code",
   "execution_count": 6,
   "metadata": {},
   "outputs": [
    {
     "data": {
      "text/html": [
       "<div><style>\n",
       ".dataframe > thead > tr,\n",
       ".dataframe > tbody > tr {\n",
       "  text-align: right;\n",
       "  white-space: pre-wrap;\n",
       "}\n",
       "</style>\n",
       "<small>shape: (5, 20)</small><table border=\"1\" class=\"dataframe\"><thead><tr><th>date</th><th>datetime</th><th>bus</th><th>line</th><th>stop</th><th>positionBusLon</th><th>positionBusLat</th><th>positionTypeBus</th><th>DistanceBus</th><th>destination</th><th>deviation</th><th>StartTime</th><th>StopTime</th><th>MinimunFrequency</th><th>MaximumFrequency</th><th>isHead</th><th>dayType</th><th>strike</th><th>estimateArrive</th><th>PK</th></tr><tr><td>str</td><td>str</td><td>i64</td><td>str</td><td>i64</td><td>f64</td><td>f64</td><td>i64</td><td>i64</td><td>str</td><td>i64</td><td>str</td><td>str</td><td>i64</td><td>i64</td><td>bool</td><td>str</td><td>str</td><td>i64</td><td>str</td></tr></thead><tbody><tr><td>&quot;2024-03-02&quot;</td><td>&quot;2024-03-02 07:…</td><td>579</td><td>&quot;27&quot;</td><td>33</td><td>-3.702641</td><td>40.40528</td><td>0</td><td>7528</td><td>&quot;PLAZA CASTILLA…</td><td>0</td><td>&quot;05:55&quot;</td><td>&quot;23:30&quot;</td><td>9</td><td>16</td><td>false</td><td>&quot;SA&quot;</td><td>&quot;N&quot;</td><td>1409</td><td>&quot;2024-03-02 07:…</td></tr><tr><td>&quot;2024-03-02&quot;</td><td>&quot;2024-03-02 07:…</td><td>581</td><td>&quot;27&quot;</td><td>33</td><td>-3.689498</td><td>40.437068</td><td>0</td><td>2771</td><td>&quot;PLAZA CASTILLA…</td><td>0</td><td>&quot;05:55&quot;</td><td>&quot;23:30&quot;</td><td>9</td><td>16</td><td>false</td><td>&quot;SA&quot;</td><td>&quot;N&quot;</td><td>476</td><td>&quot;2024-03-02 07:…</td></tr><tr><td>&quot;2024-03-02&quot;</td><td>&quot;2024-03-02 07:…</td><td>4855</td><td>&quot;5&quot;</td><td>33</td><td>-3.695955</td><td>40.435</td><td>0</td><td>10663</td><td>&quot;CHAMARTIN&quot;</td><td>0</td><td>null</td><td>null</td><td>null</td><td>null</td><td>false</td><td>null</td><td>null</td><td>2481</td><td>&quot;2024-03-02 07:…</td></tr><tr><td>&quot;2024-03-02&quot;</td><td>&quot;2024-03-02 07:…</td><td>4857</td><td>&quot;5&quot;</td><td>33</td><td>-3.688575</td><td>40.430257</td><td>0</td><td>4550</td><td>&quot;CHAMARTIN&quot;</td><td>0</td><td>null</td><td>null</td><td>null</td><td>null</td><td>false</td><td>null</td><td>null</td><td>967</td><td>&quot;2024-03-02 07:…</td></tr><tr><td>&quot;2024-03-02&quot;</td><td>&quot;2024-03-02 07:…</td><td>5631</td><td>&quot;147&quot;</td><td>33</td><td>-3.705854</td><td>40.428887</td><td>0</td><td>4754</td><td>&quot;BARRIO DEL PIL…</td><td>0</td><td>null</td><td>null</td><td>null</td><td>null</td><td>false</td><td>null</td><td>null</td><td>899</td><td>&quot;2024-03-02 07:…</td></tr></tbody></table></div>"
      ],
      "text/plain": [
       "shape: (5, 20)\n",
       "┌────────────┬────────────────┬──────┬──────┬───┬─────────┬────────┬───────────────┬───────────────┐\n",
       "│ date       ┆ datetime       ┆ bus  ┆ line ┆ … ┆ dayType ┆ strike ┆ estimateArriv ┆ PK            │\n",
       "│ ---        ┆ ---            ┆ ---  ┆ ---  ┆   ┆ ---     ┆ ---    ┆ e             ┆ ---           │\n",
       "│ str        ┆ str            ┆ i64  ┆ str  ┆   ┆ str     ┆ str    ┆ ---           ┆ str           │\n",
       "│            ┆                ┆      ┆      ┆   ┆         ┆        ┆ i64           ┆               │\n",
       "╞════════════╪════════════════╪══════╪══════╪═══╪═════════╪════════╪═══════════════╪═══════════════╡\n",
       "│ 2024-03-02 ┆ 2024-03-02 07: ┆ 579  ┆ 27   ┆ … ┆ SA      ┆ N      ┆ 1409          ┆ 2024-03-02    │\n",
       "│            ┆ 59:38.430943   ┆      ┆      ┆   ┆         ┆        ┆               ┆ 07:59:38.4309 │\n",
       "│            ┆                ┆      ┆      ┆   ┆         ┆        ┆               ┆ 43_B579_…     │\n",
       "│ 2024-03-02 ┆ 2024-03-02 07: ┆ 581  ┆ 27   ┆ … ┆ SA      ┆ N      ┆ 476           ┆ 2024-03-02    │\n",
       "│            ┆ 59:38.430943   ┆      ┆      ┆   ┆         ┆        ┆               ┆ 07:59:38.4309 │\n",
       "│            ┆                ┆      ┆      ┆   ┆         ┆        ┆               ┆ 43_B581_…     │\n",
       "│ 2024-03-02 ┆ 2024-03-02 07: ┆ 4855 ┆ 5    ┆ … ┆ null    ┆ null   ┆ 2481          ┆ 2024-03-02    │\n",
       "│            ┆ 59:38.430943   ┆      ┆      ┆   ┆         ┆        ┆               ┆ 07:59:38.4309 │\n",
       "│            ┆                ┆      ┆      ┆   ┆         ┆        ┆               ┆ 43_B4855…     │\n",
       "│ 2024-03-02 ┆ 2024-03-02 07: ┆ 4857 ┆ 5    ┆ … ┆ null    ┆ null   ┆ 967           ┆ 2024-03-02    │\n",
       "│            ┆ 59:38.430943   ┆      ┆      ┆   ┆         ┆        ┆               ┆ 07:59:38.4309 │\n",
       "│            ┆                ┆      ┆      ┆   ┆         ┆        ┆               ┆ 43_B4857…     │\n",
       "│ 2024-03-02 ┆ 2024-03-02 07: ┆ 5631 ┆ 147  ┆ … ┆ null    ┆ null   ┆ 899           ┆ 2024-03-02    │\n",
       "│            ┆ 59:38.430943   ┆      ┆      ┆   ┆         ┆        ┆               ┆ 07:59:38.4309 │\n",
       "│            ┆                ┆      ┆      ┆   ┆         ┆        ┆               ┆ 43_B5631…     │\n",
       "└────────────┴────────────────┴──────┴──────┴───┴─────────┴────────┴───────────────┴───────────────┘"
      ]
     },
     "execution_count": 6,
     "metadata": {},
     "output_type": "execute_result"
    }
   ],
   "source": [
    "lf = lf.with_columns((pl.col('datetime').cast(pl.String)+\"_B\"+pl.col('bus').cast(pl.String)+\"_L\"+ pl.col('line').cast(pl.String)+\"_S\"+pl.col('stop').cast(pl.String)).alias('PK'))\n",
    "lf.head().collect()"
   ]
  },
  {
   "cell_type": "markdown",
   "metadata": {},
   "source": [
    "## 2. Pasamos las variables `bus` y `stop` a categóricas"
   ]
  },
  {
   "cell_type": "code",
   "execution_count": 7,
   "metadata": {},
   "outputs": [
    {
     "data": {
      "text/html": [
       "<div><style>\n",
       ".dataframe > thead > tr,\n",
       ".dataframe > tbody > tr {\n",
       "  text-align: right;\n",
       "  white-space: pre-wrap;\n",
       "}\n",
       "</style>\n",
       "<small>shape: (5, 20)</small><table border=\"1\" class=\"dataframe\"><thead><tr><th>date</th><th>datetime</th><th>bus</th><th>line</th><th>stop</th><th>positionBusLon</th><th>positionBusLat</th><th>positionTypeBus</th><th>DistanceBus</th><th>destination</th><th>deviation</th><th>StartTime</th><th>StopTime</th><th>MinimunFrequency</th><th>MaximumFrequency</th><th>isHead</th><th>dayType</th><th>strike</th><th>estimateArrive</th><th>PK</th></tr><tr><td>str</td><td>str</td><td>str</td><td>str</td><td>i64</td><td>f64</td><td>f64</td><td>i64</td><td>i64</td><td>str</td><td>i64</td><td>str</td><td>str</td><td>i64</td><td>i64</td><td>bool</td><td>str</td><td>str</td><td>i64</td><td>str</td></tr></thead><tbody><tr><td>&quot;2024-03-02&quot;</td><td>&quot;2024-03-02 07:…</td><td>&quot;579&quot;</td><td>&quot;27&quot;</td><td>33</td><td>-3.702641</td><td>40.40528</td><td>0</td><td>7528</td><td>&quot;PLAZA CASTILLA…</td><td>0</td><td>&quot;05:55&quot;</td><td>&quot;23:30&quot;</td><td>9</td><td>16</td><td>false</td><td>&quot;SA&quot;</td><td>&quot;N&quot;</td><td>1409</td><td>&quot;2024-03-02 07:…</td></tr><tr><td>&quot;2024-03-02&quot;</td><td>&quot;2024-03-02 07:…</td><td>&quot;581&quot;</td><td>&quot;27&quot;</td><td>33</td><td>-3.689498</td><td>40.437068</td><td>0</td><td>2771</td><td>&quot;PLAZA CASTILLA…</td><td>0</td><td>&quot;05:55&quot;</td><td>&quot;23:30&quot;</td><td>9</td><td>16</td><td>false</td><td>&quot;SA&quot;</td><td>&quot;N&quot;</td><td>476</td><td>&quot;2024-03-02 07:…</td></tr><tr><td>&quot;2024-03-02&quot;</td><td>&quot;2024-03-02 07:…</td><td>&quot;4855&quot;</td><td>&quot;5&quot;</td><td>33</td><td>-3.695955</td><td>40.435</td><td>0</td><td>10663</td><td>&quot;CHAMARTIN&quot;</td><td>0</td><td>null</td><td>null</td><td>null</td><td>null</td><td>false</td><td>null</td><td>null</td><td>2481</td><td>&quot;2024-03-02 07:…</td></tr><tr><td>&quot;2024-03-02&quot;</td><td>&quot;2024-03-02 07:…</td><td>&quot;4857&quot;</td><td>&quot;5&quot;</td><td>33</td><td>-3.688575</td><td>40.430257</td><td>0</td><td>4550</td><td>&quot;CHAMARTIN&quot;</td><td>0</td><td>null</td><td>null</td><td>null</td><td>null</td><td>false</td><td>null</td><td>null</td><td>967</td><td>&quot;2024-03-02 07:…</td></tr><tr><td>&quot;2024-03-02&quot;</td><td>&quot;2024-03-02 07:…</td><td>&quot;5631&quot;</td><td>&quot;147&quot;</td><td>33</td><td>-3.705854</td><td>40.428887</td><td>0</td><td>4754</td><td>&quot;BARRIO DEL PIL…</td><td>0</td><td>null</td><td>null</td><td>null</td><td>null</td><td>false</td><td>null</td><td>null</td><td>899</td><td>&quot;2024-03-02 07:…</td></tr></tbody></table></div>"
      ],
      "text/plain": [
       "shape: (5, 20)\n",
       "┌────────────┬────────────────┬──────┬──────┬───┬─────────┬────────┬───────────────┬───────────────┐\n",
       "│ date       ┆ datetime       ┆ bus  ┆ line ┆ … ┆ dayType ┆ strike ┆ estimateArriv ┆ PK            │\n",
       "│ ---        ┆ ---            ┆ ---  ┆ ---  ┆   ┆ ---     ┆ ---    ┆ e             ┆ ---           │\n",
       "│ str        ┆ str            ┆ str  ┆ str  ┆   ┆ str     ┆ str    ┆ ---           ┆ str           │\n",
       "│            ┆                ┆      ┆      ┆   ┆         ┆        ┆ i64           ┆               │\n",
       "╞════════════╪════════════════╪══════╪══════╪═══╪═════════╪════════╪═══════════════╪═══════════════╡\n",
       "│ 2024-03-02 ┆ 2024-03-02 07: ┆ 579  ┆ 27   ┆ … ┆ SA      ┆ N      ┆ 1409          ┆ 2024-03-02    │\n",
       "│            ┆ 59:38.430943   ┆      ┆      ┆   ┆         ┆        ┆               ┆ 07:59:38.4309 │\n",
       "│            ┆                ┆      ┆      ┆   ┆         ┆        ┆               ┆ 43_B579_…     │\n",
       "│ 2024-03-02 ┆ 2024-03-02 07: ┆ 581  ┆ 27   ┆ … ┆ SA      ┆ N      ┆ 476           ┆ 2024-03-02    │\n",
       "│            ┆ 59:38.430943   ┆      ┆      ┆   ┆         ┆        ┆               ┆ 07:59:38.4309 │\n",
       "│            ┆                ┆      ┆      ┆   ┆         ┆        ┆               ┆ 43_B581_…     │\n",
       "│ 2024-03-02 ┆ 2024-03-02 07: ┆ 4855 ┆ 5    ┆ … ┆ null    ┆ null   ┆ 2481          ┆ 2024-03-02    │\n",
       "│            ┆ 59:38.430943   ┆      ┆      ┆   ┆         ┆        ┆               ┆ 07:59:38.4309 │\n",
       "│            ┆                ┆      ┆      ┆   ┆         ┆        ┆               ┆ 43_B4855…     │\n",
       "│ 2024-03-02 ┆ 2024-03-02 07: ┆ 4857 ┆ 5    ┆ … ┆ null    ┆ null   ┆ 967           ┆ 2024-03-02    │\n",
       "│            ┆ 59:38.430943   ┆      ┆      ┆   ┆         ┆        ┆               ┆ 07:59:38.4309 │\n",
       "│            ┆                ┆      ┆      ┆   ┆         ┆        ┆               ┆ 43_B4857…     │\n",
       "│ 2024-03-02 ┆ 2024-03-02 07: ┆ 5631 ┆ 147  ┆ … ┆ null    ┆ null   ┆ 899           ┆ 2024-03-02    │\n",
       "│            ┆ 59:38.430943   ┆      ┆      ┆   ┆         ┆        ┆               ┆ 07:59:38.4309 │\n",
       "│            ┆                ┆      ┆      ┆   ┆         ┆        ┆               ┆ 43_B5631…     │\n",
       "└────────────┴────────────────┴──────┴──────┴───┴─────────┴────────┴───────────────┴───────────────┘"
      ]
     },
     "execution_count": 7,
     "metadata": {},
     "output_type": "execute_result"
    }
   ],
   "source": [
    "lf = lf.with_columns(pl.col('bus').cast(pl.String),pl.col('line').cast(pl.String))\n",
    "lf.head().collect()"
   ]
  },
  {
   "cell_type": "markdown",
   "metadata": {},
   "source": [
    "## 3. Pasamos la variable `isHead` a numérica"
   ]
  },
  {
   "cell_type": "code",
   "execution_count": 8,
   "metadata": {},
   "outputs": [
    {
     "data": {
      "text/html": [
       "<div><style>\n",
       ".dataframe > thead > tr,\n",
       ".dataframe > tbody > tr {\n",
       "  text-align: right;\n",
       "  white-space: pre-wrap;\n",
       "}\n",
       "</style>\n",
       "<small>shape: (5, 20)</small><table border=\"1\" class=\"dataframe\"><thead><tr><th>date</th><th>datetime</th><th>bus</th><th>line</th><th>stop</th><th>positionBusLon</th><th>positionBusLat</th><th>positionTypeBus</th><th>DistanceBus</th><th>destination</th><th>deviation</th><th>StartTime</th><th>StopTime</th><th>MinimunFrequency</th><th>MaximumFrequency</th><th>isHead</th><th>dayType</th><th>strike</th><th>estimateArrive</th><th>PK</th></tr><tr><td>str</td><td>str</td><td>str</td><td>str</td><td>i64</td><td>f64</td><td>f64</td><td>i64</td><td>i64</td><td>str</td><td>i64</td><td>str</td><td>str</td><td>i64</td><td>i64</td><td>u8</td><td>str</td><td>str</td><td>i64</td><td>str</td></tr></thead><tbody><tr><td>&quot;2024-03-02&quot;</td><td>&quot;2024-03-02 07:…</td><td>&quot;579&quot;</td><td>&quot;27&quot;</td><td>33</td><td>-3.702641</td><td>40.40528</td><td>0</td><td>7528</td><td>&quot;PLAZA CASTILLA…</td><td>0</td><td>&quot;05:55&quot;</td><td>&quot;23:30&quot;</td><td>9</td><td>16</td><td>0</td><td>&quot;SA&quot;</td><td>&quot;N&quot;</td><td>1409</td><td>&quot;2024-03-02 07:…</td></tr><tr><td>&quot;2024-03-02&quot;</td><td>&quot;2024-03-02 07:…</td><td>&quot;581&quot;</td><td>&quot;27&quot;</td><td>33</td><td>-3.689498</td><td>40.437068</td><td>0</td><td>2771</td><td>&quot;PLAZA CASTILLA…</td><td>0</td><td>&quot;05:55&quot;</td><td>&quot;23:30&quot;</td><td>9</td><td>16</td><td>0</td><td>&quot;SA&quot;</td><td>&quot;N&quot;</td><td>476</td><td>&quot;2024-03-02 07:…</td></tr><tr><td>&quot;2024-03-02&quot;</td><td>&quot;2024-03-02 07:…</td><td>&quot;4855&quot;</td><td>&quot;5&quot;</td><td>33</td><td>-3.695955</td><td>40.435</td><td>0</td><td>10663</td><td>&quot;CHAMARTIN&quot;</td><td>0</td><td>null</td><td>null</td><td>null</td><td>null</td><td>0</td><td>null</td><td>null</td><td>2481</td><td>&quot;2024-03-02 07:…</td></tr><tr><td>&quot;2024-03-02&quot;</td><td>&quot;2024-03-02 07:…</td><td>&quot;4857&quot;</td><td>&quot;5&quot;</td><td>33</td><td>-3.688575</td><td>40.430257</td><td>0</td><td>4550</td><td>&quot;CHAMARTIN&quot;</td><td>0</td><td>null</td><td>null</td><td>null</td><td>null</td><td>0</td><td>null</td><td>null</td><td>967</td><td>&quot;2024-03-02 07:…</td></tr><tr><td>&quot;2024-03-02&quot;</td><td>&quot;2024-03-02 07:…</td><td>&quot;5631&quot;</td><td>&quot;147&quot;</td><td>33</td><td>-3.705854</td><td>40.428887</td><td>0</td><td>4754</td><td>&quot;BARRIO DEL PIL…</td><td>0</td><td>null</td><td>null</td><td>null</td><td>null</td><td>0</td><td>null</td><td>null</td><td>899</td><td>&quot;2024-03-02 07:…</td></tr></tbody></table></div>"
      ],
      "text/plain": [
       "shape: (5, 20)\n",
       "┌────────────┬────────────────┬──────┬──────┬───┬─────────┬────────┬───────────────┬───────────────┐\n",
       "│ date       ┆ datetime       ┆ bus  ┆ line ┆ … ┆ dayType ┆ strike ┆ estimateArriv ┆ PK            │\n",
       "│ ---        ┆ ---            ┆ ---  ┆ ---  ┆   ┆ ---     ┆ ---    ┆ e             ┆ ---           │\n",
       "│ str        ┆ str            ┆ str  ┆ str  ┆   ┆ str     ┆ str    ┆ ---           ┆ str           │\n",
       "│            ┆                ┆      ┆      ┆   ┆         ┆        ┆ i64           ┆               │\n",
       "╞════════════╪════════════════╪══════╪══════╪═══╪═════════╪════════╪═══════════════╪═══════════════╡\n",
       "│ 2024-03-02 ┆ 2024-03-02 07: ┆ 579  ┆ 27   ┆ … ┆ SA      ┆ N      ┆ 1409          ┆ 2024-03-02    │\n",
       "│            ┆ 59:38.430943   ┆      ┆      ┆   ┆         ┆        ┆               ┆ 07:59:38.4309 │\n",
       "│            ┆                ┆      ┆      ┆   ┆         ┆        ┆               ┆ 43_B579_…     │\n",
       "│ 2024-03-02 ┆ 2024-03-02 07: ┆ 581  ┆ 27   ┆ … ┆ SA      ┆ N      ┆ 476           ┆ 2024-03-02    │\n",
       "│            ┆ 59:38.430943   ┆      ┆      ┆   ┆         ┆        ┆               ┆ 07:59:38.4309 │\n",
       "│            ┆                ┆      ┆      ┆   ┆         ┆        ┆               ┆ 43_B581_…     │\n",
       "│ 2024-03-02 ┆ 2024-03-02 07: ┆ 4855 ┆ 5    ┆ … ┆ null    ┆ null   ┆ 2481          ┆ 2024-03-02    │\n",
       "│            ┆ 59:38.430943   ┆      ┆      ┆   ┆         ┆        ┆               ┆ 07:59:38.4309 │\n",
       "│            ┆                ┆      ┆      ┆   ┆         ┆        ┆               ┆ 43_B4855…     │\n",
       "│ 2024-03-02 ┆ 2024-03-02 07: ┆ 4857 ┆ 5    ┆ … ┆ null    ┆ null   ┆ 967           ┆ 2024-03-02    │\n",
       "│            ┆ 59:38.430943   ┆      ┆      ┆   ┆         ┆        ┆               ┆ 07:59:38.4309 │\n",
       "│            ┆                ┆      ┆      ┆   ┆         ┆        ┆               ┆ 43_B4857…     │\n",
       "│ 2024-03-02 ┆ 2024-03-02 07: ┆ 5631 ┆ 147  ┆ … ┆ null    ┆ null   ┆ 899           ┆ 2024-03-02    │\n",
       "│            ┆ 59:38.430943   ┆      ┆      ┆   ┆         ┆        ┆               ┆ 07:59:38.4309 │\n",
       "│            ┆                ┆      ┆      ┆   ┆         ┆        ┆               ┆ 43_B5631…     │\n",
       "└────────────┴────────────────┴──────┴──────┴───┴─────────┴────────┴───────────────┴───────────────┘"
      ]
     },
     "execution_count": 8,
     "metadata": {},
     "output_type": "execute_result"
    }
   ],
   "source": [
    "lf = lf.with_columns(pl.col('isHead').cast(pl.UInt8))\n",
    "lf.head().collect()"
   ]
  },
  {
   "cell_type": "markdown",
   "metadata": {},
   "source": [
    "## 4. Eliminamos los valores incorrectos `estimateArrive` "
   ]
  },
  {
   "cell_type": "code",
   "execution_count": 9,
   "metadata": {},
   "outputs": [
    {
     "data": {
      "text/html": [
       "<div><style>\n",
       ".dataframe > thead > tr,\n",
       ".dataframe > tbody > tr {\n",
       "  text-align: right;\n",
       "  white-space: pre-wrap;\n",
       "}\n",
       "</style>\n",
       "<small>shape: (5, 2)</small><table border=\"1\" class=\"dataframe\"><thead><tr><th>estimateArrive</th><th>count</th></tr><tr><td>i64</td><td>u32</td></tr></thead><tbody><tr><td>999999</td><td>348687</td></tr><tr><td>888888</td><td>13029</td></tr><tr><td>5400</td><td>1</td></tr><tr><td>5399</td><td>2</td></tr><tr><td>5398</td><td>3</td></tr></tbody></table></div>"
      ],
      "text/plain": [
       "shape: (5, 2)\n",
       "┌────────────────┬────────┐\n",
       "│ estimateArrive ┆ count  │\n",
       "│ ---            ┆ ---    │\n",
       "│ i64            ┆ u32    │\n",
       "╞════════════════╪════════╡\n",
       "│ 999999         ┆ 348687 │\n",
       "│ 888888         ┆ 13029  │\n",
       "│ 5400           ┆ 1      │\n",
       "│ 5399           ┆ 2      │\n",
       "│ 5398           ┆ 3      │\n",
       "└────────────────┴────────┘"
      ]
     },
     "execution_count": 9,
     "metadata": {},
     "output_type": "execute_result"
    }
   ],
   "source": [
    "lf.group_by(pl.col('estimateArrive')).count().sort('estimateArrive',descending=True).head().collect()"
   ]
  },
  {
   "cell_type": "markdown",
   "metadata": {},
   "source": [
    "Como da error y en el TFG habla de que quita los tiempos mayores a 40 minutos, vamos a filtar por los datos menores a 2400 segundos."
   ]
  },
  {
   "cell_type": "code",
   "execution_count": null,
   "metadata": {},
   "outputs": [],
   "source": [
    "lf = lf.filter(pl.col('estimateArrive')<2400)"
   ]
  },
  {
   "cell_type": "markdown",
   "metadata": {},
   "source": [
    "## 5. Creamos una variable `predict_arrival_date` con la predicción de la fecha de llegada"
   ]
  },
  {
   "cell_type": "code",
   "execution_count": 10,
   "metadata": {},
   "outputs": [],
   "source": [
    "def calculate_remaining_time(date_str,second):\n",
    "    date_datetime = datetime.strptime(date_str, '%Y-%m-%d %H:%M:%S.%f')\n",
    "    new_date_datetime = date_datetime + timedelta(seconds=second)\n",
    "    new_date_str = new_date_datetime.strftime('%Y-%m-%d %H:%M:%S.%f')\n",
    "    \n",
    "    return new_date_str\n",
    "    "
   ]
  },
  {
   "cell_type": "code",
   "execution_count": 11,
   "metadata": {},
   "outputs": [],
   "source": [
    "lf = lf.with_columns(pl.struct(datetime = pl.col('datetime'), estimateArrive = pl.col('estimateArrive').alias('struct')).map_elements(lambda x: calculate_remaining_time(x['datetime'], x['estimateArrive'])).alias('predict_arrival_date'))"
   ]
  },
  {
   "cell_type": "code",
   "execution_count": 12,
   "metadata": {},
   "outputs": [
    {
     "data": {
      "text/html": [
       "<div><style>\n",
       ".dataframe > thead > tr,\n",
       ".dataframe > tbody > tr {\n",
       "  text-align: right;\n",
       "  white-space: pre-wrap;\n",
       "}\n",
       "</style>\n",
       "<small>shape: (5, 21)</small><table border=\"1\" class=\"dataframe\"><thead><tr><th>date</th><th>datetime</th><th>bus</th><th>line</th><th>stop</th><th>positionBusLon</th><th>positionBusLat</th><th>positionTypeBus</th><th>DistanceBus</th><th>destination</th><th>deviation</th><th>StartTime</th><th>StopTime</th><th>MinimunFrequency</th><th>MaximumFrequency</th><th>isHead</th><th>dayType</th><th>strike</th><th>estimateArrive</th><th>PK</th><th>predict_arrival_date</th></tr><tr><td>str</td><td>str</td><td>str</td><td>str</td><td>i64</td><td>f64</td><td>f64</td><td>i64</td><td>i64</td><td>str</td><td>i64</td><td>str</td><td>str</td><td>i64</td><td>i64</td><td>u8</td><td>str</td><td>str</td><td>i64</td><td>str</td><td>str</td></tr></thead><tbody><tr><td>&quot;2024-03-02&quot;</td><td>&quot;2024-03-02 07:…</td><td>&quot;579&quot;</td><td>&quot;27&quot;</td><td>33</td><td>-3.702641</td><td>40.40528</td><td>0</td><td>7528</td><td>&quot;PLAZA CASTILLA…</td><td>0</td><td>&quot;05:55&quot;</td><td>&quot;23:30&quot;</td><td>9</td><td>16</td><td>0</td><td>&quot;SA&quot;</td><td>&quot;N&quot;</td><td>1409</td><td>&quot;2024-03-02 07:…</td><td>&quot;2024-03-02 08:…</td></tr><tr><td>&quot;2024-03-02&quot;</td><td>&quot;2024-03-02 07:…</td><td>&quot;581&quot;</td><td>&quot;27&quot;</td><td>33</td><td>-3.689498</td><td>40.437068</td><td>0</td><td>2771</td><td>&quot;PLAZA CASTILLA…</td><td>0</td><td>&quot;05:55&quot;</td><td>&quot;23:30&quot;</td><td>9</td><td>16</td><td>0</td><td>&quot;SA&quot;</td><td>&quot;N&quot;</td><td>476</td><td>&quot;2024-03-02 07:…</td><td>&quot;2024-03-02 08:…</td></tr><tr><td>&quot;2024-03-02&quot;</td><td>&quot;2024-03-02 07:…</td><td>&quot;4855&quot;</td><td>&quot;5&quot;</td><td>33</td><td>-3.695955</td><td>40.435</td><td>0</td><td>10663</td><td>&quot;CHAMARTIN&quot;</td><td>0</td><td>null</td><td>null</td><td>null</td><td>null</td><td>0</td><td>null</td><td>null</td><td>2481</td><td>&quot;2024-03-02 07:…</td><td>&quot;2024-03-02 08:…</td></tr><tr><td>&quot;2024-03-02&quot;</td><td>&quot;2024-03-02 07:…</td><td>&quot;4857&quot;</td><td>&quot;5&quot;</td><td>33</td><td>-3.688575</td><td>40.430257</td><td>0</td><td>4550</td><td>&quot;CHAMARTIN&quot;</td><td>0</td><td>null</td><td>null</td><td>null</td><td>null</td><td>0</td><td>null</td><td>null</td><td>967</td><td>&quot;2024-03-02 07:…</td><td>&quot;2024-03-02 08:…</td></tr><tr><td>&quot;2024-03-02&quot;</td><td>&quot;2024-03-02 07:…</td><td>&quot;5631&quot;</td><td>&quot;147&quot;</td><td>33</td><td>-3.705854</td><td>40.428887</td><td>0</td><td>4754</td><td>&quot;BARRIO DEL PIL…</td><td>0</td><td>null</td><td>null</td><td>null</td><td>null</td><td>0</td><td>null</td><td>null</td><td>899</td><td>&quot;2024-03-02 07:…</td><td>&quot;2024-03-02 08:…</td></tr></tbody></table></div>"
      ],
      "text/plain": [
       "shape: (5, 21)\n",
       "┌────────────┬──────────────┬──────┬──────┬───┬────────┬──────────────┬──────────────┬─────────────┐\n",
       "│ date       ┆ datetime     ┆ bus  ┆ line ┆ … ┆ strike ┆ estimateArri ┆ PK           ┆ predict_arr │\n",
       "│ ---        ┆ ---          ┆ ---  ┆ ---  ┆   ┆ ---    ┆ ve           ┆ ---          ┆ ival_date   │\n",
       "│ str        ┆ str          ┆ str  ┆ str  ┆   ┆ str    ┆ ---          ┆ str          ┆ ---         │\n",
       "│            ┆              ┆      ┆      ┆   ┆        ┆ i64          ┆              ┆ str         │\n",
       "╞════════════╪══════════════╪══════╪══════╪═══╪════════╪══════════════╪══════════════╪═════════════╡\n",
       "│ 2024-03-02 ┆ 2024-03-02   ┆ 579  ┆ 27   ┆ … ┆ N      ┆ 1409         ┆ 2024-03-02   ┆ 2024-03-02  │\n",
       "│            ┆ 07:59:38.430 ┆      ┆      ┆   ┆        ┆              ┆ 07:59:38.430 ┆ 08:23:07.43 │\n",
       "│            ┆ 943          ┆      ┆      ┆   ┆        ┆              ┆ 943_B579_…   ┆ 0943        │\n",
       "│ 2024-03-02 ┆ 2024-03-02   ┆ 581  ┆ 27   ┆ … ┆ N      ┆ 476          ┆ 2024-03-02   ┆ 2024-03-02  │\n",
       "│            ┆ 07:59:38.430 ┆      ┆      ┆   ┆        ┆              ┆ 07:59:38.430 ┆ 08:07:34.43 │\n",
       "│            ┆ 943          ┆      ┆      ┆   ┆        ┆              ┆ 943_B581_…   ┆ 0943        │\n",
       "│ 2024-03-02 ┆ 2024-03-02   ┆ 4855 ┆ 5    ┆ … ┆ null   ┆ 2481         ┆ 2024-03-02   ┆ 2024-03-02  │\n",
       "│            ┆ 07:59:38.430 ┆      ┆      ┆   ┆        ┆              ┆ 07:59:38.430 ┆ 08:40:59.43 │\n",
       "│            ┆ 943          ┆      ┆      ┆   ┆        ┆              ┆ 943_B4855…   ┆ 0943        │\n",
       "│ 2024-03-02 ┆ 2024-03-02   ┆ 4857 ┆ 5    ┆ … ┆ null   ┆ 967          ┆ 2024-03-02   ┆ 2024-03-02  │\n",
       "│            ┆ 07:59:38.430 ┆      ┆      ┆   ┆        ┆              ┆ 07:59:38.430 ┆ 08:15:45.43 │\n",
       "│            ┆ 943          ┆      ┆      ┆   ┆        ┆              ┆ 943_B4857…   ┆ 0943        │\n",
       "│ 2024-03-02 ┆ 2024-03-02   ┆ 5631 ┆ 147  ┆ … ┆ null   ┆ 899          ┆ 2024-03-02   ┆ 2024-03-02  │\n",
       "│            ┆ 07:59:38.430 ┆      ┆      ┆   ┆        ┆              ┆ 07:59:38.430 ┆ 08:14:37.43 │\n",
       "│            ┆ 943          ┆      ┆      ┆   ┆        ┆              ┆ 943_B5631…   ┆ 0943        │\n",
       "└────────────┴──────────────┴──────┴──────┴───┴────────┴──────────────┴──────────────┴─────────────┘"
      ]
     },
     "execution_count": 12,
     "metadata": {},
     "output_type": "execute_result"
    }
   ],
   "source": [
    "lf.head().collect()"
   ]
  },
  {
   "cell_type": "markdown",
   "metadata": {},
   "source": [
    "**Para quitar los valores estáticos, agrupamos sobre `date`,`bus`,`line`,`stop`,`destination`,`remaining_time`**"
   ]
  },
  {
   "cell_type": "code",
   "execution_count": null,
   "metadata": {},
   "outputs": [],
   "source": [
    "lf.group_by(pl.col('date'),pl.col('bus'),pl.col('line'),pl.col('stop'),pl.col('destination'),pl.col('predict_arrival_date')).count().head().collect()"
   ]
  },
  {
   "cell_type": "markdown",
   "metadata": {},
   "source": [
    "# 6. Creamos una variable `reliable_arrival_date` con la **fecha fiable** de llegada"
   ]
  },
  {
   "cell_type": "code",
   "execution_count": 9,
   "metadata": {},
   "outputs": [],
   "source": [
    "lf_2_march = lf.filter(pl.col('date') == \"2024-03-02\")"
   ]
  },
  {
   "cell_type": "code",
   "execution_count": 11,
   "metadata": {},
   "outputs": [
    {
     "data": {
      "text/html": [
       "<div><style>\n",
       ".dataframe > thead > tr,\n",
       ".dataframe > tbody > tr {\n",
       "  text-align: right;\n",
       "  white-space: pre-wrap;\n",
       "}\n",
       "</style>\n",
       "<small>shape: (5, 20)</small><table border=\"1\" class=\"dataframe\"><thead><tr><th>date</th><th>datetime</th><th>bus</th><th>line</th><th>stop</th><th>positionBusLon</th><th>positionBusLat</th><th>positionTypeBus</th><th>DistanceBus</th><th>destination</th><th>deviation</th><th>StartTime</th><th>StopTime</th><th>MinimunFrequency</th><th>MaximumFrequency</th><th>isHead</th><th>dayType</th><th>strike</th><th>estimateArrive</th><th>PK</th></tr><tr><td>str</td><td>str</td><td>str</td><td>str</td><td>i64</td><td>f64</td><td>f64</td><td>i64</td><td>i64</td><td>str</td><td>i64</td><td>str</td><td>str</td><td>i64</td><td>i64</td><td>u8</td><td>str</td><td>str</td><td>i64</td><td>str</td></tr></thead><tbody><tr><td>&quot;2024-03-02&quot;</td><td>&quot;2024-03-02 07:…</td><td>&quot;579&quot;</td><td>&quot;27&quot;</td><td>33</td><td>-3.702641</td><td>40.40528</td><td>0</td><td>7528</td><td>&quot;PLAZA CASTILLA…</td><td>0</td><td>&quot;05:55&quot;</td><td>&quot;23:30&quot;</td><td>9</td><td>16</td><td>0</td><td>&quot;SA&quot;</td><td>&quot;N&quot;</td><td>1409</td><td>&quot;2024-03-02 07:…</td></tr><tr><td>&quot;2024-03-02&quot;</td><td>&quot;2024-03-02 07:…</td><td>&quot;581&quot;</td><td>&quot;27&quot;</td><td>33</td><td>-3.689498</td><td>40.437068</td><td>0</td><td>2771</td><td>&quot;PLAZA CASTILLA…</td><td>0</td><td>&quot;05:55&quot;</td><td>&quot;23:30&quot;</td><td>9</td><td>16</td><td>0</td><td>&quot;SA&quot;</td><td>&quot;N&quot;</td><td>476</td><td>&quot;2024-03-02 07:…</td></tr><tr><td>&quot;2024-03-02&quot;</td><td>&quot;2024-03-02 07:…</td><td>&quot;4857&quot;</td><td>&quot;5&quot;</td><td>33</td><td>-3.688575</td><td>40.430257</td><td>0</td><td>4550</td><td>&quot;CHAMARTIN&quot;</td><td>0</td><td>null</td><td>null</td><td>null</td><td>null</td><td>0</td><td>null</td><td>null</td><td>967</td><td>&quot;2024-03-02 07:…</td></tr><tr><td>&quot;2024-03-02&quot;</td><td>&quot;2024-03-02 07:…</td><td>&quot;5631&quot;</td><td>&quot;147&quot;</td><td>33</td><td>-3.705854</td><td>40.428887</td><td>0</td><td>4754</td><td>&quot;BARRIO DEL PIL…</td><td>0</td><td>null</td><td>null</td><td>null</td><td>null</td><td>0</td><td>null</td><td>null</td><td>899</td><td>&quot;2024-03-02 07:…</td></tr><tr><td>&quot;2024-03-02&quot;</td><td>&quot;2024-03-02 07:…</td><td>&quot;5634&quot;</td><td>&quot;147&quot;</td><td>33</td><td>-3.698311</td><td>40.431891</td><td>0</td><td>8468</td><td>&quot;BARRIO DEL PIL…</td><td>0</td><td>null</td><td>null</td><td>null</td><td>null</td><td>0</td><td>null</td><td>null</td><td>1743</td><td>&quot;2024-03-02 07:…</td></tr></tbody></table></div>"
      ],
      "text/plain": [
       "shape: (5, 20)\n",
       "┌────────────┬────────────────┬──────┬──────┬───┬─────────┬────────┬───────────────┬───────────────┐\n",
       "│ date       ┆ datetime       ┆ bus  ┆ line ┆ … ┆ dayType ┆ strike ┆ estimateArriv ┆ PK            │\n",
       "│ ---        ┆ ---            ┆ ---  ┆ ---  ┆   ┆ ---     ┆ ---    ┆ e             ┆ ---           │\n",
       "│ str        ┆ str            ┆ str  ┆ str  ┆   ┆ str     ┆ str    ┆ ---           ┆ str           │\n",
       "│            ┆                ┆      ┆      ┆   ┆         ┆        ┆ i64           ┆               │\n",
       "╞════════════╪════════════════╪══════╪══════╪═══╪═════════╪════════╪═══════════════╪═══════════════╡\n",
       "│ 2024-03-02 ┆ 2024-03-02 07: ┆ 579  ┆ 27   ┆ … ┆ SA      ┆ N      ┆ 1409          ┆ 2024-03-02    │\n",
       "│            ┆ 59:38.430943   ┆      ┆      ┆   ┆         ┆        ┆               ┆ 07:59:38.4309 │\n",
       "│            ┆                ┆      ┆      ┆   ┆         ┆        ┆               ┆ 43_B579_…     │\n",
       "│ 2024-03-02 ┆ 2024-03-02 07: ┆ 581  ┆ 27   ┆ … ┆ SA      ┆ N      ┆ 476           ┆ 2024-03-02    │\n",
       "│            ┆ 59:38.430943   ┆      ┆      ┆   ┆         ┆        ┆               ┆ 07:59:38.4309 │\n",
       "│            ┆                ┆      ┆      ┆   ┆         ┆        ┆               ┆ 43_B581_…     │\n",
       "│ 2024-03-02 ┆ 2024-03-02 07: ┆ 4857 ┆ 5    ┆ … ┆ null    ┆ null   ┆ 967           ┆ 2024-03-02    │\n",
       "│            ┆ 59:38.430943   ┆      ┆      ┆   ┆         ┆        ┆               ┆ 07:59:38.4309 │\n",
       "│            ┆                ┆      ┆      ┆   ┆         ┆        ┆               ┆ 43_B4857…     │\n",
       "│ 2024-03-02 ┆ 2024-03-02 07: ┆ 5631 ┆ 147  ┆ … ┆ null    ┆ null   ┆ 899           ┆ 2024-03-02    │\n",
       "│            ┆ 59:38.430943   ┆      ┆      ┆   ┆         ┆        ┆               ┆ 07:59:38.4309 │\n",
       "│            ┆                ┆      ┆      ┆   ┆         ┆        ┆               ┆ 43_B5631…     │\n",
       "│ 2024-03-02 ┆ 2024-03-02 07: ┆ 5634 ┆ 147  ┆ … ┆ null    ┆ null   ┆ 1743          ┆ 2024-03-02    │\n",
       "│            ┆ 59:38.430943   ┆      ┆      ┆   ┆         ┆        ┆               ┆ 07:59:38.4309 │\n",
       "│            ┆                ┆      ┆      ┆   ┆         ┆        ┆               ┆ 43_B5634…     │\n",
       "└────────────┴────────────────┴──────┴──────┴───┴─────────┴────────┴───────────────┴───────────────┘"
      ]
     },
     "execution_count": 11,
     "metadata": {},
     "output_type": "execute_result"
    }
   ],
   "source": [
    "lf_2_march.filter(pl.col('estimateArrive')<2400).head().collect()"
   ]
  },
  {
   "cell_type": "code",
   "execution_count": null,
   "metadata": {},
   "outputs": [],
   "source": [
    "def get_interval_time(date_str):\n",
    "    date_datetime = int(datetime.strptime(date_str, '%Y-%m-%d %H:%M:%S.%f').hour)\n",
    "    \n",
    "    return [date_datetime - 1, date_datetime + 1]"
   ]
  },
  {
   "cell_type": "code",
   "execution_count": null,
   "metadata": {},
   "outputs": [],
   "source": [
    "def create_exact_time_col(date_day):\n",
    "    lf_aux = lf.filter(pl.col('date') ==date_day)\n",
    "    lf_aux = lf_aux.with_columns(pl.col('datetime').apply(get_interval_time).alias('interval_time'))\n",
    "    \n",
    "    print(lf_aux.collect().shape)\n",
    "    \n",
    "    small_lf = lf_aux.filter(pl.col('estimateArrive')<=60).group_by(pl.col('bus'),pl.col('line'),pl.col('stop'),pl.col('destination'),pl.col('date'),pl.col('interval_time')).min().with_columns(pl.col('predict_arrival_date').alias('reliable_arrival_date'))\n",
    "    \n",
    "    final_lf = lf_aux.join(small_lf,on=[pl.col('bus'),pl.col('line'),pl.col('stop'),pl.col('destination'),pl.col('date'),pl.col('interval_time')],how = 'left')\n",
    "    \n",
    "    final_lf = final_lf.select(\n",
    "    pl.col('PK'),pl.col('date'),pl.col('datetime'),pl.col('bus'),pl.col('line'),pl.col('stop'),pl.col('positionBusLon'),pl.col('positionBusLat'),pl.col('positionTypeBus'),pl.col('DistanceBus'),\n",
    "    pl.col('destination'),pl.col('deviation'),pl.col('StartTime'), pl.col('StopTime'),pl.col('MinimunFrequency'),pl.col('MaximumFrequency'),pl.col('isHead'),pl.col('dayType'),pl.col('strike'),pl.col('estimateArrive'),pl.col('remaining_time'),pl.col('interval_time'),pl.col('exact_time')).sort(by=[pl.col('bus'),pl.col('line'),pl.col('stop'),pl.col('destination'),pl.col('date')])\n",
    "    \n",
    "    final_lf = final_lf.filter(pl.col('exact_time').is_not_null())\n",
    "    \n",
    "    return final_lf.collect()\n",
    "    \n",
    "    "
   ]
  },
  {
   "cell_type": "code",
   "execution_count": null,
   "metadata": {},
   "outputs": [],
   "source": [
    "lf_aux = lf.filter(pl.col('date') ==\"2024-03-02\")\n",
    "lf_aux = lf_aux.with_columns(pl.col('datetime').apply(get_interval_time).alias('interval_time'))\n",
    "\n"
   ]
  },
  {
   "cell_type": "code",
   "execution_count": null,
   "metadata": {},
   "outputs": [
    {
     "data": {
      "text/html": [
       "<div><style>\n",
       ".dataframe > thead > tr,\n",
       ".dataframe > tbody > tr {\n",
       "  text-align: right;\n",
       "  white-space: pre-wrap;\n",
       "}\n",
       "</style>\n",
       "<small>shape: (5, 22)</small><table border=\"1\" class=\"dataframe\"><thead><tr><th>date</th><th>datetime</th><th>bus</th><th>line</th><th>stop</th><th>positionBusLon</th><th>positionBusLat</th><th>positionTypeBus</th><th>DistanceBus</th><th>destination</th><th>deviation</th><th>StartTime</th><th>StopTime</th><th>MinimunFrequency</th><th>MaximumFrequency</th><th>isHead</th><th>dayType</th><th>strike</th><th>estimateArrive</th><th>PK</th><th>remaining_time</th><th>interval_time</th></tr><tr><td>str</td><td>str</td><td>str</td><td>str</td><td>i64</td><td>f64</td><td>f64</td><td>i64</td><td>i64</td><td>str</td><td>i64</td><td>str</td><td>str</td><td>i64</td><td>i64</td><td>u8</td><td>str</td><td>str</td><td>i64</td><td>str</td><td>str</td><td>list[i64]</td></tr></thead><tbody><tr><td>&quot;2024-03-02&quot;</td><td>&quot;2024-03-02 07:…</td><td>&quot;579&quot;</td><td>&quot;27&quot;</td><td>33</td><td>-3.702641</td><td>40.40528</td><td>0</td><td>7528</td><td>&quot;PLAZA CASTILLA…</td><td>0</td><td>&quot;05:55&quot;</td><td>&quot;23:30&quot;</td><td>9</td><td>16</td><td>0</td><td>&quot;SA&quot;</td><td>&quot;N&quot;</td><td>1409</td><td>&quot;2024-03-02 07:…</td><td>&quot;2024-03-02 08:…</td><td>[6, 8]</td></tr><tr><td>&quot;2024-03-02&quot;</td><td>&quot;2024-03-02 07:…</td><td>&quot;581&quot;</td><td>&quot;27&quot;</td><td>33</td><td>-3.689498</td><td>40.437068</td><td>0</td><td>2771</td><td>&quot;PLAZA CASTILLA…</td><td>0</td><td>&quot;05:55&quot;</td><td>&quot;23:30&quot;</td><td>9</td><td>16</td><td>0</td><td>&quot;SA&quot;</td><td>&quot;N&quot;</td><td>476</td><td>&quot;2024-03-02 07:…</td><td>&quot;2024-03-02 08:…</td><td>[6, 8]</td></tr><tr><td>&quot;2024-03-02&quot;</td><td>&quot;2024-03-02 07:…</td><td>&quot;4855&quot;</td><td>&quot;5&quot;</td><td>33</td><td>-3.695955</td><td>40.435</td><td>0</td><td>10663</td><td>&quot;CHAMARTIN&quot;</td><td>0</td><td>null</td><td>null</td><td>null</td><td>null</td><td>0</td><td>null</td><td>null</td><td>2481</td><td>&quot;2024-03-02 07:…</td><td>&quot;2024-03-02 08:…</td><td>[6, 8]</td></tr><tr><td>&quot;2024-03-02&quot;</td><td>&quot;2024-03-02 07:…</td><td>&quot;4857&quot;</td><td>&quot;5&quot;</td><td>33</td><td>-3.688575</td><td>40.430257</td><td>0</td><td>4550</td><td>&quot;CHAMARTIN&quot;</td><td>0</td><td>null</td><td>null</td><td>null</td><td>null</td><td>0</td><td>null</td><td>null</td><td>967</td><td>&quot;2024-03-02 07:…</td><td>&quot;2024-03-02 08:…</td><td>[6, 8]</td></tr><tr><td>&quot;2024-03-02&quot;</td><td>&quot;2024-03-02 07:…</td><td>&quot;5631&quot;</td><td>&quot;147&quot;</td><td>33</td><td>-3.705854</td><td>40.428887</td><td>0</td><td>4754</td><td>&quot;BARRIO DEL PIL…</td><td>0</td><td>null</td><td>null</td><td>null</td><td>null</td><td>0</td><td>null</td><td>null</td><td>899</td><td>&quot;2024-03-02 07:…</td><td>&quot;2024-03-02 08:…</td><td>[6, 8]</td></tr></tbody></table></div>"
      ],
      "text/plain": [
       "shape: (5, 22)\n",
       "┌────────────┬─────────────┬──────┬──────┬───┬─────────────┬─────────────┬────────────┬────────────┐\n",
       "│ date       ┆ datetime    ┆ bus  ┆ line ┆ … ┆ estimateArr ┆ PK          ┆ remaining_ ┆ interval_t │\n",
       "│ ---        ┆ ---         ┆ ---  ┆ ---  ┆   ┆ ive         ┆ ---         ┆ time       ┆ ime        │\n",
       "│ str        ┆ str         ┆ str  ┆ str  ┆   ┆ ---         ┆ str         ┆ ---        ┆ ---        │\n",
       "│            ┆             ┆      ┆      ┆   ┆ i64         ┆             ┆ str        ┆ list[i64]  │\n",
       "╞════════════╪═════════════╪══════╪══════╪═══╪═════════════╪═════════════╪════════════╪════════════╡\n",
       "│ 2024-03-02 ┆ 2024-03-02  ┆ 579  ┆ 27   ┆ … ┆ 1409        ┆ 2024-03-02  ┆ 2024-03-02 ┆ [6, 8]     │\n",
       "│            ┆ 07:59:38.43 ┆      ┆      ┆   ┆             ┆ 07:59:38.43 ┆ 08:23:07.4 ┆            │\n",
       "│            ┆ 0943        ┆      ┆      ┆   ┆             ┆ 0943_B579_… ┆ 30943      ┆            │\n",
       "│ 2024-03-02 ┆ 2024-03-02  ┆ 581  ┆ 27   ┆ … ┆ 476         ┆ 2024-03-02  ┆ 2024-03-02 ┆ [6, 8]     │\n",
       "│            ┆ 07:59:38.43 ┆      ┆      ┆   ┆             ┆ 07:59:38.43 ┆ 08:07:34.4 ┆            │\n",
       "│            ┆ 0943        ┆      ┆      ┆   ┆             ┆ 0943_B581_… ┆ 30943      ┆            │\n",
       "│ 2024-03-02 ┆ 2024-03-02  ┆ 4855 ┆ 5    ┆ … ┆ 2481        ┆ 2024-03-02  ┆ 2024-03-02 ┆ [6, 8]     │\n",
       "│            ┆ 07:59:38.43 ┆      ┆      ┆   ┆             ┆ 07:59:38.43 ┆ 08:40:59.4 ┆            │\n",
       "│            ┆ 0943        ┆      ┆      ┆   ┆             ┆ 0943_B4855… ┆ 30943      ┆            │\n",
       "│ 2024-03-02 ┆ 2024-03-02  ┆ 4857 ┆ 5    ┆ … ┆ 967         ┆ 2024-03-02  ┆ 2024-03-02 ┆ [6, 8]     │\n",
       "│            ┆ 07:59:38.43 ┆      ┆      ┆   ┆             ┆ 07:59:38.43 ┆ 08:15:45.4 ┆            │\n",
       "│            ┆ 0943        ┆      ┆      ┆   ┆             ┆ 0943_B4857… ┆ 30943      ┆            │\n",
       "│ 2024-03-02 ┆ 2024-03-02  ┆ 5631 ┆ 147  ┆ … ┆ 899         ┆ 2024-03-02  ┆ 2024-03-02 ┆ [6, 8]     │\n",
       "│            ┆ 07:59:38.43 ┆      ┆      ┆   ┆             ┆ 07:59:38.43 ┆ 08:14:37.4 ┆            │\n",
       "│            ┆ 0943        ┆      ┆      ┆   ┆             ┆ 0943_B5631… ┆ 30943      ┆            │\n",
       "└────────────┴─────────────┴──────┴──────┴───┴─────────────┴─────────────┴────────────┴────────────┘"
      ]
     },
     "execution_count": 31,
     "metadata": {},
     "output_type": "execute_result"
    }
   ],
   "source": [
    "lf_aux.head().collect()"
   ]
  },
  {
   "cell_type": "code",
   "execution_count": null,
   "metadata": {},
   "outputs": [],
   "source": [
    "print(lf_aux.collect().shape)\n",
    "\n",
    "small_lf = lf_aux.filter(pl.col('estimateArrive')<=60).group_by(pl.col('bus'),pl.col('line'),pl.col('stop'),pl.col('destination'),pl.col('date'),pl.col('interval_time')).min().with_columns(pl.col('remaining_time').alias('exact_time'))\n",
    "\n",
    "final_lf = lf_aux.join(small_lf,on=[pl.col('bus'),pl.col('line'),pl.col('stop'),pl.col('destination'),pl.col('date'),pl.col('interval_time')],how = 'left')\n",
    "\n",
    "final_lf = final_lf.select(\n",
    "pl.col('PK'),pl.col('date'),pl.col('datetime'),pl.col('bus'),pl.col('line'),pl.col('stop'),pl.col('positionBusLon'),pl.col('positionBusLat'),pl.col('positionTypeBus'),pl.col('DistanceBus'),\n",
    "pl.col('destination'),pl.col('deviation'),pl.col('StartTime'), pl.col('StopTime'),pl.col('MinimunFrequency'),pl.col('MaximumFrequency'),pl.col('isHead'),pl.col('dayType'),pl.col('strike'),pl.col('estimateArrive'),pl.col('remaining_time'),pl.col('interval_time'),pl.col('exact_time')).sort(by=[pl.col('bus'),pl.col('line'),pl.col('stop'),pl.col('destination'),pl.col('date')])\n",
    "\n",
    "final_lf = final_lf.filter(pl.col('exact_time').is_not_null())"
   ]
  },
  {
   "cell_type": "code",
   "execution_count": null,
   "metadata": {},
   "outputs": [
    {
     "name": "stdout",
     "output_type": "stream",
     "text": [
      "(561371, 22)\n"
     ]
    }
   ],
   "source": [
    "lf_2_march = create_exact_time_col(\"2024-03-02\")"
   ]
  },
  {
   "cell_type": "code",
   "execution_count": null,
   "metadata": {},
   "outputs": [
    {
     "name": "stdout",
     "output_type": "stream",
     "text": [
      "shape: (388_507, 4)\n",
      "┌─────────────────┬────────────────┬────────────────────────────┬────────────────────────────┐\n",
      "│ datetime        ┆ estimateArrive ┆ remaining_time             ┆ exact_time                 │\n",
      "│ ---             ┆ ---            ┆ ---                        ┆ ---                        │\n",
      "│ str             ┆ i64            ┆ str                        ┆ str                        │\n",
      "╞═════════════════╪════════════════╪════════════════════════════╪════════════════════════════╡\n",
      "│ 2024-03-02      ┆ 0              ┆ 2024-03-02 10:35:02.443102 ┆ 2024-03-02 10:34:30.567009 │\n",
      "│ 10:35:02.443102 ┆                ┆                            ┆                            │\n",
      "│ 2024-03-02      ┆ 0              ┆ 2024-03-02 11:48:03.272066 ┆ 2024-03-02 11:48:03.272066 │\n",
      "│ 11:48:03.272066 ┆                ┆                            ┆                            │\n",
      "│ 2024-03-02      ┆ 0              ┆ 2024-03-02 12:56:03.059361 ┆ 2024-03-02 12:56:03.059361 │\n",
      "│ 12:56:03.059361 ┆                ┆                            ┆                            │\n",
      "│ 2024-03-02      ┆ 0              ┆ 2024-03-02 12:57:02.643422 ┆ 2024-03-02 12:56:03.059361 │\n",
      "│ 12:57:02.643422 ┆                ┆                            ┆                            │\n",
      "│ 2024-03-02      ┆ 6              ┆ 2024-03-02 09:14:09.286702 ┆ 2024-03-02 09:14:09.286702 │\n",
      "│ 09:14:03.286702 ┆                ┆                            ┆                            │\n",
      "│ …               ┆ …              ┆ …                          ┆ …                          │\n",
      "│ 2024-03-02      ┆ 2461           ┆ 2024-03-02 12:09:16.663587 ┆ 2024-03-02 11:27:06.670532 │\n",
      "│ 11:28:15.663587 ┆                ┆                            ┆                            │\n",
      "│ 2024-03-02      ┆ 2483           ┆ 2024-03-02 15:04:39.093957 ┆ 2024-03-02 14:22:44.937958 │\n",
      "│ 14:23:16.093957 ┆                ┆                            ┆                            │\n",
      "│ 2024-03-02      ┆ 2491           ┆ 2024-03-02 13:36:38.828384 ┆ 2024-03-02 12:12:27.584409 │\n",
      "│ 12:55:07.828384 ┆                ┆                            ┆                            │\n",
      "│ 2024-03-02      ┆ 2530           ┆ 2024-03-02 14:21:59.136343 ┆ 2024-03-02 13:39:35.958888 │\n",
      "│ 13:39:49.136343 ┆                ┆                            ┆                            │\n",
      "│ 2024-03-02      ┆ 2604           ┆ 2024-03-02 13:36:39.640368 ┆ 2024-03-02 12:12:27.584409 │\n",
      "│ 12:53:15.640368 ┆                ┆                            ┆                            │\n",
      "└─────────────────┴────────────────┴────────────────────────────┴────────────────────────────┘\n"
     ]
    }
   ],
   "source": [
    "print(lf_2_march.sort('date','bus','line','stop','destination','estimateArrive','remaining_time','exact_time').select('datetime','estimateArrive','predict_arrival_date','reliable_arrival_date'))"
   ]
  },
  {
   "cell_type": "markdown",
   "metadata": {},
   "source": [
    "#### Mismo experimento pero con todos los dias"
   ]
  },
  {
   "cell_type": "code",
   "execution_count": null,
   "metadata": {},
   "outputs": [],
   "source": [
    "lf_2_3_march = lf.with_columns(pl.col('datetime').apply(get_interval_time).alias('interval_time'))"
   ]
  },
  {
   "cell_type": "code",
   "execution_count": null,
   "metadata": {},
   "outputs": [],
   "source": [
    "small_lf = lf_2_3_march.filter(pl.col('estimateArrive')<=60).group_by(pl.col('bus'),pl.col('line'),pl.col('stop'),pl.col('destination'),pl.col('date'),pl.col('interval_time')).min().with_columns(pl.col('predict_arrival_date').alias('reliable_arrival_date'))\n",
    "small_lf.head().collect()"
   ]
  },
  {
   "cell_type": "code",
   "execution_count": null,
   "metadata": {},
   "outputs": [],
   "source": [
    "small_lf.sort(pl.col('date'),pl.col('bus'),pl.col('line'),pl.col('stop'),pl.col('destination'),pl.col('estimateArrive'),pl.col('predict_arrival_date'),pl.col('exact_time')).head().collect()"
   ]
  },
  {
   "cell_type": "code",
   "execution_count": null,
   "metadata": {},
   "outputs": [],
   "source": [
    "final_lf = lf_2_3_march.join(small_lf,on=[pl.col('bus'),pl.col('line'),pl.col('stop'),pl.col('destination'),pl.col('date'),pl.col('interval_time')],how = 'left')\n",
    "#final_lf.collect()"
   ]
  },
  {
   "cell_type": "code",
   "execution_count": null,
   "metadata": {},
   "outputs": [],
   "source": [
    "PRUEBA2 = final_lf.select(\n",
    "    pl.col('PK'),pl.col('date'),pl.col('datetime'),pl.col('bus'),pl.col('line'),pl.col('stop'),pl.col('positionBusLon'),pl.col('positionBusLat'),pl.col('positionTypeBus'),pl.col('DistanceBus'),\n",
    "    pl.col('destination'),pl.col('deviation'),pl.col('StartTime'), pl.col('StopTime'),pl.col('MinimunFrequency'),pl.col('MaximumFrequency'),pl.col('isHead'),pl.col('dayType'),pl.col('strike'),pl.col('estimateArrive'),pl.col('remaining_time'),pl.col('interval_time'),pl.col('exact_time')).sort(by=[pl.col('bus'),pl.col('line'),pl.col('stop'),pl.col('destination'),pl.col('date')])"
   ]
  },
  {
   "cell_type": "code",
   "execution_count": null,
   "metadata": {},
   "outputs": [],
   "source": [
    "PRUEBA2.head().collect()"
   ]
  },
  {
   "cell_type": "code",
   "execution_count": null,
   "metadata": {},
   "outputs": [],
   "source": [
    "lf_2_3_march_2 = PRUEBA2.filter(pl.col('exact_time').is_not_null())"
   ]
  },
  {
   "cell_type": "code",
   "execution_count": null,
   "metadata": {},
   "outputs": [],
   "source": [
    "DF = lf_2_3_march_2.collect()"
   ]
  },
  {
   "cell_type": "code",
   "execution_count": null,
   "metadata": {},
   "outputs": [],
   "source": [
    "lf_2_3_march_2.head().collect()"
   ]
  },
  {
   "cell_type": "code",
   "execution_count": null,
   "metadata": {},
   "outputs": [],
   "source": [
    "pandas_df = DF.to_pandas()"
   ]
  },
  {
   "cell_type": "code",
   "execution_count": null,
   "metadata": {},
   "outputs": [],
   "source": [
    "pandas_df.to_csv('/home/mlia/proyectos/data-generation/docs/notebooks/aux/prueba.csv')"
   ]
  },
  {
   "cell_type": "markdown",
   "metadata": {},
   "source": [
    "# Una vez que hemos realizado para 2 dias"
   ]
  },
  {
   "cell_type": "code",
   "execution_count": null,
   "metadata": {},
   "outputs": [],
   "source": [
    "lf_aux = pl.scan_csv('/home/mlia/proyectos/data-generation/docs/notebooks/aux/prueba.csv')\n",
    "lf_aux.head().collect()"
   ]
  },
  {
   "cell_type": "code",
   "execution_count": null,
   "metadata": {},
   "outputs": [],
   "source": [
    "lf_aux=lf_aux.with_columns(pl.col('bus').cast(pl.String))"
   ]
  },
  {
   "cell_type": "code",
   "execution_count": null,
   "metadata": {},
   "outputs": [],
   "source": [
    "lf_aux.sort(by=[pl.col('date'),pl.col('bus'),pl.col('line'),pl.col('stop'),pl.col('destination')]).head(10).collect()"
   ]
  },
  {
   "cell_type": "markdown",
   "metadata": {},
   "source": [
    "# 6. Matriz de correlaciones"
   ]
  },
  {
   "cell_type": "code",
   "execution_count": 13,
   "metadata": {},
   "outputs": [],
   "source": [
    "numeric_var = ['bus', 'line','stop',\n",
    " 'positionBusLon',\n",
    " 'positionBusLat',\n",
    " 'DistanceBus',\n",
    " 'deviation',\n",
    " 'MinimunFrequency',\n",
    " 'MaximumFrequency',\n",
    " 'isHead',\n",
    " 'estimateArrive',\n",
    " 'predict_arrival_date']"
   ]
  },
  {
   "cell_type": "code",
   "execution_count": 14,
   "metadata": {},
   "outputs": [],
   "source": [
    "matrix = [[0] * len(numeric_var) for _ in range(len(numeric_var))]\n",
    "for i in range(0,len(numeric_var)):\n",
    "    for j in range(0,len(numeric_var)):\n",
    "        matrix[i][j] = lf.select(pl.corr(numeric_var[i],numeric_var[j])).collect().item()"
   ]
  },
  {
   "cell_type": "code",
   "execution_count": null,
   "metadata": {},
   "outputs": [],
   "source": [
    "matrix_corr = pd.DataFrame(matrix, columns=numeric_var,index=numeric_var).apply(lambda col: col.round(4))"
   ]
  },
  {
   "cell_type": "code",
   "execution_count": null,
   "metadata": {},
   "outputs": [],
   "source": [
    "sns.heatmap(matrix_corr, cmap='coolwarm',vmin=-1, vmax=1)"
   ]
  },
  {
   "cell_type": "code",
   "execution_count": null,
   "metadata": {},
   "outputs": [],
   "source": [
    "matrix_corr.to_csv('/home/mlia/proyectos/data-generation/docs/notebooks/aux/matrix_corr_emt.csv', index=False)"
   ]
  },
  {
   "cell_type": "markdown",
   "metadata": {},
   "source": [
    "# 7. Estudio por variables"
   ]
  },
  {
   "cell_type": "code",
   "execution_count": null,
   "metadata": {},
   "outputs": [],
   "source": [
    "lf.head().describe() #TODO: si le quito el head peta el kernel"
   ]
  },
  {
   "cell_type": "markdown",
   "metadata": {},
   "source": [
    "##  Variable `date`"
   ]
  },
  {
   "cell_type": "markdown",
   "metadata": {},
   "source": [
    "### Valores nulos"
   ]
  },
  {
   "cell_type": "code",
   "execution_count": null,
   "metadata": {},
   "outputs": [],
   "source": [
    "lf.group_by(pl.col('date')).count().head()"
   ]
  },
  {
   "cell_type": "markdown",
   "metadata": {},
   "source": [
    "## Variable `datetime`"
   ]
  },
  {
   "cell_type": "markdown",
   "metadata": {},
   "source": [
    "### Valores nulos"
   ]
  },
  {
   "cell_type": "code",
   "execution_count": null,
   "metadata": {},
   "outputs": [],
   "source": [
    "lf.group_by(pl.col('datetime')).count().head()"
   ]
  },
  {
   "cell_type": "markdown",
   "metadata": {},
   "source": [
    "## Varable `bus`"
   ]
  },
  {
   "cell_type": "markdown",
   "metadata": {},
   "source": [
    "### Valores nulos"
   ]
  },
  {
   "cell_type": "code",
   "execution_count": 13,
   "metadata": {},
   "outputs": [
    {
     "data": {
      "text/html": [
       "<div><style>\n",
       ".dataframe > thead > tr,\n",
       ".dataframe > tbody > tr {\n",
       "  text-align: right;\n",
       "  white-space: pre-wrap;\n",
       "}\n",
       "</style>\n",
       "<small>shape: (1_615, 2)</small><table border=\"1\" class=\"dataframe\"><thead><tr><th>bus</th><th>count</th></tr><tr><td>str</td><td>u32</td></tr></thead><tbody><tr><td>&quot;5760&quot;</td><td>59</td></tr><tr><td>&quot;2034&quot;</td><td>4569</td></tr><tr><td>&quot;5660&quot;</td><td>15869</td></tr><tr><td>&quot;5475&quot;</td><td>13511</td></tr><tr><td>&quot;2193&quot;</td><td>448</td></tr><tr><td>&hellip;</td><td>&hellip;</td></tr><tr><td>&quot;5748&quot;</td><td>6323</td></tr><tr><td>&quot;2129&quot;</td><td>41197</td></tr><tr><td>&quot;9120&quot;</td><td>77401</td></tr><tr><td>&quot;2496&quot;</td><td>81200</td></tr><tr><td>&quot;135&quot;</td><td>13233</td></tr></tbody></table></div>"
      ],
      "text/plain": [
       "shape: (1_615, 2)\n",
       "┌──────┬───────┐\n",
       "│ bus  ┆ count │\n",
       "│ ---  ┆ ---   │\n",
       "│ str  ┆ u32   │\n",
       "╞══════╪═══════╡\n",
       "│ 5760 ┆ 59    │\n",
       "│ 2034 ┆ 4569  │\n",
       "│ 5660 ┆ 15869 │\n",
       "│ 5475 ┆ 13511 │\n",
       "│ 2193 ┆ 448   │\n",
       "│ …    ┆ …     │\n",
       "│ 5748 ┆ 6323  │\n",
       "│ 2129 ┆ 41197 │\n",
       "│ 9120 ┆ 77401 │\n",
       "│ 2496 ┆ 81200 │\n",
       "│ 135  ┆ 13233 │\n",
       "└──────┴───────┘"
      ]
     },
     "execution_count": 13,
     "metadata": {},
     "output_type": "execute_result"
    }
   ],
   "source": [
    "lf.group_by(pl.col('bus')).count().head()"
   ]
  },
  {
   "cell_type": "markdown",
   "metadata": {},
   "source": [
    "### Correlación"
   ]
  },
  {
   "cell_type": "code",
   "execution_count": null,
   "metadata": {},
   "outputs": [],
   "source": [
    "lf.select(pl.corr('bus','estimateArrive')).head().collect()"
   ]
  },
  {
   "cell_type": "markdown",
   "metadata": {},
   "source": [
    "### Gráfico"
   ]
  },
  {
   "cell_type": "code",
   "execution_count": null,
   "metadata": {},
   "outputs": [],
   "source": [
    "lf.group_by(pl.col('bus')).mean().select(pl.col('bus'),pl.col('estimateArrive')).collect().plot.bar(x='bus')"
   ]
  },
  {
   "cell_type": "markdown",
   "metadata": {},
   "source": [
    "### Conclusión"
   ]
  },
  {
   "cell_type": "code",
   "execution_count": null,
   "metadata": {},
   "outputs": [],
   "source": [
    "lf.filter(pl.col('estimateArrive')<=5400).group_by(pl.col('bus')).mean().select(pl.col('bus'),pl.col('estimateArrive')).sort('estimateArrive',descending=True).collect()"
   ]
  },
  {
   "cell_type": "markdown",
   "metadata": {},
   "source": [
    "Según que autobús sea, el tiempo medio de espera varia bastante. Por lo que esta variable va a ser necesaria a la hora de la creación de nuestro modelo."
   ]
  },
  {
   "cell_type": "markdown",
   "metadata": {},
   "source": [
    "## Variable `line`"
   ]
  },
  {
   "cell_type": "markdown",
   "metadata": {},
   "source": [
    "### Valores nulos"
   ]
  },
  {
   "cell_type": "code",
   "execution_count": null,
   "metadata": {},
   "outputs": [],
   "source": [
    "lf.group_by(pl.col('line')).count().head()"
   ]
  },
  {
   "cell_type": "markdown",
   "metadata": {},
   "source": [
    "### Correlación"
   ]
  },
  {
   "cell_type": "code",
   "execution_count": null,
   "metadata": {},
   "outputs": [],
   "source": [
    "lf.select(pl.corr('line','estimateArrive')).head().collect()"
   ]
  },
  {
   "cell_type": "markdown",
   "metadata": {},
   "source": [
    "### Gráfico"
   ]
  },
  {
   "cell_type": "code",
   "execution_count": null,
   "metadata": {},
   "outputs": [],
   "source": [
    "lf.group_by(pl.col('line')).mean().select(pl.col('line'),pl.col('estimateArrive')).collect().plot.bar(x='line')"
   ]
  },
  {
   "cell_type": "markdown",
   "metadata": {},
   "source": [
    "### Conclusión"
   ]
  },
  {
   "cell_type": "code",
   "execution_count": null,
   "metadata": {},
   "outputs": [],
   "source": [
    "lf.group_by(pl.col('line')).mean().select(pl.col('line'),pl.col('estimateArrive')).sort('estimateArrive',descending=True).collect()"
   ]
  },
  {
   "cell_type": "markdown",
   "metadata": {},
   "source": [
    "Según que línea sea, el tiempo medio de espera varia bastante. Por lo que esta variable va a ser necesaria a la hora de la creación de nuestro modelo."
   ]
  },
  {
   "cell_type": "markdown",
   "metadata": {},
   "source": [
    "## Variable `stop`"
   ]
  },
  {
   "cell_type": "markdown",
   "metadata": {},
   "source": [
    "### Valores nulos"
   ]
  },
  {
   "cell_type": "code",
   "execution_count": null,
   "metadata": {},
   "outputs": [],
   "source": [
    "lf.group_by(pl.col('stop')).count().head()"
   ]
  },
  {
   "cell_type": "markdown",
   "metadata": {},
   "source": [
    "### Correlación"
   ]
  },
  {
   "cell_type": "code",
   "execution_count": null,
   "metadata": {},
   "outputs": [],
   "source": [
    "lf.select(pl.corr('stop','estimateArrive')).head().collect()"
   ]
  },
  {
   "cell_type": "markdown",
   "metadata": {},
   "source": [
    "### Gráfico"
   ]
  },
  {
   "cell_type": "code",
   "execution_count": null,
   "metadata": {},
   "outputs": [],
   "source": [
    "lf.group_by(pl.col('stop')).mean().select(pl.col('stop'),pl.col('estimateArrive')).collect().plot.bar(x='stop')"
   ]
  },
  {
   "cell_type": "markdown",
   "metadata": {},
   "source": [
    "### Conclusión"
   ]
  },
  {
   "cell_type": "code",
   "execution_count": null,
   "metadata": {},
   "outputs": [],
   "source": [
    "lf.group_by(pl.col('stop')).mean().select(pl.col('stop'),pl.col('estimateArrive')).sort('estimateArrive',descending=True).collect()"
   ]
  },
  {
   "cell_type": "markdown",
   "metadata": {},
   "source": [
    "Según que parada sea, el tiempo medio de espera varia bastante. Por lo que esta variable va a ser necesaria a la hora de la creación de nuestro modelo."
   ]
  },
  {
   "cell_type": "markdown",
   "metadata": {},
   "source": [
    "## Variable `positionBusLon`"
   ]
  },
  {
   "cell_type": "markdown",
   "metadata": {},
   "source": [
    "### Valores nulos"
   ]
  },
  {
   "cell_type": "code",
   "execution_count": null,
   "metadata": {},
   "outputs": [],
   "source": [
    "lf.group_by(pl.col('positionBusLon')).count().head()"
   ]
  },
  {
   "cell_type": "markdown",
   "metadata": {},
   "source": [
    "### Correlación"
   ]
  },
  {
   "cell_type": "code",
   "execution_count": null,
   "metadata": {},
   "outputs": [],
   "source": [
    "lf.select(pl.corr('positionBusLon','estimateArrive')).head().collect()"
   ]
  },
  {
   "cell_type": "markdown",
   "metadata": {},
   "source": [
    "## Variable `positionBusLat`"
   ]
  },
  {
   "cell_type": "markdown",
   "metadata": {},
   "source": [
    "### Valores nulos"
   ]
  },
  {
   "cell_type": "code",
   "execution_count": null,
   "metadata": {},
   "outputs": [],
   "source": [
    "lf.group_by(pl.col('positionBusLat')).count().head()"
   ]
  },
  {
   "cell_type": "markdown",
   "metadata": {},
   "source": [
    "### Correlación"
   ]
  },
  {
   "cell_type": "code",
   "execution_count": null,
   "metadata": {},
   "outputs": [],
   "source": [
    "lf.select(pl.corr('positionBusLat','estimateArrive')).head().collect()"
   ]
  },
  {
   "cell_type": "markdown",
   "metadata": {},
   "source": [
    "## Variable `positionTypeBus`"
   ]
  },
  {
   "cell_type": "markdown",
   "metadata": {},
   "source": [
    "### Valores nulos"
   ]
  },
  {
   "cell_type": "code",
   "execution_count": null,
   "metadata": {},
   "outputs": [],
   "source": [
    "lf.group_by(pl.col('positionTypeBus')).count().head()"
   ]
  },
  {
   "cell_type": "markdown",
   "metadata": {},
   "source": [
    "### Correlación"
   ]
  },
  {
   "cell_type": "code",
   "execution_count": null,
   "metadata": {},
   "outputs": [],
   "source": [
    "lf.select(pl.corr('positionTypeBus','estimateArrive')).head().collect()"
   ]
  },
  {
   "cell_type": "markdown",
   "metadata": {},
   "source": [
    "### Gráfico"
   ]
  },
  {
   "cell_type": "code",
   "execution_count": null,
   "metadata": {},
   "outputs": [],
   "source": [
    "lf.group_by(pl.col('positionTypeBus')).mean().select(pl.col('positionTypeBus'),pl.col('estimateArrive')).head().collect().plot.bar(x='positionTypeBus')"
   ]
  },
  {
   "cell_type": "markdown",
   "metadata": {},
   "source": [
    "### Conclusión\n",
    "Como no tenemos información acerca del significado de esta variable, no podemos entenderla por lo que decidimos eliminarla"
   ]
  },
  {
   "cell_type": "code",
   "execution_count": null,
   "metadata": {},
   "outputs": [],
   "source": [
    "lf = lf.drop('positionBusType')\n",
    "lf.head().collect()"
   ]
  },
  {
   "cell_type": "code",
   "execution_count": null,
   "metadata": {},
   "outputs": [],
   "source": [
    "#lf.group_by(pl.col('positionTypeBus')).mean().select(pl.col('positionTypeBus'),pl.col('estimateArrive')).sort('estimateArrive',descending=True).collect()"
   ]
  },
  {
   "cell_type": "markdown",
   "metadata": {},
   "source": [
    "## Variable `DistanceBus`"
   ]
  },
  {
   "cell_type": "markdown",
   "metadata": {},
   "source": [
    "### Valores nulos"
   ]
  },
  {
   "cell_type": "code",
   "execution_count": null,
   "metadata": {},
   "outputs": [],
   "source": [
    "lf.group_by(pl.col('DistanceBus')).count().head()"
   ]
  },
  {
   "cell_type": "markdown",
   "metadata": {},
   "source": [
    "### Correlación"
   ]
  },
  {
   "cell_type": "code",
   "execution_count": null,
   "metadata": {},
   "outputs": [],
   "source": [
    "lf.select(pl.corr('DistanceBus','estimateArrive')).head().collect()"
   ]
  },
  {
   "cell_type": "markdown",
   "metadata": {},
   "source": [
    "### Conclusión\n",
    "Como era de esperar, es la variable que mayor correlación tiene con el `ETA`"
   ]
  },
  {
   "cell_type": "markdown",
   "metadata": {},
   "source": [
    "## Variable `destination`"
   ]
  },
  {
   "cell_type": "markdown",
   "metadata": {},
   "source": [
    "### Valores nulos"
   ]
  },
  {
   "cell_type": "code",
   "execution_count": null,
   "metadata": {},
   "outputs": [],
   "source": [
    "lf.group_by(pl.col('destination')).count().head()"
   ]
  },
  {
   "cell_type": "markdown",
   "metadata": {},
   "source": [
    "### Gráfico"
   ]
  },
  {
   "cell_type": "code",
   "execution_count": null,
   "metadata": {},
   "outputs": [],
   "source": [
    "lf.group_by(pl.col('destination')).mean().select(pl.col('destination'),pl.col('estimateArrive')).collect().plot.bar(x='destination')"
   ]
  },
  {
   "cell_type": "markdown",
   "metadata": {},
   "source": [
    "### Conclusión"
   ]
  },
  {
   "cell_type": "code",
   "execution_count": null,
   "metadata": {},
   "outputs": [],
   "source": [
    "lf.group_by(pl.col('destination')).mean().select(pl.col('destination'),pl.col('estimateArrive')).sort('estimateArrive', descending=True).collect()"
   ]
  },
  {
   "cell_type": "markdown",
   "metadata": {},
   "source": [
    "Según que destino sea, el tiempo medio de espera varia bastante. Por lo que esta variable va a ser necesaria a la hora de la creación de nuestro modelo."
   ]
  },
  {
   "cell_type": "markdown",
   "metadata": {},
   "source": [
    "## Variable `deviation`"
   ]
  },
  {
   "cell_type": "markdown",
   "metadata": {},
   "source": [
    "### Valores nulos"
   ]
  },
  {
   "cell_type": "code",
   "execution_count": null,
   "metadata": {},
   "outputs": [],
   "source": [
    "lf.group_by(pl.col('deviation')).count().head()"
   ]
  },
  {
   "cell_type": "markdown",
   "metadata": {},
   "source": [
    "### Correlación"
   ]
  },
  {
   "cell_type": "code",
   "execution_count": null,
   "metadata": {},
   "outputs": [],
   "source": [
    "lf.select(pl.corr('deviation','estimateArrive')).head().collect()"
   ]
  },
  {
   "cell_type": "code",
   "execution_count": null,
   "metadata": {},
   "outputs": [],
   "source": [
    "lf.group_by(pl.col('deviation')).mean().select(pl.col('deviation'),pl.col('estimateArrive')).sort('deviation', descending=True).collect()"
   ]
  },
  {
   "cell_type": "markdown",
   "metadata": {},
   "source": [
    "No tenemos información acerca del significado de esta variable. Por lo que la eliminamos también"
   ]
  },
  {
   "cell_type": "code",
   "execution_count": null,
   "metadata": {},
   "outputs": [],
   "source": [
    "lf = lf.drop('deviation')\n",
    "lf.head().collect()"
   ]
  },
  {
   "cell_type": "markdown",
   "metadata": {},
   "source": [
    "## Variable `StartTime`"
   ]
  },
  {
   "cell_type": "markdown",
   "metadata": {},
   "source": [
    "### Valores nulos"
   ]
  },
  {
   "cell_type": "code",
   "execution_count": null,
   "metadata": {},
   "outputs": [],
   "source": [
    "lf.group_by(pl.col('StartTime')).count().head()"
   ]
  },
  {
   "cell_type": "code",
   "execution_count": null,
   "metadata": {},
   "outputs": [],
   "source": [
    "lf.group_by(pl.col('StartTime')).count().sort(pl.col('StartTime'),descending=True).collect()"
   ]
  },
  {
   "cell_type": "markdown",
   "metadata": {},
   "source": [
    "## Variable `StopTime`"
   ]
  },
  {
   "cell_type": "markdown",
   "metadata": {},
   "source": [
    "### Valores nulos"
   ]
  },
  {
   "cell_type": "code",
   "execution_count": null,
   "metadata": {},
   "outputs": [],
   "source": [
    "lf.group_by(pl.col('StopTime')).count().head()"
   ]
  },
  {
   "cell_type": "code",
   "execution_count": null,
   "metadata": {},
   "outputs": [],
   "source": [
    "lf.group_by(pl.col('StopTime')).count().sort(pl.col('StopTime'),descending=True).collect()"
   ]
  },
  {
   "cell_type": "markdown",
   "metadata": {},
   "source": [
    "### Conclusion\n",
    "\n",
    "La información que nos dan las dos variables anteriores refleja que estamos considerando solo autobuses diurnos e ignorando los nocturnos. Por tanto, esta variable no va a inferir en el tiempo de estimación ya que el hecho de que su horario comience a las 6 de la mañana o a las 7 de la mañana no va a depender de que tarde más o menos a lo largo del día. Por tanto consideramos que se pueden borrar también."
   ]
  },
  {
   "cell_type": "code",
   "execution_count": null,
   "metadata": {},
   "outputs": [],
   "source": [
    "lf = lf.drop('StartTime','StopTime')\n",
    "lf.head().collect()"
   ]
  },
  {
   "cell_type": "markdown",
   "metadata": {},
   "source": [
    "## Variable `MinimunFrequency`"
   ]
  },
  {
   "cell_type": "markdown",
   "metadata": {},
   "source": [
    "### Valores nulos"
   ]
  },
  {
   "cell_type": "code",
   "execution_count": 14,
   "metadata": {},
   "outputs": [
    {
     "data": {
      "text/plain": [
       "(13071377, 20)"
      ]
     },
     "execution_count": 14,
     "metadata": {},
     "output_type": "execute_result"
    }
   ],
   "source": [
    "lf.group_by(pl.col('MinimunFrequency')).count().head()"
   ]
  },
  {
   "cell_type": "code",
   "execution_count": 15,
   "metadata": {},
   "outputs": [],
   "source": [
    "#TODO: rellenar por la linea "
   ]
  },
  {
   "cell_type": "code",
   "execution_count": null,
   "metadata": {},
   "outputs": [],
   "source": [
    "lf.group_by(pl.col('MinimunFrequency')).count().sort(pl.col('MinimunFrequency'),descending=True).filter(pl.col('MinimunFrequency').is_not_null()).sum().collect()"
   ]
  },
  {
   "cell_type": "markdown",
   "metadata": {},
   "source": [
    "### Correlación"
   ]
  },
  {
   "cell_type": "code",
   "execution_count": null,
   "metadata": {},
   "outputs": [],
   "source": [
    "lf.select(pl.corr('MinimunFrequency','estimateArrive')).head().collect()"
   ]
  },
  {
   "cell_type": "markdown",
   "metadata": {},
   "source": [
    "### Gráfico"
   ]
  },
  {
   "cell_type": "code",
   "execution_count": null,
   "metadata": {},
   "outputs": [],
   "source": [
    "lf.group_by(pl.col('MinimunFrequency')).mean().select(pl.col('MinimunFrequency'),pl.col('estimateArrive')).collect().plot.bar(x='MinimunFrequency')"
   ]
  },
  {
   "cell_type": "markdown",
   "metadata": {},
   "source": [
    "## Variable `MaximumFrequency`"
   ]
  },
  {
   "cell_type": "markdown",
   "metadata": {},
   "source": [
    "### Valores nulos"
   ]
  },
  {
   "cell_type": "code",
   "execution_count": null,
   "metadata": {},
   "outputs": [],
   "source": [
    "lf.group_by(pl.col('MaximumFrequency')).count().head()"
   ]
  },
  {
   "cell_type": "code",
   "execution_count": null,
   "metadata": {},
   "outputs": [],
   "source": [
    "lf.group_by(pl.col('MaximumFrequency')).count().sort(pl.col('MaximumFrequency'),descending=True).collect()"
   ]
  },
  {
   "cell_type": "markdown",
   "metadata": {},
   "source": [
    "### Correlación"
   ]
  },
  {
   "cell_type": "code",
   "execution_count": null,
   "metadata": {},
   "outputs": [],
   "source": [
    "lf.select(pl.corr('MaximumFrequency','estimateArrive')).head().collect()"
   ]
  },
  {
   "cell_type": "markdown",
   "metadata": {},
   "source": [
    "### Gráfico"
   ]
  },
  {
   "cell_type": "code",
   "execution_count": null,
   "metadata": {},
   "outputs": [],
   "source": [
    "lf.group_by(pl.col('MaximumFrequency')).mean().select(pl.col('MaximumFrequency'),pl.col('estimateArrive')).collect().plot.bar(x='MaximumFrequency')"
   ]
  },
  {
   "cell_type": "code",
   "execution_count": null,
   "metadata": {},
   "outputs": [],
   "source": []
  },
  {
   "cell_type": "markdown",
   "metadata": {},
   "source": [
    "### Conclusión\n",
    "Las variables `MinimunFrequency ` y `MaximumFrequency ` tienen muchos valores nulos pero si que están relacionadas con el `ETA`. Una opción es mantener solo una de ellas ya que es probable que aporten la misma información. De momento mantenemos las dos."
   ]
  },
  {
   "cell_type": "code",
   "execution_count": null,
   "metadata": {},
   "outputs": [],
   "source": [
    "#TODO: que hacemos con los valores nulos ??"
   ]
  },
  {
   "cell_type": "markdown",
   "metadata": {},
   "source": [
    "## Variable `isHead`"
   ]
  },
  {
   "cell_type": "markdown",
   "metadata": {},
   "source": [
    "### Valores nulos"
   ]
  },
  {
   "cell_type": "code",
   "execution_count": null,
   "metadata": {},
   "outputs": [],
   "source": [
    "lf.group_by(pl.col('isHead')).count().head()"
   ]
  },
  {
   "cell_type": "markdown",
   "metadata": {},
   "source": [
    "### Correlación"
   ]
  },
  {
   "cell_type": "code",
   "execution_count": null,
   "metadata": {},
   "outputs": [],
   "source": [
    "lf.select(pl.corr('isHead','estimateArrive')).head().collect()"
   ]
  },
  {
   "cell_type": "markdown",
   "metadata": {},
   "source": [
    "### Gráfico"
   ]
  },
  {
   "cell_type": "code",
   "execution_count": null,
   "metadata": {},
   "outputs": [],
   "source": [
    "lf.group_by(pl.col('isHead')).mean().select(pl.col('isHead'),pl.col('estimateArrive')).head().collect().plot.bar(x='isHead')"
   ]
  },
  {
   "cell_type": "markdown",
   "metadata": {},
   "source": [
    "### Conclusión"
   ]
  },
  {
   "cell_type": "code",
   "execution_count": null,
   "metadata": {},
   "outputs": [],
   "source": [
    "lf.group_by(pl.col('isHead')).mean().select(pl.col('isHead'),pl.col('estimateArrive')).head().collect()"
   ]
  },
  {
   "cell_type": "markdown",
   "metadata": {},
   "source": [
    "Mantenemos esta variable ya que está bastante relacionada con el `ETA`"
   ]
  },
  {
   "cell_type": "markdown",
   "metadata": {},
   "source": [
    "## Variable `dayType`"
   ]
  },
  {
   "cell_type": "markdown",
   "metadata": {},
   "source": [
    "### Valores nulos"
   ]
  },
  {
   "cell_type": "code",
   "execution_count": null,
   "metadata": {},
   "outputs": [],
   "source": [
    "lf.group_by(pl.col('dayType')).count().head()"
   ]
  },
  {
   "cell_type": "markdown",
   "metadata": {},
   "source": [
    "**Vemos de que tipo son los días nulos utilizando la fecha**"
   ]
  },
  {
   "cell_type": "code",
   "execution_count": null,
   "metadata": {},
   "outputs": [],
   "source": [
    "def get_type_day(date):\n",
    "    \n",
    "    day = datetime.strptime(date, \"%Y-%m-%d\").strftime(\"%A\")\n",
    "    \n",
    "    if day in ['Monday','Tuesday','Wednesday','Thursday','Friday']:\n",
    "        \n",
    "        type = 'LA'\n",
    "    elif day == 'Saturday':\n",
    "        type = 'SA'\n",
    "    else:\n",
    "        type = 'FE'\n",
    "        \n",
    "    return type"
   ]
  },
  {
   "cell_type": "code",
   "execution_count": null,
   "metadata": {},
   "outputs": [],
   "source": [
    "lf = lf.with_columns(pl.when(pl.col('dayType').is_null()).then(pl.col('date').apply(get_type_day)).otherwise(pl.col('dayType')).alias('dayType'))\n",
    "lf.head().collect()"
   ]
  },
  {
   "cell_type": "code",
   "execution_count": null,
   "metadata": {},
   "outputs": [],
   "source": [
    "#lf.filter(pl.col('dayType').is_null()).collect().shape #TODO: peta el kernel"
   ]
  },
  {
   "cell_type": "markdown",
   "metadata": {},
   "source": [
    "### Gráfico"
   ]
  },
  {
   "cell_type": "code",
   "execution_count": null,
   "metadata": {},
   "outputs": [],
   "source": [
    "#TODO: revisar esta funcion\n",
    "lf.group_by(pl.col('dayType')).mean().select(pl.col('dayType'),pl.col('estimateArrive')).head().collect().plot.bar(x='dayType')"
   ]
  },
  {
   "cell_type": "markdown",
   "metadata": {},
   "source": [
    "### Conclusión"
   ]
  },
  {
   "cell_type": "code",
   "execution_count": null,
   "metadata": {},
   "outputs": [],
   "source": [
    "lf.group_by(pl.col('dayType')).mean().select(pl.col('dayType'),pl.col('estimateArrive')).sort('estimateArrive',descending=True).collect()"
   ]
  },
  {
   "cell_type": "markdown",
   "metadata": {},
   "source": [
    "Mantenemos esta variable."
   ]
  },
  {
   "cell_type": "markdown",
   "metadata": {},
   "source": [
    "## Variable `strike`"
   ]
  },
  {
   "cell_type": "markdown",
   "metadata": {},
   "source": [
    "### Valores nulos"
   ]
  },
  {
   "cell_type": "code",
   "execution_count": null,
   "metadata": {},
   "outputs": [],
   "source": [
    "lf.group_by(pl.col('strike')).count().head()"
   ]
  },
  {
   "cell_type": "code",
   "execution_count": null,
   "metadata": {},
   "outputs": [],
   "source": [
    "lf_reemplazado.select(pl.corr('strike','estimateArrive')).head().collect()"
   ]
  },
  {
   "cell_type": "markdown",
   "metadata": {},
   "source": [
    "### Gráfico"
   ]
  },
  {
   "cell_type": "code",
   "execution_count": null,
   "metadata": {},
   "outputs": [],
   "source": [
    "lf.group_by(pl.col('strike')).mean().select(pl.col('strike'),pl.col('estimateArrive')).head().collect().plot.bar(x='strike')"
   ]
  },
  {
   "cell_type": "markdown",
   "metadata": {},
   "source": [
    "### Conclusión"
   ]
  },
  {
   "cell_type": "code",
   "execution_count": null,
   "metadata": {},
   "outputs": [],
   "source": [
    "lf.group_by(pl.col('strike')).mean().select(pl.col('strike'),pl.col('estimateArrive')).head().collect()"
   ]
  },
  {
   "cell_type": "markdown",
   "metadata": {},
   "source": [
    "- La variable `Strike` toma solo 'N' o nulo, por lo que para ningún día se tiene constancia de que hubo huelga. Por tanto para estos datos esta variable no va a aportar información."
   ]
  },
  {
   "cell_type": "code",
   "execution_count": null,
   "metadata": {},
   "outputs": [],
   "source": [
    "lf = lf.drop('strike')\n",
    "lf.head().collect()"
   ]
  },
  {
   "cell_type": "markdown",
   "metadata": {},
   "source": [
    "## Variable `estimateArrive`"
   ]
  },
  {
   "cell_type": "markdown",
   "metadata": {},
   "source": [
    "### Valores nulos"
   ]
  },
  {
   "cell_type": "code",
   "execution_count": null,
   "metadata": {},
   "outputs": [],
   "source": [
    "lf.group_by(pl.col('estimateArrive')).count().head()"
   ]
  },
  {
   "cell_type": "markdown",
   "metadata": {},
   "source": [
    "### Resumen\n"
   ]
  },
  {
   "cell_type": "code",
   "execution_count": null,
   "metadata": {},
   "outputs": [],
   "source": [
    "lf.select(pl.col('estimateArrive')).describe()"
   ]
  },
  {
   "cell_type": "code",
   "execution_count": null,
   "metadata": {},
   "outputs": [],
   "source": []
  },
  {
   "cell_type": "code",
   "execution_count": null,
   "metadata": {},
   "outputs": [],
   "source": []
  },
  {
   "cell_type": "code",
   "execution_count": null,
   "metadata": {},
   "outputs": [],
   "source": [
    "matrix_corr"
   ]
  },
  {
   "cell_type": "code",
   "execution_count": null,
   "metadata": {},
   "outputs": [],
   "source": []
  },
  {
   "cell_type": "markdown",
   "metadata": {},
   "source": [
    "### Conclusion\n",
    "\n",
    "\n",
    "- Las variables `MinimunFrequency ` y `MaximumFrequency ` están muy relacionadas entre ellas. Se podría dejar tan solo `MinimumFrequency` ya que aporta mas informacion al `ETA` que la otra\n",
    "\n",
    "\n",
    " "
   ]
  },
  {
   "cell_type": "code",
   "execution_count": null,
   "metadata": {},
   "outputs": [],
   "source": [
    "lf = lf.drop('MaximumFrequency')\n",
    "lf.head().collect()"
   ]
  },
  {
   "cell_type": "markdown",
   "metadata": {},
   "source": [
    "# Conclusión\n",
    "\n",
    "Despues de nuestro análisis terminamos con un dataset con 17 variables, las cuales son:\n",
    "\n",
    "- `PK`\n",
    "- `date`\n",
    "- `datetime`\n",
    "- `bus`\n",
    "- `line`\n",
    "- `stop`\n",
    "- `positionBusLon`\n",
    "- `positionBusLat` \n",
    "- `DistanceBus`\n",
    "- `destination`\n",
    "- `MinimunFrequency`\n",
    "- `isHead`\n",
    "- `dayType`\n",
    "- `estimateArrive`\n",
    "- `remaining_time`\n",
    "- `exact_time`"
   ]
  },
  {
   "cell_type": "code",
   "execution_count": null,
   "metadata": {},
   "outputs": [],
   "source": [
    "#TODO: fecha fromato fecha \n",
    "#TODO: cambiar nombres de variables "
   ]
  },
  {
   "cell_type": "markdown",
   "metadata": {},
   "source": [
    "## DUDAS:\n",
    "- Como ejecutar los comandos con los que me peta el kernel BBDD\n",
    "- Matriz de correlacion al principio o al final?? PRINCIPIO\n",
    "- Como quitar valores nulos de `MinimunFrequency`"
   ]
  },
  {
   "cell_type": "code",
   "execution_count": null,
   "metadata": {},
   "outputs": [],
   "source": []
  }
 ],
 "metadata": {
  "kernelspec": {
   "display_name": "venv",
   "language": "python",
   "name": "python3"
  },
  "language_info": {
   "codemirror_mode": {
    "name": "ipython",
    "version": 3
   },
   "file_extension": ".py",
   "mimetype": "text/x-python",
   "name": "python",
   "nbconvert_exporter": "python",
   "pygments_lexer": "ipython3",
   "version": "3.10.12"
  },
  "orig_nbformat": 4
 },
 "nbformat": 4,
 "nbformat_minor": 2
}
