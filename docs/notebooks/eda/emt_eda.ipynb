{
 "cells": [
  {
   "cell_type": "markdown",
   "metadata": {},
   "source": [
    "# Indice. Cosas hechas\n",
    "\n",
    "- Preprocesamiento previo\n",
    "    - Creación de PK\n",
    "    - Quitamos datos estáticos (`ETA` <2400): check\n",
    "    - Comprobación PK única\n",
    "    - Nueva columna `predict_arrival_date`: check\n",
    "    - Nueva columna `reliable_arrival_date`: FALTA COMPROBAR\n",
    "\n",
    "- Matriz de correlaciones: casi check but peta\n",
    "\n",
    "    \n",
    "- Para cada variable: \n",
    "    - Valores nulos. Posibles soluciones\n",
    "    - Correlaciones con ETA\n",
    "    - Gráfico según categoría\n",
    "    - Conclusión. La quitamos o la dejamos\n",
    "\n",
    "\n"
   ]
  },
  {
   "cell_type": "markdown",
   "metadata": {},
   "source": [
    "# EDA para una muestra de un día\n",
    "\n",
    "Seleccionaremos de manera aleatoria un día del mes, para ese día realizaremos un análisis de los datos."
   ]
  },
  {
   "cell_type": "code",
   "execution_count": 1,
   "metadata": {},
   "outputs": [],
   "source": [
    "import os\n",
    "import statistics\n",
    "import polars as pl\n",
    "import pandas as pd\n",
    "import seaborn as sns\n",
    "import polars.selectors as cs\n",
    "import matplotlib.pyplot as plt\n",
    "from datetime import datetime, timedelta\n",
    "\n",
    "import warnings\n",
    "\n",
    "warnings.filterwarnings(\"ignore\")"
   ]
  },
  {
   "cell_type": "code",
   "execution_count": 2,
   "metadata": {},
   "outputs": [],
   "source": [
    "ROOT_PATH = os.path.dirname(os.path.dirname(os.path.dirname(os.path.abspath(os.getcwd()))))\n",
    "DATA_PATH = os.path.join(ROOT_PATH, \"data\", \"processed\")\n",
    "EMT_DATA_PATH = os.path.join(DATA_PATH, \"emt\")\n"
   ]
  },
  {
   "cell_type": "markdown",
   "metadata": {},
   "source": [
    "# Leemos los datos "
   ]
  },
  {
   "cell_type": "markdown",
   "metadata": {},
   "source": [
    "## Seleccionamos una muestra aleatoria "
   ]
  },
  {
   "cell_type": "code",
   "execution_count": 3,
   "metadata": {},
   "outputs": [],
   "source": [
    "import random\n",
    "random.seed(1234)  \n",
    "day = random.randint(2, 31)\n"
   ]
  },
  {
   "cell_type": "code",
   "execution_count": 4,
   "metadata": {},
   "outputs": [],
   "source": [
    "sample_data = pl.scan_csv(os.path.join(EMT_DATA_PATH, \"2024\", \"03\",str(day), f\"emt_202403{str(day)}.csv\"))"
   ]
  },
  {
   "cell_type": "code",
   "execution_count": 5,
   "metadata": {},
   "outputs": [
    {
     "data": {
      "text/html": [
       "<div><style>\n",
       ".dataframe > thead > tr,\n",
       ".dataframe > tbody > tr {\n",
       "  text-align: right;\n",
       "  white-space: pre-wrap;\n",
       "}\n",
       "</style>\n",
       "<small>shape: (1_138_967, 19)</small><table border=\"1\" class=\"dataframe\"><thead><tr><th>date</th><th>datetime</th><th>bus</th><th>line</th><th>stop</th><th>positionBusLon</th><th>positionBusLat</th><th>positionTypeBus</th><th>DistanceBus</th><th>destination</th><th>deviation</th><th>StartTime</th><th>StopTime</th><th>MinimunFrequency</th><th>MaximumFrequency</th><th>isHead</th><th>dayType</th><th>strike</th><th>estimateArrive</th></tr><tr><td>str</td><td>str</td><td>i64</td><td>str</td><td>i64</td><td>f64</td><td>f64</td><td>i64</td><td>i64</td><td>str</td><td>i64</td><td>str</td><td>str</td><td>i64</td><td>i64</td><td>bool</td><td>str</td><td>str</td><td>i64</td></tr></thead><tbody><tr><td>&quot;2024-03-26&quot;</td><td>&quot;2024-03-26 08:…</td><td>515</td><td>&quot;27&quot;</td><td>29</td><td>-3.690684</td><td>40.446013</td><td>0</td><td>1973</td><td>&quot;PLAZA CASTILLA…</td><td>0</td><td>&quot;05:55&quot;</td><td>&quot;23:30&quot;</td><td>3</td><td>12</td><td>false</td><td>&quot;LA&quot;</td><td>&quot;N&quot;</td><td>569</td></tr><tr><td>&quot;2024-03-26&quot;</td><td>&quot;2024-03-26 08:…</td><td>537</td><td>&quot;27&quot;</td><td>29</td><td>-3.69115</td><td>40.44098</td><td>0</td><td>2497</td><td>&quot;PLAZA CASTILLA…</td><td>0</td><td>&quot;05:55&quot;</td><td>&quot;23:30&quot;</td><td>3</td><td>12</td><td>false</td><td>&quot;LA&quot;</td><td>&quot;N&quot;</td><td>586</td></tr><tr><td>&quot;2024-03-26&quot;</td><td>&quot;2024-03-26 08:…</td><td>4851</td><td>&quot;5&quot;</td><td>29</td><td>-3.689987</td><td>40.45582</td><td>0</td><td>688</td><td>&quot;CHAMARTIN&quot;</td><td>0</td><td>null</td><td>null</td><td>null</td><td>null</td><td>false</td><td>null</td><td>null</td><td>124</td></tr><tr><td>&quot;2024-03-26&quot;</td><td>&quot;2024-03-26 08:…</td><td>4852</td><td>&quot;5&quot;</td><td>29</td><td>-3.692056</td><td>40.435094</td><td>0</td><td>3948</td><td>&quot;CHAMARTIN&quot;</td><td>0</td><td>null</td><td>null</td><td>null</td><td>null</td><td>false</td><td>null</td><td>null</td><td>961</td></tr><tr><td>&quot;2024-03-26&quot;</td><td>&quot;2024-03-26 08:…</td><td>5637</td><td>&quot;147&quot;</td><td>29</td><td>-3.69001</td><td>40.455671</td><td>0</td><td>710</td><td>&quot;BARRIO DEL PIL…</td><td>0</td><td>null</td><td>null</td><td>null</td><td>null</td><td>false</td><td>null</td><td>null</td><td>157</td></tr><tr><td>&hellip;</td><td>&hellip;</td><td>&hellip;</td><td>&hellip;</td><td>&hellip;</td><td>&hellip;</td><td>&hellip;</td><td>&hellip;</td><td>&hellip;</td><td>&hellip;</td><td>&hellip;</td><td>&hellip;</td><td>&hellip;</td><td>&hellip;</td><td>&hellip;</td><td>&hellip;</td><td>&hellip;</td><td>&hellip;</td><td>&hellip;</td></tr><tr><td>&quot;2024-03-26&quot;</td><td>&quot;2024-03-26 22:…</td><td>8839</td><td>&quot;171&quot;</td><td>51022</td><td>0.0</td><td>0.0</td><td>0</td><td>0</td><td>&quot;MAR DE CRISTAL…</td><td>0</td><td>null</td><td>null</td><td>null</td><td>null</td><td>true</td><td>null</td><td>null</td><td>999999</td></tr><tr><td>&quot;2024-03-26&quot;</td><td>&quot;2024-03-26 22:…</td><td>2063</td><td>&quot;174&quot;</td><td>51023</td><td>-3.617285</td><td>40.482495</td><td>0</td><td>2144</td><td>&quot;VALDEBEBAS&quot;</td><td>0</td><td>&quot;06:00&quot;</td><td>&quot;23:45&quot;</td><td>7</td><td>22</td><td>false</td><td>&quot;LA&quot;</td><td>&quot;N&quot;</td><td>327</td></tr><tr><td>&quot;2024-03-26&quot;</td><td>&quot;2024-03-26 22:…</td><td>2149</td><td>&quot;174&quot;</td><td>51023</td><td>-3.670754</td><td>40.488775</td><td>0</td><td>8368</td><td>&quot;VALDEBEBAS&quot;</td><td>0</td><td>&quot;06:00&quot;</td><td>&quot;23:45&quot;</td><td>7</td><td>22</td><td>false</td><td>&quot;LA&quot;</td><td>&quot;N&quot;</td><td>1225</td></tr><tr><td>&quot;2024-03-26&quot;</td><td>&quot;2024-03-26 22:…</td><td>8830</td><td>&quot;171&quot;</td><td>51023</td><td>0.0</td><td>0.0</td><td>0</td><td>566</td><td>&quot;VALDEBEBAS&quot;</td><td>0</td><td>null</td><td>null</td><td>null</td><td>null</td><td>false</td><td>null</td><td>null</td><td>112</td></tr><tr><td>&quot;2024-03-26&quot;</td><td>&quot;2024-03-26 22:…</td><td>8831</td><td>&quot;171&quot;</td><td>51023</td><td>0.0</td><td>0.0</td><td>0</td><td>7799</td><td>&quot;VALDEBEBAS&quot;</td><td>0</td><td>null</td><td>null</td><td>null</td><td>null</td><td>false</td><td>null</td><td>null</td><td>1553</td></tr></tbody></table></div>"
      ],
      "text/plain": [
       "shape: (1_138_967, 19)\n",
       "┌────────────┬─────────────────┬──────┬──────┬───┬────────┬─────────┬────────┬────────────────┐\n",
       "│ date       ┆ datetime        ┆ bus  ┆ line ┆ … ┆ isHead ┆ dayType ┆ strike ┆ estimateArrive │\n",
       "│ ---        ┆ ---             ┆ ---  ┆ ---  ┆   ┆ ---    ┆ ---     ┆ ---    ┆ ---            │\n",
       "│ str        ┆ str             ┆ i64  ┆ str  ┆   ┆ bool   ┆ str     ┆ str    ┆ i64            │\n",
       "╞════════════╪═════════════════╪══════╪══════╪═══╪════════╪═════════╪════════╪════════════════╡\n",
       "│ 2024-03-26 ┆ 2024-03-26      ┆ 515  ┆ 27   ┆ … ┆ false  ┆ LA      ┆ N      ┆ 569            │\n",
       "│            ┆ 08:00:15.238807 ┆      ┆      ┆   ┆        ┆         ┆        ┆                │\n",
       "│ 2024-03-26 ┆ 2024-03-26      ┆ 537  ┆ 27   ┆ … ┆ false  ┆ LA      ┆ N      ┆ 586            │\n",
       "│            ┆ 08:00:15.238807 ┆      ┆      ┆   ┆        ┆         ┆        ┆                │\n",
       "│ 2024-03-26 ┆ 2024-03-26      ┆ 4851 ┆ 5    ┆ … ┆ false  ┆ null    ┆ null   ┆ 124            │\n",
       "│            ┆ 08:00:15.238807 ┆      ┆      ┆   ┆        ┆         ┆        ┆                │\n",
       "│ 2024-03-26 ┆ 2024-03-26      ┆ 4852 ┆ 5    ┆ … ┆ false  ┆ null    ┆ null   ┆ 961            │\n",
       "│            ┆ 08:00:15.238807 ┆      ┆      ┆   ┆        ┆         ┆        ┆                │\n",
       "│ 2024-03-26 ┆ 2024-03-26      ┆ 5637 ┆ 147  ┆ … ┆ false  ┆ null    ┆ null   ┆ 157            │\n",
       "│            ┆ 08:00:15.238807 ┆      ┆      ┆   ┆        ┆         ┆        ┆                │\n",
       "│ …          ┆ …               ┆ …    ┆ …    ┆ … ┆ …      ┆ …       ┆ …      ┆ …              │\n",
       "│ 2024-03-26 ┆ 2024-03-26      ┆ 8839 ┆ 171  ┆ … ┆ true   ┆ null    ┆ null   ┆ 999999         │\n",
       "│            ┆ 22:59:11.133581 ┆      ┆      ┆   ┆        ┆         ┆        ┆                │\n",
       "│ 2024-03-26 ┆ 2024-03-26      ┆ 2063 ┆ 174  ┆ … ┆ false  ┆ LA      ┆ N      ┆ 327            │\n",
       "│            ┆ 22:59:11.160010 ┆      ┆      ┆   ┆        ┆         ┆        ┆                │\n",
       "│ 2024-03-26 ┆ 2024-03-26      ┆ 2149 ┆ 174  ┆ … ┆ false  ┆ LA      ┆ N      ┆ 1225           │\n",
       "│            ┆ 22:59:11.160010 ┆      ┆      ┆   ┆        ┆         ┆        ┆                │\n",
       "│ 2024-03-26 ┆ 2024-03-26      ┆ 8830 ┆ 171  ┆ … ┆ false  ┆ null    ┆ null   ┆ 112            │\n",
       "│            ┆ 22:59:11.160010 ┆      ┆      ┆   ┆        ┆         ┆        ┆                │\n",
       "│ 2024-03-26 ┆ 2024-03-26      ┆ 8831 ┆ 171  ┆ … ┆ false  ┆ null    ┆ null   ┆ 1553           │\n",
       "│            ┆ 22:59:11.160010 ┆      ┆      ┆   ┆        ┆         ┆        ┆                │\n",
       "└────────────┴─────────────────┴──────┴──────┴───┴────────┴─────────┴────────┴────────────────┘"
      ]
     },
     "execution_count": 5,
     "metadata": {},
     "output_type": "execute_result"
    }
   ],
   "source": [
    "sample_data.collect()"
   ]
  },
  {
   "cell_type": "markdown",
   "metadata": {},
   "source": [
    "# Variables numéricas"
   ]
  },
  {
   "cell_type": "code",
   "execution_count": 6,
   "metadata": {},
   "outputs": [
    {
     "data": {
      "text/html": [
       "<div><style>\n",
       ".dataframe > thead > tr,\n",
       ".dataframe > tbody > tr {\n",
       "  text-align: right;\n",
       "  white-space: pre-wrap;\n",
       "}\n",
       "</style>\n",
       "<small>shape: (5, 10)</small><table border=\"1\" class=\"dataframe\"><thead><tr><th>bus</th><th>stop</th><th>positionBusLon</th><th>positionBusLat</th><th>positionTypeBus</th><th>DistanceBus</th><th>deviation</th><th>MinimunFrequency</th><th>MaximumFrequency</th><th>estimateArrive</th></tr><tr><td>i64</td><td>i64</td><td>f64</td><td>f64</td><td>i64</td><td>i64</td><td>i64</td><td>i64</td><td>i64</td><td>i64</td></tr></thead><tbody><tr><td>515</td><td>29</td><td>-3.690684</td><td>40.446013</td><td>0</td><td>1973</td><td>0</td><td>3</td><td>12</td><td>569</td></tr><tr><td>537</td><td>29</td><td>-3.69115</td><td>40.44098</td><td>0</td><td>2497</td><td>0</td><td>3</td><td>12</td><td>586</td></tr><tr><td>4851</td><td>29</td><td>-3.689987</td><td>40.45582</td><td>0</td><td>688</td><td>0</td><td>null</td><td>null</td><td>124</td></tr><tr><td>4852</td><td>29</td><td>-3.692056</td><td>40.435094</td><td>0</td><td>3948</td><td>0</td><td>null</td><td>null</td><td>961</td></tr><tr><td>5637</td><td>29</td><td>-3.69001</td><td>40.455671</td><td>0</td><td>710</td><td>0</td><td>null</td><td>null</td><td>157</td></tr></tbody></table></div>"
      ],
      "text/plain": [
       "shape: (5, 10)\n",
       "┌──────┬──────┬─────────────┬─────────────┬───┬───────────┬─────────────┬─────────────┬────────────┐\n",
       "│ bus  ┆ stop ┆ positionBus ┆ positionBus ┆ … ┆ deviation ┆ MinimunFreq ┆ MaximumFreq ┆ estimateAr │\n",
       "│ ---  ┆ ---  ┆ Lon         ┆ Lat         ┆   ┆ ---       ┆ uency       ┆ uency       ┆ rive       │\n",
       "│ i64  ┆ i64  ┆ ---         ┆ ---         ┆   ┆ i64       ┆ ---         ┆ ---         ┆ ---        │\n",
       "│      ┆      ┆ f64         ┆ f64         ┆   ┆           ┆ i64         ┆ i64         ┆ i64        │\n",
       "╞══════╪══════╪═════════════╪═════════════╪═══╪═══════════╪═════════════╪═════════════╪════════════╡\n",
       "│ 515  ┆ 29   ┆ -3.690684   ┆ 40.446013   ┆ … ┆ 0         ┆ 3           ┆ 12          ┆ 569        │\n",
       "│ 537  ┆ 29   ┆ -3.69115    ┆ 40.44098    ┆ … ┆ 0         ┆ 3           ┆ 12          ┆ 586        │\n",
       "│ 4851 ┆ 29   ┆ -3.689987   ┆ 40.45582    ┆ … ┆ 0         ┆ null        ┆ null        ┆ 124        │\n",
       "│ 4852 ┆ 29   ┆ -3.692056   ┆ 40.435094   ┆ … ┆ 0         ┆ null        ┆ null        ┆ 961        │\n",
       "│ 5637 ┆ 29   ┆ -3.69001    ┆ 40.455671   ┆ … ┆ 0         ┆ null        ┆ null        ┆ 157        │\n",
       "└──────┴──────┴─────────────┴─────────────┴───┴───────────┴─────────────┴─────────────┴────────────┘"
      ]
     },
     "execution_count": 6,
     "metadata": {},
     "output_type": "execute_result"
    }
   ],
   "source": [
    "sample_data.select(cs.numeric()).head().collect()"
   ]
  },
  {
   "cell_type": "markdown",
   "metadata": {},
   "source": [
    "# Variables categóricas"
   ]
  },
  {
   "cell_type": "code",
   "execution_count": 7,
   "metadata": {},
   "outputs": [
    {
     "data": {
      "text/html": [
       "<div><style>\n",
       ".dataframe > thead > tr,\n",
       ".dataframe > tbody > tr {\n",
       "  text-align: right;\n",
       "  white-space: pre-wrap;\n",
       "}\n",
       "</style>\n",
       "<small>shape: (5, 8)</small><table border=\"1\" class=\"dataframe\"><thead><tr><th>date</th><th>datetime</th><th>line</th><th>destination</th><th>StartTime</th><th>StopTime</th><th>dayType</th><th>strike</th></tr><tr><td>str</td><td>str</td><td>str</td><td>str</td><td>str</td><td>str</td><td>str</td><td>str</td></tr></thead><tbody><tr><td>&quot;2024-03-26&quot;</td><td>&quot;2024-03-26 08:…</td><td>&quot;27&quot;</td><td>&quot;PLAZA CASTILLA…</td><td>&quot;05:55&quot;</td><td>&quot;23:30&quot;</td><td>&quot;LA&quot;</td><td>&quot;N&quot;</td></tr><tr><td>&quot;2024-03-26&quot;</td><td>&quot;2024-03-26 08:…</td><td>&quot;27&quot;</td><td>&quot;PLAZA CASTILLA…</td><td>&quot;05:55&quot;</td><td>&quot;23:30&quot;</td><td>&quot;LA&quot;</td><td>&quot;N&quot;</td></tr><tr><td>&quot;2024-03-26&quot;</td><td>&quot;2024-03-26 08:…</td><td>&quot;5&quot;</td><td>&quot;CHAMARTIN&quot;</td><td>null</td><td>null</td><td>null</td><td>null</td></tr><tr><td>&quot;2024-03-26&quot;</td><td>&quot;2024-03-26 08:…</td><td>&quot;5&quot;</td><td>&quot;CHAMARTIN&quot;</td><td>null</td><td>null</td><td>null</td><td>null</td></tr><tr><td>&quot;2024-03-26&quot;</td><td>&quot;2024-03-26 08:…</td><td>&quot;147&quot;</td><td>&quot;BARRIO DEL PIL…</td><td>null</td><td>null</td><td>null</td><td>null</td></tr></tbody></table></div>"
      ],
      "text/plain": [
       "shape: (5, 8)\n",
       "┌────────────┬──────────────────┬──────┬─────────────────┬───────────┬──────────┬─────────┬────────┐\n",
       "│ date       ┆ datetime         ┆ line ┆ destination     ┆ StartTime ┆ StopTime ┆ dayType ┆ strike │\n",
       "│ ---        ┆ ---              ┆ ---  ┆ ---             ┆ ---       ┆ ---      ┆ ---     ┆ ---    │\n",
       "│ str        ┆ str              ┆ str  ┆ str             ┆ str       ┆ str      ┆ str     ┆ str    │\n",
       "╞════════════╪══════════════════╪══════╪═════════════════╪═══════════╪══════════╪═════════╪════════╡\n",
       "│ 2024-03-26 ┆ 2024-03-26       ┆ 27   ┆ PLAZA CASTILLA  ┆ 05:55     ┆ 23:30    ┆ LA      ┆ N      │\n",
       "│            ┆ 08:00:15.238807  ┆      ┆                 ┆           ┆          ┆         ┆        │\n",
       "│ 2024-03-26 ┆ 2024-03-26       ┆ 27   ┆ PLAZA CASTILLA  ┆ 05:55     ┆ 23:30    ┆ LA      ┆ N      │\n",
       "│            ┆ 08:00:15.238807  ┆      ┆                 ┆           ┆          ┆         ┆        │\n",
       "│ 2024-03-26 ┆ 2024-03-26       ┆ 5    ┆ CHAMARTIN       ┆ null      ┆ null     ┆ null    ┆ null   │\n",
       "│            ┆ 08:00:15.238807  ┆      ┆                 ┆           ┆          ┆         ┆        │\n",
       "│ 2024-03-26 ┆ 2024-03-26       ┆ 5    ┆ CHAMARTIN       ┆ null      ┆ null     ┆ null    ┆ null   │\n",
       "│            ┆ 08:00:15.238807  ┆      ┆                 ┆           ┆          ┆         ┆        │\n",
       "│ 2024-03-26 ┆ 2024-03-26       ┆ 147  ┆ BARRIO DEL      ┆ null      ┆ null     ┆ null    ┆ null   │\n",
       "│            ┆ 08:00:15.238807  ┆      ┆ PILAR           ┆           ┆          ┆         ┆        │\n",
       "└────────────┴──────────────────┴──────┴─────────────────┴───────────┴──────────┴─────────┴────────┘"
      ]
     },
     "execution_count": 7,
     "metadata": {},
     "output_type": "execute_result"
    }
   ],
   "source": [
    "sample_data.select(cs.string()).head().collect()"
   ]
  },
  {
   "cell_type": "markdown",
   "metadata": {},
   "source": [
    "# Preprocesamiento previo \n",
    "## 1. Creamos la PK"
   ]
  },
  {
   "cell_type": "code",
   "execution_count": 8,
   "metadata": {},
   "outputs": [
    {
     "data": {
      "text/html": [
       "<div><style>\n",
       ".dataframe > thead > tr,\n",
       ".dataframe > tbody > tr {\n",
       "  text-align: right;\n",
       "  white-space: pre-wrap;\n",
       "}\n",
       "</style>\n",
       "<small>shape: (5, 20)</small><table border=\"1\" class=\"dataframe\"><thead><tr><th>date</th><th>datetime</th><th>bus</th><th>line</th><th>stop</th><th>positionBusLon</th><th>positionBusLat</th><th>positionTypeBus</th><th>DistanceBus</th><th>destination</th><th>deviation</th><th>StartTime</th><th>StopTime</th><th>MinimunFrequency</th><th>MaximumFrequency</th><th>isHead</th><th>dayType</th><th>strike</th><th>estimateArrive</th><th>PK</th></tr><tr><td>str</td><td>str</td><td>i64</td><td>str</td><td>i64</td><td>f64</td><td>f64</td><td>i64</td><td>i64</td><td>str</td><td>i64</td><td>str</td><td>str</td><td>i64</td><td>i64</td><td>bool</td><td>str</td><td>str</td><td>i64</td><td>str</td></tr></thead><tbody><tr><td>&quot;2024-03-26&quot;</td><td>&quot;2024-03-26 08:…</td><td>515</td><td>&quot;27&quot;</td><td>29</td><td>-3.690684</td><td>40.446013</td><td>0</td><td>1973</td><td>&quot;PLAZA CASTILLA…</td><td>0</td><td>&quot;05:55&quot;</td><td>&quot;23:30&quot;</td><td>3</td><td>12</td><td>false</td><td>&quot;LA&quot;</td><td>&quot;N&quot;</td><td>569</td><td>&quot;2024-03-26 08:…</td></tr><tr><td>&quot;2024-03-26&quot;</td><td>&quot;2024-03-26 08:…</td><td>537</td><td>&quot;27&quot;</td><td>29</td><td>-3.69115</td><td>40.44098</td><td>0</td><td>2497</td><td>&quot;PLAZA CASTILLA…</td><td>0</td><td>&quot;05:55&quot;</td><td>&quot;23:30&quot;</td><td>3</td><td>12</td><td>false</td><td>&quot;LA&quot;</td><td>&quot;N&quot;</td><td>586</td><td>&quot;2024-03-26 08:…</td></tr><tr><td>&quot;2024-03-26&quot;</td><td>&quot;2024-03-26 08:…</td><td>4851</td><td>&quot;5&quot;</td><td>29</td><td>-3.689987</td><td>40.45582</td><td>0</td><td>688</td><td>&quot;CHAMARTIN&quot;</td><td>0</td><td>null</td><td>null</td><td>null</td><td>null</td><td>false</td><td>null</td><td>null</td><td>124</td><td>&quot;2024-03-26 08:…</td></tr><tr><td>&quot;2024-03-26&quot;</td><td>&quot;2024-03-26 08:…</td><td>4852</td><td>&quot;5&quot;</td><td>29</td><td>-3.692056</td><td>40.435094</td><td>0</td><td>3948</td><td>&quot;CHAMARTIN&quot;</td><td>0</td><td>null</td><td>null</td><td>null</td><td>null</td><td>false</td><td>null</td><td>null</td><td>961</td><td>&quot;2024-03-26 08:…</td></tr><tr><td>&quot;2024-03-26&quot;</td><td>&quot;2024-03-26 08:…</td><td>5637</td><td>&quot;147&quot;</td><td>29</td><td>-3.69001</td><td>40.455671</td><td>0</td><td>710</td><td>&quot;BARRIO DEL PIL…</td><td>0</td><td>null</td><td>null</td><td>null</td><td>null</td><td>false</td><td>null</td><td>null</td><td>157</td><td>&quot;2024-03-26 08:…</td></tr></tbody></table></div>"
      ],
      "text/plain": [
       "shape: (5, 20)\n",
       "┌────────────┬────────────────┬──────┬──────┬───┬─────────┬────────┬───────────────┬───────────────┐\n",
       "│ date       ┆ datetime       ┆ bus  ┆ line ┆ … ┆ dayType ┆ strike ┆ estimateArriv ┆ PK            │\n",
       "│ ---        ┆ ---            ┆ ---  ┆ ---  ┆   ┆ ---     ┆ ---    ┆ e             ┆ ---           │\n",
       "│ str        ┆ str            ┆ i64  ┆ str  ┆   ┆ str     ┆ str    ┆ ---           ┆ str           │\n",
       "│            ┆                ┆      ┆      ┆   ┆         ┆        ┆ i64           ┆               │\n",
       "╞════════════╪════════════════╪══════╪══════╪═══╪═════════╪════════╪═══════════════╪═══════════════╡\n",
       "│ 2024-03-26 ┆ 2024-03-26 08: ┆ 515  ┆ 27   ┆ … ┆ LA      ┆ N      ┆ 569           ┆ 2024-03-26    │\n",
       "│            ┆ 00:15.238807   ┆      ┆      ┆   ┆         ┆        ┆               ┆ 08:00:15.2388 │\n",
       "│            ┆                ┆      ┆      ┆   ┆         ┆        ┆               ┆ 07_B515_…     │\n",
       "│ 2024-03-26 ┆ 2024-03-26 08: ┆ 537  ┆ 27   ┆ … ┆ LA      ┆ N      ┆ 586           ┆ 2024-03-26    │\n",
       "│            ┆ 00:15.238807   ┆      ┆      ┆   ┆         ┆        ┆               ┆ 08:00:15.2388 │\n",
       "│            ┆                ┆      ┆      ┆   ┆         ┆        ┆               ┆ 07_B537_…     │\n",
       "│ 2024-03-26 ┆ 2024-03-26 08: ┆ 4851 ┆ 5    ┆ … ┆ null    ┆ null   ┆ 124           ┆ 2024-03-26    │\n",
       "│            ┆ 00:15.238807   ┆      ┆      ┆   ┆         ┆        ┆               ┆ 08:00:15.2388 │\n",
       "│            ┆                ┆      ┆      ┆   ┆         ┆        ┆               ┆ 07_B4851…     │\n",
       "│ 2024-03-26 ┆ 2024-03-26 08: ┆ 4852 ┆ 5    ┆ … ┆ null    ┆ null   ┆ 961           ┆ 2024-03-26    │\n",
       "│            ┆ 00:15.238807   ┆      ┆      ┆   ┆         ┆        ┆               ┆ 08:00:15.2388 │\n",
       "│            ┆                ┆      ┆      ┆   ┆         ┆        ┆               ┆ 07_B4852…     │\n",
       "│ 2024-03-26 ┆ 2024-03-26 08: ┆ 5637 ┆ 147  ┆ … ┆ null    ┆ null   ┆ 157           ┆ 2024-03-26    │\n",
       "│            ┆ 00:15.238807   ┆      ┆      ┆   ┆         ┆        ┆               ┆ 08:00:15.2388 │\n",
       "│            ┆                ┆      ┆      ┆   ┆         ┆        ┆               ┆ 07_B5637…     │\n",
       "└────────────┴────────────────┴──────┴──────┴───┴─────────┴────────┴───────────────┴───────────────┘"
      ]
     },
     "execution_count": 8,
     "metadata": {},
     "output_type": "execute_result"
    }
   ],
   "source": [
    "sample_data = sample_data.with_columns((pl.col('datetime').cast(pl.String)+\"_B\"+pl.col('bus').cast(pl.String)+\"_L\"+ pl.col('line').cast(pl.String)+\"_S\"+pl.col('stop').cast(pl.String)).alias('PK'))\n",
    "sample_data.head().collect()"
   ]
  },
  {
   "cell_type": "markdown",
   "metadata": {},
   "source": [
    "### PK no única"
   ]
  },
  {
   "cell_type": "code",
   "execution_count": 9,
   "metadata": {},
   "outputs": [
    {
     "data": {
      "text/html": [
       "<div><style>\n",
       ".dataframe > thead > tr,\n",
       ".dataframe > tbody > tr {\n",
       "  text-align: right;\n",
       "  white-space: pre-wrap;\n",
       "}\n",
       "</style>\n",
       "<small>shape: (5, 2)</small><table border=\"1\" class=\"dataframe\"><thead><tr><th>PK</th><th>count</th></tr><tr><td>str</td><td>u32</td></tr></thead><tbody><tr><td>&quot;2024-03-26 22:…</td><td>2</td></tr><tr><td>&quot;2024-03-26 22:…</td><td>2</td></tr><tr><td>&quot;2024-03-26 22:…</td><td>2</td></tr><tr><td>&quot;2024-03-26 22:…</td><td>2</td></tr><tr><td>&quot;2024-03-26 22:…</td><td>2</td></tr></tbody></table></div>"
      ],
      "text/plain": [
       "shape: (5, 2)\n",
       "┌───────────────────────────────────┬───────┐\n",
       "│ PK                                ┆ count │\n",
       "│ ---                               ┆ ---   │\n",
       "│ str                               ┆ u32   │\n",
       "╞═══════════════════════════════════╪═══════╡\n",
       "│ 2024-03-26 22:55:11.643101_B5756… ┆ 2     │\n",
       "│ 2024-03-26 22:58:10.771131_B5756… ┆ 2     │\n",
       "│ 2024-03-26 22:53:08.781503_B5426… ┆ 2     │\n",
       "│ 2024-03-26 22:53:10.441091_B5426… ┆ 2     │\n",
       "│ 2024-03-26 22:54:09.567374_B5756… ┆ 2     │\n",
       "└───────────────────────────────────┴───────┘"
      ]
     },
     "execution_count": 9,
     "metadata": {},
     "output_type": "execute_result"
    }
   ],
   "source": [
    "sample_data.group_by(pl.col('PK')).count().sort('count',descending = True).head().collect()"
   ]
  },
  {
   "cell_type": "markdown",
   "metadata": {},
   "source": [
    "## 2. Eliminamos los valores incorrectos `estimateArrive` "
   ]
  },
  {
   "cell_type": "code",
   "execution_count": 10,
   "metadata": {},
   "outputs": [
    {
     "data": {
      "text/html": [
       "<div><style>\n",
       ".dataframe > thead > tr,\n",
       ".dataframe > tbody > tr {\n",
       "  text-align: right;\n",
       "  white-space: pre-wrap;\n",
       "}\n",
       "</style>\n",
       "<small>shape: (5, 2)</small><table border=\"1\" class=\"dataframe\"><thead><tr><th>estimateArrive</th><th>count</th></tr><tr><td>i64</td><td>u32</td></tr></thead><tbody><tr><td>999999</td><td>2586</td></tr><tr><td>888888</td><td>292</td></tr><tr><td>5395</td><td>1</td></tr><tr><td>5390</td><td>1</td></tr><tr><td>5385</td><td>1</td></tr></tbody></table></div>"
      ],
      "text/plain": [
       "shape: (5, 2)\n",
       "┌────────────────┬───────┐\n",
       "│ estimateArrive ┆ count │\n",
       "│ ---            ┆ ---   │\n",
       "│ i64            ┆ u32   │\n",
       "╞════════════════╪═══════╡\n",
       "│ 999999         ┆ 2586  │\n",
       "│ 888888         ┆ 292   │\n",
       "│ 5395           ┆ 1     │\n",
       "│ 5390           ┆ 1     │\n",
       "│ 5385           ┆ 1     │\n",
       "└────────────────┴───────┘"
      ]
     },
     "execution_count": 10,
     "metadata": {},
     "output_type": "execute_result"
    }
   ],
   "source": [
    "sample_data.group_by(pl.col('estimateArrive')).count().sort('estimateArrive',descending=True).head().collect()"
   ]
  },
  {
   "cell_type": "markdown",
   "metadata": {},
   "source": [
    "Filtramos por un ETA < 40 minutos ya que a más tiempo es un valor por defecto poco fiable"
   ]
  },
  {
   "cell_type": "code",
   "execution_count": 11,
   "metadata": {},
   "outputs": [],
   "source": [
    "sample_data = sample_data.filter(pl.col('estimateArrive')<888888)"
   ]
  },
  {
   "cell_type": "markdown",
   "metadata": {},
   "source": [
    "### Comprobamos que la PK es única"
   ]
  },
  {
   "cell_type": "code",
   "execution_count": 12,
   "metadata": {},
   "outputs": [
    {
     "data": {
      "text/html": [
       "<div><style>\n",
       ".dataframe > thead > tr,\n",
       ".dataframe > tbody > tr {\n",
       "  text-align: right;\n",
       "  white-space: pre-wrap;\n",
       "}\n",
       "</style>\n",
       "<small>shape: (5, 2)</small><table border=\"1\" class=\"dataframe\"><thead><tr><th>PK</th><th>count</th></tr><tr><td>str</td><td>u32</td></tr></thead><tbody><tr><td>&quot;2024-03-26 21:…</td><td>2</td></tr><tr><td>&quot;2024-03-26 22:…</td><td>2</td></tr><tr><td>&quot;2024-03-26 13:…</td><td>2</td></tr><tr><td>&quot;2024-03-26 19:…</td><td>1</td></tr><tr><td>&quot;2024-03-26 21:…</td><td>1</td></tr></tbody></table></div>"
      ],
      "text/plain": [
       "shape: (5, 2)\n",
       "┌───────────────────────────────────┬───────┐\n",
       "│ PK                                ┆ count │\n",
       "│ ---                               ┆ ---   │\n",
       "│ str                               ┆ u32   │\n",
       "╞═══════════════════════════════════╪═══════╡\n",
       "│ 2024-03-26 21:38:08.256497_B2339… ┆ 2     │\n",
       "│ 2024-03-26 22:42:08.384691_B2541… ┆ 2     │\n",
       "│ 2024-03-26 13:13:06.158991_B2137… ┆ 2     │\n",
       "│ 2024-03-26 19:14:07.898743_B2330… ┆ 1     │\n",
       "│ 2024-03-26 21:29:06.002596_B2550… ┆ 1     │\n",
       "└───────────────────────────────────┴───────┘"
      ]
     },
     "execution_count": 12,
     "metadata": {},
     "output_type": "execute_result"
    }
   ],
   "source": [
    "sample_data.group_by(pl.col('PK')).count().sort('count',descending = True).head().collect()"
   ]
  },
  {
   "cell_type": "markdown",
   "metadata": {},
   "source": [
    "Sigue habiendo datos duplicados, por lo que para esos casos, cogeremos el que tenga menor ETA"
   ]
  },
  {
   "cell_type": "code",
   "execution_count": 13,
   "metadata": {},
   "outputs": [
    {
     "data": {
      "text/html": [
       "<div><style>\n",
       ".dataframe > thead > tr,\n",
       ".dataframe > tbody > tr {\n",
       "  text-align: right;\n",
       "  white-space: pre-wrap;\n",
       "}\n",
       "</style>\n",
       "<small>shape: (5, 20)</small><table border=\"1\" class=\"dataframe\"><thead><tr><th>PK</th><th>date</th><th>datetime</th><th>bus</th><th>line</th><th>stop</th><th>positionBusLon</th><th>positionBusLat</th><th>positionTypeBus</th><th>DistanceBus</th><th>destination</th><th>deviation</th><th>StartTime</th><th>StopTime</th><th>MinimunFrequency</th><th>MaximumFrequency</th><th>isHead</th><th>dayType</th><th>strike</th><th>estimateArrive</th></tr><tr><td>str</td><td>str</td><td>str</td><td>i64</td><td>str</td><td>i64</td><td>f64</td><td>f64</td><td>i64</td><td>i64</td><td>str</td><td>i64</td><td>str</td><td>str</td><td>i64</td><td>i64</td><td>bool</td><td>str</td><td>str</td><td>i64</td></tr></thead><tbody><tr><td>&quot;2024-03-26 08:…</td><td>&quot;2024-03-26&quot;</td><td>&quot;2024-03-26 08:…</td><td>5557</td><td>&quot;124&quot;</td><td>1489</td><td>-3.702846</td><td>40.453513</td><td>0</td><td>1680</td><td>&quot;LACOMA&quot;</td><td>0</td><td>null</td><td>null</td><td>null</td><td>null</td><td>false</td><td>null</td><td>null</td><td>530</td></tr><tr><td>&quot;2024-03-26 11:…</td><td>&quot;2024-03-26&quot;</td><td>&quot;2024-03-26 11:…</td><td>2495</td><td>&quot;173&quot;</td><td>3261</td><td>-3.688148</td><td>40.471312</td><td>0</td><td>4805</td><td>&quot;SANCHINARRO&quot;</td><td>0</td><td>&quot;06:00&quot;</td><td>&quot;23:45&quot;</td><td>7</td><td>21</td><td>false</td><td>&quot;LA&quot;</td><td>&quot;N&quot;</td><td>1035</td></tr><tr><td>&quot;2024-03-26 16:…</td><td>&quot;2024-03-26&quot;</td><td>&quot;2024-03-26 16:…</td><td>8828</td><td>&quot;9&quot;</td><td>1846</td><td>-3.67174</td><td>40.44559</td><td>0</td><td>3971</td><td>&quot;HORTALEZA&quot;</td><td>0</td><td>null</td><td>null</td><td>null</td><td>null</td><td>false</td><td>null</td><td>null</td><td>1419</td></tr><tr><td>&quot;2024-03-26 21:…</td><td>&quot;2024-03-26&quot;</td><td>&quot;2024-03-26 21:…</td><td>3272</td><td>&quot;11&quot;</td><td>224</td><td>-3.705294</td><td>40.464001</td><td>0</td><td>5023</td><td>&quot;BARRIO BLANCO&quot;</td><td>0</td><td>null</td><td>null</td><td>null</td><td>null</td><td>false</td><td>null</td><td>null</td><td>1386</td></tr><tr><td>&quot;2024-03-26 21:…</td><td>&quot;2024-03-26&quot;</td><td>&quot;2024-03-26 21:…</td><td>5551</td><td>&quot;42&quot;</td><td>1501</td><td>-3.695603</td><td>40.469574</td><td>0</td><td>1742</td><td>&quot;BARRIO PEÑAGRA…</td><td>0</td><td>&quot;06:00&quot;</td><td>&quot;23:45&quot;</td><td>7</td><td>24</td><td>false</td><td>&quot;LA&quot;</td><td>&quot;N&quot;</td><td>535</td></tr></tbody></table></div>"
      ],
      "text/plain": [
       "shape: (5, 20)\n",
       "┌───────────────┬────────────┬───────────────┬──────┬───┬────────┬─────────┬────────┬──────────────┐\n",
       "│ PK            ┆ date       ┆ datetime      ┆ bus  ┆ … ┆ isHead ┆ dayType ┆ strike ┆ estimateArri │\n",
       "│ ---           ┆ ---        ┆ ---           ┆ ---  ┆   ┆ ---    ┆ ---     ┆ ---    ┆ ve           │\n",
       "│ str           ┆ str        ┆ str           ┆ i64  ┆   ┆ bool   ┆ str     ┆ str    ┆ ---          │\n",
       "│               ┆            ┆               ┆      ┆   ┆        ┆         ┆        ┆ i64          │\n",
       "╞═══════════════╪════════════╪═══════════════╪══════╪═══╪════════╪═════════╪════════╪══════════════╡\n",
       "│ 2024-03-26    ┆ 2024-03-26 ┆ 2024-03-26    ┆ 5557 ┆ … ┆ false  ┆ null    ┆ null   ┆ 530          │\n",
       "│ 08:28:06.0221 ┆            ┆ 08:28:06.0221 ┆      ┆   ┆        ┆         ┆        ┆              │\n",
       "│ 72_B5557…     ┆            ┆ 72            ┆      ┆   ┆        ┆         ┆        ┆              │\n",
       "│ 2024-03-26    ┆ 2024-03-26 ┆ 2024-03-26    ┆ 2495 ┆ … ┆ false  ┆ LA      ┆ N      ┆ 1035         │\n",
       "│ 11:32:09.3343 ┆            ┆ 11:32:09.3343 ┆      ┆   ┆        ┆         ┆        ┆              │\n",
       "│ 82_B2495…     ┆            ┆ 82            ┆      ┆   ┆        ┆         ┆        ┆              │\n",
       "│ 2024-03-26    ┆ 2024-03-26 ┆ 2024-03-26    ┆ 8828 ┆ … ┆ false  ┆ null    ┆ null   ┆ 1419         │\n",
       "│ 16:10:08.0650 ┆            ┆ 16:10:08.0650 ┆      ┆   ┆        ┆         ┆        ┆              │\n",
       "│ 83_B8828…     ┆            ┆ 83            ┆      ┆   ┆        ┆         ┆        ┆              │\n",
       "│ 2024-03-26    ┆ 2024-03-26 ┆ 2024-03-26    ┆ 3272 ┆ … ┆ false  ┆ null    ┆ null   ┆ 1386         │\n",
       "│ 21:03:06.0842 ┆            ┆ 21:03:06.0842 ┆      ┆   ┆        ┆         ┆        ┆              │\n",
       "│ 15_B3272…     ┆            ┆ 15            ┆      ┆   ┆        ┆         ┆        ┆              │\n",
       "│ 2024-03-26    ┆ 2024-03-26 ┆ 2024-03-26    ┆ 5551 ┆ … ┆ false  ┆ LA      ┆ N      ┆ 535          │\n",
       "│ 21:35:06.2187 ┆            ┆ 21:35:06.2187 ┆      ┆   ┆        ┆         ┆        ┆              │\n",
       "│ 34_B5551…     ┆            ┆ 34            ┆      ┆   ┆        ┆         ┆        ┆              │\n",
       "└───────────────┴────────────┴───────────────┴──────┴───┴────────┴─────────┴────────┴──────────────┘"
      ]
     },
     "execution_count": 13,
     "metadata": {},
     "output_type": "execute_result"
    }
   ],
   "source": [
    "sample_data = sample_data.group_by('PK').min()\n",
    "\n",
    "sample_data.head().collect()"
   ]
  },
  {
   "cell_type": "code",
   "execution_count": 14,
   "metadata": {},
   "outputs": [
    {
     "data": {
      "text/html": [
       "<div><style>\n",
       ".dataframe > thead > tr,\n",
       ".dataframe > tbody > tr {\n",
       "  text-align: right;\n",
       "  white-space: pre-wrap;\n",
       "}\n",
       "</style>\n",
       "<small>shape: (5, 2)</small><table border=\"1\" class=\"dataframe\"><thead><tr><th>PK</th><th>count</th></tr><tr><td>str</td><td>u32</td></tr></thead><tbody><tr><td>&quot;2024-03-26 22:…</td><td>1</td></tr><tr><td>&quot;2024-03-26 09:…</td><td>1</td></tr><tr><td>&quot;2024-03-26 13:…</td><td>1</td></tr><tr><td>&quot;2024-03-26 11:…</td><td>1</td></tr><tr><td>&quot;2024-03-26 14:…</td><td>1</td></tr></tbody></table></div>"
      ],
      "text/plain": [
       "shape: (5, 2)\n",
       "┌───────────────────────────────────┬───────┐\n",
       "│ PK                                ┆ count │\n",
       "│ ---                               ┆ ---   │\n",
       "│ str                               ┆ u32   │\n",
       "╞═══════════════════════════════════╪═══════╡\n",
       "│ 2024-03-26 22:58:06.145086_B580_… ┆ 1     │\n",
       "│ 2024-03-26 09:37:07.786371_B8857… ┆ 1     │\n",
       "│ 2024-03-26 13:02:08.951744_B4860… ┆ 1     │\n",
       "│ 2024-03-26 11:38:06.636608_B2048… ┆ 1     │\n",
       "│ 2024-03-26 14:02:07.315044_B2295… ┆ 1     │\n",
       "└───────────────────────────────────┴───────┘"
      ]
     },
     "execution_count": 14,
     "metadata": {},
     "output_type": "execute_result"
    }
   ],
   "source": [
    "sample_data.group_by('PK').count().sort('count',descending=True).head().collect()"
   ]
  },
  {
   "cell_type": "markdown",
   "metadata": {},
   "source": [
    "## 3. Matriz de confusión"
   ]
  },
  {
   "cell_type": "markdown",
   "metadata": {},
   "source": [
    "### Pasamos `datetime` a formato fecha"
   ]
  },
  {
   "cell_type": "code",
   "execution_count": 15,
   "metadata": {},
   "outputs": [],
   "source": [
    "sample_data = sample_data.with_columns(pl.col('datetime').map_elements(lambda x: datetime.strptime(x, \"%Y-%m-%d %H:%M:%S.%f\")))"
   ]
  },
  {
   "cell_type": "markdown",
   "metadata": {},
   "source": [
    "### Pasamos `date` a formato fecha"
   ]
  },
  {
   "cell_type": "code",
   "execution_count": 16,
   "metadata": {},
   "outputs": [],
   "source": [
    "sample_data = sample_data.with_columns(pl.col(\"date\").cast(pl.Date))"
   ]
  },
  {
   "cell_type": "markdown",
   "metadata": {},
   "source": [
    "### Pasamos las variables `bus` y `stop` a categóricas"
   ]
  },
  {
   "cell_type": "code",
   "execution_count": 21,
   "metadata": {},
   "outputs": [],
   "source": [
    "sample_data = sample_data.with_columns(pl.col('bus').cast(pl.String),pl.col('stop').cast(pl.String))"
   ]
  },
  {
   "cell_type": "markdown",
   "metadata": {},
   "source": [
    "### Pasamos la variable `isHead` a numérica"
   ]
  },
  {
   "cell_type": "code",
   "execution_count": 22,
   "metadata": {},
   "outputs": [],
   "source": [
    "sample_data = sample_data.with_columns(pl.col('isHead').cast(pl.UInt8))"
   ]
  },
  {
   "cell_type": "code",
   "execution_count": 23,
   "metadata": {},
   "outputs": [
    {
     "data": {
      "text/html": [
       "<div><style>\n",
       ".dataframe > thead > tr,\n",
       ".dataframe > tbody > tr {\n",
       "  text-align: right;\n",
       "  white-space: pre-wrap;\n",
       "}\n",
       "</style>\n",
       "<small>shape: (5, 20)</small><table border=\"1\" class=\"dataframe\"><thead><tr><th>PK</th><th>date</th><th>datetime</th><th>bus</th><th>line</th><th>stop</th><th>positionBusLon</th><th>positionBusLat</th><th>positionTypeBus</th><th>DistanceBus</th><th>destination</th><th>deviation</th><th>StartTime</th><th>StopTime</th><th>MinimunFrequency</th><th>MaximumFrequency</th><th>isHead</th><th>dayType</th><th>strike</th><th>estimateArrive</th></tr><tr><td>str</td><td>date</td><td>datetime[μs]</td><td>str</td><td>str</td><td>str</td><td>f64</td><td>f64</td><td>i64</td><td>i64</td><td>str</td><td>i64</td><td>str</td><td>str</td><td>i64</td><td>i64</td><td>u8</td><td>str</td><td>str</td><td>i64</td></tr></thead><tbody><tr><td>&quot;2024-03-26 16:…</td><td>2024-03-26</td><td>2024-03-26 16:43:07.030452</td><td>&quot;115&quot;</td><td>&quot;C03&quot;</td><td>&quot;72&quot;</td><td>-3.692692</td><td>40.412195</td><td>0</td><td>671</td><td>&quot;ARGÜELLES&quot;</td><td>0</td><td>null</td><td>null</td><td>null</td><td>null</td><td>0</td><td>null</td><td>null</td><td>198</td></tr><tr><td>&quot;2024-03-26 22:…</td><td>2024-03-26</td><td>2024-03-26 22:49:06.056967</td><td>&quot;2591&quot;</td><td>&quot;150&quot;</td><td>&quot;42&quot;</td><td>-3.693005</td><td>40.419091</td><td>0</td><td>3413</td><td>&quot;VIRGEN CORTIJO…</td><td>3571</td><td>null</td><td>null</td><td>null</td><td>null</td><td>0</td><td>null</td><td>null</td><td>658</td></tr><tr><td>&quot;2024-03-26 13:…</td><td>2024-03-26</td><td>2024-03-26 13:22:08.248714</td><td>&quot;2063&quot;</td><td>&quot;174&quot;</td><td>&quot;3253&quot;</td><td>-3.675717</td><td>40.482236</td><td>0</td><td>4160</td><td>&quot;VALDEBEBAS&quot;</td><td>0</td><td>&quot;06:00&quot;</td><td>&quot;23:45&quot;</td><td>7</td><td>22</td><td>0</td><td>&quot;LA&quot;</td><td>&quot;N&quot;</td><td>1062</td></tr><tr><td>&quot;2024-03-26 12:…</td><td>2024-03-26</td><td>2024-03-26 12:37:06.911218</td><td>&quot;5663&quot;</td><td>&quot;40&quot;</td><td>&quot;37&quot;</td><td>-3.690147</td><td>40.454252</td><td>0</td><td>0</td><td>&quot;ALFONSO XIII&quot;</td><td>0</td><td>null</td><td>null</td><td>null</td><td>null</td><td>0</td><td>null</td><td>null</td><td>0</td></tr><tr><td>&quot;2024-03-26 11:…</td><td>2024-03-26</td><td>2024-03-26 11:33:09.567141</td><td>&quot;2340&quot;</td><td>&quot;135&quot;</td><td>&quot;5604&quot;</td><td>-3.688159</td><td>40.471268</td><td>0</td><td>182</td><td>&quot;HOSPITAL RAMON…</td><td>0</td><td>&quot;06:30&quot;</td><td>&quot;23:45&quot;</td><td>9</td><td>29</td><td>1</td><td>&quot;LA&quot;</td><td>&quot;N&quot;</td><td>229</td></tr></tbody></table></div>"
      ],
      "text/plain": [
       "shape: (5, 20)\n",
       "┌───────────────┬────────────┬───────────────┬──────┬───┬────────┬─────────┬────────┬──────────────┐\n",
       "│ PK            ┆ date       ┆ datetime      ┆ bus  ┆ … ┆ isHead ┆ dayType ┆ strike ┆ estimateArri │\n",
       "│ ---           ┆ ---        ┆ ---           ┆ ---  ┆   ┆ ---    ┆ ---     ┆ ---    ┆ ve           │\n",
       "│ str           ┆ date       ┆ datetime[μs]  ┆ str  ┆   ┆ u8     ┆ str     ┆ str    ┆ ---          │\n",
       "│               ┆            ┆               ┆      ┆   ┆        ┆         ┆        ┆ i64          │\n",
       "╞═══════════════╪════════════╪═══════════════╪══════╪═══╪════════╪═════════╪════════╪══════════════╡\n",
       "│ 2024-03-26    ┆ 2024-03-26 ┆ 2024-03-26    ┆ 115  ┆ … ┆ 0      ┆ null    ┆ null   ┆ 198          │\n",
       "│ 16:43:07.0304 ┆            ┆ 16:43:07.0304 ┆      ┆   ┆        ┆         ┆        ┆              │\n",
       "│ 52_B115_…     ┆            ┆ 52            ┆      ┆   ┆        ┆         ┆        ┆              │\n",
       "│ 2024-03-26    ┆ 2024-03-26 ┆ 2024-03-26    ┆ 2591 ┆ … ┆ 0      ┆ null    ┆ null   ┆ 658          │\n",
       "│ 22:49:06.0569 ┆            ┆ 22:49:06.0569 ┆      ┆   ┆        ┆         ┆        ┆              │\n",
       "│ 67_B2591…     ┆            ┆ 67            ┆      ┆   ┆        ┆         ┆        ┆              │\n",
       "│ 2024-03-26    ┆ 2024-03-26 ┆ 2024-03-26    ┆ 2063 ┆ … ┆ 0      ┆ LA      ┆ N      ┆ 1062         │\n",
       "│ 13:22:08.2487 ┆            ┆ 13:22:08.2487 ┆      ┆   ┆        ┆         ┆        ┆              │\n",
       "│ 14_B2063…     ┆            ┆ 14            ┆      ┆   ┆        ┆         ┆        ┆              │\n",
       "│ 2024-03-26    ┆ 2024-03-26 ┆ 2024-03-26    ┆ 5663 ┆ … ┆ 0      ┆ null    ┆ null   ┆ 0            │\n",
       "│ 12:37:06.9112 ┆            ┆ 12:37:06.9112 ┆      ┆   ┆        ┆         ┆        ┆              │\n",
       "│ 18_B5663…     ┆            ┆ 18            ┆      ┆   ┆        ┆         ┆        ┆              │\n",
       "│ 2024-03-26    ┆ 2024-03-26 ┆ 2024-03-26    ┆ 2340 ┆ … ┆ 1      ┆ LA      ┆ N      ┆ 229          │\n",
       "│ 11:33:09.5671 ┆            ┆ 11:33:09.5671 ┆      ┆   ┆        ┆         ┆        ┆              │\n",
       "│ 41_B2340…     ┆            ┆ 41            ┆      ┆   ┆        ┆         ┆        ┆              │\n",
       "└───────────────┴────────────┴───────────────┴──────┴───┴────────┴─────────┴────────┴──────────────┘"
      ]
     },
     "execution_count": 23,
     "metadata": {},
     "output_type": "execute_result"
    }
   ],
   "source": [
    "sample_data.head().collect()"
   ]
  },
  {
   "cell_type": "code",
   "execution_count": 24,
   "metadata": {},
   "outputs": [],
   "source": [
    "numeric_var = ['bus', 'line','stop',\n",
    " 'positionBusLon',\n",
    " 'positionBusLat',\n",
    " 'DistanceBus',\n",
    " 'deviation',\n",
    " 'MinimunFrequency',\n",
    " 'MaximumFrequency',\n",
    " 'isHead',\n",
    " 'estimateArrive',]"
   ]
  },
  {
   "cell_type": "code",
   "execution_count": 25,
   "metadata": {},
   "outputs": [],
   "source": [
    "sample_data_df = sample_data.collect()"
   ]
  },
  {
   "cell_type": "code",
   "execution_count": 26,
   "metadata": {},
   "outputs": [],
   "source": [
    "matrix = [[0] * len(numeric_var) for _ in range(len(numeric_var))]\n",
    "for i in range(0,len(numeric_var)):\n",
    "    for j in range(0,len(numeric_var)):\n",
    "        matrix[i][j] = sample_data_df.select(pl.corr(numeric_var[i],numeric_var[j])).item()"
   ]
  },
  {
   "cell_type": "code",
   "execution_count": 27,
   "metadata": {},
   "outputs": [],
   "source": [
    "matrix_corr = pd.DataFrame(matrix, columns=numeric_var,index=numeric_var).apply(lambda col: col.round(4))"
   ]
  },
  {
   "cell_type": "code",
   "execution_count": 28,
   "metadata": {},
   "outputs": [
    {
     "data": {
      "text/html": [
       "<div>\n",
       "<style scoped>\n",
       "    .dataframe tbody tr th:only-of-type {\n",
       "        vertical-align: middle;\n",
       "    }\n",
       "\n",
       "    .dataframe tbody tr th {\n",
       "        vertical-align: top;\n",
       "    }\n",
       "\n",
       "    .dataframe thead th {\n",
       "        text-align: right;\n",
       "    }\n",
       "</style>\n",
       "<table border=\"1\" class=\"dataframe\">\n",
       "  <thead>\n",
       "    <tr style=\"text-align: right;\">\n",
       "      <th></th>\n",
       "      <th>bus</th>\n",
       "      <th>line</th>\n",
       "      <th>stop</th>\n",
       "      <th>positionBusLon</th>\n",
       "      <th>positionBusLat</th>\n",
       "      <th>DistanceBus</th>\n",
       "      <th>deviation</th>\n",
       "      <th>MinimunFrequency</th>\n",
       "      <th>MaximumFrequency</th>\n",
       "      <th>isHead</th>\n",
       "      <th>estimateArrive</th>\n",
       "    </tr>\n",
       "  </thead>\n",
       "  <tbody>\n",
       "    <tr>\n",
       "      <th>bus</th>\n",
       "      <td>1.0000</td>\n",
       "      <td>0.0312</td>\n",
       "      <td>0.0854</td>\n",
       "      <td>0.1903</td>\n",
       "      <td>-0.1960</td>\n",
       "      <td>-0.0502</td>\n",
       "      <td>0.0694</td>\n",
       "      <td>0.0952</td>\n",
       "      <td>0.2754</td>\n",
       "      <td>0.0071</td>\n",
       "      <td>0.0249</td>\n",
       "    </tr>\n",
       "    <tr>\n",
       "      <th>line</th>\n",
       "      <td>0.0312</td>\n",
       "      <td>1.0000</td>\n",
       "      <td>0.2475</td>\n",
       "      <td>-0.0336</td>\n",
       "      <td>0.0437</td>\n",
       "      <td>0.2646</td>\n",
       "      <td>-0.1021</td>\n",
       "      <td>0.4368</td>\n",
       "      <td>0.3918</td>\n",
       "      <td>0.0814</td>\n",
       "      <td>0.1255</td>\n",
       "    </tr>\n",
       "    <tr>\n",
       "      <th>stop</th>\n",
       "      <td>0.0854</td>\n",
       "      <td>0.2475</td>\n",
       "      <td>1.0000</td>\n",
       "      <td>0.0798</td>\n",
       "      <td>-0.0650</td>\n",
       "      <td>0.0874</td>\n",
       "      <td>-0.0092</td>\n",
       "      <td>0.0138</td>\n",
       "      <td>0.0713</td>\n",
       "      <td>0.2519</td>\n",
       "      <td>0.0247</td>\n",
       "    </tr>\n",
       "    <tr>\n",
       "      <th>positionBusLon</th>\n",
       "      <td>0.1903</td>\n",
       "      <td>-0.0336</td>\n",
       "      <td>0.0798</td>\n",
       "      <td>1.0000</td>\n",
       "      <td>-0.9978</td>\n",
       "      <td>0.0604</td>\n",
       "      <td>-0.0187</td>\n",
       "      <td>0.0571</td>\n",
       "      <td>-0.0137</td>\n",
       "      <td>-0.0097</td>\n",
       "      <td>0.0495</td>\n",
       "    </tr>\n",
       "    <tr>\n",
       "      <th>positionBusLat</th>\n",
       "      <td>-0.1960</td>\n",
       "      <td>0.0437</td>\n",
       "      <td>-0.0650</td>\n",
       "      <td>-0.9978</td>\n",
       "      <td>1.0000</td>\n",
       "      <td>-0.0541</td>\n",
       "      <td>0.0138</td>\n",
       "      <td>0.0283</td>\n",
       "      <td>0.0365</td>\n",
       "      <td>0.0132</td>\n",
       "      <td>-0.0468</td>\n",
       "    </tr>\n",
       "    <tr>\n",
       "      <th>DistanceBus</th>\n",
       "      <td>-0.0502</td>\n",
       "      <td>0.2646</td>\n",
       "      <td>0.0874</td>\n",
       "      <td>0.0604</td>\n",
       "      <td>-0.0541</td>\n",
       "      <td>1.0000</td>\n",
       "      <td>-0.0594</td>\n",
       "      <td>0.2596</td>\n",
       "      <td>0.2147</td>\n",
       "      <td>-0.0762</td>\n",
       "      <td>0.8407</td>\n",
       "    </tr>\n",
       "    <tr>\n",
       "      <th>deviation</th>\n",
       "      <td>0.0694</td>\n",
       "      <td>-0.1021</td>\n",
       "      <td>-0.0092</td>\n",
       "      <td>-0.0187</td>\n",
       "      <td>0.0138</td>\n",
       "      <td>-0.0594</td>\n",
       "      <td>1.0000</td>\n",
       "      <td>-0.0119</td>\n",
       "      <td>0.0891</td>\n",
       "      <td>-0.0072</td>\n",
       "      <td>-0.0350</td>\n",
       "    </tr>\n",
       "    <tr>\n",
       "      <th>MinimunFrequency</th>\n",
       "      <td>0.0952</td>\n",
       "      <td>0.4368</td>\n",
       "      <td>0.0138</td>\n",
       "      <td>0.0571</td>\n",
       "      <td>0.0283</td>\n",
       "      <td>0.2596</td>\n",
       "      <td>-0.0119</td>\n",
       "      <td>1.0000</td>\n",
       "      <td>0.7845</td>\n",
       "      <td>0.0321</td>\n",
       "      <td>0.3231</td>\n",
       "    </tr>\n",
       "    <tr>\n",
       "      <th>MaximumFrequency</th>\n",
       "      <td>0.2754</td>\n",
       "      <td>0.3918</td>\n",
       "      <td>0.0713</td>\n",
       "      <td>-0.0137</td>\n",
       "      <td>0.0365</td>\n",
       "      <td>0.2147</td>\n",
       "      <td>0.0891</td>\n",
       "      <td>0.7845</td>\n",
       "      <td>1.0000</td>\n",
       "      <td>0.0396</td>\n",
       "      <td>0.2558</td>\n",
       "    </tr>\n",
       "    <tr>\n",
       "      <th>isHead</th>\n",
       "      <td>0.0071</td>\n",
       "      <td>0.0814</td>\n",
       "      <td>0.2519</td>\n",
       "      <td>-0.0097</td>\n",
       "      <td>0.0132</td>\n",
       "      <td>-0.0762</td>\n",
       "      <td>-0.0072</td>\n",
       "      <td>0.0321</td>\n",
       "      <td>0.0396</td>\n",
       "      <td>1.0000</td>\n",
       "      <td>0.0298</td>\n",
       "    </tr>\n",
       "    <tr>\n",
       "      <th>estimateArrive</th>\n",
       "      <td>0.0249</td>\n",
       "      <td>0.1255</td>\n",
       "      <td>0.0247</td>\n",
       "      <td>0.0495</td>\n",
       "      <td>-0.0468</td>\n",
       "      <td>0.8407</td>\n",
       "      <td>-0.0350</td>\n",
       "      <td>0.3231</td>\n",
       "      <td>0.2558</td>\n",
       "      <td>0.0298</td>\n",
       "      <td>1.0000</td>\n",
       "    </tr>\n",
       "  </tbody>\n",
       "</table>\n",
       "</div>"
      ],
      "text/plain": [
       "                     bus    line    stop  positionBusLon  positionBusLat  \\\n",
       "bus               1.0000  0.0312  0.0854          0.1903         -0.1960   \n",
       "line              0.0312  1.0000  0.2475         -0.0336          0.0437   \n",
       "stop              0.0854  0.2475  1.0000          0.0798         -0.0650   \n",
       "positionBusLon    0.1903 -0.0336  0.0798          1.0000         -0.9978   \n",
       "positionBusLat   -0.1960  0.0437 -0.0650         -0.9978          1.0000   \n",
       "DistanceBus      -0.0502  0.2646  0.0874          0.0604         -0.0541   \n",
       "deviation         0.0694 -0.1021 -0.0092         -0.0187          0.0138   \n",
       "MinimunFrequency  0.0952  0.4368  0.0138          0.0571          0.0283   \n",
       "MaximumFrequency  0.2754  0.3918  0.0713         -0.0137          0.0365   \n",
       "isHead            0.0071  0.0814  0.2519         -0.0097          0.0132   \n",
       "estimateArrive    0.0249  0.1255  0.0247          0.0495         -0.0468   \n",
       "\n",
       "                  DistanceBus  deviation  MinimunFrequency  MaximumFrequency  \\\n",
       "bus                   -0.0502     0.0694            0.0952            0.2754   \n",
       "line                   0.2646    -0.1021            0.4368            0.3918   \n",
       "stop                   0.0874    -0.0092            0.0138            0.0713   \n",
       "positionBusLon         0.0604    -0.0187            0.0571           -0.0137   \n",
       "positionBusLat        -0.0541     0.0138            0.0283            0.0365   \n",
       "DistanceBus            1.0000    -0.0594            0.2596            0.2147   \n",
       "deviation             -0.0594     1.0000           -0.0119            0.0891   \n",
       "MinimunFrequency       0.2596    -0.0119            1.0000            0.7845   \n",
       "MaximumFrequency       0.2147     0.0891            0.7845            1.0000   \n",
       "isHead                -0.0762    -0.0072            0.0321            0.0396   \n",
       "estimateArrive         0.8407    -0.0350            0.3231            0.2558   \n",
       "\n",
       "                  isHead  estimateArrive  \n",
       "bus               0.0071          0.0249  \n",
       "line              0.0814          0.1255  \n",
       "stop              0.2519          0.0247  \n",
       "positionBusLon   -0.0097          0.0495  \n",
       "positionBusLat    0.0132         -0.0468  \n",
       "DistanceBus      -0.0762          0.8407  \n",
       "deviation        -0.0072         -0.0350  \n",
       "MinimunFrequency  0.0321          0.3231  \n",
       "MaximumFrequency  0.0396          0.2558  \n",
       "isHead            1.0000          0.0298  \n",
       "estimateArrive    0.0298          1.0000  "
      ]
     },
     "execution_count": 28,
     "metadata": {},
     "output_type": "execute_result"
    }
   ],
   "source": [
    "matrix_corr"
   ]
  },
  {
   "cell_type": "code",
   "execution_count": 29,
   "metadata": {},
   "outputs": [
    {
     "data": {
      "text/plain": [
       "<Axes: >"
      ]
     },
     "execution_count": 29,
     "metadata": {},
     "output_type": "execute_result"
    },
    {
     "data": {
      "image/png": "[encoded data removed]",
      "text/plain": [
       "<Figure size 640x480 with 2 Axes>"
      ]
     },
     "metadata": {},
     "output_type": "display_data"
    }
   ],
   "source": [
    "sns.heatmap(matrix_corr, cmap='coolwarm',vmin=-1, vmax=1)"
   ]
  },
  {
   "cell_type": "code",
   "execution_count": 30,
   "metadata": {},
   "outputs": [],
   "source": [
    "matrix_corr.to_csv('/home/mlia/proyectos/data-generation/docs/notebooks/aux/matrix_corr_emt.csv', index=False)"
   ]
  },
  {
   "cell_type": "markdown",
   "metadata": {},
   "source": [
    "## 4. Estudio por variables\n",
    "\n",
    "Para cada variabl:\n",
    "1. Comprobaremos si tiene valores nulos \n",
    "2. Calcularemos la correlación con la variable `estimateArrive`\n",
    "3. Dibujaremos el tiempo medio de llegada según sus categorías en el caso en el que fuera posible\n",
    "4. Decidiremos si la mantenemos o la eliminamos"
   ]
  },
  {
   "cell_type": "code",
   "execution_count": 31,
   "metadata": {},
   "outputs": [
    {
     "data": {
      "text/html": [
       "<div><style>\n",
       ".dataframe > thead > tr,\n",
       ".dataframe > tbody > tr {\n",
       "  text-align: right;\n",
       "  white-space: pre-wrap;\n",
       "}\n",
       "</style>\n",
       "<small>shape: (9, 21)</small><table border=\"1\" class=\"dataframe\"><thead><tr><th>statistic</th><th>PK</th><th>date</th><th>datetime</th><th>bus</th><th>line</th><th>stop</th><th>positionBusLon</th><th>positionBusLat</th><th>positionTypeBus</th><th>DistanceBus</th><th>destination</th><th>deviation</th><th>StartTime</th><th>StopTime</th><th>MinimunFrequency</th><th>MaximumFrequency</th><th>isHead</th><th>dayType</th><th>strike</th><th>estimateArrive</th></tr><tr><td>str</td><td>str</td><td>str</td><td>str</td><td>str</td><td>str</td><td>str</td><td>f64</td><td>f64</td><td>f64</td><td>f64</td><td>str</td><td>f64</td><td>str</td><td>str</td><td>f64</td><td>f64</td><td>f64</td><td>str</td><td>str</td><td>f64</td></tr></thead><tbody><tr><td>&quot;count&quot;</td><td>&quot;5&quot;</td><td>&quot;5&quot;</td><td>&quot;5&quot;</td><td>&quot;5&quot;</td><td>&quot;5&quot;</td><td>&quot;5&quot;</td><td>5.0</td><td>5.0</td><td>5.0</td><td>5.0</td><td>&quot;5&quot;</td><td>5.0</td><td>&quot;4&quot;</td><td>&quot;4&quot;</td><td>4.0</td><td>4.0</td><td>5.0</td><td>&quot;4&quot;</td><td>&quot;4&quot;</td><td>5.0</td></tr><tr><td>&quot;null_count&quot;</td><td>&quot;0&quot;</td><td>&quot;0&quot;</td><td>&quot;0&quot;</td><td>&quot;0&quot;</td><td>&quot;0&quot;</td><td>&quot;0&quot;</td><td>0.0</td><td>0.0</td><td>0.0</td><td>0.0</td><td>&quot;0&quot;</td><td>0.0</td><td>&quot;1&quot;</td><td>&quot;1&quot;</td><td>1.0</td><td>1.0</td><td>0.0</td><td>&quot;1&quot;</td><td>&quot;1&quot;</td><td>0.0</td></tr><tr><td>&quot;mean&quot;</td><td>null</td><td>&quot;2024-03-26&quot;</td><td>null</td><td>null</td><td>null</td><td>null</td><td>-3.674766</td><td>40.462648</td><td>0.0</td><td>2016.2</td><td>null</td><td>0.0</td><td>null</td><td>null</td><td>8.0</td><td>20.0</td><td>0.2</td><td>null</td><td>null</td><td>772.2</td></tr><tr><td>&quot;std&quot;</td><td>null</td><td>null</td><td>null</td><td>null</td><td>null</td><td>null</td><td>0.01451</td><td>0.030936</td><td>0.0</td><td>1708.533055</td><td>null</td><td>0.0</td><td>null</td><td>null</td><td>3.464102</td><td>5.416026</td><td>0.447214</td><td>null</td><td>null</td><td>673.764944</td></tr><tr><td>&quot;min&quot;</td><td>&quot;2024-03-26 10:…</td><td>&quot;2024-03-26&quot;</td><td>null</td><td>&quot;2134&quot;</td><td>&quot;107&quot;</td><td>&quot;1848&quot;</td><td>-3.689668</td><td>40.42965</td><td>0.0</td><td>74.0</td><td>&quot;BARRIO CANILLE…</td><td>0.0</td><td>&quot;05:55&quot;</td><td>&quot;23:30&quot;</td><td>3.0</td><td>12.0</td><td>0.0</td><td>&quot;LA&quot;</td><td>&quot;N&quot;</td><td>19.0</td></tr><tr><td>&quot;25%&quot;</td><td>null</td><td>&quot;2024-03-26&quot;</td><td>null</td><td>null</td><td>null</td><td>null</td><td>-3.688258</td><td>40.437317</td><td>0.0</td><td>700.0</td><td>null</td><td>0.0</td><td>null</td><td>null</td><td>9.0</td><td>22.0</td><td>0.0</td><td>null</td><td>null</td><td>323.0</td></tr><tr><td>&quot;50%&quot;</td><td>null</td><td>&quot;2024-03-26&quot;</td><td>null</td><td>null</td><td>null</td><td>null</td><td>-3.671349</td><td>40.467393</td><td>0.0</td><td>1880.0</td><td>null</td><td>0.0</td><td>null</td><td>null</td><td>9.0</td><td>22.0</td><td>0.0</td><td>null</td><td>null</td><td>571.0</td></tr><tr><td>&quot;75%&quot;</td><td>null</td><td>&quot;2024-03-26&quot;</td><td>null</td><td>null</td><td>null</td><td>null</td><td>-3.669843</td><td>40.471557</td><td>0.0</td><td>3271.0</td><td>null</td><td>0.0</td><td>null</td><td>null</td><td>9.0</td><td>22.0</td><td>0.0</td><td>null</td><td>null</td><td>1371.0</td></tr><tr><td>&quot;max&quot;</td><td>&quot;2024-03-26 21:…</td><td>&quot;2024-03-26&quot;</td><td>null</td><td>&quot;9118&quot;</td><td>&quot;48&quot;</td><td>&quot;3870&quot;</td><td>-3.654712</td><td>40.507321</td><td>0.0</td><td>4156.0</td><td>&quot;PLAZA CASTILLA…</td><td>0.0</td><td>&quot;06:20&quot;</td><td>&quot;23:45&quot;</td><td>11.0</td><td>24.0</td><td>1.0</td><td>&quot;LA&quot;</td><td>&quot;N&quot;</td><td>1577.0</td></tr></tbody></table></div>"
      ],
      "text/plain": [
       "shape: (9, 21)\n",
       "┌────────────┬─────────────┬────────────┬──────────┬───┬──────────┬─────────┬────────┬─────────────┐\n",
       "│ statistic  ┆ PK          ┆ date       ┆ datetime ┆ … ┆ isHead   ┆ dayType ┆ strike ┆ estimateArr │\n",
       "│ ---        ┆ ---         ┆ ---        ┆ ---      ┆   ┆ ---      ┆ ---     ┆ ---    ┆ ive         │\n",
       "│ str        ┆ str         ┆ str        ┆ str      ┆   ┆ f64      ┆ str     ┆ str    ┆ ---         │\n",
       "│            ┆             ┆            ┆          ┆   ┆          ┆         ┆        ┆ f64         │\n",
       "╞════════════╪═════════════╪════════════╪══════════╪═══╪══════════╪═════════╪════════╪═════════════╡\n",
       "│ count      ┆ 5           ┆ 5          ┆ 5        ┆ … ┆ 5.0      ┆ 4       ┆ 4      ┆ 5.0         │\n",
       "│ null_count ┆ 0           ┆ 0          ┆ 0        ┆ … ┆ 0.0      ┆ 1       ┆ 1      ┆ 0.0         │\n",
       "│ mean       ┆ null        ┆ 2024-03-26 ┆ null     ┆ … ┆ 0.2      ┆ null    ┆ null   ┆ 772.2       │\n",
       "│ std        ┆ null        ┆ null       ┆ null     ┆ … ┆ 0.447214 ┆ null    ┆ null   ┆ 673.764944  │\n",
       "│ min        ┆ 2024-03-26  ┆ 2024-03-26 ┆ null     ┆ … ┆ 0.0      ┆ LA      ┆ N      ┆ 19.0        │\n",
       "│            ┆ 10:27:08.66 ┆            ┆          ┆   ┆          ┆         ┆        ┆             │\n",
       "│            ┆ 8832_B2147… ┆            ┆          ┆   ┆          ┆         ┆        ┆             │\n",
       "│ 25%        ┆ null        ┆ 2024-03-26 ┆ null     ┆ … ┆ 0.0      ┆ null    ┆ null   ┆ 323.0       │\n",
       "│ 50%        ┆ null        ┆ 2024-03-26 ┆ null     ┆ … ┆ 0.0      ┆ null    ┆ null   ┆ 571.0       │\n",
       "│ 75%        ┆ null        ┆ 2024-03-26 ┆ null     ┆ … ┆ 0.0      ┆ null    ┆ null   ┆ 1371.0      │\n",
       "│ max        ┆ 2024-03-26  ┆ 2024-03-26 ┆ null     ┆ … ┆ 1.0      ┆ LA      ┆ N      ┆ 1577.0      │\n",
       "│            ┆ 21:42:06.42 ┆            ┆          ┆   ┆          ┆         ┆        ┆             │\n",
       "│            ┆ 9707_B505_… ┆            ┆          ┆   ┆          ┆         ┆        ┆             │\n",
       "└────────────┴─────────────┴────────────┴──────────┴───┴──────────┴─────────┴────────┴─────────────┘"
      ]
     },
     "execution_count": 31,
     "metadata": {},
     "output_type": "execute_result"
    }
   ],
   "source": [
    "sample_data.head().describe() "
   ]
  },
  {
   "cell_type": "markdown",
   "metadata": {},
   "source": [
    "##  Variable `date`"
   ]
  },
  {
   "cell_type": "markdown",
   "metadata": {},
   "source": [
    "### Valores nulos"
   ]
  },
  {
   "cell_type": "code",
   "execution_count": 32,
   "metadata": {},
   "outputs": [
    {
     "data": {
      "text/html": [
       "<div><style>\n",
       ".dataframe > thead > tr,\n",
       ".dataframe > tbody > tr {\n",
       "  text-align: right;\n",
       "  white-space: pre-wrap;\n",
       "}\n",
       "</style>\n",
       "<small>shape: (1, 2)</small><table border=\"1\" class=\"dataframe\"><thead><tr><th>date</th><th>count</th></tr><tr><td>date</td><td>u32</td></tr></thead><tbody><tr><td>2024-03-26</td><td>1136086</td></tr></tbody></table></div>"
      ],
      "text/plain": [
       "shape: (1, 2)\n",
       "┌────────────┬─────────┐\n",
       "│ date       ┆ count   │\n",
       "│ ---        ┆ ---     │\n",
       "│ date       ┆ u32     │\n",
       "╞════════════╪═════════╡\n",
       "│ 2024-03-26 ┆ 1136086 │\n",
       "└────────────┴─────────┘"
      ]
     },
     "execution_count": 32,
     "metadata": {},
     "output_type": "execute_result"
    }
   ],
   "source": [
    "sample_data.group_by(pl.col('date')).count().head().collect()"
   ]
  },
  {
   "cell_type": "markdown",
   "metadata": {},
   "source": [
    "## Variable `datetime`"
   ]
  },
  {
   "cell_type": "markdown",
   "metadata": {},
   "source": [
    "### Valores nulos"
   ]
  },
  {
   "cell_type": "code",
   "execution_count": 33,
   "metadata": {},
   "outputs": [
    {
     "data": {
      "text/html": [
       "<div><style>\n",
       ".dataframe > thead > tr,\n",
       ".dataframe > tbody > tr {\n",
       "  text-align: right;\n",
       "  white-space: pre-wrap;\n",
       "}\n",
       "</style>\n",
       "<small>shape: (5, 2)</small><table border=\"1\" class=\"dataframe\"><thead><tr><th>datetime</th><th>count</th></tr><tr><td>datetime[μs]</td><td>u32</td></tr></thead><tbody><tr><td>2024-03-26 19:24:06.215955</td><td>8</td></tr><tr><td>2024-03-26 16:14:06.777800</td><td>10</td></tr><tr><td>2024-03-26 09:37:07.786371</td><td>4</td></tr><tr><td>2024-03-26 20:07:06.302297</td><td>8</td></tr><tr><td>2024-03-26 16:11:06.642268</td><td>8</td></tr></tbody></table></div>"
      ],
      "text/plain": [
       "shape: (5, 2)\n",
       "┌────────────────────────────┬───────┐\n",
       "│ datetime                   ┆ count │\n",
       "│ ---                        ┆ ---   │\n",
       "│ datetime[μs]               ┆ u32   │\n",
       "╞════════════════════════════╪═══════╡\n",
       "│ 2024-03-26 19:24:06.215955 ┆ 8     │\n",
       "│ 2024-03-26 16:14:06.777800 ┆ 10    │\n",
       "│ 2024-03-26 09:37:07.786371 ┆ 4     │\n",
       "│ 2024-03-26 20:07:06.302297 ┆ 8     │\n",
       "│ 2024-03-26 16:11:06.642268 ┆ 8     │\n",
       "└────────────────────────────┴───────┘"
      ]
     },
     "execution_count": 33,
     "metadata": {},
     "output_type": "execute_result"
    }
   ],
   "source": [
    "sample_data.group_by(pl.col('datetime')).count().head().collect()"
   ]
  },
  {
   "cell_type": "markdown",
   "metadata": {},
   "source": [
    "## Varable `bus`"
   ]
  },
  {
   "cell_type": "markdown",
   "metadata": {},
   "source": [
    "### Valores nulos"
   ]
  },
  {
   "cell_type": "code",
   "execution_count": 29,
   "metadata": {},
   "outputs": [
    {
     "data": {
      "text/html": [
       "<div><style>\n",
       ".dataframe > thead > tr,\n",
       ".dataframe > tbody > tr {\n",
       "  text-align: right;\n",
       "  white-space: pre-wrap;\n",
       "}\n",
       "</style>\n",
       "<small>shape: (5, 2)</small><table border=\"1\" class=\"dataframe\"><thead><tr><th>bus</th><th>count</th></tr><tr><td>str</td><td>u32</td></tr></thead><tbody><tr><td>&quot;2263&quot;</td><td>46</td></tr><tr><td>&quot;8858&quot;</td><td>712</td></tr><tr><td>&quot;2535&quot;</td><td>3413</td></tr><tr><td>&quot;4742&quot;</td><td>3837</td></tr><tr><td>&quot;5665&quot;</td><td>2505</td></tr></tbody></table></div>"
      ],
      "text/plain": [
       "shape: (5, 2)\n",
       "┌──────┬───────┐\n",
       "│ bus  ┆ count │\n",
       "│ ---  ┆ ---   │\n",
       "│ str  ┆ u32   │\n",
       "╞══════╪═══════╡\n",
       "│ 2263 ┆ 46    │\n",
       "│ 8858 ┆ 712   │\n",
       "│ 2535 ┆ 3413  │\n",
       "│ 4742 ┆ 3837  │\n",
       "│ 5665 ┆ 2505  │\n",
       "└──────┴───────┘"
      ]
     },
     "execution_count": 29,
     "metadata": {},
     "output_type": "execute_result"
    }
   ],
   "source": [
    "sample_data.group_by(pl.col('bus')).count().head().collect()"
   ]
  },
  {
   "cell_type": "markdown",
   "metadata": {},
   "source": [
    "### Correlación"
   ]
  },
  {
   "cell_type": "code",
   "execution_count": 30,
   "metadata": {},
   "outputs": [
    {
     "data": {
      "text/html": [
       "<div><style>\n",
       ".dataframe > thead > tr,\n",
       ".dataframe > tbody > tr {\n",
       "  text-align: right;\n",
       "  white-space: pre-wrap;\n",
       "}\n",
       "</style>\n",
       "<small>shape: (1, 1)</small><table border=\"1\" class=\"dataframe\"><thead><tr><th>bus</th></tr><tr><td>f64</td></tr></thead><tbody><tr><td>0.025721</td></tr></tbody></table></div>"
      ],
      "text/plain": [
       "shape: (1, 1)\n",
       "┌──────────┐\n",
       "│ bus      │\n",
       "│ ---      │\n",
       "│ f64      │\n",
       "╞══════════╡\n",
       "│ 0.025721 │\n",
       "└──────────┘"
      ]
     },
     "execution_count": 30,
     "metadata": {},
     "output_type": "execute_result"
    }
   ],
   "source": [
    "sample_data.select(pl.corr('bus','estimateArrive')).head().collect()"
   ]
  },
  {
   "cell_type": "markdown",
   "metadata": {},
   "source": [
    "### Gráfico"
   ]
  },
  {
   "cell_type": "code",
   "execution_count": 31,
   "metadata": {},
   "outputs": [
    {
     "data": {
      "application/javascript": "(function(root) {\n  function now() {\n    return new Date();\n  }\n\n  var force = true;\n  var py_version = '3.4.0'.replace('rc', '-rc.').replace('.dev', '-dev.');\n  var reloading = false;\n  var Bokeh = root.Bokeh;\n\n  if (typeof (root._bokeh_timeout) === \"undefined\" || force) {\n    root._bokeh_timeout = Date.now() + 5000;\n    root._bokeh_failed_load = false;\n  }\n\n  function run_callbacks() {\n    try {\n      root._bokeh_onload_callbacks.forEach(function(callback) {\n        if (callback != null)\n          callback();\n      });\n    } finally {\n      delete root._bokeh_onload_callbacks;\n    }\n    console.debug(\"Bokeh: all callbacks have finished\");\n  }\n\n  function load_libs(css_urls, js_urls, js_modules, js_exports, callback) {\n    if (css_urls == null) css_urls = [];\n    if (js_urls == null) js_urls = [];\n    if (js_modules == null) js_modules = [];\n    if (js_exports == null) js_exports = {};\n\n    root._bokeh_onload_callbacks.push(callback);\n\n    if (root._bokeh_is_loading > 0) {\n      console.debug(\"Bokeh: BokehJS is being loaded, scheduling callback at\", now());\n      return null;\n    }\n    if (js_urls.length === 0 && js_modules.length === 0 && Object.keys(js_exports).length === 0) {\n      run_callbacks();\n      return null;\n    }\n    if (!reloading) {\n      console.debug(\"Bokeh: BokehJS not loaded, scheduling load and callback at\", now());\n    }\n\n    function on_load() {\n      root._bokeh_is_loading--;\n      if (root._bokeh_is_loading === 0) {\n        console.debug(\"Bokeh: all BokehJS libraries/stylesheets loaded\");\n        run_callbacks()\n      }\n    }\n    window._bokeh_on_load = on_load\n\n    function on_error() {\n      console.error(\"failed to load \" + url);\n    }\n\n    var skip = [];\n    if (window.requirejs) {\n      window.requirejs.config({'packages': {}, 'paths': {}, 'shim': {}});\n      root._bokeh_is_loading = css_urls.length + 0;\n    } else {\n      root._bokeh_is_loading = css_urls.length + js_urls.length + js_modules.length + Object.keys(js_exports).length;\n    }\n\n    var existing_stylesheets = []\n    var links = document.getElementsByTagName('link')\n    for (var i = 0; i < links.length; i++) {\n      var link = links[i]\n      if (link.href != null) {\n\texisting_stylesheets.push(link.href)\n      }\n    }\n    for (var i = 0; i < css_urls.length; i++) {\n      var url = css_urls[i];\n      if (existing_stylesheets.indexOf(url) !== -1) {\n\ton_load()\n\tcontinue;\n      }\n      const element = document.createElement(\"link\");\n      element.onload = on_load;\n      element.onerror = on_error;\n      element.rel = \"stylesheet\";\n      element.type = \"text/css\";\n      element.href = url;\n      console.debug(\"Bokeh: injecting link tag for BokehJS stylesheet: \", url);\n      document.body.appendChild(element);\n    }    var existing_scripts = []\n    var scripts = document.getElementsByTagName('script')\n    for (var i = 0; i < scripts.length; i++) {\n      var script = scripts[i]\n      if (script.src != null) {\n\texisting_scripts.push(script.src)\n      }\n    }\n    for (var i = 0; i < js_urls.length; i++) {\n      var url = js_urls[i];\n      if (skip.indexOf(url) !== -1 || existing_scripts.indexOf(url) !== -1) {\n\tif (!window.requirejs) {\n\t  on_load();\n\t}\n\tcontinue;\n      }\n      var element = document.createElement('script');\n      element.onload = on_load;\n      element.onerror = on_error;\n      element.async = false;\n      element.src = url;\n      console.debug(\"Bokeh: injecting script tag for BokehJS library: \", url);\n      document.head.appendChild(element);\n    }\n    for (var i = 0; i < js_modules.length; i++) {\n      var url = js_modules[i];\n      if (skip.indexOf(url) !== -1 || existing_scripts.indexOf(url) !== -1) {\n\tif (!window.requirejs) {\n\t  on_load();\n\t}\n\tcontinue;\n      }\n      var element = document.createElement('script');\n      element.onload = on_load;\n      element.onerror = on_error;\n      element.async = false;\n      element.src = url;\n      element.type = \"module\";\n      console.debug(\"Bokeh: injecting script tag for BokehJS library: \", url);\n      document.head.appendChild(element);\n    }\n    for (const name in js_exports) {\n      var url = js_exports[name];\n      if (skip.indexOf(url) >= 0 || root[name] != null) {\n\tif (!window.requirejs) {\n\t  on_load();\n\t}\n\tcontinue;\n      }\n      var element = document.createElement('script');\n      element.onerror = on_error;\n      element.async = false;\n      element.type = \"module\";\n      console.debug(\"Bokeh: injecting script tag for BokehJS library: \", url);\n      element.textContent = `\n      import ${name} from \"${url}\"\n      window.${name} = ${name}\n      window._bokeh_on_load()\n      `\n      document.head.appendChild(element);\n    }\n    if (!js_urls.length && !js_modules.length) {\n      on_load()\n    }\n  };\n\n  function inject_raw_css(css) {\n    const element = document.createElement(\"style\");\n    element.appendChild(document.createTextNode(css));\n    document.body.appendChild(element);\n  }\n\n  var js_urls = [\"https://cdn.bokeh.org/bokeh/release/bokeh-3.4.0.min.js\", \"https://cdn.bokeh.org/bokeh/release/bokeh-gl-3.4.0.min.js\", \"https://cdn.bokeh.org/bokeh/release/bokeh-widgets-3.4.0.min.js\", \"https://cdn.bokeh.org/bokeh/release/bokeh-tables-3.4.0.min.js\", \"https://cdn.holoviz.org/panel/1.4.0/dist/panel.min.js\"];\n  var js_modules = [];\n  var js_exports = {};\n  var css_urls = [];\n  var inline_js = [    function(Bokeh) {\n      Bokeh.set_log_level(\"info\");\n    },\nfunction(Bokeh) {} // ensure no trailing comma for IE\n  ];\n\n  function run_inline_js() {\n    if ((root.Bokeh !== undefined) || (force === true)) {\n      for (var i = 0; i < inline_js.length; i++) {\n\ttry {\n          inline_js[i].call(root, root.Bokeh);\n\t} catch(e) {\n\t  if (!reloading) {\n\t    throw e;\n\t  }\n\t}\n      }\n      // Cache old bokeh versions\n      if (Bokeh != undefined && !reloading) {\n\tvar NewBokeh = root.Bokeh;\n\tif (Bokeh.versions === undefined) {\n\t  Bokeh.versions = new Map();\n\t}\n\tif (NewBokeh.version !== Bokeh.version) {\n\t  Bokeh.versions.set(NewBokeh.version, NewBokeh)\n\t}\n\troot.Bokeh = Bokeh;\n      }} else if (Date.now() < root._bokeh_timeout) {\n      setTimeout(run_inline_js, 100);\n    } else if (!root._bokeh_failed_load) {\n      console.log(\"Bokeh: BokehJS failed to load within specified timeout.\");\n      root._bokeh_failed_load = true;\n    }\n    root._bokeh_is_initializing = false\n  }\n\n  function load_or_wait() {\n    // Implement a backoff loop that tries to ensure we do not load multiple\n    // versions of Bokeh and its dependencies at the same time.\n    // In recent versions we use the root._bokeh_is_initializing flag\n    // to determine whether there is an ongoing attempt to initialize\n    // bokeh, however for backward compatibility we also try to ensure\n    // that we do not start loading a newer (Panel>=1.0 and Bokeh>3) version\n    // before older versions are fully initialized.\n    if (root._bokeh_is_initializing && Date.now() > root._bokeh_timeout) {\n      root._bokeh_is_initializing = false;\n      root._bokeh_onload_callbacks = undefined;\n      console.log(\"Bokeh: BokehJS was loaded multiple times but one version failed to initialize.\");\n      load_or_wait();\n    } else if (root._bokeh_is_initializing || (typeof root._bokeh_is_initializing === \"undefined\" && root._bokeh_onload_callbacks !== undefined)) {\n      setTimeout(load_or_wait, 100);\n    } else {\n      root._bokeh_is_initializing = true\n      root._bokeh_onload_callbacks = []\n      var bokeh_loaded = Bokeh != null && (Bokeh.version === py_version || (Bokeh.versions !== undefined && Bokeh.versions.has(py_version)));\n      if (!reloading && !bokeh_loaded) {\n\troot.Bokeh = undefined;\n      }\n      load_libs(css_urls, js_urls, js_modules, js_exports, function() {\n\tconsole.debug(\"Bokeh: BokehJS plotting callback run at\", now());\n\trun_inline_js();\n      });\n    }\n  }\n  // Give older versions of the autoload script a head-start to ensure\n  // they initialize before we start loading newer version.\n  setTimeout(load_or_wait, 100)\n}(window));",
      "application/vnd.holoviews_load.v0+json": ""
     },
     "metadata": {},
     "output_type": "display_data"
    },
    {
     "data": {
      "application/javascript": "\nif ((window.PyViz === undefined) || (window.PyViz instanceof HTMLElement)) {\n  window.PyViz = {comms: {}, comm_status:{}, kernels:{}, receivers: {}, plot_index: []}\n}\n\n\n    function JupyterCommManager() {\n    }\n\n    JupyterCommManager.prototype.register_target = function(plot_id, comm_id, msg_handler) {\n      if (window.comm_manager || ((window.Jupyter !== undefined) && (Jupyter.notebook.kernel != null))) {\n        var comm_manager = window.comm_manager || Jupyter.notebook.kernel.comm_manager;\n        comm_manager.register_target(comm_id, function(comm) {\n          comm.on_msg(msg_handler);\n        });\n      } else if ((plot_id in window.PyViz.kernels) && (window.PyViz.kernels[plot_id])) {\n        window.PyViz.kernels[plot_id].registerCommTarget(comm_id, function(comm) {\n          comm.onMsg = msg_handler;\n        });\n      } else if (typeof google != 'undefined' && google.colab.kernel != null) {\n        google.colab.kernel.comms.registerTarget(comm_id, (comm) => {\n          var messages = comm.messages[Symbol.asyncIterator]();\n          function processIteratorResult(result) {\n            var message = result.value;\n            console.log(message)\n            var content = {data: message.data, comm_id};\n            var buffers = []\n            for (var buffer of message.buffers || []) {\n              buffers.push(new DataView(buffer))\n            }\n            var metadata = message.metadata || {};\n            var msg = {content, buffers, metadata}\n            msg_handler(msg);\n            return messages.next().then(processIteratorResult);\n          }\n          return messages.next().then(processIteratorResult);\n        })\n      }\n    }\n\n    JupyterCommManager.prototype.get_client_comm = function(plot_id, comm_id, msg_handler) {\n      if (comm_id in window.PyViz.comms) {\n        return window.PyViz.comms[comm_id];\n      } else if (window.comm_manager || ((window.Jupyter !== undefined) && (Jupyter.notebook.kernel != null))) {\n        var comm_manager = window.comm_manager || Jupyter.notebook.kernel.comm_manager;\n        var comm = comm_manager.new_comm(comm_id, {}, {}, {}, comm_id);\n        if (msg_handler) {\n          comm.on_msg(msg_handler);\n        }\n      } else if ((plot_id in window.PyViz.kernels) && (window.PyViz.kernels[plot_id])) {\n        var comm = window.PyViz.kernels[plot_id].connectToComm(comm_id);\n        comm.open();\n        if (msg_handler) {\n          comm.onMsg = msg_handler;\n        }\n      } else if (typeof google != 'undefined' && google.colab.kernel != null) {\n        var comm_promise = google.colab.kernel.comms.open(comm_id)\n        comm_promise.then((comm) => {\n          window.PyViz.comms[comm_id] = comm;\n          if (msg_handler) {\n            var messages = comm.messages[Symbol.asyncIterator]();\n            function processIteratorResult(result) {\n              var message = result.value;\n              var content = {data: message.data};\n              var metadata = message.metadata || {comm_id};\n              var msg = {content, metadata}\n              msg_handler(msg);\n              return messages.next().then(processIteratorResult);\n            }\n            return messages.next().then(processIteratorResult);\n          }\n        }) \n        var sendClosure = (data, metadata, buffers, disposeOnDone) => {\n          return comm_promise.then((comm) => {\n            comm.send(data, metadata, buffers, disposeOnDone);\n          });\n        };\n        var comm = {\n          send: sendClosure\n        };\n      }\n      window.PyViz.comms[comm_id] = comm;\n      return comm;\n    }\n    window.PyViz.comm_manager = new JupyterCommManager();\n    \n\n\nvar JS_MIME_TYPE = 'application/javascript';\nvar HTML_MIME_TYPE = 'text/html';\nvar EXEC_MIME_TYPE = 'application/vnd.holoviews_exec.v0+json';\nvar CLASS_NAME = 'output';\n\n/**\n * Render data to the DOM node\n */\nfunction render(props, node) {\n  var div = document.createElement(\"div\");\n  var script = document.createElement(\"script\");\n  node.appendChild(div);\n  node.appendChild(script);\n}\n\n/**\n * Handle when a new output is added\n */\nfunction handle_add_output(event, handle) {\n  var output_area = handle.output_area;\n  var output = handle.output;\n  if ((output.data == undefined) || (!output.data.hasOwnProperty(EXEC_MIME_TYPE))) {\n    return\n  }\n  var id = output.metadata[EXEC_MIME_TYPE][\"id\"];\n  var toinsert = output_area.element.find(\".\" + CLASS_NAME.split(' ')[0]);\n  if (id !== undefined) {\n    var nchildren = toinsert.length;\n    var html_node = toinsert[nchildren-1].children[0];\n    html_node.innerHTML = output.data[HTML_MIME_TYPE];\n    var scripts = [];\n    var nodelist = html_node.querySelectorAll(\"script\");\n    for (var i in nodelist) {\n      if (nodelist.hasOwnProperty(i)) {\n        scripts.push(nodelist[i])\n      }\n    }\n\n    scripts.forEach( function (oldScript) {\n      var newScript = document.createElement(\"script\");\n      var attrs = [];\n      var nodemap = oldScript.attributes;\n      for (var j in nodemap) {\n        if (nodemap.hasOwnProperty(j)) {\n          attrs.push(nodemap[j])\n        }\n      }\n      attrs.forEach(function(attr) { newScript.setAttribute(attr.name, attr.value) });\n      newScript.appendChild(document.createTextNode(oldScript.innerHTML));\n      oldScript.parentNode.replaceChild(newScript, oldScript);\n    });\n    if (JS_MIME_TYPE in output.data) {\n      toinsert[nchildren-1].children[1].textContent = output.data[JS_MIME_TYPE];\n    }\n    output_area._hv_plot_id = id;\n    if ((window.Bokeh !== undefined) && (id in Bokeh.index)) {\n      window.PyViz.plot_index[id] = Bokeh.index[id];\n    } else {\n      window.PyViz.plot_index[id] = null;\n    }\n  } else if (output.metadata[EXEC_MIME_TYPE][\"server_id\"] !== undefined) {\n    var bk_div = document.createElement(\"div\");\n    bk_div.innerHTML = output.data[HTML_MIME_TYPE];\n    var script_attrs = bk_div.children[0].attributes;\n    for (var i = 0; i < script_attrs.length; i++) {\n      toinsert[toinsert.length - 1].childNodes[1].setAttribute(script_attrs[i].name, script_attrs[i].value);\n    }\n    // store reference to server id on output_area\n    output_area._bokeh_server_id = output.metadata[EXEC_MIME_TYPE][\"server_id\"];\n  }\n}\n\n/**\n * Handle when an output is cleared or removed\n */\nfunction handle_clear_output(event, handle) {\n  var id = handle.cell.output_area._hv_plot_id;\n  var server_id = handle.cell.output_area._bokeh_server_id;\n  if (((id === undefined) || !(id in PyViz.plot_index)) && (server_id !== undefined)) { return; }\n  var comm = window.PyViz.comm_manager.get_client_comm(\"hv-extension-comm\", \"hv-extension-comm\", function () {});\n  if (server_id !== null) {\n    comm.send({event_type: 'server_delete', 'id': server_id});\n    return;\n  } else if (comm !== null) {\n    comm.send({event_type: 'delete', 'id': id});\n  }\n  delete PyViz.plot_index[id];\n  if ((window.Bokeh !== undefined) & (id in window.Bokeh.index)) {\n    var doc = window.Bokeh.index[id].model.document\n    doc.clear();\n    const i = window.Bokeh.documents.indexOf(doc);\n    if (i > -1) {\n      window.Bokeh.documents.splice(i, 1);\n    }\n  }\n}\n\n/**\n * Handle kernel restart event\n */\nfunction handle_kernel_cleanup(event, handle) {\n  delete PyViz.comms[\"hv-extension-comm\"];\n  window.PyViz.plot_index = {}\n}\n\n/**\n * Handle update_display_data messages\n */\nfunction handle_update_output(event, handle) {\n  handle_clear_output(event, {cell: {output_area: handle.output_area}})\n  handle_add_output(event, handle)\n}\n\nfunction register_renderer(events, OutputArea) {\n  function append_mime(data, metadata, element) {\n    // create a DOM node to render to\n    var toinsert = this.create_output_subarea(\n    metadata,\n    CLASS_NAME,\n    EXEC_MIME_TYPE\n    );\n    this.keyboard_manager.register_events(toinsert);\n    // Render to node\n    var props = {data: data, metadata: metadata[EXEC_MIME_TYPE]};\n    render(props, toinsert[0]);\n    element.append(toinsert);\n    return toinsert\n  }\n\n  events.on('output_added.OutputArea', handle_add_output);\n  events.on('output_updated.OutputArea', handle_update_output);\n  events.on('clear_output.CodeCell', handle_clear_output);\n  events.on('delete.Cell', handle_clear_output);\n  events.on('kernel_ready.Kernel', handle_kernel_cleanup);\n\n  OutputArea.prototype.register_mime_type(EXEC_MIME_TYPE, append_mime, {\n    safe: true,\n    index: 0\n  });\n}\n\nif (window.Jupyter !== undefined) {\n  try {\n    var events = require('base/js/events');\n    var OutputArea = require('notebook/js/outputarea').OutputArea;\n    if (OutputArea.prototype.mime_types().indexOf(EXEC_MIME_TYPE) == -1) {\n      register_renderer(events, OutputArea);\n    }\n  } catch(err) {\n  }\n}\n",
      "application/vnd.holoviews_load.v0+json": ""
     },
     "metadata": {},
     "output_type": "display_data"
    },
    {
     "data": {
      "text/html": [
       "<style>*[data-root-id],\n",
       "*[data-root-id] > * {\n",
       "  box-sizing: border-box;\n",
       "  font-family: var(--jp-ui-font-family);\n",
       "  font-size: var(--jp-ui-font-size1);\n",
       "  color: var(--vscode-editor-foreground, var(--jp-ui-font-color1));\n",
       "}\n",
       "\n",
       "/* Override VSCode background color */\n",
       ".cell-output-ipywidget-background:has(\n",
       "    > .cell-output-ipywidget-background > .lm-Widget > *[data-root-id]\n",
       "  ),\n",
       ".cell-output-ipywidget-background:has(> .lm-Widget > *[data-root-id]) {\n",
       "  background-color: transparent !important;\n",
       "}\n",
       "</style>"
      ]
     },
     "metadata": {},
     "output_type": "display_data"
    },
    {
     "data": {
      "application/vnd.holoviews_exec.v0+json": "",
      "text/html": [
       "<div id='p1002'>\n",
       "  <div id=\"b6b7d190-acae-4c7d-81c3-dd4896b1e7d1\" data-root-id=\"p1002\" style=\"display: contents;\"></div>\n",
       "</div>\n",
       "<script type=\"application/javascript\">(function(root) {\n",
       "  var docs_json = {\"3dab6471-f5d9-4f23-bcaf-4891cae9602a\":{\"version\":\"3.4.0\",\"title\":\"Bokeh Application\",\"roots\":[{\"type\":\"object\",\"name\":\"panel.models.browser.BrowserInfo\",\"id\":\"p1002\"},{\"type\":\"object\",\"name\":\"panel.models.comm_manager.CommManager\",\"id\":\"p1003\",\"attributes\":{\"plot_id\":\"p1002\",\"comm_id\":\"e7976c30384f405080d2a3bbdc5918c9\",\"client_comm_id\":\"bed64a62d70d440eaa842e8d94a299ee\"}}],\"defs\":[{\"type\":\"model\",\"name\":\"ReactiveHTML1\"},{\"type\":\"model\",\"name\":\"FlexBox1\",\"properties\":[{\"name\":\"align_content\",\"kind\":\"Any\",\"default\":\"flex-start\"},{\"name\":\"align_items\",\"kind\":\"Any\",\"default\":\"flex-start\"},{\"name\":\"flex_direction\",\"kind\":\"Any\",\"default\":\"row\"},{\"name\":\"flex_wrap\",\"kind\":\"Any\",\"default\":\"wrap\"},{\"name\":\"justify_content\",\"kind\":\"Any\",\"default\":\"flex-start\"},{\"name\":\"gap\",\"kind\":\"Any\",\"default\":\"\"}]},{\"type\":\"model\",\"name\":\"FloatPanel1\",\"properties\":[{\"name\":\"config\",\"kind\":\"Any\",\"default\":{\"type\":\"map\"}},{\"name\":\"contained\",\"kind\":\"Any\",\"default\":true},{\"name\":\"position\",\"kind\":\"Any\",\"default\":\"right-top\"},{\"name\":\"offsetx\",\"kind\":\"Any\",\"default\":null},{\"name\":\"offsety\",\"kind\":\"Any\",\"default\":null},{\"name\":\"theme\",\"kind\":\"Any\",\"default\":\"primary\"},{\"name\":\"status\",\"kind\":\"Any\",\"default\":\"normalized\"}]},{\"type\":\"model\",\"name\":\"GridStack1\",\"properties\":[{\"name\":\"mode\",\"kind\":\"Any\",\"default\":\"warn\"},{\"name\":\"ncols\",\"kind\":\"Any\",\"default\":null},{\"name\":\"nrows\",\"kind\":\"Any\",\"default\":null},{\"name\":\"allow_resize\",\"kind\":\"Any\",\"default\":true},{\"name\":\"allow_drag\",\"kind\":\"Any\",\"default\":true},{\"name\":\"state\",\"kind\":\"Any\",\"default\":[]}]},{\"type\":\"model\",\"name\":\"drag1\",\"properties\":[{\"name\":\"slider_width\",\"kind\":\"Any\",\"default\":5},{\"name\":\"slider_color\",\"kind\":\"Any\",\"default\":\"black\"},{\"name\":\"value\",\"kind\":\"Any\",\"default\":50}]},{\"type\":\"model\",\"name\":\"click1\",\"properties\":[{\"name\":\"terminal_output\",\"kind\":\"Any\",\"default\":\"\"},{\"name\":\"debug_name\",\"kind\":\"Any\",\"default\":\"\"},{\"name\":\"clears\",\"kind\":\"Any\",\"default\":0}]},{\"type\":\"model\",\"name\":\"FastWrapper1\",\"properties\":[{\"name\":\"object\",\"kind\":\"Any\",\"default\":null},{\"name\":\"style\",\"kind\":\"Any\",\"default\":null}]},{\"type\":\"model\",\"name\":\"NotificationAreaBase1\",\"properties\":[{\"name\":\"js_events\",\"kind\":\"Any\",\"default\":{\"type\":\"map\"}},{\"name\":\"position\",\"kind\":\"Any\",\"default\":\"bottom-right\"},{\"name\":\"_clear\",\"kind\":\"Any\",\"default\":0}]},{\"type\":\"model\",\"name\":\"NotificationArea1\",\"properties\":[{\"name\":\"js_events\",\"kind\":\"Any\",\"default\":{\"type\":\"map\"}},{\"name\":\"notifications\",\"kind\":\"Any\",\"default\":[]},{\"name\":\"position\",\"kind\":\"Any\",\"default\":\"bottom-right\"},{\"name\":\"_clear\",\"kind\":\"Any\",\"default\":0},{\"name\":\"types\",\"kind\":\"Any\",\"default\":[{\"type\":\"map\",\"entries\":[[\"type\",\"warning\"],[\"background\",\"#ffc107\"],[\"icon\",{\"type\":\"map\",\"entries\":[[\"className\",\"fas fa-exclamation-triangle\"],[\"tagName\",\"i\"],[\"color\",\"white\"]]}]]},{\"type\":\"map\",\"entries\":[[\"type\",\"info\"],[\"background\",\"#007bff\"],[\"icon\",{\"type\":\"map\",\"entries\":[[\"className\",\"fas fa-info-circle\"],[\"tagName\",\"i\"],[\"color\",\"white\"]]}]]}]}]},{\"type\":\"model\",\"name\":\"Notification\",\"properties\":[{\"name\":\"background\",\"kind\":\"Any\",\"default\":null},{\"name\":\"duration\",\"kind\":\"Any\",\"default\":3000},{\"name\":\"icon\",\"kind\":\"Any\",\"default\":null},{\"name\":\"message\",\"kind\":\"Any\",\"default\":\"\"},{\"name\":\"notification_type\",\"kind\":\"Any\",\"default\":null},{\"name\":\"_destroyed\",\"kind\":\"Any\",\"default\":false}]},{\"type\":\"model\",\"name\":\"TemplateActions1\",\"properties\":[{\"name\":\"open_modal\",\"kind\":\"Any\",\"default\":0},{\"name\":\"close_modal\",\"kind\":\"Any\",\"default\":0}]},{\"type\":\"model\",\"name\":\"BootstrapTemplateActions1\",\"properties\":[{\"name\":\"open_modal\",\"kind\":\"Any\",\"default\":0},{\"name\":\"close_modal\",\"kind\":\"Any\",\"default\":0}]},{\"type\":\"model\",\"name\":\"TemplateEditor1\",\"properties\":[{\"name\":\"layout\",\"kind\":\"Any\",\"default\":[]}]},{\"type\":\"model\",\"name\":\"MaterialTemplateActions1\",\"properties\":[{\"name\":\"open_modal\",\"kind\":\"Any\",\"default\":0},{\"name\":\"close_modal\",\"kind\":\"Any\",\"default\":0}]},{\"type\":\"model\",\"name\":\"copy_to_clipboard1\",\"properties\":[{\"name\":\"fill\",\"kind\":\"Any\",\"default\":\"none\"},{\"name\":\"value\",\"kind\":\"Any\",\"default\":null}]}]}};\n",
       "  var render_items = [{\"docid\":\"3dab6471-f5d9-4f23-bcaf-4891cae9602a\",\"roots\":{\"p1002\":\"b6b7d190-acae-4c7d-81c3-dd4896b1e7d1\"},\"root_ids\":[\"p1002\"]}];\n",
       "  var docs = Object.values(docs_json)\n",
       "  if (!docs) {\n",
       "    return\n",
       "  }\n",
       "  const py_version = docs[0].version.replace('rc', '-rc.').replace('.dev', '-dev.')\n",
       "  function embed_document(root) {\n",
       "    var Bokeh = get_bokeh(root)\n",
       "    Bokeh.embed.embed_items_notebook(docs_json, render_items);\n",
       "    for (const render_item of render_items) {\n",
       "      for (const root_id of render_item.root_ids) {\n",
       "\tconst id_el = document.getElementById(root_id)\n",
       "\tif (id_el.children.length && (id_el.children[0].className === 'bk-root')) {\n",
       "\t  const root_el = id_el.children[0]\n",
       "\t  root_el.id = root_el.id + '-rendered'\n",
       "\t}\n",
       "      }\n",
       "    }\n",
       "  }\n",
       "  function get_bokeh(root) {\n",
       "    if (root.Bokeh === undefined) {\n",
       "      return null\n",
       "    } else if (root.Bokeh.version !== py_version) {\n",
       "      if (root.Bokeh.versions === undefined || !root.Bokeh.versions.has(py_version)) {\n",
       "\treturn null\n",
       "      }\n",
       "      return root.Bokeh.versions.get(py_version);\n",
       "    } else if (root.Bokeh.version === py_version) {\n",
       "      return root.Bokeh\n",
       "    }\n",
       "    return null\n",
       "  }\n",
       "  function is_loaded(root) {\n",
       "    var Bokeh = get_bokeh(root)\n",
       "    return (Bokeh != null && Bokeh.Panel !== undefined)\n",
       "  }\n",
       "  if (is_loaded(root)) {\n",
       "    embed_document(root);\n",
       "  } else {\n",
       "    var attempts = 0;\n",
       "    var timer = setInterval(function(root) {\n",
       "      if (is_loaded(root)) {\n",
       "        clearInterval(timer);\n",
       "        embed_document(root);\n",
       "      } else if (document.readyState == \"complete\") {\n",
       "        attempts++;\n",
       "        if (attempts > 200) {\n",
       "          clearInterval(timer);\n",
       "\t  var Bokeh = get_bokeh(root)\n",
       "\t  if (Bokeh == null || Bokeh.Panel == null) {\n",
       "            console.warn(\"Panel: ERROR: Unable to run Panel code because Bokeh or Panel library is missing\");\n",
       "\t  } else {\n",
       "\t    console.warn(\"Panel: WARNING: Attempting to render but not all required libraries could be resolved.\")\n",
       "\t    embed_document(root)\n",
       "\t  }\n",
       "        }\n",
       "      }\n",
       "    }, 25, root)\n",
       "  }\n",
       "})(window);</script>"
      ]
     },
     "metadata": {
      "application/vnd.holoviews_exec.v0+json": {
       "id": "p1002"
      }
     },
     "output_type": "display_data"
    },
    {
     "data": {},
     "metadata": {},
     "output_type": "display_data"
    },
    {
     "data": {
      "application/vnd.holoviews_exec.v0+json": "",
      "text/html": [
       "<div id='p1004'>\n",
       "  <div id=\"bc96388b-ea77-4c27-a9c3-93c942a48ed7\" data-root-id=\"p1004\" style=\"display: contents;\"></div>\n",
       "</div>\n",
       "<script type=\"application/javascript\">(function(root) {\n",
       "  var docs_json = {\"a67317c2-39cc-408f-9647-2cda1bebe597\":{\"version\":\"3.4.0\",\"title\":\"Bokeh Application\",\"roots\":[{\"type\":\"object\",\"name\":\"Row\",\"id\":\"p1004\",\"attributes\":{\"name\":\"Row00939\",\"tags\":[\"embedded\"],\"stylesheets\":[\"\\n:host(.pn-loading):before, .pn-loading:before {\\n  background-color: #c3c3c3;\\n  mask-size: auto calc(min(50%, 400px));\\n  -webkit-mask-size: auto calc(min(50%, 400px));\\n}\",{\"type\":\"object\",\"name\":\"ImportedStyleSheet\",\"id\":\"p1007\",\"attributes\":{\"url\":\"https://cdn.holoviz.org/panel/1.4.0/dist/css/loading.css\"}},{\"type\":\"object\",\"name\":\"ImportedStyleSheet\",\"id\":\"p1063\",\"attributes\":{\"url\":\"https://cdn.holoviz.org/panel/1.4.0/dist/css/listpanel.css\"}},{\"type\":\"object\",\"name\":\"ImportedStyleSheet\",\"id\":\"p1005\",\"attributes\":{\"url\":\"https://cdn.holoviz.org/panel/1.4.0/dist/bundled/theme/default.css\"}},{\"type\":\"object\",\"name\":\"ImportedStyleSheet\",\"id\":\"p1006\",\"attributes\":{\"url\":\"https://cdn.holoviz.org/panel/1.4.0/dist/bundled/theme/native.css\"}}],\"min_width\":700,\"margin\":0,\"sizing_mode\":\"stretch_width\",\"align\":\"start\",\"children\":[{\"type\":\"object\",\"name\":\"Spacer\",\"id\":\"p1008\",\"attributes\":{\"name\":\"HSpacer00946\",\"stylesheets\":[\"\\n:host(.pn-loading):before, .pn-loading:before {\\n  background-color: #c3c3c3;\\n  mask-size: auto calc(min(50%, 400px));\\n  -webkit-mask-size: auto calc(min(50%, 400px));\\n}\",{\"id\":\"p1007\"},{\"id\":\"p1005\"},{\"id\":\"p1006\"}],\"margin\":0,\"sizing_mode\":\"stretch_width\",\"align\":\"start\"}},{\"type\":\"object\",\"name\":\"Figure\",\"id\":\"p1016\",\"attributes\":{\"width\":700,\"height\":300,\"margin\":[5,10],\"sizing_mode\":\"fixed\",\"align\":\"start\",\"x_range\":{\"type\":\"object\",\"name\":\"FactorRange\",\"id\":\"p1009\",\"attributes\":{\"tags\":[[[\"bus\",\"bus\",null]],[]],\"factors\":[\"4794\",\"4724\",\"8832\",\"119\",\"508\",\"56\",\"718\",\"2543\",\"3312\",\"3270\",\"2322\",\"3310\",\"4741\",\"580\",\"553\",\"5556\",\"2545\",\"5690\",\"2500\",\"8812\",\"8835\",\"4760\",\"207\",\"5565\",\"2130\",\"4786\",\"559\",\"134\",\"4701\",\"4767\",\"2337\",\"548\",\"5632\",\"3504\",\"8823\",\"4710\",\"5525\",\"8880\",\"4771\",\"8840\",\"2467\",\"4768\",\"4852\",\"4763\",\"5644\",\"2076\",\"3501\",\"200\",\"2591\",\"5536\",\"2534\",\"5668\",\"8857\",\"5634\",\"2538\",\"3297\",\"3321\",\"3271\",\"8814\",\"4709\",\"4703\",\"5553\",\"5636\",\"3317\",\"8803\",\"8805\",\"5452\",\"541\",\"2506\",\"2331\",\"4818\",\"5647\",\"4835\",\"5542\",\"58\",\"8831\",\"2121\",\"8645\",\"2473\",\"4722\",\"584\",\"4857\",\"4855\",\"3314\",\"2531\",\"2338\",\"717\",\"157\",\"2499\",\"4847\",\"8872\",\"505\",\"2068\",\"563\",\"3505\",\"4712\",\"5545\",\"3276\",\"8806\",\"4864\",\"8829\",\"136\",\"764\",\"4817\",\"2053\",\"5586\",\"2133\",\"555\",\"2477\",\"5537\",\"4727\",\"3304\",\"4788\",\"2063\",\"2546\",\"2557\",\"586\",\"5573\",\"4853\",\"5570\",\"2208\",\"2310\",\"5645\",\"571\",\"2321\",\"4721\",\"5548\",\"2566\",\"2472\",\"4759\",\"4885\",\"3503\",\"4697\",\"519\",\"3318\",\"2314\",\"4764\",\"515\",\"2328\",\"4698\",\"5673\",\"4839\",\"3313\",\"2160\",\"8869\",\"4338\",\"5559\",\"4929\",\"2515\",\"5528\",\"8842\",\"57\",\"3295\",\"523\",\"8873\",\"4739\",\"4791\",\"2490\",\"2292\",\"2124\",\"560\",\"2335\",\"3528\",\"2261\",\"4825\",\"4789\",\"2134\",\"5597\",\"4881\",\"2323\",\"126\",\"2079\",\"2468\",\"4732\",\"5523\",\"3489\",\"4815\",\"2298\",\"2214\",\"2563\",\"4772\",\"5674\",\"2326\",\"8860\",\"5564\",\"5666\",\"3332\",\"205\",\"511\",\"2307\",\"2581\",\"2135\",\"2521\",\"522\",\"5639\",\"578\",\"8839\",\"5558\",\"117\",\"2469\",\"583\",\"4816\",\"2038\",\"558\",\"8837\",\"8834\",\"128\",\"4686\",\"2484\",\"8819\",\"180\",\"124\",\"2125\",\"5415\",\"2148\",\"2263\",\"4700\",\"5646\",\"544\",\"2330\",\"516\",\"536\",\"3508\",\"5579\",\"2046\",\"543\",\"2464\",\"4695\",\"2501\",\"8825\",\"4766\",\"8859\",\"524\",\"570\",\"2453\",\"2149\",\"8816\",\"8882\",\"2315\",\"2325\",\"2065\",\"5672\",\"2139\",\"2505\",\"4734\",\"4868\",\"4842\",\"62\",\"2036\",\"2555\",\"202\",\"3306\",\"8845\",\"2466\",\"5541\",\"8856\",\"2203\",\"4803\",\"4824\",\"2051\",\"3274\",\"4795\",\"2562\",\"3294\",\"2136\",\"2045\",\"4846\",\"5530\",\"528\",\"4758\",\"2487\",\"116\",\"51\",\"4860\",\"4776\",\"573\",\"2541\",\"4696\",\"2320\",\"5562\",\"2340\",\"2336\",\"2514\",\"2216\",\"4911\",\"2215\",\"3298\",\"5643\",\"4770\",\"2057\",\"213\",\"4765\",\"3319\",\"721\",\"2157\",\"5635\",\"3315\",\"712\",\"4779\",\"4704\",\"5638\",\"569\",\"2552\",\"2305\",\"5534\",\"716\",\"135\",\"2344\",\"2317\",\"3275\",\"589\",\"4706\",\"4711\",\"538\",\"4833\",\"8871\",\"5698\",\"5567\",\"4832\",\"3290\",\"750\",\"2495\",\"2293\",\"4783\",\"2304\",\"4851\",\"530\",\"2512\",\"2071\",\"8807\",\"2564\",\"2132\",\"2299\",\"2334\",\"581\",\"572\",\"9125\",\"2114\",\"2297\",\"2056\",\"4849\",\"8810\",\"4785\",\"2143\",\"5580\",\"4865\",\"5546\",\"2212\",\"2127\",\"2556\",\"2141\",\"3278\",\"2548\",\"531\",\"4733\",\"588\",\"5561\",\"2533\",\"201\",\"132\",\"8808\",\"8843\",\"2052\",\"2339\",\"4843\",\"566\",\"4814\",\"3296\",\"9118\",\"60\",\"5409\",\"2205\",\"4782\",\"2540\",\"5524\",\"110\",\"562\",\"5584\",\"568\",\"4715\",\"5578\",\"2147\",\"2049\",\"2554\",\"3333\",\"4723\",\"4736\",\"3293\",\"5675\",\"4850\",\"3279\",\"4823\",\"2241\",\"2122\",\"2213\",\"2516\",\"2471\",\"4694\",\"3307\",\"5543\",\"4777\",\"4838\",\"199\",\"4826\",\"761\",\"5465\",\"5670\",\"4828\",\"4796\",\"9120\",\"129\",\"2482\",\"4738\",\"130\",\"5447\",\"2559\",\"525\",\"2309\",\"537\",\"4330\",\"4830\",\"3510\",\"4856\",\"564\",\"138\",\"4869\",\"4840\",\"2033\",\"8828\",\"8802\",\"5531\",\"2308\",\"575\",\"54\",\"3273\",\"2493\",\"8838\",\"2485\",\"3502\",\"4932\",\"5552\",\"4339\",\"5410\",\"8804\",\"2539\",\"2020\",\"5557\",\"5671\",\"4740\",\"4836\",\"521\",\"3506\",\"5575\",\"4689\",\"2465\",\"2311\",\"2073\",\"2329\",\"5414\",\"8863\",\"2510\",\"8852\",\"5566\",\"8830\",\"532\",\"2145\",\"8833\",\"5547\",\"5654\",\"3289\",\"2537\",\"8847\",\"8862\",\"4688\",\"551\",\"527\",\"55\",\"3292\",\"513\",\"115\",\"2210\",\"3311\",\"8850\",\"2064\",\"4702\",\"2044\",\"5577\",\"8854\",\"2542\",\"4975\",\"4737\",\"4867\",\"2560\",\"4893\",\"2536\",\"2513\",\"4841\",\"4844\",\"2291\",\"5544\",\"5489\",\"520\",\"8868\",\"8855\",\"4735\",\"2259\",\"2140\",\"4774\",\"8866\",\"3277\",\"2231\",\"4726\",\"2535\",\"4787\",\"549\",\"2211\",\"2312\",\"8821\",\"158\",\"5533\",\"8811\",\"2201\",\"2034\",\"211\",\"5527\",\"3291\",\"4691\",\"4716\",\"2470\",\"3283\",\"4684\",\"2129\",\"8846\",\"3301\",\"8801\",\"4834\",\"5555\",\"5648\",\"53\",\"552\",\"4854\",\"5676\",\"2048\",\"2318\",\"2488\",\"5450\",\"9124\",\"5551\",\"2584\",\"3308\",\"2572\",\"2497\",\"2072\",\"2570\",\"4811\",\"2035\",\"5434\",\"577\",\"2474\",\"2483\",\"2262\",\"4769\",\"2047\",\"2037\",\"4718\",\"2301\",\"3316\",\"4896\",\"5538\",\"2296\",\"576\",\"5662\",\"554\",\"4705\",\"565\",\"5707\",\"2553\",\"8861\",\"4792\",\"5563\",\"4829\",\"2592\",\"2206\",\"4720\",\"2066\",\"2327\",\"2080\",\"582\",\"5663\",\"517\",\"2295\",\"4781\",\"514\",\"2547\",\"3272\",\"2151\",\"5529\",\"2061\",\"8844\",\"4904\",\"184\",\"5451\",\"2496\",\"4756\",\"8849\",\"567\",\"9109\",\"5582\",\"8809\",\"2333\",\"5550\",\"5574\",\"8824\",\"5413\",\"175\",\"5651\",\"2481\",\"5532\",\"510\",\"59\",\"4693\",\"719\",\"2077\",\"4707\",\"5642\",\"5571\",\"5569\",\"8858\",\"3555\",\"2567\",\"5665\",\"2062\",\"3539\",\"3303\",\"5631\",\"2050\",\"529\",\"5408\",\"2153\",\"2059\",\"3288\",\"5540\",\"2550\",\"2054\",\"2067\",\"2158\",\"2306\",\"2138\",\"2078\",\"61\",\"2492\",\"5535\",\"539\",\"8864\",\"561\",\"4725\",\"3305\",\"5667\",\"5572\",\"120\",\"8870\",\"5637\",\"4813\",\"4790\",\"2568\",\"4859\",\"540\",\"556\",\"4753\",\"2530\",\"4831\",\"3309\",\"5568\",\"2137\",\"4708\",\"585\",\"2551\",\"4742\",\"2454\",\"2131\",\"5726\",\"4827\",\"5554\",\"8820\",\"5650\",\"5453\",\"8836\",\"8815\",\"8822\",\"4692\",\"2060\",\"2494\",\"8818\",\"4858\",\"4713\",\"2142\",\"4699\"]}},\"y_range\":{\"type\":\"object\",\"name\":\"Range1d\",\"id\":\"p1010\",\"attributes\":{\"tags\":[[[\"estimateArrive\",\"estimateArrive\",null]],{\"type\":\"map\",\"entries\":[[\"invert_yaxis\",false],[\"autorange\",false]]}],\"end\":1633.1509146341464,\"reset_start\":0.0,\"reset_end\":1633.1509146341464}},\"x_scale\":{\"type\":\"object\",\"name\":\"CategoricalScale\",\"id\":\"p1026\"},\"y_scale\":{\"type\":\"object\",\"name\":\"LinearScale\",\"id\":\"p1027\"},\"title\":{\"type\":\"object\",\"name\":\"Title\",\"id\":\"p1019\",\"attributes\":{\"text_color\":\"black\",\"text_font_size\":\"12pt\"}},\"renderers\":[{\"type\":\"object\",\"name\":\"GlyphRenderer\",\"id\":\"p1056\",\"attributes\":{\"data_source\":{\"type\":\"object\",\"name\":\"ColumnDataSource\",\"id\":\"p1047\",\"attributes\":{\"selected\":{\"type\":\"object\",\"name\":\"Selection\",\"id\":\"p1048\",\"attributes\":{\"indices\":[],\"line_indices\":[]}},\"selection_policy\":{\"type\":\"object\",\"name\":\"UnionRenderers\",\"id\":\"p1049\"},\"data\":{\"type\":\"map\",\"entries\":[[\"bus\",[\"4794\",\"4724\",\"8832\",\"119\",\"508\",\"56\",\"718\",\"2543\",\"3312\",\"3270\",\"2322\",\"3310\",\"4741\",\"580\",\"553\",\"5556\",\"2545\",\"5690\",\"2500\",\"8812\",\"8835\",\"4760\",\"207\",\"5565\",\"2130\",\"4786\",\"559\",\"134\",\"4701\",\"4767\",\"2337\",\"548\",\"5632\",\"3504\",\"8823\",\"4710\",\"5525\",\"8880\",\"4771\",\"8840\",\"2467\",\"4768\",\"4852\",\"4763\",\"5644\",\"2076\",\"3501\",\"200\",\"2591\",\"5536\",\"2534\",\"5668\",\"8857\",\"5634\",\"2538\",\"3297\",\"3321\",\"3271\",\"8814\",\"4709\",\"4703\",\"5553\",\"5636\",\"3317\",\"8803\",\"8805\",\"5452\",\"541\",\"2506\",\"2331\",\"4818\",\"5647\",\"4835\",\"5542\",\"58\",\"8831\",\"2121\",\"8645\",\"2473\",\"4722\",\"584\",\"4857\",\"4855\",\"3314\",\"2531\",\"2338\",\"717\",\"157\",\"2499\",\"4847\",\"8872\",\"505\",\"2068\",\"563\",\"3505\",\"4712\",\"5545\",\"3276\",\"8806\",\"4864\",\"8829\",\"136\",\"764\",\"4817\",\"2053\",\"5586\",\"2133\",\"555\",\"2477\",\"5537\",\"4727\",\"3304\",\"4788\",\"2063\",\"2546\",\"2557\",\"586\",\"5573\",\"4853\",\"5570\",\"2208\",\"2310\",\"5645\",\"571\",\"2321\",\"4721\",\"5548\",\"2566\",\"2472\",\"4759\",\"4885\",\"3503\",\"4697\",\"519\",\"3318\",\"2314\",\"4764\",\"515\",\"2328\",\"4698\",\"5673\",\"4839\",\"3313\",\"2160\",\"8869\",\"4338\",\"5559\",\"4929\",\"2515\",\"5528\",\"8842\",\"57\",\"3295\",\"523\",\"8873\",\"4739\",\"4791\",\"2490\",\"2292\",\"2124\",\"560\",\"2335\",\"3528\",\"2261\",\"4825\",\"4789\",\"2134\",\"5597\",\"4881\",\"2323\",\"126\",\"2079\",\"2468\",\"4732\",\"5523\",\"3489\",\"4815\",\"2298\",\"2214\",\"2563\",\"4772\",\"5674\",\"2326\",\"8860\",\"5564\",\"5666\",\"3332\",\"205\",\"511\",\"2307\",\"2581\",\"2135\",\"2521\",\"522\",\"5639\",\"578\",\"8839\",\"5558\",\"117\",\"2469\",\"583\",\"4816\",\"2038\",\"558\",\"8837\",\"8834\",\"128\",\"4686\",\"2484\",\"8819\",\"180\",\"124\",\"2125\",\"5415\",\"2148\",\"2263\",\"4700\",\"5646\",\"544\",\"2330\",\"516\",\"536\",\"3508\",\"5579\",\"2046\",\"543\",\"2464\",\"4695\",\"2501\",\"8825\",\"4766\",\"8859\",\"524\",\"570\",\"2453\",\"2149\",\"8816\",\"8882\",\"2315\",\"2325\",\"2065\",\"5672\",\"2139\",\"2505\",\"4734\",\"4868\",\"4842\",\"62\",\"2036\",\"2555\",\"202\",\"3306\",\"8845\",\"2466\",\"5541\",\"8856\",\"2203\",\"4803\",\"4824\",\"2051\",\"3274\",\"4795\",\"2562\",\"3294\",\"2136\",\"2045\",\"4846\",\"5530\",\"528\",\"4758\",\"2487\",\"116\",\"51\",\"4860\",\"4776\",\"573\",\"2541\",\"4696\",\"2320\",\"5562\",\"2340\",\"2336\",\"2514\",\"2216\",\"4911\",\"2215\",\"3298\",\"5643\",\"4770\",\"2057\",\"213\",\"4765\",\"3319\",\"721\",\"2157\",\"5635\",\"3315\",\"712\",\"4779\",\"4704\",\"5638\",\"569\",\"2552\",\"2305\",\"5534\",\"716\",\"135\",\"2344\",\"2317\",\"3275\",\"589\",\"4706\",\"4711\",\"538\",\"4833\",\"8871\",\"5698\",\"5567\",\"4832\",\"3290\",\"750\",\"2495\",\"2293\",\"4783\",\"2304\",\"4851\",\"530\",\"2512\",\"2071\",\"8807\",\"2564\",\"2132\",\"2299\",\"2334\",\"581\",\"572\",\"9125\",\"2114\",\"2297\",\"2056\",\"4849\",\"8810\",\"4785\",\"2143\",\"5580\",\"4865\",\"5546\",\"2212\",\"2127\",\"2556\",\"2141\",\"3278\",\"2548\",\"531\",\"4733\",\"588\",\"5561\",\"2533\",\"201\",\"132\",\"8808\",\"8843\",\"2052\",\"2339\",\"4843\",\"566\",\"4814\",\"3296\",\"9118\",\"60\",\"5409\",\"2205\",\"4782\",\"2540\",\"5524\",\"110\",\"562\",\"5584\",\"568\",\"4715\",\"5578\",\"2147\",\"2049\",\"2554\",\"3333\",\"4723\",\"4736\",\"3293\",\"5675\",\"4850\",\"3279\",\"4823\",\"2241\",\"2122\",\"2213\",\"2516\",\"2471\",\"4694\",\"3307\",\"5543\",\"4777\",\"4838\",\"199\",\"4826\",\"761\",\"5465\",\"5670\",\"4828\",\"4796\",\"9120\",\"129\",\"2482\",\"4738\",\"130\",\"5447\",\"2559\",\"525\",\"2309\",\"537\",\"4330\",\"4830\",\"3510\",\"4856\",\"564\",\"138\",\"4869\",\"4840\",\"2033\",\"8828\",\"8802\",\"5531\",\"2308\",\"575\",\"54\",\"3273\",\"2493\",\"8838\",\"2485\",\"3502\",\"4932\",\"5552\",\"4339\",\"5410\",\"8804\",\"2539\",\"2020\",\"5557\",\"5671\",\"4740\",\"4836\",\"521\",\"3506\",\"5575\",\"4689\",\"2465\",\"2311\",\"2073\",\"2329\",\"5414\",\"8863\",\"2510\",\"8852\",\"5566\",\"8830\",\"532\",\"2145\",\"8833\",\"5547\",\"5654\",\"3289\",\"2537\",\"8847\",\"8862\",\"4688\",\"551\",\"527\",\"55\",\"3292\",\"513\",\"115\",\"2210\",\"3311\",\"8850\",\"2064\",\"4702\",\"2044\",\"5577\",\"8854\",\"2542\",\"4975\",\"4737\",\"4867\",\"2560\",\"4893\",\"2536\",\"2513\",\"4841\",\"4844\",\"2291\",\"5544\",\"5489\",\"520\",\"8868\",\"8855\",\"4735\",\"2259\",\"2140\",\"4774\",\"8866\",\"3277\",\"2231\",\"4726\",\"2535\",\"4787\",\"549\",\"2211\",\"2312\",\"8821\",\"158\",\"5533\",\"8811\",\"2201\",\"2034\",\"211\",\"5527\",\"3291\",\"4691\",\"4716\",\"2470\",\"3283\",\"4684\",\"2129\",\"8846\",\"3301\",\"8801\",\"4834\",\"5555\",\"5648\",\"53\",\"552\",\"4854\",\"5676\",\"2048\",\"2318\",\"2488\",\"5450\",\"9124\",\"5551\",\"2584\",\"3308\",\"2572\",\"2497\",\"2072\",\"2570\",\"4811\",\"2035\",\"5434\",\"577\",\"2474\",\"2483\",\"2262\",\"4769\",\"2047\",\"2037\",\"4718\",\"2301\",\"3316\",\"4896\",\"5538\",\"2296\",\"576\",\"5662\",\"554\",\"4705\",\"565\",\"5707\",\"2553\",\"8861\",\"4792\",\"5563\",\"4829\",\"2592\",\"2206\",\"4720\",\"2066\",\"2327\",\"2080\",\"582\",\"5663\",\"517\",\"2295\",\"4781\",\"514\",\"2547\",\"3272\",\"2151\",\"5529\",\"2061\",\"8844\",\"4904\",\"184\",\"5451\",\"2496\",\"4756\",\"8849\",\"567\",\"9109\",\"5582\",\"8809\",\"2333\",\"5550\",\"5574\",\"8824\",\"5413\",\"175\",\"5651\",\"2481\",\"5532\",\"510\",\"59\",\"4693\",\"719\",\"2077\",\"4707\",\"5642\",\"5571\",\"5569\",\"8858\",\"3555\",\"2567\",\"5665\",\"2062\",\"3539\",\"3303\",\"5631\",\"2050\",\"529\",\"5408\",\"2153\",\"2059\",\"3288\",\"5540\",\"2550\",\"2054\",\"2067\",\"2158\",\"2306\",\"2138\",\"2078\",\"61\",\"2492\",\"5535\",\"539\",\"8864\",\"561\",\"4725\",\"3305\",\"5667\",\"5572\",\"120\",\"8870\",\"5637\",\"4813\",\"4790\",\"2568\",\"4859\",\"540\",\"556\",\"4753\",\"2530\",\"4831\",\"3309\",\"5568\",\"2137\",\"4708\",\"585\",\"2551\",\"4742\",\"2454\",\"2131\",\"5726\",\"4827\",\"5554\",\"8820\",\"5650\",\"5453\",\"8836\",\"8815\",\"8822\",\"4692\",\"2060\",\"2494\",\"8818\",\"4858\",\"4713\",\"2142\",\"4699\"]],[\"estimateArrive\",{\"type\":\"ndarray\",\"array\":{\"type\":\"bytes\",\"data\":\"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\"},\"shape\":[697],\"dtype\":\"float64\",\"order\":\"little\"}]]}}},\"view\":{\"type\":\"object\",\"name\":\"CDSView\",\"id\":\"p1057\",\"attributes\":{\"filter\":{\"type\":\"object\",\"name\":\"AllIndices\",\"id\":\"p1058\"}}},\"glyph\":{\"type\":\"object\",\"name\":\"VBar\",\"id\":\"p1053\",\"attributes\":{\"tags\":[\"apply_ranges\"],\"x\":{\"type\":\"field\",\"field\":\"bus\"},\"width\":{\"type\":\"value\",\"value\":0.8},\"top\":{\"type\":\"field\",\"field\":\"estimateArrive\"},\"fill_color\":{\"type\":\"value\",\"value\":\"#30a2da\"},\"hatch_color\":{\"type\":\"value\",\"value\":\"#30a2da\"}}},\"selection_glyph\":{\"type\":\"object\",\"name\":\"VBar\",\"id\":\"p1059\",\"attributes\":{\"tags\":[\"apply_ranges\"],\"x\":{\"type\":\"field\",\"field\":\"bus\"},\"width\":{\"type\":\"value\",\"value\":0.8},\"bottom\":{\"type\":\"value\",\"value\":0},\"top\":{\"type\":\"field\",\"field\":\"estimateArrive\"},\"line_color\":{\"type\":\"value\",\"value\":\"black\"},\"line_alpha\":{\"type\":\"value\",\"value\":1.0},\"line_width\":{\"type\":\"value\",\"value\":1},\"line_join\":{\"type\":\"value\",\"value\":\"bevel\"},\"line_cap\":{\"type\":\"value\",\"value\":\"butt\"},\"line_dash\":{\"type\":\"value\",\"value\":[]},\"line_dash_offset\":{\"type\":\"value\",\"value\":0},\"fill_color\":{\"type\":\"value\",\"value\":\"#30a2da\"},\"fill_alpha\":{\"type\":\"value\",\"value\":1.0},\"hatch_color\":{\"type\":\"value\",\"value\":\"#30a2da\"},\"hatch_alpha\":{\"type\":\"value\",\"value\":1.0},\"hatch_scale\":{\"type\":\"value\",\"value\":12.0},\"hatch_pattern\":{\"type\":\"value\",\"value\":null},\"hatch_weight\":{\"type\":\"value\",\"value\":1.0}}},\"nonselection_glyph\":{\"type\":\"object\",\"name\":\"VBar\",\"id\":\"p1054\",\"attributes\":{\"tags\":[\"apply_ranges\"],\"x\":{\"type\":\"field\",\"field\":\"bus\"},\"width\":{\"type\":\"value\",\"value\":0.8},\"top\":{\"type\":\"field\",\"field\":\"estimateArrive\"},\"line_alpha\":{\"type\":\"value\",\"value\":0.1},\"fill_color\":{\"type\":\"value\",\"value\":\"#30a2da\"},\"fill_alpha\":{\"type\":\"value\",\"value\":0.1},\"hatch_color\":{\"type\":\"value\",\"value\":\"#30a2da\"},\"hatch_alpha\":{\"type\":\"value\",\"value\":0.1}}},\"muted_glyph\":{\"type\":\"object\",\"name\":\"VBar\",\"id\":\"p1055\",\"attributes\":{\"tags\":[\"apply_ranges\"],\"x\":{\"type\":\"field\",\"field\":\"bus\"},\"width\":{\"type\":\"value\",\"value\":0.8},\"top\":{\"type\":\"field\",\"field\":\"estimateArrive\"},\"line_alpha\":{\"type\":\"value\",\"value\":0.2},\"fill_color\":{\"type\":\"value\",\"value\":\"#30a2da\"},\"fill_alpha\":{\"type\":\"value\",\"value\":0.2},\"hatch_color\":{\"type\":\"value\",\"value\":\"#30a2da\"},\"hatch_alpha\":{\"type\":\"value\",\"value\":0.2}}}}}],\"toolbar\":{\"type\":\"object\",\"name\":\"Toolbar\",\"id\":\"p1025\",\"attributes\":{\"tools\":[{\"type\":\"object\",\"name\":\"WheelZoomTool\",\"id\":\"p1014\",\"attributes\":{\"tags\":[\"hv_created\"],\"renderers\":\"auto\",\"zoom_together\":\"none\"}},{\"type\":\"object\",\"name\":\"HoverTool\",\"id\":\"p1015\",\"attributes\":{\"tags\":[\"hv_created\"],\"renderers\":[{\"id\":\"p1056\"}],\"tooltips\":[[\"bus\",\"@{bus}\"],[\"estimateArrive\",\"@{estimateArrive}\"]]}},{\"type\":\"object\",\"name\":\"SaveTool\",\"id\":\"p1038\"},{\"type\":\"object\",\"name\":\"PanTool\",\"id\":\"p1039\"},{\"type\":\"object\",\"name\":\"BoxZoomTool\",\"id\":\"p1040\",\"attributes\":{\"overlay\":{\"type\":\"object\",\"name\":\"BoxAnnotation\",\"id\":\"p1041\",\"attributes\":{\"syncable\":false,\"level\":\"overlay\",\"visible\":false,\"left\":{\"type\":\"number\",\"value\":\"nan\"},\"right\":{\"type\":\"number\",\"value\":\"nan\"},\"top\":{\"type\":\"number\",\"value\":\"nan\"},\"bottom\":{\"type\":\"number\",\"value\":\"nan\"},\"left_units\":\"canvas\",\"right_units\":\"canvas\",\"top_units\":\"canvas\",\"bottom_units\":\"canvas\",\"line_color\":\"black\",\"line_alpha\":1.0,\"line_width\":2,\"line_dash\":[4,4],\"fill_color\":\"lightgrey\",\"fill_alpha\":0.5}}}},{\"type\":\"object\",\"name\":\"ResetTool\",\"id\":\"p1046\"}],\"active_drag\":{\"id\":\"p1039\"},\"active_scroll\":{\"id\":\"p1014\"}}},\"left\":[{\"type\":\"object\",\"name\":\"LinearAxis\",\"id\":\"p1033\",\"attributes\":{\"ticker\":{\"type\":\"object\",\"name\":\"BasicTicker\",\"id\":\"p1034\",\"attributes\":{\"mantissas\":[1,2,5]}},\"formatter\":{\"type\":\"object\",\"name\":\"BasicTickFormatter\",\"id\":\"p1035\"},\"axis_label\":\"estimateArrive\",\"major_label_policy\":{\"type\":\"object\",\"name\":\"AllLabels\",\"id\":\"p1036\"}}}],\"below\":[{\"type\":\"object\",\"name\":\"CategoricalAxis\",\"id\":\"p1028\",\"attributes\":{\"ticker\":{\"type\":\"object\",\"name\":\"CategoricalTicker\",\"id\":\"p1029\"},\"formatter\":{\"type\":\"object\",\"name\":\"CategoricalTickFormatter\",\"id\":\"p1030\"},\"axis_label\":\"bus\",\"major_label_policy\":{\"type\":\"object\",\"name\":\"AllLabels\",\"id\":\"p1031\"}}}],\"center\":[{\"type\":\"object\",\"name\":\"Grid\",\"id\":\"p1032\",\"attributes\":{\"axis\":{\"id\":\"p1028\"},\"grid_line_color\":null}},{\"type\":\"object\",\"name\":\"Grid\",\"id\":\"p1037\",\"attributes\":{\"dimension\":1,\"axis\":{\"id\":\"p1033\"},\"grid_line_color\":null}}],\"min_border_top\":10,\"min_border_bottom\":10,\"min_border_left\":10,\"min_border_right\":10,\"output_backend\":\"webgl\"}},{\"type\":\"object\",\"name\":\"Spacer\",\"id\":\"p1061\",\"attributes\":{\"name\":\"HSpacer00947\",\"stylesheets\":[\"\\n:host(.pn-loading):before, .pn-loading:before {\\n  background-color: #c3c3c3;\\n  mask-size: auto calc(min(50%, 400px));\\n  -webkit-mask-size: auto calc(min(50%, 400px));\\n}\",{\"id\":\"p1007\"},{\"id\":\"p1005\"},{\"id\":\"p1006\"}],\"margin\":0,\"sizing_mode\":\"stretch_width\",\"align\":\"start\"}}]}}],\"defs\":[{\"type\":\"model\",\"name\":\"ReactiveHTML1\"},{\"type\":\"model\",\"name\":\"FlexBox1\",\"properties\":[{\"name\":\"align_content\",\"kind\":\"Any\",\"default\":\"flex-start\"},{\"name\":\"align_items\",\"kind\":\"Any\",\"default\":\"flex-start\"},{\"name\":\"flex_direction\",\"kind\":\"Any\",\"default\":\"row\"},{\"name\":\"flex_wrap\",\"kind\":\"Any\",\"default\":\"wrap\"},{\"name\":\"justify_content\",\"kind\":\"Any\",\"default\":\"flex-start\"},{\"name\":\"gap\",\"kind\":\"Any\",\"default\":\"\"}]},{\"type\":\"model\",\"name\":\"FloatPanel1\",\"properties\":[{\"name\":\"config\",\"kind\":\"Any\",\"default\":{\"type\":\"map\"}},{\"name\":\"contained\",\"kind\":\"Any\",\"default\":true},{\"name\":\"position\",\"kind\":\"Any\",\"default\":\"right-top\"},{\"name\":\"offsetx\",\"kind\":\"Any\",\"default\":null},{\"name\":\"offsety\",\"kind\":\"Any\",\"default\":null},{\"name\":\"theme\",\"kind\":\"Any\",\"default\":\"primary\"},{\"name\":\"status\",\"kind\":\"Any\",\"default\":\"normalized\"}]},{\"type\":\"model\",\"name\":\"GridStack1\",\"properties\":[{\"name\":\"mode\",\"kind\":\"Any\",\"default\":\"warn\"},{\"name\":\"ncols\",\"kind\":\"Any\",\"default\":null},{\"name\":\"nrows\",\"kind\":\"Any\",\"default\":null},{\"name\":\"allow_resize\",\"kind\":\"Any\",\"default\":true},{\"name\":\"allow_drag\",\"kind\":\"Any\",\"default\":true},{\"name\":\"state\",\"kind\":\"Any\",\"default\":[]}]},{\"type\":\"model\",\"name\":\"drag1\",\"properties\":[{\"name\":\"slider_width\",\"kind\":\"Any\",\"default\":5},{\"name\":\"slider_color\",\"kind\":\"Any\",\"default\":\"black\"},{\"name\":\"value\",\"kind\":\"Any\",\"default\":50}]},{\"type\":\"model\",\"name\":\"click1\",\"properties\":[{\"name\":\"terminal_output\",\"kind\":\"Any\",\"default\":\"\"},{\"name\":\"debug_name\",\"kind\":\"Any\",\"default\":\"\"},{\"name\":\"clears\",\"kind\":\"Any\",\"default\":0}]},{\"type\":\"model\",\"name\":\"FastWrapper1\",\"properties\":[{\"name\":\"object\",\"kind\":\"Any\",\"default\":null},{\"name\":\"style\",\"kind\":\"Any\",\"default\":null}]},{\"type\":\"model\",\"name\":\"NotificationAreaBase1\",\"properties\":[{\"name\":\"js_events\",\"kind\":\"Any\",\"default\":{\"type\":\"map\"}},{\"name\":\"position\",\"kind\":\"Any\",\"default\":\"bottom-right\"},{\"name\":\"_clear\",\"kind\":\"Any\",\"default\":0}]},{\"type\":\"model\",\"name\":\"NotificationArea1\",\"properties\":[{\"name\":\"js_events\",\"kind\":\"Any\",\"default\":{\"type\":\"map\"}},{\"name\":\"notifications\",\"kind\":\"Any\",\"default\":[]},{\"name\":\"position\",\"kind\":\"Any\",\"default\":\"bottom-right\"},{\"name\":\"_clear\",\"kind\":\"Any\",\"default\":0},{\"name\":\"types\",\"kind\":\"Any\",\"default\":[{\"type\":\"map\",\"entries\":[[\"type\",\"warning\"],[\"background\",\"#ffc107\"],[\"icon\",{\"type\":\"map\",\"entries\":[[\"className\",\"fas fa-exclamation-triangle\"],[\"tagName\",\"i\"],[\"color\",\"white\"]]}]]},{\"type\":\"map\",\"entries\":[[\"type\",\"info\"],[\"background\",\"#007bff\"],[\"icon\",{\"type\":\"map\",\"entries\":[[\"className\",\"fas fa-info-circle\"],[\"tagName\",\"i\"],[\"color\",\"white\"]]}]]}]}]},{\"type\":\"model\",\"name\":\"Notification\",\"properties\":[{\"name\":\"background\",\"kind\":\"Any\",\"default\":null},{\"name\":\"duration\",\"kind\":\"Any\",\"default\":3000},{\"name\":\"icon\",\"kind\":\"Any\",\"default\":null},{\"name\":\"message\",\"kind\":\"Any\",\"default\":\"\"},{\"name\":\"notification_type\",\"kind\":\"Any\",\"default\":null},{\"name\":\"_destroyed\",\"kind\":\"Any\",\"default\":false}]},{\"type\":\"model\",\"name\":\"TemplateActions1\",\"properties\":[{\"name\":\"open_modal\",\"kind\":\"Any\",\"default\":0},{\"name\":\"close_modal\",\"kind\":\"Any\",\"default\":0}]},{\"type\":\"model\",\"name\":\"BootstrapTemplateActions1\",\"properties\":[{\"name\":\"open_modal\",\"kind\":\"Any\",\"default\":0},{\"name\":\"close_modal\",\"kind\":\"Any\",\"default\":0}]},{\"type\":\"model\",\"name\":\"TemplateEditor1\",\"properties\":[{\"name\":\"layout\",\"kind\":\"Any\",\"default\":[]}]},{\"type\":\"model\",\"name\":\"MaterialTemplateActions1\",\"properties\":[{\"name\":\"open_modal\",\"kind\":\"Any\",\"default\":0},{\"name\":\"close_modal\",\"kind\":\"Any\",\"default\":0}]},{\"type\":\"model\",\"name\":\"copy_to_clipboard1\",\"properties\":[{\"name\":\"fill\",\"kind\":\"Any\",\"default\":\"none\"},{\"name\":\"value\",\"kind\":\"Any\",\"default\":null}]}]}};\n",
       "  var render_items = [{\"docid\":\"a67317c2-39cc-408f-9647-2cda1bebe597\",\"roots\":{\"p1004\":\"bc96388b-ea77-4c27-a9c3-93c942a48ed7\"},\"root_ids\":[\"p1004\"]}];\n",
       "  var docs = Object.values(docs_json)\n",
       "  if (!docs) {\n",
       "    return\n",
       "  }\n",
       "  const py_version = docs[0].version.replace('rc', '-rc.').replace('.dev', '-dev.')\n",
       "  function embed_document(root) {\n",
       "    var Bokeh = get_bokeh(root)\n",
       "    Bokeh.embed.embed_items_notebook(docs_json, render_items);\n",
       "    for (const render_item of render_items) {\n",
       "      for (const root_id of render_item.root_ids) {\n",
       "\tconst id_el = document.getElementById(root_id)\n",
       "\tif (id_el.children.length && (id_el.children[0].className === 'bk-root')) {\n",
       "\t  const root_el = id_el.children[0]\n",
       "\t  root_el.id = root_el.id + '-rendered'\n",
       "\t}\n",
       "      }\n",
       "    }\n",
       "  }\n",
       "  function get_bokeh(root) {\n",
       "    if (root.Bokeh === undefined) {\n",
       "      return null\n",
       "    } else if (root.Bokeh.version !== py_version) {\n",
       "      if (root.Bokeh.versions === undefined || !root.Bokeh.versions.has(py_version)) {\n",
       "\treturn null\n",
       "      }\n",
       "      return root.Bokeh.versions.get(py_version);\n",
       "    } else if (root.Bokeh.version === py_version) {\n",
       "      return root.Bokeh\n",
       "    }\n",
       "    return null\n",
       "  }\n",
       "  function is_loaded(root) {\n",
       "    var Bokeh = get_bokeh(root)\n",
       "    return (Bokeh != null && Bokeh.Panel !== undefined)\n",
       "  }\n",
       "  if (is_loaded(root)) {\n",
       "    embed_document(root);\n",
       "  } else {\n",
       "    var attempts = 0;\n",
       "    var timer = setInterval(function(root) {\n",
       "      if (is_loaded(root)) {\n",
       "        clearInterval(timer);\n",
       "        embed_document(root);\n",
       "      } else if (document.readyState == \"complete\") {\n",
       "        attempts++;\n",
       "        if (attempts > 200) {\n",
       "          clearInterval(timer);\n",
       "\t  var Bokeh = get_bokeh(root)\n",
       "\t  if (Bokeh == null || Bokeh.Panel == null) {\n",
       "            console.warn(\"Panel: ERROR: Unable to run Panel code because Bokeh or Panel library is missing\");\n",
       "\t  } else {\n",
       "\t    console.warn(\"Panel: WARNING: Attempting to render but not all required libraries could be resolved.\")\n",
       "\t    embed_document(root)\n",
       "\t  }\n",
       "        }\n",
       "      }\n",
       "    }, 25, root)\n",
       "  }\n",
       "})(window);</script>"
      ],
      "text/plain": [
       ":Bars   [bus]   (estimateArrive)"
      ]
     },
     "execution_count": 31,
     "metadata": {
      "application/vnd.holoviews_exec.v0+json": {
       "id": "p1004"
      }
     },
     "output_type": "execute_result"
    }
   ],
   "source": [
    "sample_data.group_by(pl.col('bus')).mean().select(pl.col('bus'),pl.col('estimateArrive')).collect().plot.bar(x='bus')"
   ]
  },
  {
   "cell_type": "markdown",
   "metadata": {},
   "source": [
    "### Conclusión"
   ]
  },
  {
   "cell_type": "markdown",
   "metadata": {},
   "source": [
    "Según que autobús sea, el tiempo medio de espera varia bastante. Por lo que esta variable va a ser necesaria a la hora de la creación de nuestro modelo."
   ]
  },
  {
   "cell_type": "markdown",
   "metadata": {},
   "source": [
    "## Variable `line`"
   ]
  },
  {
   "cell_type": "markdown",
   "metadata": {},
   "source": [
    "### Valores nulos"
   ]
  },
  {
   "cell_type": "code",
   "execution_count": 32,
   "metadata": {},
   "outputs": [
    {
     "data": {
      "text/html": [
       "<div><style>\n",
       ".dataframe > thead > tr,\n",
       ".dataframe > tbody > tr {\n",
       "  text-align: right;\n",
       "  white-space: pre-wrap;\n",
       "}\n",
       "</style>\n",
       "<small>shape: (5, 2)</small><table border=\"1\" class=\"dataframe\"><thead><tr><th>line</th><th>count</th></tr><tr><td>str</td><td>u32</td></tr></thead><tbody><tr><td>&quot;82&quot;</td><td>3430</td></tr><tr><td>&quot;48&quot;</td><td>13673</td></tr><tr><td>&quot;129&quot;</td><td>40389</td></tr><tr><td>&quot;40&quot;</td><td>15423</td></tr><tr><td>&quot;178&quot;</td><td>34032</td></tr></tbody></table></div>"
      ],
      "text/plain": [
       "shape: (5, 2)\n",
       "┌──────┬───────┐\n",
       "│ line ┆ count │\n",
       "│ ---  ┆ ---   │\n",
       "│ str  ┆ u32   │\n",
       "╞══════╪═══════╡\n",
       "│ 82   ┆ 3430  │\n",
       "│ 48   ┆ 13673 │\n",
       "│ 129  ┆ 40389 │\n",
       "│ 40   ┆ 15423 │\n",
       "│ 178  ┆ 34032 │\n",
       "└──────┴───────┘"
      ]
     },
     "execution_count": 32,
     "metadata": {},
     "output_type": "execute_result"
    }
   ],
   "source": [
    "sample_data.group_by(pl.col('line')).count().head().collect()"
   ]
  },
  {
   "cell_type": "markdown",
   "metadata": {},
   "source": [
    "### Correlación"
   ]
  },
  {
   "cell_type": "code",
   "execution_count": 33,
   "metadata": {},
   "outputs": [
    {
     "data": {
      "text/html": [
       "<div><style>\n",
       ".dataframe > thead > tr,\n",
       ".dataframe > tbody > tr {\n",
       "  text-align: right;\n",
       "  white-space: pre-wrap;\n",
       "}\n",
       "</style>\n",
       "<small>shape: (1, 1)</small><table border=\"1\" class=\"dataframe\"><thead><tr><th>line</th></tr><tr><td>f64</td></tr></thead><tbody><tr><td>0.122705</td></tr></tbody></table></div>"
      ],
      "text/plain": [
       "shape: (1, 1)\n",
       "┌──────────┐\n",
       "│ line     │\n",
       "│ ---      │\n",
       "│ f64      │\n",
       "╞══════════╡\n",
       "│ 0.122705 │\n",
       "└──────────┘"
      ]
     },
     "execution_count": 33,
     "metadata": {},
     "output_type": "execute_result"
    }
   ],
   "source": [
    "sample_data.select(pl.corr('line','estimateArrive')).head().collect()"
   ]
  },
  {
   "cell_type": "markdown",
   "metadata": {},
   "source": [
    "### Gráfico"
   ]
  },
  {
   "cell_type": "code",
   "execution_count": 34,
   "metadata": {},
   "outputs": [
    {
     "data": {},
     "metadata": {},
     "output_type": "display_data"
    },
    {
     "data": {
      "application/vnd.holoviews_exec.v0+json": "",
      "text/html": [
       "<div id='p1066'>\n",
       "  <div id=\"c926ecd9-ee85-4e42-a77c-d6635ee7c680\" data-root-id=\"p1066\" style=\"display: contents;\"></div>\n",
       "</div>\n",
       "<script type=\"application/javascript\">(function(root) {\n",
       "  var docs_json = {\"3939960a-8c4f-40d5-9d77-87ad1b79fda0\":{\"version\":\"3.4.0\",\"title\":\"Bokeh Application\",\"roots\":[{\"type\":\"object\",\"name\":\"Row\",\"id\":\"p1066\",\"attributes\":{\"name\":\"Row01048\",\"tags\":[\"embedded\"],\"stylesheets\":[\"\\n:host(.pn-loading):before, .pn-loading:before {\\n  background-color: #c3c3c3;\\n  mask-size: auto calc(min(50%, 400px));\\n  -webkit-mask-size: auto calc(min(50%, 400px));\\n}\",{\"type\":\"object\",\"name\":\"ImportedStyleSheet\",\"id\":\"p1069\",\"attributes\":{\"url\":\"https://cdn.holoviz.org/panel/1.4.0/dist/css/loading.css\"}},{\"type\":\"object\",\"name\":\"ImportedStyleSheet\",\"id\":\"p1125\",\"attributes\":{\"url\":\"https://cdn.holoviz.org/panel/1.4.0/dist/css/listpanel.css\"}},{\"type\":\"object\",\"name\":\"ImportedStyleSheet\",\"id\":\"p1067\",\"attributes\":{\"url\":\"https://cdn.holoviz.org/panel/1.4.0/dist/bundled/theme/default.css\"}},{\"type\":\"object\",\"name\":\"ImportedStyleSheet\",\"id\":\"p1068\",\"attributes\":{\"url\":\"https://cdn.holoviz.org/panel/1.4.0/dist/bundled/theme/native.css\"}}],\"min_width\":700,\"margin\":0,\"sizing_mode\":\"stretch_width\",\"align\":\"start\",\"children\":[{\"type\":\"object\",\"name\":\"Spacer\",\"id\":\"p1070\",\"attributes\":{\"name\":\"HSpacer01055\",\"stylesheets\":[\"\\n:host(.pn-loading):before, .pn-loading:before {\\n  background-color: #c3c3c3;\\n  mask-size: auto calc(min(50%, 400px));\\n  -webkit-mask-size: auto calc(min(50%, 400px));\\n}\",{\"id\":\"p1069\"},{\"id\":\"p1067\"},{\"id\":\"p1068\"}],\"margin\":0,\"sizing_mode\":\"stretch_width\",\"align\":\"start\"}},{\"type\":\"object\",\"name\":\"Figure\",\"id\":\"p1078\",\"attributes\":{\"width\":700,\"height\":300,\"margin\":[5,10],\"sizing_mode\":\"fixed\",\"align\":\"start\",\"x_range\":{\"type\":\"object\",\"name\":\"FactorRange\",\"id\":\"p1071\",\"attributes\":{\"tags\":[[[\"line\",\"line\",null]],[]],\"factors\":[\"69\",\"45\",\"5\",\"105\",\"41\",\"27\",\"170\",\"1\",\"73\",\"70\",\"133\",\"167\",\"132\",\"42\",\"40\",\"14\",\"124\",\"176\",\"53\",\"166\",\"174\",\"171\",\"363\",\"67\",\"165\",\"83\",\"147\",\"126\",\"49\",\"4\",\"48\",\"172\",\"34\",\"177\",\"BR1\",\"6\",\"173\",\"9\",\"137\",\"401\",\"C2\",\"36\",\"128\",\"178\",\"64\",\"7\",\"109\",\"66\",\"82\",\"107\",\"E1\",\"135\",\"127\",\"134\",\"19\",\"361\",\"11\",\"38\",\"831\",\"29\",\"10\",\"175\",\"129\",\"37\",\"C03\",\"119\",\"122\",\"150\",\"72\",\"125\"]}},\"y_range\":{\"type\":\"object\",\"name\":\"Range1d\",\"id\":\"p1072\",\"attributes\":{\"tags\":[[[\"estimateArrive\",\"estimateArrive\",null]],{\"type\":\"map\",\"entries\":[[\"invert_yaxis\",false],[\"autorange\",false]]}],\"end\":1698.8923218792468,\"reset_start\":0.0,\"reset_end\":1698.8923218792468}},\"x_scale\":{\"type\":\"object\",\"name\":\"CategoricalScale\",\"id\":\"p1088\"},\"y_scale\":{\"type\":\"object\",\"name\":\"LinearScale\",\"id\":\"p1089\"},\"title\":{\"type\":\"object\",\"name\":\"Title\",\"id\":\"p1081\",\"attributes\":{\"text_color\":\"black\",\"text_font_size\":\"12pt\"}},\"renderers\":[{\"type\":\"object\",\"name\":\"GlyphRenderer\",\"id\":\"p1118\",\"attributes\":{\"data_source\":{\"type\":\"object\",\"name\":\"ColumnDataSource\",\"id\":\"p1109\",\"attributes\":{\"selected\":{\"type\":\"object\",\"name\":\"Selection\",\"id\":\"p1110\",\"attributes\":{\"indices\":[],\"line_indices\":[]}},\"selection_policy\":{\"type\":\"object\",\"name\":\"UnionRenderers\",\"id\":\"p1111\"},\"data\":{\"type\":\"map\",\"entries\":[[\"line\",[\"69\",\"45\",\"5\",\"105\",\"41\",\"27\",\"170\",\"1\",\"73\",\"70\",\"133\",\"167\",\"132\",\"42\",\"40\",\"14\",\"124\",\"176\",\"53\",\"166\",\"174\",\"171\",\"363\",\"67\",\"165\",\"83\",\"147\",\"126\",\"49\",\"4\",\"48\",\"172\",\"34\",\"177\",\"BR1\",\"6\",\"173\",\"9\",\"137\",\"401\",\"C2\",\"36\",\"128\",\"178\",\"64\",\"7\",\"109\",\"66\",\"82\",\"107\",\"E1\",\"135\",\"127\",\"134\",\"19\",\"361\",\"11\",\"38\",\"831\",\"29\",\"10\",\"175\",\"129\",\"37\",\"C03\",\"119\",\"122\",\"150\",\"72\",\"125\"]],[\"estimateArrive\",{\"type\":\"ndarray\",\"array\":{\"type\":\"bytes\",\"data\":\"chzHcRxrhkDaJJ+YbEyCQP8seYt4GoZAuxDobDKtjUAXZJpz2JuQQH7/Q2/b3XVA+ShvIofxikDt43lPC2SCQPThNIRKZ4hAtp+Oqou2fEAbV9vh65N9QIDQ5uQmropAasKypwmTgUCfaIBf8cWCQFM/p1xOkYpAhYpBUEYIgkDhi2+CIEKDQJ8uYlxWR4NAxbhYfVPrgUDGNBshRy+VQE79nlsCCIVAxYai6JSBhkDHcRzHcfSWQJwFMlxvaoVAn6hJpOXMkUAMqBzm27qCQNXLGOhOQnxAe1sUvY2EiEB6nMQqo+V6QM5Ol41PtYVA8UY7UhhNiEDF3FfIQDmRQDP6+SrKM31Ax3UgX4/nh0AXeqImAAqKQNRQoEtZVYNAp7v/Eo+Zg0ATAX2RocOCQJpn6S3Z5oxAAAAAAAB+kEC8VVNfIxd2QPT4jPxEPIxAV0P05/BQgUC587nZYa+LQEtr4h4sJIZAvyTFMtBnjUCYpEf4DNiRQOSJAErFpYVAOpTlCu1IgkDAlHt210uKQOcDdj5gv4dAFwlycNF8g0CeeF0PFJeHQDEpZJEdZodAdh+ZKeXzc0Dvvffee1+OQCPMmbbJeIhABUcu8/OZgUCEDz744JWYQEIjnKc8uYRAIvoUAw9DgUDrDLEqSI2GQPVYSVygnI5ApDq1D2VYiEBIRX2inbaIQG6E3kboHYxAyrzIYBxbh0BGzrWiAhyCQGmGZf+DgYtADKzyR7rThEA=\"},\"shape\":[70],\"dtype\":\"float64\",\"order\":\"little\"}]]}}},\"view\":{\"type\":\"object\",\"name\":\"CDSView\",\"id\":\"p1119\",\"attributes\":{\"filter\":{\"type\":\"object\",\"name\":\"AllIndices\",\"id\":\"p1120\"}}},\"glyph\":{\"type\":\"object\",\"name\":\"VBar\",\"id\":\"p1115\",\"attributes\":{\"tags\":[\"apply_ranges\"],\"x\":{\"type\":\"field\",\"field\":\"line\"},\"width\":{\"type\":\"value\",\"value\":0.8},\"top\":{\"type\":\"field\",\"field\":\"estimateArrive\"},\"fill_color\":{\"type\":\"value\",\"value\":\"#30a2da\"},\"hatch_color\":{\"type\":\"value\",\"value\":\"#30a2da\"}}},\"selection_glyph\":{\"type\":\"object\",\"name\":\"VBar\",\"id\":\"p1121\",\"attributes\":{\"tags\":[\"apply_ranges\"],\"x\":{\"type\":\"field\",\"field\":\"line\"},\"width\":{\"type\":\"value\",\"value\":0.8},\"bottom\":{\"type\":\"value\",\"value\":0},\"top\":{\"type\":\"field\",\"field\":\"estimateArrive\"},\"line_color\":{\"type\":\"value\",\"value\":\"black\"},\"line_alpha\":{\"type\":\"value\",\"value\":1.0},\"line_width\":{\"type\":\"value\",\"value\":1},\"line_join\":{\"type\":\"value\",\"value\":\"bevel\"},\"line_cap\":{\"type\":\"value\",\"value\":\"butt\"},\"line_dash\":{\"type\":\"value\",\"value\":[]},\"line_dash_offset\":{\"type\":\"value\",\"value\":0},\"fill_color\":{\"type\":\"value\",\"value\":\"#30a2da\"},\"fill_alpha\":{\"type\":\"value\",\"value\":1.0},\"hatch_color\":{\"type\":\"value\",\"value\":\"#30a2da\"},\"hatch_alpha\":{\"type\":\"value\",\"value\":1.0},\"hatch_scale\":{\"type\":\"value\",\"value\":12.0},\"hatch_pattern\":{\"type\":\"value\",\"value\":null},\"hatch_weight\":{\"type\":\"value\",\"value\":1.0}}},\"nonselection_glyph\":{\"type\":\"object\",\"name\":\"VBar\",\"id\":\"p1116\",\"attributes\":{\"tags\":[\"apply_ranges\"],\"x\":{\"type\":\"field\",\"field\":\"line\"},\"width\":{\"type\":\"value\",\"value\":0.8},\"top\":{\"type\":\"field\",\"field\":\"estimateArrive\"},\"line_alpha\":{\"type\":\"value\",\"value\":0.1},\"fill_color\":{\"type\":\"value\",\"value\":\"#30a2da\"},\"fill_alpha\":{\"type\":\"value\",\"value\":0.1},\"hatch_color\":{\"type\":\"value\",\"value\":\"#30a2da\"},\"hatch_alpha\":{\"type\":\"value\",\"value\":0.1}}},\"muted_glyph\":{\"type\":\"object\",\"name\":\"VBar\",\"id\":\"p1117\",\"attributes\":{\"tags\":[\"apply_ranges\"],\"x\":{\"type\":\"field\",\"field\":\"line\"},\"width\":{\"type\":\"value\",\"value\":0.8},\"top\":{\"type\":\"field\",\"field\":\"estimateArrive\"},\"line_alpha\":{\"type\":\"value\",\"value\":0.2},\"fill_color\":{\"type\":\"value\",\"value\":\"#30a2da\"},\"fill_alpha\":{\"type\":\"value\",\"value\":0.2},\"hatch_color\":{\"type\":\"value\",\"value\":\"#30a2da\"},\"hatch_alpha\":{\"type\":\"value\",\"value\":0.2}}}}}],\"toolbar\":{\"type\":\"object\",\"name\":\"Toolbar\",\"id\":\"p1087\",\"attributes\":{\"tools\":[{\"type\":\"object\",\"name\":\"WheelZoomTool\",\"id\":\"p1076\",\"attributes\":{\"tags\":[\"hv_created\"],\"renderers\":\"auto\",\"zoom_together\":\"none\"}},{\"type\":\"object\",\"name\":\"HoverTool\",\"id\":\"p1077\",\"attributes\":{\"tags\":[\"hv_created\"],\"renderers\":[{\"id\":\"p1118\"}],\"tooltips\":[[\"line\",\"@{line}\"],[\"estimateArrive\",\"@{estimateArrive}\"]]}},{\"type\":\"object\",\"name\":\"SaveTool\",\"id\":\"p1100\"},{\"type\":\"object\",\"name\":\"PanTool\",\"id\":\"p1101\"},{\"type\":\"object\",\"name\":\"BoxZoomTool\",\"id\":\"p1102\",\"attributes\":{\"overlay\":{\"type\":\"object\",\"name\":\"BoxAnnotation\",\"id\":\"p1103\",\"attributes\":{\"syncable\":false,\"level\":\"overlay\",\"visible\":false,\"left\":{\"type\":\"number\",\"value\":\"nan\"},\"right\":{\"type\":\"number\",\"value\":\"nan\"},\"top\":{\"type\":\"number\",\"value\":\"nan\"},\"bottom\":{\"type\":\"number\",\"value\":\"nan\"},\"left_units\":\"canvas\",\"right_units\":\"canvas\",\"top_units\":\"canvas\",\"bottom_units\":\"canvas\",\"line_color\":\"black\",\"line_alpha\":1.0,\"line_width\":2,\"line_dash\":[4,4],\"fill_color\":\"lightgrey\",\"fill_alpha\":0.5}}}},{\"type\":\"object\",\"name\":\"ResetTool\",\"id\":\"p1108\"}],\"active_drag\":{\"id\":\"p1101\"},\"active_scroll\":{\"id\":\"p1076\"}}},\"left\":[{\"type\":\"object\",\"name\":\"LinearAxis\",\"id\":\"p1095\",\"attributes\":{\"ticker\":{\"type\":\"object\",\"name\":\"BasicTicker\",\"id\":\"p1096\",\"attributes\":{\"mantissas\":[1,2,5]}},\"formatter\":{\"type\":\"object\",\"name\":\"BasicTickFormatter\",\"id\":\"p1097\"},\"axis_label\":\"estimateArrive\",\"major_label_policy\":{\"type\":\"object\",\"name\":\"AllLabels\",\"id\":\"p1098\"}}}],\"below\":[{\"type\":\"object\",\"name\":\"CategoricalAxis\",\"id\":\"p1090\",\"attributes\":{\"ticker\":{\"type\":\"object\",\"name\":\"CategoricalTicker\",\"id\":\"p1091\"},\"formatter\":{\"type\":\"object\",\"name\":\"CategoricalTickFormatter\",\"id\":\"p1092\"},\"axis_label\":\"line\",\"major_label_policy\":{\"type\":\"object\",\"name\":\"AllLabels\",\"id\":\"p1093\"}}}],\"center\":[{\"type\":\"object\",\"name\":\"Grid\",\"id\":\"p1094\",\"attributes\":{\"axis\":{\"id\":\"p1090\"},\"grid_line_color\":null}},{\"type\":\"object\",\"name\":\"Grid\",\"id\":\"p1099\",\"attributes\":{\"dimension\":1,\"axis\":{\"id\":\"p1095\"},\"grid_line_color\":null}}],\"min_border_top\":10,\"min_border_bottom\":10,\"min_border_left\":10,\"min_border_right\":10,\"output_backend\":\"webgl\"}},{\"type\":\"object\",\"name\":\"Spacer\",\"id\":\"p1123\",\"attributes\":{\"name\":\"HSpacer01056\",\"stylesheets\":[\"\\n:host(.pn-loading):before, .pn-loading:before {\\n  background-color: #c3c3c3;\\n  mask-size: auto calc(min(50%, 400px));\\n  -webkit-mask-size: auto calc(min(50%, 400px));\\n}\",{\"id\":\"p1069\"},{\"id\":\"p1067\"},{\"id\":\"p1068\"}],\"margin\":0,\"sizing_mode\":\"stretch_width\",\"align\":\"start\"}}]}}],\"defs\":[{\"type\":\"model\",\"name\":\"ReactiveHTML1\"},{\"type\":\"model\",\"name\":\"FlexBox1\",\"properties\":[{\"name\":\"align_content\",\"kind\":\"Any\",\"default\":\"flex-start\"},{\"name\":\"align_items\",\"kind\":\"Any\",\"default\":\"flex-start\"},{\"name\":\"flex_direction\",\"kind\":\"Any\",\"default\":\"row\"},{\"name\":\"flex_wrap\",\"kind\":\"Any\",\"default\":\"wrap\"},{\"name\":\"justify_content\",\"kind\":\"Any\",\"default\":\"flex-start\"},{\"name\":\"gap\",\"kind\":\"Any\",\"default\":\"\"}]},{\"type\":\"model\",\"name\":\"FloatPanel1\",\"properties\":[{\"name\":\"config\",\"kind\":\"Any\",\"default\":{\"type\":\"map\"}},{\"name\":\"contained\",\"kind\":\"Any\",\"default\":true},{\"name\":\"position\",\"kind\":\"Any\",\"default\":\"right-top\"},{\"name\":\"offsetx\",\"kind\":\"Any\",\"default\":null},{\"name\":\"offsety\",\"kind\":\"Any\",\"default\":null},{\"name\":\"theme\",\"kind\":\"Any\",\"default\":\"primary\"},{\"name\":\"status\",\"kind\":\"Any\",\"default\":\"normalized\"}]},{\"type\":\"model\",\"name\":\"GridStack1\",\"properties\":[{\"name\":\"mode\",\"kind\":\"Any\",\"default\":\"warn\"},{\"name\":\"ncols\",\"kind\":\"Any\",\"default\":null},{\"name\":\"nrows\",\"kind\":\"Any\",\"default\":null},{\"name\":\"allow_resize\",\"kind\":\"Any\",\"default\":true},{\"name\":\"allow_drag\",\"kind\":\"Any\",\"default\":true},{\"name\":\"state\",\"kind\":\"Any\",\"default\":[]}]},{\"type\":\"model\",\"name\":\"drag1\",\"properties\":[{\"name\":\"slider_width\",\"kind\":\"Any\",\"default\":5},{\"name\":\"slider_color\",\"kind\":\"Any\",\"default\":\"black\"},{\"name\":\"value\",\"kind\":\"Any\",\"default\":50}]},{\"type\":\"model\",\"name\":\"click1\",\"properties\":[{\"name\":\"terminal_output\",\"kind\":\"Any\",\"default\":\"\"},{\"name\":\"debug_name\",\"kind\":\"Any\",\"default\":\"\"},{\"name\":\"clears\",\"kind\":\"Any\",\"default\":0}]},{\"type\":\"model\",\"name\":\"FastWrapper1\",\"properties\":[{\"name\":\"object\",\"kind\":\"Any\",\"default\":null},{\"name\":\"style\",\"kind\":\"Any\",\"default\":null}]},{\"type\":\"model\",\"name\":\"NotificationAreaBase1\",\"properties\":[{\"name\":\"js_events\",\"kind\":\"Any\",\"default\":{\"type\":\"map\"}},{\"name\":\"position\",\"kind\":\"Any\",\"default\":\"bottom-right\"},{\"name\":\"_clear\",\"kind\":\"Any\",\"default\":0}]},{\"type\":\"model\",\"name\":\"NotificationArea1\",\"properties\":[{\"name\":\"js_events\",\"kind\":\"Any\",\"default\":{\"type\":\"map\"}},{\"name\":\"notifications\",\"kind\":\"Any\",\"default\":[]},{\"name\":\"position\",\"kind\":\"Any\",\"default\":\"bottom-right\"},{\"name\":\"_clear\",\"kind\":\"Any\",\"default\":0},{\"name\":\"types\",\"kind\":\"Any\",\"default\":[{\"type\":\"map\",\"entries\":[[\"type\",\"warning\"],[\"background\",\"#ffc107\"],[\"icon\",{\"type\":\"map\",\"entries\":[[\"className\",\"fas fa-exclamation-triangle\"],[\"tagName\",\"i\"],[\"color\",\"white\"]]}]]},{\"type\":\"map\",\"entries\":[[\"type\",\"info\"],[\"background\",\"#007bff\"],[\"icon\",{\"type\":\"map\",\"entries\":[[\"className\",\"fas fa-info-circle\"],[\"tagName\",\"i\"],[\"color\",\"white\"]]}]]}]}]},{\"type\":\"model\",\"name\":\"Notification\",\"properties\":[{\"name\":\"background\",\"kind\":\"Any\",\"default\":null},{\"name\":\"duration\",\"kind\":\"Any\",\"default\":3000},{\"name\":\"icon\",\"kind\":\"Any\",\"default\":null},{\"name\":\"message\",\"kind\":\"Any\",\"default\":\"\"},{\"name\":\"notification_type\",\"kind\":\"Any\",\"default\":null},{\"name\":\"_destroyed\",\"kind\":\"Any\",\"default\":false}]},{\"type\":\"model\",\"name\":\"TemplateActions1\",\"properties\":[{\"name\":\"open_modal\",\"kind\":\"Any\",\"default\":0},{\"name\":\"close_modal\",\"kind\":\"Any\",\"default\":0}]},{\"type\":\"model\",\"name\":\"BootstrapTemplateActions1\",\"properties\":[{\"name\":\"open_modal\",\"kind\":\"Any\",\"default\":0},{\"name\":\"close_modal\",\"kind\":\"Any\",\"default\":0}]},{\"type\":\"model\",\"name\":\"TemplateEditor1\",\"properties\":[{\"name\":\"layout\",\"kind\":\"Any\",\"default\":[]}]},{\"type\":\"model\",\"name\":\"MaterialTemplateActions1\",\"properties\":[{\"name\":\"open_modal\",\"kind\":\"Any\",\"default\":0},{\"name\":\"close_modal\",\"kind\":\"Any\",\"default\":0}]},{\"type\":\"model\",\"name\":\"copy_to_clipboard1\",\"properties\":[{\"name\":\"fill\",\"kind\":\"Any\",\"default\":\"none\"},{\"name\":\"value\",\"kind\":\"Any\",\"default\":null}]}]}};\n",
       "  var render_items = [{\"docid\":\"3939960a-8c4f-40d5-9d77-87ad1b79fda0\",\"roots\":{\"p1066\":\"c926ecd9-ee85-4e42-a77c-d6635ee7c680\"},\"root_ids\":[\"p1066\"]}];\n",
       "  var docs = Object.values(docs_json)\n",
       "  if (!docs) {\n",
       "    return\n",
       "  }\n",
       "  const py_version = docs[0].version.replace('rc', '-rc.').replace('.dev', '-dev.')\n",
       "  function embed_document(root) {\n",
       "    var Bokeh = get_bokeh(root)\n",
       "    Bokeh.embed.embed_items_notebook(docs_json, render_items);\n",
       "    for (const render_item of render_items) {\n",
       "      for (const root_id of render_item.root_ids) {\n",
       "\tconst id_el = document.getElementById(root_id)\n",
       "\tif (id_el.children.length && (id_el.children[0].className === 'bk-root')) {\n",
       "\t  const root_el = id_el.children[0]\n",
       "\t  root_el.id = root_el.id + '-rendered'\n",
       "\t}\n",
       "      }\n",
       "    }\n",
       "  }\n",
       "  function get_bokeh(root) {\n",
       "    if (root.Bokeh === undefined) {\n",
       "      return null\n",
       "    } else if (root.Bokeh.version !== py_version) {\n",
       "      if (root.Bokeh.versions === undefined || !root.Bokeh.versions.has(py_version)) {\n",
       "\treturn null\n",
       "      }\n",
       "      return root.Bokeh.versions.get(py_version);\n",
       "    } else if (root.Bokeh.version === py_version) {\n",
       "      return root.Bokeh\n",
       "    }\n",
       "    return null\n",
       "  }\n",
       "  function is_loaded(root) {\n",
       "    var Bokeh = get_bokeh(root)\n",
       "    return (Bokeh != null && Bokeh.Panel !== undefined)\n",
       "  }\n",
       "  if (is_loaded(root)) {\n",
       "    embed_document(root);\n",
       "  } else {\n",
       "    var attempts = 0;\n",
       "    var timer = setInterval(function(root) {\n",
       "      if (is_loaded(root)) {\n",
       "        clearInterval(timer);\n",
       "        embed_document(root);\n",
       "      } else if (document.readyState == \"complete\") {\n",
       "        attempts++;\n",
       "        if (attempts > 200) {\n",
       "          clearInterval(timer);\n",
       "\t  var Bokeh = get_bokeh(root)\n",
       "\t  if (Bokeh == null || Bokeh.Panel == null) {\n",
       "            console.warn(\"Panel: ERROR: Unable to run Panel code because Bokeh or Panel library is missing\");\n",
       "\t  } else {\n",
       "\t    console.warn(\"Panel: WARNING: Attempting to render but not all required libraries could be resolved.\")\n",
       "\t    embed_document(root)\n",
       "\t  }\n",
       "        }\n",
       "      }\n",
       "    }, 25, root)\n",
       "  }\n",
       "})(window);</script>"
      ],
      "text/plain": [
       ":Bars   [line]   (estimateArrive)"
      ]
     },
     "execution_count": 34,
     "metadata": {
      "application/vnd.holoviews_exec.v0+json": {
       "id": "p1066"
      }
     },
     "output_type": "execute_result"
    }
   ],
   "source": [
    "sample_data.group_by(pl.col('line')).mean().select(pl.col('line'),pl.col('estimateArrive')).collect().plot.bar(x='line')"
   ]
  },
  {
   "cell_type": "markdown",
   "metadata": {},
   "source": [
    "### Conclusión"
   ]
  },
  {
   "cell_type": "markdown",
   "metadata": {},
   "source": [
    "Según que línea sea, el tiempo medio de espera varia bastante. Por lo que esta variable va a ser necesaria a la hora de la creación de nuestro modelo."
   ]
  },
  {
   "cell_type": "markdown",
   "metadata": {},
   "source": [
    "## Variable `stop`"
   ]
  },
  {
   "cell_type": "markdown",
   "metadata": {},
   "source": [
    "### Valores nulos"
   ]
  },
  {
   "cell_type": "code",
   "execution_count": 35,
   "metadata": {},
   "outputs": [
    {
     "data": {
      "text/html": [
       "<div><style>\n",
       ".dataframe > thead > tr,\n",
       ".dataframe > tbody > tr {\n",
       "  text-align: right;\n",
       "  white-space: pre-wrap;\n",
       "}\n",
       "</style>\n",
       "<small>shape: (5, 2)</small><table border=\"1\" class=\"dataframe\"><thead><tr><th>stop</th><th>count</th></tr><tr><td>i64</td><td>u32</td></tr></thead><tbody><tr><td>3683</td><td>1690</td></tr><tr><td>4734</td><td>1707</td></tr><tr><td>4731</td><td>1724</td></tr><tr><td>42</td><td>8582</td></tr><tr><td>134</td><td>6831</td></tr></tbody></table></div>"
      ],
      "text/plain": [
       "shape: (5, 2)\n",
       "┌──────┬───────┐\n",
       "│ stop ┆ count │\n",
       "│ ---  ┆ ---   │\n",
       "│ i64  ┆ u32   │\n",
       "╞══════╪═══════╡\n",
       "│ 3683 ┆ 1690  │\n",
       "│ 4734 ┆ 1707  │\n",
       "│ 4731 ┆ 1724  │\n",
       "│ 42   ┆ 8582  │\n",
       "│ 134  ┆ 6831  │\n",
       "└──────┴───────┘"
      ]
     },
     "execution_count": 35,
     "metadata": {},
     "output_type": "execute_result"
    }
   ],
   "source": [
    "sample_data.group_by(pl.col('stop')).count().head().collect()"
   ]
  },
  {
   "cell_type": "markdown",
   "metadata": {},
   "source": [
    "### Correlación"
   ]
  },
  {
   "cell_type": "code",
   "execution_count": 36,
   "metadata": {},
   "outputs": [
    {
     "data": {
      "text/html": [
       "<div><style>\n",
       ".dataframe > thead > tr,\n",
       ".dataframe > tbody > tr {\n",
       "  text-align: right;\n",
       "  white-space: pre-wrap;\n",
       "}\n",
       "</style>\n",
       "<small>shape: (1, 1)</small><table border=\"1\" class=\"dataframe\"><thead><tr><th>stop</th></tr><tr><td>f64</td></tr></thead><tbody><tr><td>0.023113</td></tr></tbody></table></div>"
      ],
      "text/plain": [
       "shape: (1, 1)\n",
       "┌──────────┐\n",
       "│ stop     │\n",
       "│ ---      │\n",
       "│ f64      │\n",
       "╞══════════╡\n",
       "│ 0.023113 │\n",
       "└──────────┘"
      ]
     },
     "execution_count": 36,
     "metadata": {},
     "output_type": "execute_result"
    }
   ],
   "source": [
    "sample_data.select(pl.corr('stop','estimateArrive')).head().collect()"
   ]
  },
  {
   "cell_type": "markdown",
   "metadata": {},
   "source": [
    "### Gráfico"
   ]
  },
  {
   "cell_type": "code",
   "execution_count": 37,
   "metadata": {},
   "outputs": [
    {
     "data": {},
     "metadata": {},
     "output_type": "display_data"
    },
    {
     "data": {
      "application/vnd.holoviews_exec.v0+json": "",
      "text/html": [
       "<div id='p1128'>\n",
       "  <div id=\"bbcb825c-ac68-4d09-b094-3077d51f2bf5\" data-root-id=\"p1128\" style=\"display: contents;\"></div>\n",
       "</div>\n",
       "<script type=\"application/javascript\">(function(root) {\n",
       "  var docs_json = {\"1644e0a9-23a5-42e4-8f2f-4b6fa27a0984\":{\"version\":\"3.4.0\",\"title\":\"Bokeh Application\",\"roots\":[{\"type\":\"object\",\"name\":\"Row\",\"id\":\"p1128\",\"attributes\":{\"name\":\"Row01157\",\"tags\":[\"embedded\"],\"stylesheets\":[\"\\n:host(.pn-loading):before, .pn-loading:before {\\n  background-color: #c3c3c3;\\n  mask-size: auto calc(min(50%, 400px));\\n  -webkit-mask-size: auto calc(min(50%, 400px));\\n}\",{\"type\":\"object\",\"name\":\"ImportedStyleSheet\",\"id\":\"p1131\",\"attributes\":{\"url\":\"https://cdn.holoviz.org/panel/1.4.0/dist/css/loading.css\"}},{\"type\":\"object\",\"name\":\"ImportedStyleSheet\",\"id\":\"p1187\",\"attributes\":{\"url\":\"https://cdn.holoviz.org/panel/1.4.0/dist/css/listpanel.css\"}},{\"type\":\"object\",\"name\":\"ImportedStyleSheet\",\"id\":\"p1129\",\"attributes\":{\"url\":\"https://cdn.holoviz.org/panel/1.4.0/dist/bundled/theme/default.css\"}},{\"type\":\"object\",\"name\":\"ImportedStyleSheet\",\"id\":\"p1130\",\"attributes\":{\"url\":\"https://cdn.holoviz.org/panel/1.4.0/dist/bundled/theme/native.css\"}}],\"min_width\":700,\"margin\":0,\"sizing_mode\":\"stretch_width\",\"align\":\"start\",\"children\":[{\"type\":\"object\",\"name\":\"Spacer\",\"id\":\"p1132\",\"attributes\":{\"name\":\"HSpacer01164\",\"stylesheets\":[\"\\n:host(.pn-loading):before, .pn-loading:before {\\n  background-color: #c3c3c3;\\n  mask-size: auto calc(min(50%, 400px));\\n  -webkit-mask-size: auto calc(min(50%, 400px));\\n}\",{\"id\":\"p1131\"},{\"id\":\"p1129\"},{\"id\":\"p1130\"}],\"margin\":0,\"sizing_mode\":\"stretch_width\",\"align\":\"start\"}},{\"type\":\"object\",\"name\":\"Figure\",\"id\":\"p1140\",\"attributes\":{\"width\":700,\"height\":300,\"margin\":[5,10],\"sizing_mode\":\"fixed\",\"align\":\"start\",\"x_range\":{\"type\":\"object\",\"name\":\"FactorRange\",\"id\":\"p1133\",\"attributes\":{\"tags\":[[[\"stop\",\"stop\",null]],[]],\"factors\":[\"1751\",\"4731\",\"1852\",\"33\",\"5511\",\"1843\",\"4734\",\"30\",\"5395\",\"1617\",\"5919\",\"140\",\"1745\",\"2653\",\"402\",\"39\",\"4502\",\"3683\",\"1846\",\"5806\",\"399\",\"3826\",\"4493\",\"1739\",\"5517\",\"134\",\"1736\",\"1489\",\"1602\",\"1608\",\"5267\",\"51022\",\"3823\",\"5803\",\"146\",\"4752\",\"1837\",\"271\",\"42\",\"5020\",\"5133\",\"3671\",\"5800\",\"212\",\"4264\",\"1376\",\"1507\",\"54\",\"1760\",\"218\",\"203\",\"87\",\"3621\",\"1501\",\"3874\",\"5982\",\"78\",\"2150\",\"215\",\"1498\",\"3603\",\"5443\",\"4273\",\"5458\",\"3594\",\"1623\",\"4651\",\"60\",\"66\",\"72\",\"224\",\"4508\",\"1629\",\"1364\",\"5333\",\"1537\",\"242\",\"5610\",\"3279\",\"5747\",\"236\",\"5634\",\"3544\",\"1850\",\"138\",\"126\",\"4708\",\"132\",\"5911\",\"269\",\"3794\",\"1558\",\"5887\",\"5604\",\"3270\",\"3249\",\"4732\",\"1025\",\"510\",\"5518\",\"1552\",\"5899\",\"3261\",\"501\",\"1841\",\"3267\",\"3252\",\"230\",\"5607\",\"1022\",\"3258\",\"1546\",\"5018\",\"1374\",\"52\",\"5926\",\"1505\",\"1487\",\"1743\",\"1368\",\"4741\",\"37\",\"3580\",\"5917\",\"4354\",\"1606\",\"5399\",\"4366\",\"3568\",\"5804\",\"1496\",\"51023\",\"1615\",\"5798\",\"2148\",\"1734\",\"4777\",\"1633\",\"5807\",\"1627\",\"1621\",\"5801\",\"1612\",\"1749\",\"3869\",\"222\",\"3634\",\"1550\",\"228\",\"499\",\"1532\",\"3247\",\"3256\",\"88\",\"3872\",\"1377\",\"1544\",\"240\",\"3771\",\"234\",\"210\",\"5605\",\"5611\",\"85\",\"1556\",\"5602\",\"3253\",\"1511\",\"207\",\"2970\",\"82\",\"4268\",\"1517\",\"5337\",\"5608\",\"4033\",\"3664\",\"3566\",\"1839\",\"3670\",\"1848\",\"1851\",\"5894\",\"3822\",\"5915\",\"5927\",\"29\",\"136\",\"5632\",\"5799\",\"5921\",\"4736\",\"1866\",\"145\",\"1845\",\"1604\",\"5635\",\"5397\",\"246\",\"1732\",\"130\",\"4968\",\"5802\",\"1610\",\"4382\",\"1366\",\"56\",\"3620\",\"3870\",\"4266\",\"4495\",\"205\",\"5016\",\"4501\",\"3605\",\"1762\",\"1503\",\"35\",\"1357\",\"1741\",\"4230\",\"3733\",\"1500\",\"1488\",\"1509\",\"1619\",\"1494\",\"3578\",\"1360\",\"62\",\"1631\",\"1625\",\"47\",\"44\",\"50\",\"208\",\"1515\",\"1753\",\"5805\",\"65\",\"3769\",\"3269\",\"3790\",\"503\",\"1542\",\"214\",\"244\",\"2864\",\"5606\",\"220\",\"5612\",\"253\",\"1554\",\"226\",\"5603\",\"5633\",\"5609\",\"89\",\"232\",\"86\",\"1530\",\"3254\",\"128\",\"3796\",\"1021\",\"3623\",\"5892\",\"2968\",\"3260\",\"3918\",\"5329\",\"3272\",\"3778\",\"509\",\"5996\",\"3245\",\"5984\",\"5636\",\"497\",\"1548\",\"250\",\"5722\"]}},\"y_range\":{\"type\":\"object\",\"name\":\"Range1d\",\"id\":\"p1134\",\"attributes\":{\"tags\":[[[\"estimateArrive\",\"estimateArrive\",null]],{\"type\":\"map\",\"entries\":[[\"invert_yaxis\",false],[\"autorange\",false]]}],\"end\":1459.4928160593831,\"reset_start\":0.0,\"reset_end\":1459.4928160593831}},\"x_scale\":{\"type\":\"object\",\"name\":\"CategoricalScale\",\"id\":\"p1150\"},\"y_scale\":{\"type\":\"object\",\"name\":\"LinearScale\",\"id\":\"p1151\"},\"title\":{\"type\":\"object\",\"name\":\"Title\",\"id\":\"p1143\",\"attributes\":{\"text_color\":\"black\",\"text_font_size\":\"12pt\"}},\"renderers\":[{\"type\":\"object\",\"name\":\"GlyphRenderer\",\"id\":\"p1180\",\"attributes\":{\"data_source\":{\"type\":\"object\",\"name\":\"ColumnDataSource\",\"id\":\"p1171\",\"attributes\":{\"selected\":{\"type\":\"object\",\"name\":\"Selection\",\"id\":\"p1172\",\"attributes\":{\"indices\":[],\"line_indices\":[]}},\"selection_policy\":{\"type\":\"object\",\"name\":\"UnionRenderers\",\"id\":\"p1173\"},\"data\":{\"type\":\"map\",\"entries\":[[\"stop\",[\"1751\",\"4731\",\"1852\",\"33\",\"5511\",\"1843\",\"4734\",\"30\",\"5395\",\"1617\",\"5919\",\"140\",\"1745\",\"2653\",\"402\",\"39\",\"4502\",\"3683\",\"1846\",\"5806\",\"399\",\"3826\",\"4493\",\"1739\",\"5517\",\"134\",\"1736\",\"1489\",\"1602\",\"1608\",\"5267\",\"51022\",\"3823\",\"5803\",\"146\",\"4752\",\"1837\",\"271\",\"42\",\"5020\",\"5133\",\"3671\",\"5800\",\"212\",\"4264\",\"1376\",\"1507\",\"54\",\"1760\",\"218\",\"203\",\"87\",\"3621\",\"1501\",\"3874\",\"5982\",\"78\",\"2150\",\"215\",\"1498\",\"3603\",\"5443\",\"4273\",\"5458\",\"3594\",\"1623\",\"4651\",\"60\",\"66\",\"72\",\"224\",\"4508\",\"1629\",\"1364\",\"5333\",\"1537\",\"242\",\"5610\",\"3279\",\"5747\",\"236\",\"5634\",\"3544\",\"1850\",\"138\",\"126\",\"4708\",\"132\",\"5911\",\"269\",\"3794\",\"1558\",\"5887\",\"5604\",\"3270\",\"3249\",\"4732\",\"1025\",\"510\",\"5518\",\"1552\",\"5899\",\"3261\",\"501\",\"1841\",\"3267\",\"3252\",\"230\",\"5607\",\"1022\",\"3258\",\"1546\",\"5018\",\"1374\",\"52\",\"5926\",\"1505\",\"1487\",\"1743\",\"1368\",\"4741\",\"37\",\"3580\",\"5917\",\"4354\",\"1606\",\"5399\",\"4366\",\"3568\",\"5804\",\"1496\",\"51023\",\"1615\",\"5798\",\"2148\",\"1734\",\"4777\",\"1633\",\"5807\",\"1627\",\"1621\",\"5801\",\"1612\",\"1749\",\"3869\",\"222\",\"3634\",\"1550\",\"228\",\"499\",\"1532\",\"3247\",\"3256\",\"88\",\"3872\",\"1377\",\"1544\",\"240\",\"3771\",\"234\",\"210\",\"5605\",\"5611\",\"85\",\"1556\",\"5602\",\"3253\",\"1511\",\"207\",\"2970\",\"82\",\"4268\",\"1517\",\"5337\",\"5608\",\"4033\",\"3664\",\"3566\",\"1839\",\"3670\",\"1848\",\"1851\",\"5894\",\"3822\",\"5915\",\"5927\",\"29\",\"136\",\"5632\",\"5799\",\"5921\",\"4736\",\"1866\",\"145\",\"1845\",\"1604\",\"5635\",\"5397\",\"246\",\"1732\",\"130\",\"4968\",\"5802\",\"1610\",\"4382\",\"1366\",\"56\",\"3620\",\"3870\",\"4266\",\"4495\",\"205\",\"5016\",\"4501\",\"3605\",\"1762\",\"1503\",\"35\",\"1357\",\"1741\",\"4230\",\"3733\",\"1500\",\"1488\",\"1509\",\"1619\",\"1494\",\"3578\",\"1360\",\"62\",\"1631\",\"1625\",\"47\",\"44\",\"50\",\"208\",\"1515\",\"1753\",\"5805\",\"65\",\"3769\",\"3269\",\"3790\",\"503\",\"1542\",\"214\",\"244\",\"2864\",\"5606\",\"220\",\"5612\",\"253\",\"1554\",\"226\",\"5603\",\"5633\",\"5609\",\"89\",\"232\",\"86\",\"1530\",\"3254\",\"128\",\"3796\",\"1021\",\"3623\",\"5892\",\"2968\",\"3260\",\"3918\",\"5329\",\"3272\",\"3778\",\"509\",\"5996\",\"3245\",\"5984\",\"5636\",\"497\",\"1548\",\"250\",\"5722\"]],[\"estimateArrive\",{\"type\":\"ndarray\",\"array\":{\"type\":\"bytes\",\"data\":\"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\"},\"shape\":[282],\"dtype\":\"float64\",\"order\":\"little\"}]]}}},\"view\":{\"type\":\"object\",\"name\":\"CDSView\",\"id\":\"p1181\",\"attributes\":{\"filter\":{\"type\":\"object\",\"name\":\"AllIndices\",\"id\":\"p1182\"}}},\"glyph\":{\"type\":\"object\",\"name\":\"VBar\",\"id\":\"p1177\",\"attributes\":{\"tags\":[\"apply_ranges\"],\"x\":{\"type\":\"field\",\"field\":\"stop\"},\"width\":{\"type\":\"value\",\"value\":0.8},\"top\":{\"type\":\"field\",\"field\":\"estimateArrive\"},\"fill_color\":{\"type\":\"value\",\"value\":\"#30a2da\"},\"hatch_color\":{\"type\":\"value\",\"value\":\"#30a2da\"}}},\"selection_glyph\":{\"type\":\"object\",\"name\":\"VBar\",\"id\":\"p1183\",\"attributes\":{\"tags\":[\"apply_ranges\"],\"x\":{\"type\":\"field\",\"field\":\"stop\"},\"width\":{\"type\":\"value\",\"value\":0.8},\"bottom\":{\"type\":\"value\",\"value\":0},\"top\":{\"type\":\"field\",\"field\":\"estimateArrive\"},\"line_color\":{\"type\":\"value\",\"value\":\"black\"},\"line_alpha\":{\"type\":\"value\",\"value\":1.0},\"line_width\":{\"type\":\"value\",\"value\":1},\"line_join\":{\"type\":\"value\",\"value\":\"bevel\"},\"line_cap\":{\"type\":\"value\",\"value\":\"butt\"},\"line_dash\":{\"type\":\"value\",\"value\":[]},\"line_dash_offset\":{\"type\":\"value\",\"value\":0},\"fill_color\":{\"type\":\"value\",\"value\":\"#30a2da\"},\"fill_alpha\":{\"type\":\"value\",\"value\":1.0},\"hatch_color\":{\"type\":\"value\",\"value\":\"#30a2da\"},\"hatch_alpha\":{\"type\":\"value\",\"value\":1.0},\"hatch_scale\":{\"type\":\"value\",\"value\":12.0},\"hatch_pattern\":{\"type\":\"value\",\"value\":null},\"hatch_weight\":{\"type\":\"value\",\"value\":1.0}}},\"nonselection_glyph\":{\"type\":\"object\",\"name\":\"VBar\",\"id\":\"p1178\",\"attributes\":{\"tags\":[\"apply_ranges\"],\"x\":{\"type\":\"field\",\"field\":\"stop\"},\"width\":{\"type\":\"value\",\"value\":0.8},\"top\":{\"type\":\"field\",\"field\":\"estimateArrive\"},\"line_alpha\":{\"type\":\"value\",\"value\":0.1},\"fill_color\":{\"type\":\"value\",\"value\":\"#30a2da\"},\"fill_alpha\":{\"type\":\"value\",\"value\":0.1},\"hatch_color\":{\"type\":\"value\",\"value\":\"#30a2da\"},\"hatch_alpha\":{\"type\":\"value\",\"value\":0.1}}},\"muted_glyph\":{\"type\":\"object\",\"name\":\"VBar\",\"id\":\"p1179\",\"attributes\":{\"tags\":[\"apply_ranges\"],\"x\":{\"type\":\"field\",\"field\":\"stop\"},\"width\":{\"type\":\"value\",\"value\":0.8},\"top\":{\"type\":\"field\",\"field\":\"estimateArrive\"},\"line_alpha\":{\"type\":\"value\",\"value\":0.2},\"fill_color\":{\"type\":\"value\",\"value\":\"#30a2da\"},\"fill_alpha\":{\"type\":\"value\",\"value\":0.2},\"hatch_color\":{\"type\":\"value\",\"value\":\"#30a2da\"},\"hatch_alpha\":{\"type\":\"value\",\"value\":0.2}}}}}],\"toolbar\":{\"type\":\"object\",\"name\":\"Toolbar\",\"id\":\"p1149\",\"attributes\":{\"tools\":[{\"type\":\"object\",\"name\":\"WheelZoomTool\",\"id\":\"p1138\",\"attributes\":{\"tags\":[\"hv_created\"],\"renderers\":\"auto\",\"zoom_together\":\"none\"}},{\"type\":\"object\",\"name\":\"HoverTool\",\"id\":\"p1139\",\"attributes\":{\"tags\":[\"hv_created\"],\"renderers\":[{\"id\":\"p1180\"}],\"tooltips\":[[\"stop\",\"@{stop}\"],[\"estimateArrive\",\"@{estimateArrive}\"]]}},{\"type\":\"object\",\"name\":\"SaveTool\",\"id\":\"p1162\"},{\"type\":\"object\",\"name\":\"PanTool\",\"id\":\"p1163\"},{\"type\":\"object\",\"name\":\"BoxZoomTool\",\"id\":\"p1164\",\"attributes\":{\"overlay\":{\"type\":\"object\",\"name\":\"BoxAnnotation\",\"id\":\"p1165\",\"attributes\":{\"syncable\":false,\"level\":\"overlay\",\"visible\":false,\"left\":{\"type\":\"number\",\"value\":\"nan\"},\"right\":{\"type\":\"number\",\"value\":\"nan\"},\"top\":{\"type\":\"number\",\"value\":\"nan\"},\"bottom\":{\"type\":\"number\",\"value\":\"nan\"},\"left_units\":\"canvas\",\"right_units\":\"canvas\",\"top_units\":\"canvas\",\"bottom_units\":\"canvas\",\"line_color\":\"black\",\"line_alpha\":1.0,\"line_width\":2,\"line_dash\":[4,4],\"fill_color\":\"lightgrey\",\"fill_alpha\":0.5}}}},{\"type\":\"object\",\"name\":\"ResetTool\",\"id\":\"p1170\"}],\"active_drag\":{\"id\":\"p1163\"},\"active_scroll\":{\"id\":\"p1138\"}}},\"left\":[{\"type\":\"object\",\"name\":\"LinearAxis\",\"id\":\"p1157\",\"attributes\":{\"ticker\":{\"type\":\"object\",\"name\":\"BasicTicker\",\"id\":\"p1158\",\"attributes\":{\"mantissas\":[1,2,5]}},\"formatter\":{\"type\":\"object\",\"name\":\"BasicTickFormatter\",\"id\":\"p1159\"},\"axis_label\":\"estimateArrive\",\"major_label_policy\":{\"type\":\"object\",\"name\":\"AllLabels\",\"id\":\"p1160\"}}}],\"below\":[{\"type\":\"object\",\"name\":\"CategoricalAxis\",\"id\":\"p1152\",\"attributes\":{\"ticker\":{\"type\":\"object\",\"name\":\"CategoricalTicker\",\"id\":\"p1153\"},\"formatter\":{\"type\":\"object\",\"name\":\"CategoricalTickFormatter\",\"id\":\"p1154\"},\"axis_label\":\"stop\",\"major_label_policy\":{\"type\":\"object\",\"name\":\"AllLabels\",\"id\":\"p1155\"}}}],\"center\":[{\"type\":\"object\",\"name\":\"Grid\",\"id\":\"p1156\",\"attributes\":{\"axis\":{\"id\":\"p1152\"},\"grid_line_color\":null}},{\"type\":\"object\",\"name\":\"Grid\",\"id\":\"p1161\",\"attributes\":{\"dimension\":1,\"axis\":{\"id\":\"p1157\"},\"grid_line_color\":null}}],\"min_border_top\":10,\"min_border_bottom\":10,\"min_border_left\":10,\"min_border_right\":10,\"output_backend\":\"webgl\"}},{\"type\":\"object\",\"name\":\"Spacer\",\"id\":\"p1185\",\"attributes\":{\"name\":\"HSpacer01165\",\"stylesheets\":[\"\\n:host(.pn-loading):before, .pn-loading:before {\\n  background-color: #c3c3c3;\\n  mask-size: auto calc(min(50%, 400px));\\n  -webkit-mask-size: auto calc(min(50%, 400px));\\n}\",{\"id\":\"p1131\"},{\"id\":\"p1129\"},{\"id\":\"p1130\"}],\"margin\":0,\"sizing_mode\":\"stretch_width\",\"align\":\"start\"}}]}}],\"defs\":[{\"type\":\"model\",\"name\":\"ReactiveHTML1\"},{\"type\":\"model\",\"name\":\"FlexBox1\",\"properties\":[{\"name\":\"align_content\",\"kind\":\"Any\",\"default\":\"flex-start\"},{\"name\":\"align_items\",\"kind\":\"Any\",\"default\":\"flex-start\"},{\"name\":\"flex_direction\",\"kind\":\"Any\",\"default\":\"row\"},{\"name\":\"flex_wrap\",\"kind\":\"Any\",\"default\":\"wrap\"},{\"name\":\"justify_content\",\"kind\":\"Any\",\"default\":\"flex-start\"},{\"name\":\"gap\",\"kind\":\"Any\",\"default\":\"\"}]},{\"type\":\"model\",\"name\":\"FloatPanel1\",\"properties\":[{\"name\":\"config\",\"kind\":\"Any\",\"default\":{\"type\":\"map\"}},{\"name\":\"contained\",\"kind\":\"Any\",\"default\":true},{\"name\":\"position\",\"kind\":\"Any\",\"default\":\"right-top\"},{\"name\":\"offsetx\",\"kind\":\"Any\",\"default\":null},{\"name\":\"offsety\",\"kind\":\"Any\",\"default\":null},{\"name\":\"theme\",\"kind\":\"Any\",\"default\":\"primary\"},{\"name\":\"status\",\"kind\":\"Any\",\"default\":\"normalized\"}]},{\"type\":\"model\",\"name\":\"GridStack1\",\"properties\":[{\"name\":\"mode\",\"kind\":\"Any\",\"default\":\"warn\"},{\"name\":\"ncols\",\"kind\":\"Any\",\"default\":null},{\"name\":\"nrows\",\"kind\":\"Any\",\"default\":null},{\"name\":\"allow_resize\",\"kind\":\"Any\",\"default\":true},{\"name\":\"allow_drag\",\"kind\":\"Any\",\"default\":true},{\"name\":\"state\",\"kind\":\"Any\",\"default\":[]}]},{\"type\":\"model\",\"name\":\"drag1\",\"properties\":[{\"name\":\"slider_width\",\"kind\":\"Any\",\"default\":5},{\"name\":\"slider_color\",\"kind\":\"Any\",\"default\":\"black\"},{\"name\":\"value\",\"kind\":\"Any\",\"default\":50}]},{\"type\":\"model\",\"name\":\"click1\",\"properties\":[{\"name\":\"terminal_output\",\"kind\":\"Any\",\"default\":\"\"},{\"name\":\"debug_name\",\"kind\":\"Any\",\"default\":\"\"},{\"name\":\"clears\",\"kind\":\"Any\",\"default\":0}]},{\"type\":\"model\",\"name\":\"FastWrapper1\",\"properties\":[{\"name\":\"object\",\"kind\":\"Any\",\"default\":null},{\"name\":\"style\",\"kind\":\"Any\",\"default\":null}]},{\"type\":\"model\",\"name\":\"NotificationAreaBase1\",\"properties\":[{\"name\":\"js_events\",\"kind\":\"Any\",\"default\":{\"type\":\"map\"}},{\"name\":\"position\",\"kind\":\"Any\",\"default\":\"bottom-right\"},{\"name\":\"_clear\",\"kind\":\"Any\",\"default\":0}]},{\"type\":\"model\",\"name\":\"NotificationArea1\",\"properties\":[{\"name\":\"js_events\",\"kind\":\"Any\",\"default\":{\"type\":\"map\"}},{\"name\":\"notifications\",\"kind\":\"Any\",\"default\":[]},{\"name\":\"position\",\"kind\":\"Any\",\"default\":\"bottom-right\"},{\"name\":\"_clear\",\"kind\":\"Any\",\"default\":0},{\"name\":\"types\",\"kind\":\"Any\",\"default\":[{\"type\":\"map\",\"entries\":[[\"type\",\"warning\"],[\"background\",\"#ffc107\"],[\"icon\",{\"type\":\"map\",\"entries\":[[\"className\",\"fas fa-exclamation-triangle\"],[\"tagName\",\"i\"],[\"color\",\"white\"]]}]]},{\"type\":\"map\",\"entries\":[[\"type\",\"info\"],[\"background\",\"#007bff\"],[\"icon\",{\"type\":\"map\",\"entries\":[[\"className\",\"fas fa-info-circle\"],[\"tagName\",\"i\"],[\"color\",\"white\"]]}]]}]}]},{\"type\":\"model\",\"name\":\"Notification\",\"properties\":[{\"name\":\"background\",\"kind\":\"Any\",\"default\":null},{\"name\":\"duration\",\"kind\":\"Any\",\"default\":3000},{\"name\":\"icon\",\"kind\":\"Any\",\"default\":null},{\"name\":\"message\",\"kind\":\"Any\",\"default\":\"\"},{\"name\":\"notification_type\",\"kind\":\"Any\",\"default\":null},{\"name\":\"_destroyed\",\"kind\":\"Any\",\"default\":false}]},{\"type\":\"model\",\"name\":\"TemplateActions1\",\"properties\":[{\"name\":\"open_modal\",\"kind\":\"Any\",\"default\":0},{\"name\":\"close_modal\",\"kind\":\"Any\",\"default\":0}]},{\"type\":\"model\",\"name\":\"BootstrapTemplateActions1\",\"properties\":[{\"name\":\"open_modal\",\"kind\":\"Any\",\"default\":0},{\"name\":\"close_modal\",\"kind\":\"Any\",\"default\":0}]},{\"type\":\"model\",\"name\":\"TemplateEditor1\",\"properties\":[{\"name\":\"layout\",\"kind\":\"Any\",\"default\":[]}]},{\"type\":\"model\",\"name\":\"MaterialTemplateActions1\",\"properties\":[{\"name\":\"open_modal\",\"kind\":\"Any\",\"default\":0},{\"name\":\"close_modal\",\"kind\":\"Any\",\"default\":0}]},{\"type\":\"model\",\"name\":\"copy_to_clipboard1\",\"properties\":[{\"name\":\"fill\",\"kind\":\"Any\",\"default\":\"none\"},{\"name\":\"value\",\"kind\":\"Any\",\"default\":null}]}]}};\n",
       "  var render_items = [{\"docid\":\"1644e0a9-23a5-42e4-8f2f-4b6fa27a0984\",\"roots\":{\"p1128\":\"bbcb825c-ac68-4d09-b094-3077d51f2bf5\"},\"root_ids\":[\"p1128\"]}];\n",
       "  var docs = Object.values(docs_json)\n",
       "  if (!docs) {\n",
       "    return\n",
       "  }\n",
       "  const py_version = docs[0].version.replace('rc', '-rc.').replace('.dev', '-dev.')\n",
       "  function embed_document(root) {\n",
       "    var Bokeh = get_bokeh(root)\n",
       "    Bokeh.embed.embed_items_notebook(docs_json, render_items);\n",
       "    for (const render_item of render_items) {\n",
       "      for (const root_id of render_item.root_ids) {\n",
       "\tconst id_el = document.getElementById(root_id)\n",
       "\tif (id_el.children.length && (id_el.children[0].className === 'bk-root')) {\n",
       "\t  const root_el = id_el.children[0]\n",
       "\t  root_el.id = root_el.id + '-rendered'\n",
       "\t}\n",
       "      }\n",
       "    }\n",
       "  }\n",
       "  function get_bokeh(root) {\n",
       "    if (root.Bokeh === undefined) {\n",
       "      return null\n",
       "    } else if (root.Bokeh.version !== py_version) {\n",
       "      if (root.Bokeh.versions === undefined || !root.Bokeh.versions.has(py_version)) {\n",
       "\treturn null\n",
       "      }\n",
       "      return root.Bokeh.versions.get(py_version);\n",
       "    } else if (root.Bokeh.version === py_version) {\n",
       "      return root.Bokeh\n",
       "    }\n",
       "    return null\n",
       "  }\n",
       "  function is_loaded(root) {\n",
       "    var Bokeh = get_bokeh(root)\n",
       "    return (Bokeh != null && Bokeh.Panel !== undefined)\n",
       "  }\n",
       "  if (is_loaded(root)) {\n",
       "    embed_document(root);\n",
       "  } else {\n",
       "    var attempts = 0;\n",
       "    var timer = setInterval(function(root) {\n",
       "      if (is_loaded(root)) {\n",
       "        clearInterval(timer);\n",
       "        embed_document(root);\n",
       "      } else if (document.readyState == \"complete\") {\n",
       "        attempts++;\n",
       "        if (attempts > 200) {\n",
       "          clearInterval(timer);\n",
       "\t  var Bokeh = get_bokeh(root)\n",
       "\t  if (Bokeh == null || Bokeh.Panel == null) {\n",
       "            console.warn(\"Panel: ERROR: Unable to run Panel code because Bokeh or Panel library is missing\");\n",
       "\t  } else {\n",
       "\t    console.warn(\"Panel: WARNING: Attempting to render but not all required libraries could be resolved.\")\n",
       "\t    embed_document(root)\n",
       "\t  }\n",
       "        }\n",
       "      }\n",
       "    }, 25, root)\n",
       "  }\n",
       "})(window);</script>"
      ],
      "text/plain": [
       ":Bars   [stop]   (estimateArrive)"
      ]
     },
     "execution_count": 37,
     "metadata": {
      "application/vnd.holoviews_exec.v0+json": {
       "id": "p1128"
      }
     },
     "output_type": "execute_result"
    }
   ],
   "source": [
    "sample_data.group_by(pl.col('stop')).mean().select(pl.col('stop'),pl.col('estimateArrive')).collect().plot.bar(x='stop')"
   ]
  },
  {
   "cell_type": "markdown",
   "metadata": {},
   "source": [
    "### Conclusión"
   ]
  },
  {
   "cell_type": "markdown",
   "metadata": {},
   "source": [
    "Según que parada sea, el tiempo medio de espera varia bastante. Por lo que esta variable va a ser necesaria a la hora de la creación de nuestro modelo."
   ]
  },
  {
   "cell_type": "markdown",
   "metadata": {},
   "source": [
    "## Variable `positionBusLon`"
   ]
  },
  {
   "cell_type": "markdown",
   "metadata": {},
   "source": [
    "### Valores nulos"
   ]
  },
  {
   "cell_type": "code",
   "execution_count": 38,
   "metadata": {},
   "outputs": [
    {
     "data": {
      "text/html": [
       "<div><style>\n",
       ".dataframe > thead > tr,\n",
       ".dataframe > tbody > tr {\n",
       "  text-align: right;\n",
       "  white-space: pre-wrap;\n",
       "}\n",
       "</style>\n",
       "<small>shape: (5, 2)</small><table border=\"1\" class=\"dataframe\"><thead><tr><th>positionBusLon</th><th>count</th></tr><tr><td>f64</td><td>u32</td></tr></thead><tbody><tr><td>-3.696234</td><td>1</td></tr><tr><td>-3.683396</td><td>4</td></tr><tr><td>-3.69792</td><td>4</td></tr><tr><td>-3.667227</td><td>12</td></tr><tr><td>-3.70219</td><td>14</td></tr></tbody></table></div>"
      ],
      "text/plain": [
       "shape: (5, 2)\n",
       "┌────────────────┬───────┐\n",
       "│ positionBusLon ┆ count │\n",
       "│ ---            ┆ ---   │\n",
       "│ f64            ┆ u32   │\n",
       "╞════════════════╪═══════╡\n",
       "│ -3.696234      ┆ 1     │\n",
       "│ -3.683396      ┆ 4     │\n",
       "│ -3.69792       ┆ 4     │\n",
       "│ -3.667227      ┆ 12    │\n",
       "│ -3.70219       ┆ 14    │\n",
       "└────────────────┴───────┘"
      ]
     },
     "execution_count": 38,
     "metadata": {},
     "output_type": "execute_result"
    }
   ],
   "source": [
    "sample_data.group_by(pl.col('positionBusLon')).count().head().collect()"
   ]
  },
  {
   "cell_type": "markdown",
   "metadata": {},
   "source": [
    "### Correlación"
   ]
  },
  {
   "cell_type": "code",
   "execution_count": 39,
   "metadata": {},
   "outputs": [
    {
     "data": {
      "text/html": [
       "<div><style>\n",
       ".dataframe > thead > tr,\n",
       ".dataframe > tbody > tr {\n",
       "  text-align: right;\n",
       "  white-space: pre-wrap;\n",
       "}\n",
       "</style>\n",
       "<small>shape: (1, 1)</small><table border=\"1\" class=\"dataframe\"><thead><tr><th>positionBusLon</th></tr><tr><td>f64</td></tr></thead><tbody><tr><td>0.047491</td></tr></tbody></table></div>"
      ],
      "text/plain": [
       "shape: (1, 1)\n",
       "┌────────────────┐\n",
       "│ positionBusLon │\n",
       "│ ---            │\n",
       "│ f64            │\n",
       "╞════════════════╡\n",
       "│ 0.047491       │\n",
       "└────────────────┘"
      ]
     },
     "execution_count": 39,
     "metadata": {},
     "output_type": "execute_result"
    }
   ],
   "source": [
    "sample_data.select(pl.corr('positionBusLon','estimateArrive')).head().collect()"
   ]
  },
  {
   "cell_type": "markdown",
   "metadata": {},
   "source": [
    "## Variable `positionBusLat`"
   ]
  },
  {
   "cell_type": "markdown",
   "metadata": {},
   "source": [
    "### Valores nulos"
   ]
  },
  {
   "cell_type": "code",
   "execution_count": 40,
   "metadata": {},
   "outputs": [
    {
     "data": {
      "text/html": [
       "<div><style>\n",
       ".dataframe > thead > tr,\n",
       ".dataframe > tbody > tr {\n",
       "  text-align: right;\n",
       "  white-space: pre-wrap;\n",
       "}\n",
       "</style>\n",
       "<small>shape: (5, 2)</small><table border=\"1\" class=\"dataframe\"><thead><tr><th>positionBusLat</th><th>count</th></tr><tr><td>f64</td><td>u32</td></tr></thead><tbody><tr><td>40.488789</td><td>22</td></tr><tr><td>40.461422</td><td>11</td></tr><tr><td>40.391833</td><td>1</td></tr><tr><td>40.460305</td><td>23</td></tr><tr><td>40.496608</td><td>7</td></tr></tbody></table></div>"
      ],
      "text/plain": [
       "shape: (5, 2)\n",
       "┌────────────────┬───────┐\n",
       "│ positionBusLat ┆ count │\n",
       "│ ---            ┆ ---   │\n",
       "│ f64            ┆ u32   │\n",
       "╞════════════════╪═══════╡\n",
       "│ 40.488789      ┆ 22    │\n",
       "│ 40.461422      ┆ 11    │\n",
       "│ 40.391833      ┆ 1     │\n",
       "│ 40.460305      ┆ 23    │\n",
       "│ 40.496608      ┆ 7     │\n",
       "└────────────────┴───────┘"
      ]
     },
     "execution_count": 40,
     "metadata": {},
     "output_type": "execute_result"
    }
   ],
   "source": [
    "sample_data.group_by(pl.col('positionBusLat')).count().head().collect()"
   ]
  },
  {
   "cell_type": "markdown",
   "metadata": {},
   "source": [
    "### Correlación"
   ]
  },
  {
   "cell_type": "code",
   "execution_count": 41,
   "metadata": {},
   "outputs": [
    {
     "data": {
      "text/html": [
       "<div><style>\n",
       ".dataframe > thead > tr,\n",
       ".dataframe > tbody > tr {\n",
       "  text-align: right;\n",
       "  white-space: pre-wrap;\n",
       "}\n",
       "</style>\n",
       "<small>shape: (1, 1)</small><table border=\"1\" class=\"dataframe\"><thead><tr><th>positionBusLat</th></tr><tr><td>f64</td></tr></thead><tbody><tr><td>-0.04544</td></tr></tbody></table></div>"
      ],
      "text/plain": [
       "shape: (1, 1)\n",
       "┌────────────────┐\n",
       "│ positionBusLat │\n",
       "│ ---            │\n",
       "│ f64            │\n",
       "╞════════════════╡\n",
       "│ -0.04544       │\n",
       "└────────────────┘"
      ]
     },
     "execution_count": 41,
     "metadata": {},
     "output_type": "execute_result"
    }
   ],
   "source": [
    "sample_data.select(pl.corr('positionBusLat','estimateArrive')).head().collect()"
   ]
  },
  {
   "cell_type": "markdown",
   "metadata": {},
   "source": [
    "## Variable `positionTypeBus`"
   ]
  },
  {
   "cell_type": "markdown",
   "metadata": {},
   "source": [
    "### Valores nulos"
   ]
  },
  {
   "cell_type": "code",
   "execution_count": 42,
   "metadata": {},
   "outputs": [
    {
     "data": {
      "text/html": [
       "<div><style>\n",
       ".dataframe > thead > tr,\n",
       ".dataframe > tbody > tr {\n",
       "  text-align: right;\n",
       "  white-space: pre-wrap;\n",
       "}\n",
       "</style>\n",
       "<small>shape: (2, 2)</small><table border=\"1\" class=\"dataframe\"><thead><tr><th>positionTypeBus</th><th>count</th></tr><tr><td>i64</td><td>u32</td></tr></thead><tbody><tr><td>5</td><td>1764</td></tr><tr><td>0</td><td>1131867</td></tr></tbody></table></div>"
      ],
      "text/plain": [
       "shape: (2, 2)\n",
       "┌─────────────────┬─────────┐\n",
       "│ positionTypeBus ┆ count   │\n",
       "│ ---             ┆ ---     │\n",
       "│ i64             ┆ u32     │\n",
       "╞═════════════════╪═════════╡\n",
       "│ 5               ┆ 1764    │\n",
       "│ 0               ┆ 1131867 │\n",
       "└─────────────────┴─────────┘"
      ]
     },
     "execution_count": 42,
     "metadata": {},
     "output_type": "execute_result"
    }
   ],
   "source": [
    "sample_data.group_by(pl.col('positionTypeBus')).count().head().collect()"
   ]
  },
  {
   "cell_type": "markdown",
   "metadata": {},
   "source": [
    "### Correlación"
   ]
  },
  {
   "cell_type": "code",
   "execution_count": 43,
   "metadata": {},
   "outputs": [
    {
     "data": {
      "text/html": [
       "<div><style>\n",
       ".dataframe > thead > tr,\n",
       ".dataframe > tbody > tr {\n",
       "  text-align: right;\n",
       "  white-space: pre-wrap;\n",
       "}\n",
       "</style>\n",
       "<small>shape: (1, 1)</small><table border=\"1\" class=\"dataframe\"><thead><tr><th>positionTypeBus</th></tr><tr><td>f64</td></tr></thead><tbody><tr><td>0.043094</td></tr></tbody></table></div>"
      ],
      "text/plain": [
       "shape: (1, 1)\n",
       "┌─────────────────┐\n",
       "│ positionTypeBus │\n",
       "│ ---             │\n",
       "│ f64             │\n",
       "╞═════════════════╡\n",
       "│ 0.043094        │\n",
       "└─────────────────┘"
      ]
     },
     "execution_count": 43,
     "metadata": {},
     "output_type": "execute_result"
    }
   ],
   "source": [
    "sample_data.select(pl.corr('positionTypeBus','estimateArrive')).head().collect()"
   ]
  },
  {
   "cell_type": "markdown",
   "metadata": {},
   "source": [
    "### Gráfico"
   ]
  },
  {
   "cell_type": "code",
   "execution_count": 44,
   "metadata": {},
   "outputs": [
    {
     "data": {},
     "metadata": {},
     "output_type": "display_data"
    },
    {
     "data": {
      "application/vnd.holoviews_exec.v0+json": "",
      "text/html": [
       "<div id='p1190'>\n",
       "  <div id=\"fbfe8d7b-814e-47cd-be56-4a9d73fffbb0\" data-root-id=\"p1190\" style=\"display: contents;\"></div>\n",
       "</div>\n",
       "<script type=\"application/javascript\">(function(root) {\n",
       "  var docs_json = {\"d8e97b69-816d-4d31-ae23-b5a6b1a0d1a0\":{\"version\":\"3.4.0\",\"title\":\"Bokeh Application\",\"roots\":[{\"type\":\"object\",\"name\":\"Row\",\"id\":\"p1190\",\"attributes\":{\"name\":\"Row01266\",\"tags\":[\"embedded\"],\"stylesheets\":[\"\\n:host(.pn-loading):before, .pn-loading:before {\\n  background-color: #c3c3c3;\\n  mask-size: auto calc(min(50%, 400px));\\n  -webkit-mask-size: auto calc(min(50%, 400px));\\n}\",{\"type\":\"object\",\"name\":\"ImportedStyleSheet\",\"id\":\"p1193\",\"attributes\":{\"url\":\"https://cdn.holoviz.org/panel/1.4.0/dist/css/loading.css\"}},{\"type\":\"object\",\"name\":\"ImportedStyleSheet\",\"id\":\"p1249\",\"attributes\":{\"url\":\"https://cdn.holoviz.org/panel/1.4.0/dist/css/listpanel.css\"}},{\"type\":\"object\",\"name\":\"ImportedStyleSheet\",\"id\":\"p1191\",\"attributes\":{\"url\":\"https://cdn.holoviz.org/panel/1.4.0/dist/bundled/theme/default.css\"}},{\"type\":\"object\",\"name\":\"ImportedStyleSheet\",\"id\":\"p1192\",\"attributes\":{\"url\":\"https://cdn.holoviz.org/panel/1.4.0/dist/bundled/theme/native.css\"}}],\"min_width\":700,\"margin\":0,\"sizing_mode\":\"stretch_width\",\"align\":\"start\",\"children\":[{\"type\":\"object\",\"name\":\"Spacer\",\"id\":\"p1194\",\"attributes\":{\"name\":\"HSpacer01273\",\"stylesheets\":[\"\\n:host(.pn-loading):before, .pn-loading:before {\\n  background-color: #c3c3c3;\\n  mask-size: auto calc(min(50%, 400px));\\n  -webkit-mask-size: auto calc(min(50%, 400px));\\n}\",{\"id\":\"p1193\"},{\"id\":\"p1191\"},{\"id\":\"p1192\"}],\"margin\":0,\"sizing_mode\":\"stretch_width\",\"align\":\"start\"}},{\"type\":\"object\",\"name\":\"Figure\",\"id\":\"p1202\",\"attributes\":{\"width\":700,\"height\":300,\"margin\":[5,10],\"sizing_mode\":\"fixed\",\"align\":\"start\",\"x_range\":{\"type\":\"object\",\"name\":\"FactorRange\",\"id\":\"p1195\",\"attributes\":{\"tags\":[[[\"positionTypeBus\",\"positionTypeBus\",null]],[]],\"factors\":[\"0\",\"5\"]}},\"y_range\":{\"type\":\"object\",\"name\":\"Range1d\",\"id\":\"p1196\",\"attributes\":{\"tags\":[[[\"estimateArrive\",\"estimateArrive\",null]],{\"type\":\"map\",\"entries\":[[\"invert_yaxis\",false],[\"autorange\",false]]}],\"end\":1257.9613304191669,\"reset_start\":0.0,\"reset_end\":1257.9613304191669}},\"x_scale\":{\"type\":\"object\",\"name\":\"CategoricalScale\",\"id\":\"p1212\"},\"y_scale\":{\"type\":\"object\",\"name\":\"LinearScale\",\"id\":\"p1213\"},\"title\":{\"type\":\"object\",\"name\":\"Title\",\"id\":\"p1205\",\"attributes\":{\"text_color\":\"black\",\"text_font_size\":\"12pt\"}},\"renderers\":[{\"type\":\"object\",\"name\":\"GlyphRenderer\",\"id\":\"p1242\",\"attributes\":{\"data_source\":{\"type\":\"object\",\"name\":\"ColumnDataSource\",\"id\":\"p1233\",\"attributes\":{\"selected\":{\"type\":\"object\",\"name\":\"Selection\",\"id\":\"p1234\",\"attributes\":{\"indices\":[],\"line_indices\":[]}},\"selection_policy\":{\"type\":\"object\",\"name\":\"UnionRenderers\",\"id\":\"p1235\"},\"data\":{\"type\":\"map\",\"entries\":[[\"positionTypeBus\",[\"0\",\"5\"]],[\"estimateArrive\",{\"type\":\"ndarray\",\"array\":{\"type\":\"bytes\",\"data\":\"NF4A/+wMhUD/EWkjW9OSQA==\"},\"shape\":[2],\"dtype\":\"float64\",\"order\":\"little\"}]]}}},\"view\":{\"type\":\"object\",\"name\":\"CDSView\",\"id\":\"p1243\",\"attributes\":{\"filter\":{\"type\":\"object\",\"name\":\"AllIndices\",\"id\":\"p1244\"}}},\"glyph\":{\"type\":\"object\",\"name\":\"VBar\",\"id\":\"p1239\",\"attributes\":{\"tags\":[\"apply_ranges\"],\"x\":{\"type\":\"field\",\"field\":\"positionTypeBus\"},\"width\":{\"type\":\"value\",\"value\":0.8},\"top\":{\"type\":\"field\",\"field\":\"estimateArrive\"},\"fill_color\":{\"type\":\"value\",\"value\":\"#30a2da\"},\"hatch_color\":{\"type\":\"value\",\"value\":\"#30a2da\"}}},\"selection_glyph\":{\"type\":\"object\",\"name\":\"VBar\",\"id\":\"p1245\",\"attributes\":{\"tags\":[\"apply_ranges\"],\"x\":{\"type\":\"field\",\"field\":\"positionTypeBus\"},\"width\":{\"type\":\"value\",\"value\":0.8},\"bottom\":{\"type\":\"value\",\"value\":0},\"top\":{\"type\":\"field\",\"field\":\"estimateArrive\"},\"line_color\":{\"type\":\"value\",\"value\":\"black\"},\"line_alpha\":{\"type\":\"value\",\"value\":1.0},\"line_width\":{\"type\":\"value\",\"value\":1},\"line_join\":{\"type\":\"value\",\"value\":\"bevel\"},\"line_cap\":{\"type\":\"value\",\"value\":\"butt\"},\"line_dash\":{\"type\":\"value\",\"value\":[]},\"line_dash_offset\":{\"type\":\"value\",\"value\":0},\"fill_color\":{\"type\":\"value\",\"value\":\"#30a2da\"},\"fill_alpha\":{\"type\":\"value\",\"value\":1.0},\"hatch_color\":{\"type\":\"value\",\"value\":\"#30a2da\"},\"hatch_alpha\":{\"type\":\"value\",\"value\":1.0},\"hatch_scale\":{\"type\":\"value\",\"value\":12.0},\"hatch_pattern\":{\"type\":\"value\",\"value\":null},\"hatch_weight\":{\"type\":\"value\",\"value\":1.0}}},\"nonselection_glyph\":{\"type\":\"object\",\"name\":\"VBar\",\"id\":\"p1240\",\"attributes\":{\"tags\":[\"apply_ranges\"],\"x\":{\"type\":\"field\",\"field\":\"positionTypeBus\"},\"width\":{\"type\":\"value\",\"value\":0.8},\"top\":{\"type\":\"field\",\"field\":\"estimateArrive\"},\"line_alpha\":{\"type\":\"value\",\"value\":0.1},\"fill_color\":{\"type\":\"value\",\"value\":\"#30a2da\"},\"fill_alpha\":{\"type\":\"value\",\"value\":0.1},\"hatch_color\":{\"type\":\"value\",\"value\":\"#30a2da\"},\"hatch_alpha\":{\"type\":\"value\",\"value\":0.1}}},\"muted_glyph\":{\"type\":\"object\",\"name\":\"VBar\",\"id\":\"p1241\",\"attributes\":{\"tags\":[\"apply_ranges\"],\"x\":{\"type\":\"field\",\"field\":\"positionTypeBus\"},\"width\":{\"type\":\"value\",\"value\":0.8},\"top\":{\"type\":\"field\",\"field\":\"estimateArrive\"},\"line_alpha\":{\"type\":\"value\",\"value\":0.2},\"fill_color\":{\"type\":\"value\",\"value\":\"#30a2da\"},\"fill_alpha\":{\"type\":\"value\",\"value\":0.2},\"hatch_color\":{\"type\":\"value\",\"value\":\"#30a2da\"},\"hatch_alpha\":{\"type\":\"value\",\"value\":0.2}}}}}],\"toolbar\":{\"type\":\"object\",\"name\":\"Toolbar\",\"id\":\"p1211\",\"attributes\":{\"tools\":[{\"type\":\"object\",\"name\":\"WheelZoomTool\",\"id\":\"p1200\",\"attributes\":{\"tags\":[\"hv_created\"],\"renderers\":\"auto\",\"zoom_together\":\"none\"}},{\"type\":\"object\",\"name\":\"HoverTool\",\"id\":\"p1201\",\"attributes\":{\"tags\":[\"hv_created\"],\"renderers\":[{\"id\":\"p1242\"}],\"tooltips\":[[\"positionTypeBus\",\"@{positionTypeBus}\"],[\"estimateArrive\",\"@{estimateArrive}\"]]}},{\"type\":\"object\",\"name\":\"SaveTool\",\"id\":\"p1224\"},{\"type\":\"object\",\"name\":\"PanTool\",\"id\":\"p1225\"},{\"type\":\"object\",\"name\":\"BoxZoomTool\",\"id\":\"p1226\",\"attributes\":{\"overlay\":{\"type\":\"object\",\"name\":\"BoxAnnotation\",\"id\":\"p1227\",\"attributes\":{\"syncable\":false,\"level\":\"overlay\",\"visible\":false,\"left\":{\"type\":\"number\",\"value\":\"nan\"},\"right\":{\"type\":\"number\",\"value\":\"nan\"},\"top\":{\"type\":\"number\",\"value\":\"nan\"},\"bottom\":{\"type\":\"number\",\"value\":\"nan\"},\"left_units\":\"canvas\",\"right_units\":\"canvas\",\"top_units\":\"canvas\",\"bottom_units\":\"canvas\",\"line_color\":\"black\",\"line_alpha\":1.0,\"line_width\":2,\"line_dash\":[4,4],\"fill_color\":\"lightgrey\",\"fill_alpha\":0.5}}}},{\"type\":\"object\",\"name\":\"ResetTool\",\"id\":\"p1232\"}],\"active_drag\":{\"id\":\"p1225\"},\"active_scroll\":{\"id\":\"p1200\"}}},\"left\":[{\"type\":\"object\",\"name\":\"LinearAxis\",\"id\":\"p1219\",\"attributes\":{\"ticker\":{\"type\":\"object\",\"name\":\"BasicTicker\",\"id\":\"p1220\",\"attributes\":{\"mantissas\":[1,2,5]}},\"formatter\":{\"type\":\"object\",\"name\":\"BasicTickFormatter\",\"id\":\"p1221\"},\"axis_label\":\"estimateArrive\",\"major_label_policy\":{\"type\":\"object\",\"name\":\"AllLabels\",\"id\":\"p1222\"}}}],\"below\":[{\"type\":\"object\",\"name\":\"CategoricalAxis\",\"id\":\"p1214\",\"attributes\":{\"ticker\":{\"type\":\"object\",\"name\":\"CategoricalTicker\",\"id\":\"p1215\"},\"formatter\":{\"type\":\"object\",\"name\":\"CategoricalTickFormatter\",\"id\":\"p1216\"},\"axis_label\":\"positionTypeBus\",\"major_label_policy\":{\"type\":\"object\",\"name\":\"AllLabels\",\"id\":\"p1217\"}}}],\"center\":[{\"type\":\"object\",\"name\":\"Grid\",\"id\":\"p1218\",\"attributes\":{\"axis\":{\"id\":\"p1214\"},\"grid_line_color\":null}},{\"type\":\"object\",\"name\":\"Grid\",\"id\":\"p1223\",\"attributes\":{\"dimension\":1,\"axis\":{\"id\":\"p1219\"},\"grid_line_color\":null}}],\"min_border_top\":10,\"min_border_bottom\":10,\"min_border_left\":10,\"min_border_right\":10,\"output_backend\":\"webgl\"}},{\"type\":\"object\",\"name\":\"Spacer\",\"id\":\"p1247\",\"attributes\":{\"name\":\"HSpacer01274\",\"stylesheets\":[\"\\n:host(.pn-loading):before, .pn-loading:before {\\n  background-color: #c3c3c3;\\n  mask-size: auto calc(min(50%, 400px));\\n  -webkit-mask-size: auto calc(min(50%, 400px));\\n}\",{\"id\":\"p1193\"},{\"id\":\"p1191\"},{\"id\":\"p1192\"}],\"margin\":0,\"sizing_mode\":\"stretch_width\",\"align\":\"start\"}}]}}],\"defs\":[{\"type\":\"model\",\"name\":\"ReactiveHTML1\"},{\"type\":\"model\",\"name\":\"FlexBox1\",\"properties\":[{\"name\":\"align_content\",\"kind\":\"Any\",\"default\":\"flex-start\"},{\"name\":\"align_items\",\"kind\":\"Any\",\"default\":\"flex-start\"},{\"name\":\"flex_direction\",\"kind\":\"Any\",\"default\":\"row\"},{\"name\":\"flex_wrap\",\"kind\":\"Any\",\"default\":\"wrap\"},{\"name\":\"justify_content\",\"kind\":\"Any\",\"default\":\"flex-start\"},{\"name\":\"gap\",\"kind\":\"Any\",\"default\":\"\"}]},{\"type\":\"model\",\"name\":\"FloatPanel1\",\"properties\":[{\"name\":\"config\",\"kind\":\"Any\",\"default\":{\"type\":\"map\"}},{\"name\":\"contained\",\"kind\":\"Any\",\"default\":true},{\"name\":\"position\",\"kind\":\"Any\",\"default\":\"right-top\"},{\"name\":\"offsetx\",\"kind\":\"Any\",\"default\":null},{\"name\":\"offsety\",\"kind\":\"Any\",\"default\":null},{\"name\":\"theme\",\"kind\":\"Any\",\"default\":\"primary\"},{\"name\":\"status\",\"kind\":\"Any\",\"default\":\"normalized\"}]},{\"type\":\"model\",\"name\":\"GridStack1\",\"properties\":[{\"name\":\"mode\",\"kind\":\"Any\",\"default\":\"warn\"},{\"name\":\"ncols\",\"kind\":\"Any\",\"default\":null},{\"name\":\"nrows\",\"kind\":\"Any\",\"default\":null},{\"name\":\"allow_resize\",\"kind\":\"Any\",\"default\":true},{\"name\":\"allow_drag\",\"kind\":\"Any\",\"default\":true},{\"name\":\"state\",\"kind\":\"Any\",\"default\":[]}]},{\"type\":\"model\",\"name\":\"drag1\",\"properties\":[{\"name\":\"slider_width\",\"kind\":\"Any\",\"default\":5},{\"name\":\"slider_color\",\"kind\":\"Any\",\"default\":\"black\"},{\"name\":\"value\",\"kind\":\"Any\",\"default\":50}]},{\"type\":\"model\",\"name\":\"click1\",\"properties\":[{\"name\":\"terminal_output\",\"kind\":\"Any\",\"default\":\"\"},{\"name\":\"debug_name\",\"kind\":\"Any\",\"default\":\"\"},{\"name\":\"clears\",\"kind\":\"Any\",\"default\":0}]},{\"type\":\"model\",\"name\":\"FastWrapper1\",\"properties\":[{\"name\":\"object\",\"kind\":\"Any\",\"default\":null},{\"name\":\"style\",\"kind\":\"Any\",\"default\":null}]},{\"type\":\"model\",\"name\":\"NotificationAreaBase1\",\"properties\":[{\"name\":\"js_events\",\"kind\":\"Any\",\"default\":{\"type\":\"map\"}},{\"name\":\"position\",\"kind\":\"Any\",\"default\":\"bottom-right\"},{\"name\":\"_clear\",\"kind\":\"Any\",\"default\":0}]},{\"type\":\"model\",\"name\":\"NotificationArea1\",\"properties\":[{\"name\":\"js_events\",\"kind\":\"Any\",\"default\":{\"type\":\"map\"}},{\"name\":\"notifications\",\"kind\":\"Any\",\"default\":[]},{\"name\":\"position\",\"kind\":\"Any\",\"default\":\"bottom-right\"},{\"name\":\"_clear\",\"kind\":\"Any\",\"default\":0},{\"name\":\"types\",\"kind\":\"Any\",\"default\":[{\"type\":\"map\",\"entries\":[[\"type\",\"warning\"],[\"background\",\"#ffc107\"],[\"icon\",{\"type\":\"map\",\"entries\":[[\"className\",\"fas fa-exclamation-triangle\"],[\"tagName\",\"i\"],[\"color\",\"white\"]]}]]},{\"type\":\"map\",\"entries\":[[\"type\",\"info\"],[\"background\",\"#007bff\"],[\"icon\",{\"type\":\"map\",\"entries\":[[\"className\",\"fas fa-info-circle\"],[\"tagName\",\"i\"],[\"color\",\"white\"]]}]]}]}]},{\"type\":\"model\",\"name\":\"Notification\",\"properties\":[{\"name\":\"background\",\"kind\":\"Any\",\"default\":null},{\"name\":\"duration\",\"kind\":\"Any\",\"default\":3000},{\"name\":\"icon\",\"kind\":\"Any\",\"default\":null},{\"name\":\"message\",\"kind\":\"Any\",\"default\":\"\"},{\"name\":\"notification_type\",\"kind\":\"Any\",\"default\":null},{\"name\":\"_destroyed\",\"kind\":\"Any\",\"default\":false}]},{\"type\":\"model\",\"name\":\"TemplateActions1\",\"properties\":[{\"name\":\"open_modal\",\"kind\":\"Any\",\"default\":0},{\"name\":\"close_modal\",\"kind\":\"Any\",\"default\":0}]},{\"type\":\"model\",\"name\":\"BootstrapTemplateActions1\",\"properties\":[{\"name\":\"open_modal\",\"kind\":\"Any\",\"default\":0},{\"name\":\"close_modal\",\"kind\":\"Any\",\"default\":0}]},{\"type\":\"model\",\"name\":\"TemplateEditor1\",\"properties\":[{\"name\":\"layout\",\"kind\":\"Any\",\"default\":[]}]},{\"type\":\"model\",\"name\":\"MaterialTemplateActions1\",\"properties\":[{\"name\":\"open_modal\",\"kind\":\"Any\",\"default\":0},{\"name\":\"close_modal\",\"kind\":\"Any\",\"default\":0}]},{\"type\":\"model\",\"name\":\"copy_to_clipboard1\",\"properties\":[{\"name\":\"fill\",\"kind\":\"Any\",\"default\":\"none\"},{\"name\":\"value\",\"kind\":\"Any\",\"default\":null}]}]}};\n",
       "  var render_items = [{\"docid\":\"d8e97b69-816d-4d31-ae23-b5a6b1a0d1a0\",\"roots\":{\"p1190\":\"fbfe8d7b-814e-47cd-be56-4a9d73fffbb0\"},\"root_ids\":[\"p1190\"]}];\n",
       "  var docs = Object.values(docs_json)\n",
       "  if (!docs) {\n",
       "    return\n",
       "  }\n",
       "  const py_version = docs[0].version.replace('rc', '-rc.').replace('.dev', '-dev.')\n",
       "  function embed_document(root) {\n",
       "    var Bokeh = get_bokeh(root)\n",
       "    Bokeh.embed.embed_items_notebook(docs_json, render_items);\n",
       "    for (const render_item of render_items) {\n",
       "      for (const root_id of render_item.root_ids) {\n",
       "\tconst id_el = document.getElementById(root_id)\n",
       "\tif (id_el.children.length && (id_el.children[0].className === 'bk-root')) {\n",
       "\t  const root_el = id_el.children[0]\n",
       "\t  root_el.id = root_el.id + '-rendered'\n",
       "\t}\n",
       "      }\n",
       "    }\n",
       "  }\n",
       "  function get_bokeh(root) {\n",
       "    if (root.Bokeh === undefined) {\n",
       "      return null\n",
       "    } else if (root.Bokeh.version !== py_version) {\n",
       "      if (root.Bokeh.versions === undefined || !root.Bokeh.versions.has(py_version)) {\n",
       "\treturn null\n",
       "      }\n",
       "      return root.Bokeh.versions.get(py_version);\n",
       "    } else if (root.Bokeh.version === py_version) {\n",
       "      return root.Bokeh\n",
       "    }\n",
       "    return null\n",
       "  }\n",
       "  function is_loaded(root) {\n",
       "    var Bokeh = get_bokeh(root)\n",
       "    return (Bokeh != null && Bokeh.Panel !== undefined)\n",
       "  }\n",
       "  if (is_loaded(root)) {\n",
       "    embed_document(root);\n",
       "  } else {\n",
       "    var attempts = 0;\n",
       "    var timer = setInterval(function(root) {\n",
       "      if (is_loaded(root)) {\n",
       "        clearInterval(timer);\n",
       "        embed_document(root);\n",
       "      } else if (document.readyState == \"complete\") {\n",
       "        attempts++;\n",
       "        if (attempts > 200) {\n",
       "          clearInterval(timer);\n",
       "\t  var Bokeh = get_bokeh(root)\n",
       "\t  if (Bokeh == null || Bokeh.Panel == null) {\n",
       "            console.warn(\"Panel: ERROR: Unable to run Panel code because Bokeh or Panel library is missing\");\n",
       "\t  } else {\n",
       "\t    console.warn(\"Panel: WARNING: Attempting to render but not all required libraries could be resolved.\")\n",
       "\t    embed_document(root)\n",
       "\t  }\n",
       "        }\n",
       "      }\n",
       "    }, 25, root)\n",
       "  }\n",
       "})(window);</script>"
      ],
      "text/plain": [
       ":Bars   [positionTypeBus]   (estimateArrive)"
      ]
     },
     "execution_count": 44,
     "metadata": {
      "application/vnd.holoviews_exec.v0+json": {
       "id": "p1190"
      }
     },
     "output_type": "execute_result"
    }
   ],
   "source": [
    "sample_data.group_by(pl.col('positionTypeBus')).mean().select(pl.col('positionTypeBus'),pl.col('estimateArrive')).head().collect().plot.bar(x='positionTypeBus')"
   ]
  },
  {
   "cell_type": "markdown",
   "metadata": {},
   "source": [
    "### Conclusión\n",
    "Como no tenemos información acerca del significado de esta variable, no podemos entenderla por lo que decidimos eliminarla"
   ]
  },
  {
   "cell_type": "code",
   "execution_count": 45,
   "metadata": {},
   "outputs": [],
   "source": [
    "sample_data = sample_data.drop('positionBusType')"
   ]
  },
  {
   "cell_type": "markdown",
   "metadata": {},
   "source": [
    "## Variable `DistanceBus`"
   ]
  },
  {
   "cell_type": "markdown",
   "metadata": {},
   "source": [
    "### Valores nulos"
   ]
  },
  {
   "cell_type": "code",
   "execution_count": 46,
   "metadata": {},
   "outputs": [
    {
     "data": {
      "text/html": [
       "<div><style>\n",
       ".dataframe > thead > tr,\n",
       ".dataframe > tbody > tr {\n",
       "  text-align: right;\n",
       "  white-space: pre-wrap;\n",
       "}\n",
       "</style>\n",
       "<small>shape: (5, 2)</small><table border=\"1\" class=\"dataframe\"><thead><tr><th>DistanceBus</th><th>count</th></tr><tr><td>i64</td><td>u32</td></tr></thead><tbody><tr><td>4865</td><td>86</td></tr><tr><td>3442</td><td>150</td></tr><tr><td>4091</td><td>101</td></tr><tr><td>2754</td><td>195</td></tr><tr><td>7229</td><td>28</td></tr></tbody></table></div>"
      ],
      "text/plain": [
       "shape: (5, 2)\n",
       "┌─────────────┬───────┐\n",
       "│ DistanceBus ┆ count │\n",
       "│ ---         ┆ ---   │\n",
       "│ i64         ┆ u32   │\n",
       "╞═════════════╪═══════╡\n",
       "│ 4865        ┆ 86    │\n",
       "│ 3442        ┆ 150   │\n",
       "│ 4091        ┆ 101   │\n",
       "│ 2754        ┆ 195   │\n",
       "│ 7229        ┆ 28    │\n",
       "└─────────────┴───────┘"
      ]
     },
     "execution_count": 46,
     "metadata": {},
     "output_type": "execute_result"
    }
   ],
   "source": [
    "sample_data.group_by(pl.col('DistanceBus')).count().head().collect()"
   ]
  },
  {
   "cell_type": "markdown",
   "metadata": {},
   "source": [
    "### Correlación"
   ]
  },
  {
   "cell_type": "code",
   "execution_count": 47,
   "metadata": {},
   "outputs": [
    {
     "data": {
      "text/html": [
       "<div><style>\n",
       ".dataframe > thead > tr,\n",
       ".dataframe > tbody > tr {\n",
       "  text-align: right;\n",
       "  white-space: pre-wrap;\n",
       "}\n",
       "</style>\n",
       "<small>shape: (1, 1)</small><table border=\"1\" class=\"dataframe\"><thead><tr><th>DistanceBus</th></tr><tr><td>f64</td></tr></thead><tbody><tr><td>0.83989</td></tr></tbody></table></div>"
      ],
      "text/plain": [
       "shape: (1, 1)\n",
       "┌─────────────┐\n",
       "│ DistanceBus │\n",
       "│ ---         │\n",
       "│ f64         │\n",
       "╞═════════════╡\n",
       "│ 0.83989     │\n",
       "└─────────────┘"
      ]
     },
     "execution_count": 47,
     "metadata": {},
     "output_type": "execute_result"
    }
   ],
   "source": [
    "sample_data.select(pl.corr('DistanceBus','estimateArrive')).head().collect()"
   ]
  },
  {
   "cell_type": "markdown",
   "metadata": {},
   "source": [
    "### Conclusión\n",
    "Como era de esperar, es la variable que mayor correlación tiene con el `ETA`"
   ]
  },
  {
   "cell_type": "markdown",
   "metadata": {},
   "source": [
    "## Variable `destination`"
   ]
  },
  {
   "cell_type": "markdown",
   "metadata": {},
   "source": [
    "### Valores nulos"
   ]
  },
  {
   "cell_type": "code",
   "execution_count": 48,
   "metadata": {},
   "outputs": [
    {
     "data": {
      "text/html": [
       "<div><style>\n",
       ".dataframe > thead > tr,\n",
       ".dataframe > tbody > tr {\n",
       "  text-align: right;\n",
       "  white-space: pre-wrap;\n",
       "}\n",
       "</style>\n",
       "<small>shape: (5, 2)</small><table border=\"1\" class=\"dataframe\"><thead><tr><th>destination</th><th>count</th></tr><tr><td>str</td><td>u32</td></tr></thead><tbody><tr><td>&quot;FELIPE II&quot;</td><td>3399</td></tr><tr><td>&quot;LAS TABLAS SUR…</td><td>34289</td></tr><tr><td>&quot;EMBAJADORES&quot;</td><td>1705</td></tr><tr><td>&quot;FUENCARRAL&quot;</td><td>11980</td></tr><tr><td>&quot;ATOCHA&quot;</td><td>5095</td></tr></tbody></table></div>"
      ],
      "text/plain": [
       "shape: (5, 2)\n",
       "┌────────────────┬───────┐\n",
       "│ destination    ┆ count │\n",
       "│ ---            ┆ ---   │\n",
       "│ str            ┆ u32   │\n",
       "╞════════════════╪═══════╡\n",
       "│ FELIPE II      ┆ 3399  │\n",
       "│ LAS TABLAS SUR ┆ 34289 │\n",
       "│ EMBAJADORES    ┆ 1705  │\n",
       "│ FUENCARRAL     ┆ 11980 │\n",
       "│ ATOCHA         ┆ 5095  │\n",
       "└────────────────┴───────┘"
      ]
     },
     "execution_count": 48,
     "metadata": {},
     "output_type": "execute_result"
    }
   ],
   "source": [
    "sample_data.group_by(pl.col('destination')).count().head().collect()"
   ]
  },
  {
   "cell_type": "markdown",
   "metadata": {},
   "source": [
    "### Gráfico"
   ]
  },
  {
   "cell_type": "code",
   "execution_count": 49,
   "metadata": {},
   "outputs": [
    {
     "data": {},
     "metadata": {},
     "output_type": "display_data"
    },
    {
     "data": {
      "application/vnd.holoviews_exec.v0+json": "",
      "text/html": [
       "<div id='p1252'>\n",
       "  <div id=\"ff5de851-db61-4dab-88d6-8c679d9fc36b\" data-root-id=\"p1252\" style=\"display: contents;\"></div>\n",
       "</div>\n",
       "<script type=\"application/javascript\">(function(root) {\n",
       "  var docs_json = {\"e149b70f-9832-4d76-b4fe-4e6f1aa1b67d\":{\"version\":\"3.4.0\",\"title\":\"Bokeh Application\",\"roots\":[{\"type\":\"object\",\"name\":\"Row\",\"id\":\"p1252\",\"attributes\":{\"name\":\"Row01375\",\"tags\":[\"embedded\"],\"stylesheets\":[\"\\n:host(.pn-loading):before, .pn-loading:before {\\n  background-color: #c3c3c3;\\n  mask-size: auto calc(min(50%, 400px));\\n  -webkit-mask-size: auto calc(min(50%, 400px));\\n}\",{\"type\":\"object\",\"name\":\"ImportedStyleSheet\",\"id\":\"p1255\",\"attributes\":{\"url\":\"https://cdn.holoviz.org/panel/1.4.0/dist/css/loading.css\"}},{\"type\":\"object\",\"name\":\"ImportedStyleSheet\",\"id\":\"p1311\",\"attributes\":{\"url\":\"https://cdn.holoviz.org/panel/1.4.0/dist/css/listpanel.css\"}},{\"type\":\"object\",\"name\":\"ImportedStyleSheet\",\"id\":\"p1253\",\"attributes\":{\"url\":\"https://cdn.holoviz.org/panel/1.4.0/dist/bundled/theme/default.css\"}},{\"type\":\"object\",\"name\":\"ImportedStyleSheet\",\"id\":\"p1254\",\"attributes\":{\"url\":\"https://cdn.holoviz.org/panel/1.4.0/dist/bundled/theme/native.css\"}}],\"min_width\":700,\"margin\":0,\"sizing_mode\":\"stretch_width\",\"align\":\"start\",\"children\":[{\"type\":\"object\",\"name\":\"Spacer\",\"id\":\"p1256\",\"attributes\":{\"name\":\"HSpacer01382\",\"stylesheets\":[\"\\n:host(.pn-loading):before, .pn-loading:before {\\n  background-color: #c3c3c3;\\n  mask-size: auto calc(min(50%, 400px));\\n  -webkit-mask-size: auto calc(min(50%, 400px));\\n}\",{\"id\":\"p1255\"},{\"id\":\"p1253\"},{\"id\":\"p1254\"}],\"margin\":0,\"sizing_mode\":\"stretch_width\",\"align\":\"start\"}},{\"type\":\"object\",\"name\":\"Figure\",\"id\":\"p1264\",\"attributes\":{\"width\":700,\"height\":300,\"margin\":[5,10],\"sizing_mode\":\"fixed\",\"align\":\"start\",\"x_range\":{\"type\":\"object\",\"name\":\"FactorRange\",\"id\":\"p1257\",\"attributes\":{\"tags\":[[[\"destination\",\"destination\",null]],[]],\"factors\":[\"PLAZA CASTILLA\",\"BARRIO CANILLEJAS\",\"CHAMARTIN\",\"BARRIO PE\\u00d1AGRANDE\",\"AVENIDA AMERICA\",\"HORTALEZA\",\"BARRIO DEL PILAR\",\"PITIS\",\"MIRASIERRA\",\"BENAVENTE\",\"FELIPE II\",\"ARG\\u00dcELLES\",\"BARAJAS\",\"FUENCARRAL\",\"ARTURO SORIA\",\"ARROYO DEL FRESNO\",\"PIO XII\",\"LAS TABLAS NORTE\",\"MONCLOA\",\"CALLAO\",\"CIBELES\",\"HOSPITAL RAMON Y CAJAL\",\"CIUDAD LINEAL\",\"BARRIO DE LA PAZ\",\"REINA VICTORIA\",\"LAS TABLAS SUR\",\"ALFONSO XIII\",\"DIEGO DE LEON\",\"BARRIO BLANCO\",\"ALONSO MARTINEZ\",\"TELEFONICA\",\"MAR DE CRISTAL\",\"CUATRO CAMINOS\",\"ATOCHA\",\"MONTECARMELO\",\"PUERTA HIERRO\",\"MARQUES DE VIANA\",\"SOL SEVILLA\",\"ALSACIA\",\"LAS ROSAS\",\"HOSPITAL LA PAZ\",\"PLAZA CATALU\\u00d1A\",\"VALDEBEBAS\",\"CIRCULAR 2\",\"MANOTERAS\",\"LACOMA\",\"PUERTA ARGANDA\",\"Cuatro Caminos\",\"SANCHINARRO\",\"EMBAJADORES\",\"VIRGEN CORTIJO\"]}},\"y_range\":{\"type\":\"object\",\"name\":\"Range1d\",\"id\":\"p1258\",\"attributes\":{\"tags\":[[[\"estimateArrive\",\"estimateArrive\",null]],{\"type\":\"map\",\"entries\":[[\"invert_yaxis\",false],[\"autorange\",false]]}],\"end\":1224.2895876613136,\"reset_start\":0.0,\"reset_end\":1224.2895876613136}},\"x_scale\":{\"type\":\"object\",\"name\":\"CategoricalScale\",\"id\":\"p1274\"},\"y_scale\":{\"type\":\"object\",\"name\":\"LinearScale\",\"id\":\"p1275\"},\"title\":{\"type\":\"object\",\"name\":\"Title\",\"id\":\"p1267\",\"attributes\":{\"text_color\":\"black\",\"text_font_size\":\"12pt\"}},\"renderers\":[{\"type\":\"object\",\"name\":\"GlyphRenderer\",\"id\":\"p1304\",\"attributes\":{\"data_source\":{\"type\":\"object\",\"name\":\"ColumnDataSource\",\"id\":\"p1295\",\"attributes\":{\"selected\":{\"type\":\"object\",\"name\":\"Selection\",\"id\":\"p1296\",\"attributes\":{\"indices\":[],\"line_indices\":[]}},\"selection_policy\":{\"type\":\"object\",\"name\":\"UnionRenderers\",\"id\":\"p1297\"},\"data\":{\"type\":\"map\",\"entries\":[[\"destination\",[\"PLAZA CASTILLA\",\"BARRIO CANILLEJAS\",\"CHAMARTIN\",\"BARRIO PE\\u00d1AGRANDE\",\"AVENIDA AMERICA\",\"HORTALEZA\",\"BARRIO DEL PILAR\",\"PITIS\",\"MIRASIERRA\",\"BENAVENTE\",\"FELIPE II\",\"ARG\\u00dcELLES\",\"BARAJAS\",\"FUENCARRAL\",\"ARTURO SORIA\",\"ARROYO DEL FRESNO\",\"PIO XII\",\"LAS TABLAS NORTE\",\"MONCLOA\",\"CALLAO\",\"CIBELES\",\"HOSPITAL RAMON Y CAJAL\",\"CIUDAD LINEAL\",\"BARRIO DE LA PAZ\",\"REINA VICTORIA\",\"LAS TABLAS SUR\",\"ALFONSO XIII\",\"DIEGO DE LEON\",\"BARRIO BLANCO\",\"ALONSO MARTINEZ\",\"TELEFONICA\",\"MAR DE CRISTAL\",\"CUATRO CAMINOS\",\"ATOCHA\",\"MONTECARMELO\",\"PUERTA HIERRO\",\"MARQUES DE VIANA\",\"SOL SEVILLA\",\"ALSACIA\",\"LAS ROSAS\",\"HOSPITAL LA PAZ\",\"PLAZA CATALU\\u00d1A\",\"VALDEBEBAS\",\"CIRCULAR 2\",\"MANOTERAS\",\"LACOMA\",\"PUERTA ARGANDA\",\"Cuatro Caminos\",\"SANCHINARRO\",\"EMBAJADORES\",\"VIRGEN CORTIJO\"]],[\"estimateArrive\",{\"type\":\"ndarray\",\"array\":{\"type\":\"bytes\",\"data\":\"RyMRVNyTf0DxRjtSGE2IQP8seYt4GoZAMJHlRNsuhEDKvMhgHFuHQEqzsmAxuIlAsEFoKm74gUDoIo7X6797QOYEy8iDKH1A1FCgS1lVg0CTBZpl7YCEQC0ezS4zz4hASAx69iMNkEA4sjmvCl+JQMW4WH1T64FAGRWUxe/ni0CFikFQRgiCQK+W/f7JToZATxa6K5G6gkA7b65gA219QFN5v9KJvYBAcmYzPOu4hECYpEf4DNiRQNJhR3kFH4JA2iSfmGxMgkCJDIErDSSDQFM/p1xOkYpARP5WvxjwiUAjzJm2yXiIQHyFlPDARY5AgVD7AiFEkUCTcjk/GRyLQP6qZYo+1oZAmHmUQ2nXjUAkHR9Io/eIQPVdYADZUY1Au+PvhF/Ph0AcBYOqhyyDQMI6l7yeEX9ABUcu8/OZgUCOv+5k6TmAQHYfmSnl83NACRL1J/EyhkAKOBs54cJ0QAK9HD+BdYxAxIimIPUng0DOTpeNT7WFQMHYUx5iLn5Aoy5AcCY8hkBTGC6F4SJ4QEbOtaICHIJA\"},\"shape\":[51],\"dtype\":\"float64\",\"order\":\"little\"}]]}}},\"view\":{\"type\":\"object\",\"name\":\"CDSView\",\"id\":\"p1305\",\"attributes\":{\"filter\":{\"type\":\"object\",\"name\":\"AllIndices\",\"id\":\"p1306\"}}},\"glyph\":{\"type\":\"object\",\"name\":\"VBar\",\"id\":\"p1301\",\"attributes\":{\"tags\":[\"apply_ranges\"],\"x\":{\"type\":\"field\",\"field\":\"destination\"},\"width\":{\"type\":\"value\",\"value\":0.8},\"top\":{\"type\":\"field\",\"field\":\"estimateArrive\"},\"fill_color\":{\"type\":\"value\",\"value\":\"#30a2da\"},\"hatch_color\":{\"type\":\"value\",\"value\":\"#30a2da\"}}},\"selection_glyph\":{\"type\":\"object\",\"name\":\"VBar\",\"id\":\"p1307\",\"attributes\":{\"tags\":[\"apply_ranges\"],\"x\":{\"type\":\"field\",\"field\":\"destination\"},\"width\":{\"type\":\"value\",\"value\":0.8},\"bottom\":{\"type\":\"value\",\"value\":0},\"top\":{\"type\":\"field\",\"field\":\"estimateArrive\"},\"line_color\":{\"type\":\"value\",\"value\":\"black\"},\"line_alpha\":{\"type\":\"value\",\"value\":1.0},\"line_width\":{\"type\":\"value\",\"value\":1},\"line_join\":{\"type\":\"value\",\"value\":\"bevel\"},\"line_cap\":{\"type\":\"value\",\"value\":\"butt\"},\"line_dash\":{\"type\":\"value\",\"value\":[]},\"line_dash_offset\":{\"type\":\"value\",\"value\":0},\"fill_color\":{\"type\":\"value\",\"value\":\"#30a2da\"},\"fill_alpha\":{\"type\":\"value\",\"value\":1.0},\"hatch_color\":{\"type\":\"value\",\"value\":\"#30a2da\"},\"hatch_alpha\":{\"type\":\"value\",\"value\":1.0},\"hatch_scale\":{\"type\":\"value\",\"value\":12.0},\"hatch_pattern\":{\"type\":\"value\",\"value\":null},\"hatch_weight\":{\"type\":\"value\",\"value\":1.0}}},\"nonselection_glyph\":{\"type\":\"object\",\"name\":\"VBar\",\"id\":\"p1302\",\"attributes\":{\"tags\":[\"apply_ranges\"],\"x\":{\"type\":\"field\",\"field\":\"destination\"},\"width\":{\"type\":\"value\",\"value\":0.8},\"top\":{\"type\":\"field\",\"field\":\"estimateArrive\"},\"line_alpha\":{\"type\":\"value\",\"value\":0.1},\"fill_color\":{\"type\":\"value\",\"value\":\"#30a2da\"},\"fill_alpha\":{\"type\":\"value\",\"value\":0.1},\"hatch_color\":{\"type\":\"value\",\"value\":\"#30a2da\"},\"hatch_alpha\":{\"type\":\"value\",\"value\":0.1}}},\"muted_glyph\":{\"type\":\"object\",\"name\":\"VBar\",\"id\":\"p1303\",\"attributes\":{\"tags\":[\"apply_ranges\"],\"x\":{\"type\":\"field\",\"field\":\"destination\"},\"width\":{\"type\":\"value\",\"value\":0.8},\"top\":{\"type\":\"field\",\"field\":\"estimateArrive\"},\"line_alpha\":{\"type\":\"value\",\"value\":0.2},\"fill_color\":{\"type\":\"value\",\"value\":\"#30a2da\"},\"fill_alpha\":{\"type\":\"value\",\"value\":0.2},\"hatch_color\":{\"type\":\"value\",\"value\":\"#30a2da\"},\"hatch_alpha\":{\"type\":\"value\",\"value\":0.2}}}}}],\"toolbar\":{\"type\":\"object\",\"name\":\"Toolbar\",\"id\":\"p1273\",\"attributes\":{\"tools\":[{\"type\":\"object\",\"name\":\"WheelZoomTool\",\"id\":\"p1262\",\"attributes\":{\"tags\":[\"hv_created\"],\"renderers\":\"auto\",\"zoom_together\":\"none\"}},{\"type\":\"object\",\"name\":\"HoverTool\",\"id\":\"p1263\",\"attributes\":{\"tags\":[\"hv_created\"],\"renderers\":[{\"id\":\"p1304\"}],\"tooltips\":[[\"destination\",\"@{destination}\"],[\"estimateArrive\",\"@{estimateArrive}\"]]}},{\"type\":\"object\",\"name\":\"SaveTool\",\"id\":\"p1286\"},{\"type\":\"object\",\"name\":\"PanTool\",\"id\":\"p1287\"},{\"type\":\"object\",\"name\":\"BoxZoomTool\",\"id\":\"p1288\",\"attributes\":{\"overlay\":{\"type\":\"object\",\"name\":\"BoxAnnotation\",\"id\":\"p1289\",\"attributes\":{\"syncable\":false,\"level\":\"overlay\",\"visible\":false,\"left\":{\"type\":\"number\",\"value\":\"nan\"},\"right\":{\"type\":\"number\",\"value\":\"nan\"},\"top\":{\"type\":\"number\",\"value\":\"nan\"},\"bottom\":{\"type\":\"number\",\"value\":\"nan\"},\"left_units\":\"canvas\",\"right_units\":\"canvas\",\"top_units\":\"canvas\",\"bottom_units\":\"canvas\",\"line_color\":\"black\",\"line_alpha\":1.0,\"line_width\":2,\"line_dash\":[4,4],\"fill_color\":\"lightgrey\",\"fill_alpha\":0.5}}}},{\"type\":\"object\",\"name\":\"ResetTool\",\"id\":\"p1294\"}],\"active_drag\":{\"id\":\"p1287\"},\"active_scroll\":{\"id\":\"p1262\"}}},\"left\":[{\"type\":\"object\",\"name\":\"LinearAxis\",\"id\":\"p1281\",\"attributes\":{\"ticker\":{\"type\":\"object\",\"name\":\"BasicTicker\",\"id\":\"p1282\",\"attributes\":{\"mantissas\":[1,2,5]}},\"formatter\":{\"type\":\"object\",\"name\":\"BasicTickFormatter\",\"id\":\"p1283\"},\"axis_label\":\"estimateArrive\",\"major_label_policy\":{\"type\":\"object\",\"name\":\"AllLabels\",\"id\":\"p1284\"}}}],\"below\":[{\"type\":\"object\",\"name\":\"CategoricalAxis\",\"id\":\"p1276\",\"attributes\":{\"ticker\":{\"type\":\"object\",\"name\":\"CategoricalTicker\",\"id\":\"p1277\"},\"formatter\":{\"type\":\"object\",\"name\":\"CategoricalTickFormatter\",\"id\":\"p1278\"},\"axis_label\":\"destination\",\"major_label_policy\":{\"type\":\"object\",\"name\":\"AllLabels\",\"id\":\"p1279\"}}}],\"center\":[{\"type\":\"object\",\"name\":\"Grid\",\"id\":\"p1280\",\"attributes\":{\"axis\":{\"id\":\"p1276\"},\"grid_line_color\":null}},{\"type\":\"object\",\"name\":\"Grid\",\"id\":\"p1285\",\"attributes\":{\"dimension\":1,\"axis\":{\"id\":\"p1281\"},\"grid_line_color\":null}}],\"min_border_top\":10,\"min_border_bottom\":10,\"min_border_left\":10,\"min_border_right\":10,\"output_backend\":\"webgl\"}},{\"type\":\"object\",\"name\":\"Spacer\",\"id\":\"p1309\",\"attributes\":{\"name\":\"HSpacer01383\",\"stylesheets\":[\"\\n:host(.pn-loading):before, .pn-loading:before {\\n  background-color: #c3c3c3;\\n  mask-size: auto calc(min(50%, 400px));\\n  -webkit-mask-size: auto calc(min(50%, 400px));\\n}\",{\"id\":\"p1255\"},{\"id\":\"p1253\"},{\"id\":\"p1254\"}],\"margin\":0,\"sizing_mode\":\"stretch_width\",\"align\":\"start\"}}]}}],\"defs\":[{\"type\":\"model\",\"name\":\"ReactiveHTML1\"},{\"type\":\"model\",\"name\":\"FlexBox1\",\"properties\":[{\"name\":\"align_content\",\"kind\":\"Any\",\"default\":\"flex-start\"},{\"name\":\"align_items\",\"kind\":\"Any\",\"default\":\"flex-start\"},{\"name\":\"flex_direction\",\"kind\":\"Any\",\"default\":\"row\"},{\"name\":\"flex_wrap\",\"kind\":\"Any\",\"default\":\"wrap\"},{\"name\":\"justify_content\",\"kind\":\"Any\",\"default\":\"flex-start\"},{\"name\":\"gap\",\"kind\":\"Any\",\"default\":\"\"}]},{\"type\":\"model\",\"name\":\"FloatPanel1\",\"properties\":[{\"name\":\"config\",\"kind\":\"Any\",\"default\":{\"type\":\"map\"}},{\"name\":\"contained\",\"kind\":\"Any\",\"default\":true},{\"name\":\"position\",\"kind\":\"Any\",\"default\":\"right-top\"},{\"name\":\"offsetx\",\"kind\":\"Any\",\"default\":null},{\"name\":\"offsety\",\"kind\":\"Any\",\"default\":null},{\"name\":\"theme\",\"kind\":\"Any\",\"default\":\"primary\"},{\"name\":\"status\",\"kind\":\"Any\",\"default\":\"normalized\"}]},{\"type\":\"model\",\"name\":\"GridStack1\",\"properties\":[{\"name\":\"mode\",\"kind\":\"Any\",\"default\":\"warn\"},{\"name\":\"ncols\",\"kind\":\"Any\",\"default\":null},{\"name\":\"nrows\",\"kind\":\"Any\",\"default\":null},{\"name\":\"allow_resize\",\"kind\":\"Any\",\"default\":true},{\"name\":\"allow_drag\",\"kind\":\"Any\",\"default\":true},{\"name\":\"state\",\"kind\":\"Any\",\"default\":[]}]},{\"type\":\"model\",\"name\":\"drag1\",\"properties\":[{\"name\":\"slider_width\",\"kind\":\"Any\",\"default\":5},{\"name\":\"slider_color\",\"kind\":\"Any\",\"default\":\"black\"},{\"name\":\"value\",\"kind\":\"Any\",\"default\":50}]},{\"type\":\"model\",\"name\":\"click1\",\"properties\":[{\"name\":\"terminal_output\",\"kind\":\"Any\",\"default\":\"\"},{\"name\":\"debug_name\",\"kind\":\"Any\",\"default\":\"\"},{\"name\":\"clears\",\"kind\":\"Any\",\"default\":0}]},{\"type\":\"model\",\"name\":\"FastWrapper1\",\"properties\":[{\"name\":\"object\",\"kind\":\"Any\",\"default\":null},{\"name\":\"style\",\"kind\":\"Any\",\"default\":null}]},{\"type\":\"model\",\"name\":\"NotificationAreaBase1\",\"properties\":[{\"name\":\"js_events\",\"kind\":\"Any\",\"default\":{\"type\":\"map\"}},{\"name\":\"position\",\"kind\":\"Any\",\"default\":\"bottom-right\"},{\"name\":\"_clear\",\"kind\":\"Any\",\"default\":0}]},{\"type\":\"model\",\"name\":\"NotificationArea1\",\"properties\":[{\"name\":\"js_events\",\"kind\":\"Any\",\"default\":{\"type\":\"map\"}},{\"name\":\"notifications\",\"kind\":\"Any\",\"default\":[]},{\"name\":\"position\",\"kind\":\"Any\",\"default\":\"bottom-right\"},{\"name\":\"_clear\",\"kind\":\"Any\",\"default\":0},{\"name\":\"types\",\"kind\":\"Any\",\"default\":[{\"type\":\"map\",\"entries\":[[\"type\",\"warning\"],[\"background\",\"#ffc107\"],[\"icon\",{\"type\":\"map\",\"entries\":[[\"className\",\"fas fa-exclamation-triangle\"],[\"tagName\",\"i\"],[\"color\",\"white\"]]}]]},{\"type\":\"map\",\"entries\":[[\"type\",\"info\"],[\"background\",\"#007bff\"],[\"icon\",{\"type\":\"map\",\"entries\":[[\"className\",\"fas fa-info-circle\"],[\"tagName\",\"i\"],[\"color\",\"white\"]]}]]}]}]},{\"type\":\"model\",\"name\":\"Notification\",\"properties\":[{\"name\":\"background\",\"kind\":\"Any\",\"default\":null},{\"name\":\"duration\",\"kind\":\"Any\",\"default\":3000},{\"name\":\"icon\",\"kind\":\"Any\",\"default\":null},{\"name\":\"message\",\"kind\":\"Any\",\"default\":\"\"},{\"name\":\"notification_type\",\"kind\":\"Any\",\"default\":null},{\"name\":\"_destroyed\",\"kind\":\"Any\",\"default\":false}]},{\"type\":\"model\",\"name\":\"TemplateActions1\",\"properties\":[{\"name\":\"open_modal\",\"kind\":\"Any\",\"default\":0},{\"name\":\"close_modal\",\"kind\":\"Any\",\"default\":0}]},{\"type\":\"model\",\"name\":\"BootstrapTemplateActions1\",\"properties\":[{\"name\":\"open_modal\",\"kind\":\"Any\",\"default\":0},{\"name\":\"close_modal\",\"kind\":\"Any\",\"default\":0}]},{\"type\":\"model\",\"name\":\"TemplateEditor1\",\"properties\":[{\"name\":\"layout\",\"kind\":\"Any\",\"default\":[]}]},{\"type\":\"model\",\"name\":\"MaterialTemplateActions1\",\"properties\":[{\"name\":\"open_modal\",\"kind\":\"Any\",\"default\":0},{\"name\":\"close_modal\",\"kind\":\"Any\",\"default\":0}]},{\"type\":\"model\",\"name\":\"copy_to_clipboard1\",\"properties\":[{\"name\":\"fill\",\"kind\":\"Any\",\"default\":\"none\"},{\"name\":\"value\",\"kind\":\"Any\",\"default\":null}]}]}};\n",
       "  var render_items = [{\"docid\":\"e149b70f-9832-4d76-b4fe-4e6f1aa1b67d\",\"roots\":{\"p1252\":\"ff5de851-db61-4dab-88d6-8c679d9fc36b\"},\"root_ids\":[\"p1252\"]}];\n",
       "  var docs = Object.values(docs_json)\n",
       "  if (!docs) {\n",
       "    return\n",
       "  }\n",
       "  const py_version = docs[0].version.replace('rc', '-rc.').replace('.dev', '-dev.')\n",
       "  function embed_document(root) {\n",
       "    var Bokeh = get_bokeh(root)\n",
       "    Bokeh.embed.embed_items_notebook(docs_json, render_items);\n",
       "    for (const render_item of render_items) {\n",
       "      for (const root_id of render_item.root_ids) {\n",
       "\tconst id_el = document.getElementById(root_id)\n",
       "\tif (id_el.children.length && (id_el.children[0].className === 'bk-root')) {\n",
       "\t  const root_el = id_el.children[0]\n",
       "\t  root_el.id = root_el.id + '-rendered'\n",
       "\t}\n",
       "      }\n",
       "    }\n",
       "  }\n",
       "  function get_bokeh(root) {\n",
       "    if (root.Bokeh === undefined) {\n",
       "      return null\n",
       "    } else if (root.Bokeh.version !== py_version) {\n",
       "      if (root.Bokeh.versions === undefined || !root.Bokeh.versions.has(py_version)) {\n",
       "\treturn null\n",
       "      }\n",
       "      return root.Bokeh.versions.get(py_version);\n",
       "    } else if (root.Bokeh.version === py_version) {\n",
       "      return root.Bokeh\n",
       "    }\n",
       "    return null\n",
       "  }\n",
       "  function is_loaded(root) {\n",
       "    var Bokeh = get_bokeh(root)\n",
       "    return (Bokeh != null && Bokeh.Panel !== undefined)\n",
       "  }\n",
       "  if (is_loaded(root)) {\n",
       "    embed_document(root);\n",
       "  } else {\n",
       "    var attempts = 0;\n",
       "    var timer = setInterval(function(root) {\n",
       "      if (is_loaded(root)) {\n",
       "        clearInterval(timer);\n",
       "        embed_document(root);\n",
       "      } else if (document.readyState == \"complete\") {\n",
       "        attempts++;\n",
       "        if (attempts > 200) {\n",
       "          clearInterval(timer);\n",
       "\t  var Bokeh = get_bokeh(root)\n",
       "\t  if (Bokeh == null || Bokeh.Panel == null) {\n",
       "            console.warn(\"Panel: ERROR: Unable to run Panel code because Bokeh or Panel library is missing\");\n",
       "\t  } else {\n",
       "\t    console.warn(\"Panel: WARNING: Attempting to render but not all required libraries could be resolved.\")\n",
       "\t    embed_document(root)\n",
       "\t  }\n",
       "        }\n",
       "      }\n",
       "    }, 25, root)\n",
       "  }\n",
       "})(window);</script>"
      ],
      "text/plain": [
       ":Bars   [destination]   (estimateArrive)"
      ]
     },
     "execution_count": 49,
     "metadata": {
      "application/vnd.holoviews_exec.v0+json": {
       "id": "p1252"
      }
     },
     "output_type": "execute_result"
    }
   ],
   "source": [
    "sample_data.group_by(pl.col('destination')).mean().select(pl.col('destination'),pl.col('estimateArrive')).collect().plot.bar(x='destination')"
   ]
  },
  {
   "cell_type": "markdown",
   "metadata": {},
   "source": [
    "### Conclusión"
   ]
  },
  {
   "cell_type": "markdown",
   "metadata": {},
   "source": [
    "Según que destino sea, el tiempo medio de espera varia bastante. Por lo que esta variable va a ser necesaria a la hora de la creación de nuestro modelo."
   ]
  },
  {
   "cell_type": "markdown",
   "metadata": {},
   "source": [
    "## Variable `deviation`"
   ]
  },
  {
   "cell_type": "markdown",
   "metadata": {},
   "source": [
    "### Valores nulos"
   ]
  },
  {
   "cell_type": "code",
   "execution_count": 50,
   "metadata": {},
   "outputs": [
    {
     "data": {
      "text/html": [
       "<div><style>\n",
       ".dataframe > thead > tr,\n",
       ".dataframe > tbody > tr {\n",
       "  text-align: right;\n",
       "  white-space: pre-wrap;\n",
       "}\n",
       "</style>\n",
       "<small>shape: (5, 2)</small><table border=\"1\" class=\"dataframe\"><thead><tr><th>deviation</th><th>count</th></tr><tr><td>i64</td><td>u32</td></tr></thead><tbody><tr><td>7247</td><td>15874</td></tr><tr><td>0</td><td>1106947</td></tr><tr><td>10064</td><td>32</td></tr><tr><td>3571</td><td>9295</td></tr><tr><td>11924</td><td>94</td></tr></tbody></table></div>"
      ],
      "text/plain": [
       "shape: (5, 2)\n",
       "┌───────────┬─────────┐\n",
       "│ deviation ┆ count   │\n",
       "│ ---       ┆ ---     │\n",
       "│ i64       ┆ u32     │\n",
       "╞═══════════╪═════════╡\n",
       "│ 7247      ┆ 15874   │\n",
       "│ 0         ┆ 1106947 │\n",
       "│ 10064     ┆ 32      │\n",
       "│ 3571      ┆ 9295    │\n",
       "│ 11924     ┆ 94      │\n",
       "└───────────┴─────────┘"
      ]
     },
     "execution_count": 50,
     "metadata": {},
     "output_type": "execute_result"
    }
   ],
   "source": [
    "sample_data.group_by(pl.col('deviation')).count().head().collect()"
   ]
  },
  {
   "cell_type": "markdown",
   "metadata": {},
   "source": [
    "### Correlación"
   ]
  },
  {
   "cell_type": "code",
   "execution_count": 51,
   "metadata": {},
   "outputs": [
    {
     "data": {
      "text/html": [
       "<div><style>\n",
       ".dataframe > thead > tr,\n",
       ".dataframe > tbody > tr {\n",
       "  text-align: right;\n",
       "  white-space: pre-wrap;\n",
       "}\n",
       "</style>\n",
       "<small>shape: (1, 1)</small><table border=\"1\" class=\"dataframe\"><thead><tr><th>deviation</th></tr><tr><td>f64</td></tr></thead><tbody><tr><td>-0.03431</td></tr></tbody></table></div>"
      ],
      "text/plain": [
       "shape: (1, 1)\n",
       "┌───────────┐\n",
       "│ deviation │\n",
       "│ ---       │\n",
       "│ f64       │\n",
       "╞═══════════╡\n",
       "│ -0.03431  │\n",
       "└───────────┘"
      ]
     },
     "execution_count": 51,
     "metadata": {},
     "output_type": "execute_result"
    }
   ],
   "source": [
    "sample_data.select(pl.corr('deviation','estimateArrive')).head().collect()"
   ]
  },
  {
   "cell_type": "code",
   "execution_count": 52,
   "metadata": {},
   "outputs": [
    {
     "data": {
      "text/html": [
       "<div><style>\n",
       ".dataframe > thead > tr,\n",
       ".dataframe > tbody > tr {\n",
       "  text-align: right;\n",
       "  white-space: pre-wrap;\n",
       "}\n",
       "</style>\n",
       "<small>shape: (6, 2)</small><table border=\"1\" class=\"dataframe\"><thead><tr><th>deviation</th><th>estimateArrive</th></tr><tr><td>i64</td><td>f64</td></tr></thead><tbody><tr><td>11924</td><td>615.765957</td></tr><tr><td>10064</td><td>256.1875</td></tr><tr><td>7247</td><td>558.872874</td></tr><tr><td>4573</td><td>506.433405</td></tr><tr><td>3571</td><td>584.762345</td></tr><tr><td>0</td><td>677.080575</td></tr></tbody></table></div>"
      ],
      "text/plain": [
       "shape: (6, 2)\n",
       "┌───────────┬────────────────┐\n",
       "│ deviation ┆ estimateArrive │\n",
       "│ ---       ┆ ---            │\n",
       "│ i64       ┆ f64            │\n",
       "╞═══════════╪════════════════╡\n",
       "│ 11924     ┆ 615.765957     │\n",
       "│ 10064     ┆ 256.1875       │\n",
       "│ 7247      ┆ 558.872874     │\n",
       "│ 4573      ┆ 506.433405     │\n",
       "│ 3571      ┆ 584.762345     │\n",
       "│ 0         ┆ 677.080575     │\n",
       "└───────────┴────────────────┘"
      ]
     },
     "execution_count": 52,
     "metadata": {},
     "output_type": "execute_result"
    }
   ],
   "source": [
    "sample_data.group_by(pl.col('deviation')).mean().select(pl.col('deviation'),pl.col('estimateArrive')).sort('deviation', descending=True).collect()"
   ]
  },
  {
   "cell_type": "markdown",
   "metadata": {},
   "source": [
    "No tenemos información acerca del significado de esta variable. Por lo que la eliminamos también"
   ]
  },
  {
   "cell_type": "code",
   "execution_count": 53,
   "metadata": {},
   "outputs": [],
   "source": [
    "sample_data = sample_data.drop('deviation')"
   ]
  },
  {
   "cell_type": "markdown",
   "metadata": {},
   "source": [
    "## Variable `StartTime`"
   ]
  },
  {
   "cell_type": "markdown",
   "metadata": {},
   "source": [
    "### Valores nulos"
   ]
  },
  {
   "cell_type": "code",
   "execution_count": 54,
   "metadata": {},
   "outputs": [
    {
     "data": {
      "text/html": [
       "<div><style>\n",
       ".dataframe > thead > tr,\n",
       ".dataframe > tbody > tr {\n",
       "  text-align: right;\n",
       "  white-space: pre-wrap;\n",
       "}\n",
       "</style>\n",
       "<small>shape: (9, 2)</small><table border=\"1\" class=\"dataframe\"><thead><tr><th>StartTime</th><th>count</th></tr><tr><td>str</td><td>u32</td></tr></thead><tbody><tr><td>null</td><td>536287</td></tr><tr><td>&quot;06:30&quot;</td><td>13685</td></tr><tr><td>&quot;06:25&quot;</td><td>54788</td></tr><tr><td>&quot;06:20&quot;</td><td>23857</td></tr><tr><td>&quot;06:15&quot;</td><td>41074</td></tr><tr><td>&quot;06:10&quot;</td><td>61887</td></tr><tr><td>&quot;06:00&quot;</td><td>303917</td></tr><tr><td>&quot;05:55&quot;</td><td>48280</td></tr><tr><td>&quot;05:30&quot;</td><td>49856</td></tr></tbody></table></div>"
      ],
      "text/plain": [
       "shape: (9, 2)\n",
       "┌───────────┬────────┐\n",
       "│ StartTime ┆ count  │\n",
       "│ ---       ┆ ---    │\n",
       "│ str       ┆ u32    │\n",
       "╞═══════════╪════════╡\n",
       "│ null      ┆ 536287 │\n",
       "│ 06:30     ┆ 13685  │\n",
       "│ 06:25     ┆ 54788  │\n",
       "│ 06:20     ┆ 23857  │\n",
       "│ 06:15     ┆ 41074  │\n",
       "│ 06:10     ┆ 61887  │\n",
       "│ 06:00     ┆ 303917 │\n",
       "│ 05:55     ┆ 48280  │\n",
       "│ 05:30     ┆ 49856  │\n",
       "└───────────┴────────┘"
      ]
     },
     "execution_count": 54,
     "metadata": {},
     "output_type": "execute_result"
    }
   ],
   "source": [
    "sample_data.group_by(pl.col('StartTime')).count().sort(pl.col('StartTime'),descending=True).collect()"
   ]
  },
  {
   "cell_type": "markdown",
   "metadata": {},
   "source": [
    "## Variable `StopTime`"
   ]
  },
  {
   "cell_type": "markdown",
   "metadata": {},
   "source": [
    "### Valores nulos"
   ]
  },
  {
   "cell_type": "code",
   "execution_count": 55,
   "metadata": {},
   "outputs": [
    {
     "data": {
      "text/html": [
       "<div><style>\n",
       ".dataframe > thead > tr,\n",
       ".dataframe > tbody > tr {\n",
       "  text-align: right;\n",
       "  white-space: pre-wrap;\n",
       "}\n",
       "</style>\n",
       "<small>shape: (3, 2)</small><table border=\"1\" class=\"dataframe\"><thead><tr><th>StopTime</th><th>count</th></tr><tr><td>str</td><td>u32</td></tr></thead><tbody><tr><td>null</td><td>536287</td></tr><tr><td>&quot;23:45&quot;</td><td>525207</td></tr><tr><td>&quot;23:30&quot;</td><td>72137</td></tr></tbody></table></div>"
      ],
      "text/plain": [
       "shape: (3, 2)\n",
       "┌──────────┬────────┐\n",
       "│ StopTime ┆ count  │\n",
       "│ ---      ┆ ---    │\n",
       "│ str      ┆ u32    │\n",
       "╞══════════╪════════╡\n",
       "│ null     ┆ 536287 │\n",
       "│ 23:45    ┆ 525207 │\n",
       "│ 23:30    ┆ 72137  │\n",
       "└──────────┴────────┘"
      ]
     },
     "execution_count": 55,
     "metadata": {},
     "output_type": "execute_result"
    }
   ],
   "source": [
    "sample_data.group_by(pl.col('StopTime')).count().sort(pl.col('StopTime'),descending=True).collect()"
   ]
  },
  {
   "cell_type": "markdown",
   "metadata": {},
   "source": [
    "### Conclusion\n",
    "\n",
    "La información que nos dan las dos variables anteriores refleja que estamos considerando solo autobuses diurnos e ignorando los nocturnos. Por tanto, esta variable no va a inferir en el tiempo de estimación ya que el hecho de que su horario comience a las 6 de la mañana o a las 7 de la mañana no va a depender de que tarde más o menos a lo largo del día. Por tanto consideramos que se pueden borrar también."
   ]
  },
  {
   "cell_type": "code",
   "execution_count": 56,
   "metadata": {},
   "outputs": [],
   "source": [
    "sample_data = sample_data.drop('StartTime','StopTime')"
   ]
  },
  {
   "cell_type": "markdown",
   "metadata": {},
   "source": [
    "## Variable `MinimunFrequency`"
   ]
  },
  {
   "cell_type": "markdown",
   "metadata": {},
   "source": [
    "### Valores nulos"
   ]
  },
  {
   "cell_type": "code",
   "execution_count": 57,
   "metadata": {},
   "outputs": [
    {
     "data": {
      "text/html": [
       "<div><style>\n",
       ".dataframe > thead > tr,\n",
       ".dataframe > tbody > tr {\n",
       "  text-align: right;\n",
       "  white-space: pre-wrap;\n",
       "}\n",
       "</style>\n",
       "<small>shape: (5, 2)</small><table border=\"1\" class=\"dataframe\"><thead><tr><th>MinimunFrequency</th><th>count</th></tr><tr><td>i64</td><td>u32</td></tr></thead><tbody><tr><td>4</td><td>111743</td></tr><tr><td>3</td><td>48280</td></tr><tr><td>12</td><td>40389</td></tr><tr><td>11</td><td>41074</td></tr><tr><td>7</td><td>114710</td></tr></tbody></table></div>"
      ],
      "text/plain": [
       "shape: (5, 2)\n",
       "┌──────────────────┬────────┐\n",
       "│ MinimunFrequency ┆ count  │\n",
       "│ ---              ┆ ---    │\n",
       "│ i64              ┆ u32    │\n",
       "╞══════════════════╪════════╡\n",
       "│ 4                ┆ 111743 │\n",
       "│ 3                ┆ 48280  │\n",
       "│ 12               ┆ 40389  │\n",
       "│ 11               ┆ 41074  │\n",
       "│ 7                ┆ 114710 │\n",
       "└──────────────────┴────────┘"
      ]
     },
     "execution_count": 57,
     "metadata": {},
     "output_type": "execute_result"
    }
   ],
   "source": [
    "sample_data.group_by(pl.col('MinimunFrequency')).count().head().collect()"
   ]
  },
  {
   "cell_type": "code",
   "execution_count": 58,
   "metadata": {},
   "outputs": [],
   "source": [
    "#TODO: rellenar por la linea. PETA EL KERNEL\n",
    "df_aux = sample_data.select('bus','line','stop','MinimunFrequency')"
   ]
  },
  {
   "cell_type": "code",
   "execution_count": 59,
   "metadata": {},
   "outputs": [],
   "source": [
    "sample_data.join(df_aux,on ='bus', how='inner').head().collect()"
   ]
  },
  {
   "cell_type": "code",
   "execution_count": 60,
   "metadata": {},
   "outputs": [
    {
     "data": {
      "text/html": [
       "<div><style>\n",
       ".dataframe > thead > tr,\n",
       ".dataframe > tbody > tr {\n",
       "  text-align: right;\n",
       "  white-space: pre-wrap;\n",
       "}\n",
       "</style>\n",
       "<small>shape: (1, 2)</small><table border=\"1\" class=\"dataframe\"><thead><tr><th>MinimunFrequency</th><th>count</th></tr><tr><td>i64</td><td>u32</td></tr></thead><tbody><tr><td>52</td><td>597344</td></tr></tbody></table></div>"
      ],
      "text/plain": [
       "shape: (1, 2)\n",
       "┌──────────────────┬────────┐\n",
       "│ MinimunFrequency ┆ count  │\n",
       "│ ---              ┆ ---    │\n",
       "│ i64              ┆ u32    │\n",
       "╞══════════════════╪════════╡\n",
       "│ 52               ┆ 597344 │\n",
       "└──────────────────┴────────┘"
      ]
     },
     "execution_count": 60,
     "metadata": {},
     "output_type": "execute_result"
    }
   ],
   "source": [
    "sample_data.group_by(pl.col('MinimunFrequency')).count().sort(pl.col('MinimunFrequency'),descending=True).filter(pl.col('MinimunFrequency').is_not_null()).sum().collect()"
   ]
  },
  {
   "cell_type": "markdown",
   "metadata": {},
   "source": [
    "### Correlación"
   ]
  },
  {
   "cell_type": "code",
   "execution_count": 61,
   "metadata": {},
   "outputs": [
    {
     "data": {
      "text/html": [
       "<div><style>\n",
       ".dataframe > thead > tr,\n",
       ".dataframe > tbody > tr {\n",
       "  text-align: right;\n",
       "  white-space: pre-wrap;\n",
       "}\n",
       "</style>\n",
       "<small>shape: (1, 1)</small><table border=\"1\" class=\"dataframe\"><thead><tr><th>MinimunFrequency</th></tr><tr><td>f64</td></tr></thead><tbody><tr><td>0.321437</td></tr></tbody></table></div>"
      ],
      "text/plain": [
       "shape: (1, 1)\n",
       "┌──────────────────┐\n",
       "│ MinimunFrequency │\n",
       "│ ---              │\n",
       "│ f64              │\n",
       "╞══════════════════╡\n",
       "│ 0.321437         │\n",
       "└──────────────────┘"
      ]
     },
     "execution_count": 61,
     "metadata": {},
     "output_type": "execute_result"
    }
   ],
   "source": [
    "sample_data.select(pl.corr('MinimunFrequency','estimateArrive')).head().collect()"
   ]
  },
  {
   "cell_type": "markdown",
   "metadata": {},
   "source": [
    "### Gráfico"
   ]
  },
  {
   "cell_type": "code",
   "execution_count": 62,
   "metadata": {},
   "outputs": [
    {
     "data": {},
     "metadata": {},
     "output_type": "display_data"
    },
    {
     "data": {
      "application/vnd.holoviews_exec.v0+json": "",
      "text/html": [
       "<div id='p1314'>\n",
       "  <div id=\"decbdad3-9811-48cf-bd2d-3aa5609bf6a1\" data-root-id=\"p1314\" style=\"display: contents;\"></div>\n",
       "</div>\n",
       "<script type=\"application/javascript\">(function(root) {\n",
       "  var docs_json = {\"07f8cca1-52f0-464d-8a87-66fb9164e492\":{\"version\":\"3.4.0\",\"title\":\"Bokeh Application\",\"roots\":[{\"type\":\"object\",\"name\":\"Row\",\"id\":\"p1314\",\"attributes\":{\"name\":\"Row01484\",\"tags\":[\"embedded\"],\"stylesheets\":[\"\\n:host(.pn-loading):before, .pn-loading:before {\\n  background-color: #c3c3c3;\\n  mask-size: auto calc(min(50%, 400px));\\n  -webkit-mask-size: auto calc(min(50%, 400px));\\n}\",{\"type\":\"object\",\"name\":\"ImportedStyleSheet\",\"id\":\"p1317\",\"attributes\":{\"url\":\"https://cdn.holoviz.org/panel/1.4.0/dist/css/loading.css\"}},{\"type\":\"object\",\"name\":\"ImportedStyleSheet\",\"id\":\"p1373\",\"attributes\":{\"url\":\"https://cdn.holoviz.org/panel/1.4.0/dist/css/listpanel.css\"}},{\"type\":\"object\",\"name\":\"ImportedStyleSheet\",\"id\":\"p1315\",\"attributes\":{\"url\":\"https://cdn.holoviz.org/panel/1.4.0/dist/bundled/theme/default.css\"}},{\"type\":\"object\",\"name\":\"ImportedStyleSheet\",\"id\":\"p1316\",\"attributes\":{\"url\":\"https://cdn.holoviz.org/panel/1.4.0/dist/bundled/theme/native.css\"}}],\"min_width\":700,\"margin\":0,\"sizing_mode\":\"stretch_width\",\"align\":\"start\",\"children\":[{\"type\":\"object\",\"name\":\"Spacer\",\"id\":\"p1318\",\"attributes\":{\"name\":\"HSpacer01491\",\"stylesheets\":[\"\\n:host(.pn-loading):before, .pn-loading:before {\\n  background-color: #c3c3c3;\\n  mask-size: auto calc(min(50%, 400px));\\n  -webkit-mask-size: auto calc(min(50%, 400px));\\n}\",{\"id\":\"p1317\"},{\"id\":\"p1315\"},{\"id\":\"p1316\"}],\"margin\":0,\"sizing_mode\":\"stretch_width\",\"align\":\"start\"}},{\"type\":\"object\",\"name\":\"Figure\",\"id\":\"p1326\",\"attributes\":{\"width\":700,\"height\":300,\"margin\":[5,10],\"sizing_mode\":\"fixed\",\"align\":\"start\",\"x_range\":{\"type\":\"object\",\"name\":\"FactorRange\",\"id\":\"p1319\",\"attributes\":{\"tags\":[[[\"MinimunFrequency\",\"MinimunFrequency\",null]],[]],\"factors\":[\"6\",\"11\",\"nan\",\"4\",\"3\",\"7\",\"9\",\"12\"]}},\"y_range\":{\"type\":\"object\",\"name\":\"Range1d\",\"id\":\"p1320\",\"attributes\":{\"tags\":[[[\"estimateArrive\",\"estimateArrive\",null]],{\"type\":\"map\",\"entries\":[[\"invert_yaxis\",false],[\"autorange\",false]]}],\"end\":1042.5495238340075,\"reset_start\":0.0,\"reset_end\":1042.5495238340075}},\"x_scale\":{\"type\":\"object\",\"name\":\"CategoricalScale\",\"id\":\"p1336\"},\"y_scale\":{\"type\":\"object\",\"name\":\"LinearScale\",\"id\":\"p1337\"},\"title\":{\"type\":\"object\",\"name\":\"Title\",\"id\":\"p1329\",\"attributes\":{\"text_color\":\"black\",\"text_font_size\":\"12pt\"}},\"renderers\":[{\"type\":\"object\",\"name\":\"GlyphRenderer\",\"id\":\"p1366\",\"attributes\":{\"data_source\":{\"type\":\"object\",\"name\":\"ColumnDataSource\",\"id\":\"p1357\",\"attributes\":{\"selected\":{\"type\":\"object\",\"name\":\"Selection\",\"id\":\"p1358\",\"attributes\":{\"indices\":[],\"line_indices\":[]}},\"selection_policy\":{\"type\":\"object\",\"name\":\"UnionRenderers\",\"id\":\"p1359\"},\"data\":{\"type\":\"map\",\"entries\":[[\"MinimunFrequency\",[\"6\",\"11\",\"nan\",\"4\",\"3\",\"7\",\"9\",\"12\"]],[\"estimateArrive\",{\"type\":\"ndarray\",\"array\":{\"type\":\"bytes\",\"data\":\"6WHMf0tEh0DAlHt210uKQNPS039G34VAA4kdXBC1e0B+/0Nv2911QGmnlzXrBYRA/Mks2FZ1hkD1WElcoJyOQA==\"},\"shape\":[8],\"dtype\":\"float64\",\"order\":\"little\"}]]}}},\"view\":{\"type\":\"object\",\"name\":\"CDSView\",\"id\":\"p1367\",\"attributes\":{\"filter\":{\"type\":\"object\",\"name\":\"AllIndices\",\"id\":\"p1368\"}}},\"glyph\":{\"type\":\"object\",\"name\":\"VBar\",\"id\":\"p1363\",\"attributes\":{\"tags\":[\"apply_ranges\"],\"x\":{\"type\":\"field\",\"field\":\"MinimunFrequency\"},\"width\":{\"type\":\"value\",\"value\":0.8},\"top\":{\"type\":\"field\",\"field\":\"estimateArrive\"},\"fill_color\":{\"type\":\"value\",\"value\":\"#30a2da\"},\"hatch_color\":{\"type\":\"value\",\"value\":\"#30a2da\"}}},\"selection_glyph\":{\"type\":\"object\",\"name\":\"VBar\",\"id\":\"p1369\",\"attributes\":{\"tags\":[\"apply_ranges\"],\"x\":{\"type\":\"field\",\"field\":\"MinimunFrequency\"},\"width\":{\"type\":\"value\",\"value\":0.8},\"bottom\":{\"type\":\"value\",\"value\":0},\"top\":{\"type\":\"field\",\"field\":\"estimateArrive\"},\"line_color\":{\"type\":\"value\",\"value\":\"black\"},\"line_alpha\":{\"type\":\"value\",\"value\":1.0},\"line_width\":{\"type\":\"value\",\"value\":1},\"line_join\":{\"type\":\"value\",\"value\":\"bevel\"},\"line_cap\":{\"type\":\"value\",\"value\":\"butt\"},\"line_dash\":{\"type\":\"value\",\"value\":[]},\"line_dash_offset\":{\"type\":\"value\",\"value\":0},\"fill_color\":{\"type\":\"value\",\"value\":\"#30a2da\"},\"fill_alpha\":{\"type\":\"value\",\"value\":1.0},\"hatch_color\":{\"type\":\"value\",\"value\":\"#30a2da\"},\"hatch_alpha\":{\"type\":\"value\",\"value\":1.0},\"hatch_scale\":{\"type\":\"value\",\"value\":12.0},\"hatch_pattern\":{\"type\":\"value\",\"value\":null},\"hatch_weight\":{\"type\":\"value\",\"value\":1.0}}},\"nonselection_glyph\":{\"type\":\"object\",\"name\":\"VBar\",\"id\":\"p1364\",\"attributes\":{\"tags\":[\"apply_ranges\"],\"x\":{\"type\":\"field\",\"field\":\"MinimunFrequency\"},\"width\":{\"type\":\"value\",\"value\":0.8},\"top\":{\"type\":\"field\",\"field\":\"estimateArrive\"},\"line_alpha\":{\"type\":\"value\",\"value\":0.1},\"fill_color\":{\"type\":\"value\",\"value\":\"#30a2da\"},\"fill_alpha\":{\"type\":\"value\",\"value\":0.1},\"hatch_color\":{\"type\":\"value\",\"value\":\"#30a2da\"},\"hatch_alpha\":{\"type\":\"value\",\"value\":0.1}}},\"muted_glyph\":{\"type\":\"object\",\"name\":\"VBar\",\"id\":\"p1365\",\"attributes\":{\"tags\":[\"apply_ranges\"],\"x\":{\"type\":\"field\",\"field\":\"MinimunFrequency\"},\"width\":{\"type\":\"value\",\"value\":0.8},\"top\":{\"type\":\"field\",\"field\":\"estimateArrive\"},\"line_alpha\":{\"type\":\"value\",\"value\":0.2},\"fill_color\":{\"type\":\"value\",\"value\":\"#30a2da\"},\"fill_alpha\":{\"type\":\"value\",\"value\":0.2},\"hatch_color\":{\"type\":\"value\",\"value\":\"#30a2da\"},\"hatch_alpha\":{\"type\":\"value\",\"value\":0.2}}}}}],\"toolbar\":{\"type\":\"object\",\"name\":\"Toolbar\",\"id\":\"p1335\",\"attributes\":{\"tools\":[{\"type\":\"object\",\"name\":\"WheelZoomTool\",\"id\":\"p1324\",\"attributes\":{\"tags\":[\"hv_created\"],\"renderers\":\"auto\",\"zoom_together\":\"none\"}},{\"type\":\"object\",\"name\":\"HoverTool\",\"id\":\"p1325\",\"attributes\":{\"tags\":[\"hv_created\"],\"renderers\":[{\"id\":\"p1366\"}],\"tooltips\":[[\"MinimunFrequency\",\"@{MinimunFrequency}\"],[\"estimateArrive\",\"@{estimateArrive}\"]]}},{\"type\":\"object\",\"name\":\"SaveTool\",\"id\":\"p1348\"},{\"type\":\"object\",\"name\":\"PanTool\",\"id\":\"p1349\"},{\"type\":\"object\",\"name\":\"BoxZoomTool\",\"id\":\"p1350\",\"attributes\":{\"overlay\":{\"type\":\"object\",\"name\":\"BoxAnnotation\",\"id\":\"p1351\",\"attributes\":{\"syncable\":false,\"level\":\"overlay\",\"visible\":false,\"left\":{\"type\":\"number\",\"value\":\"nan\"},\"right\":{\"type\":\"number\",\"value\":\"nan\"},\"top\":{\"type\":\"number\",\"value\":\"nan\"},\"bottom\":{\"type\":\"number\",\"value\":\"nan\"},\"left_units\":\"canvas\",\"right_units\":\"canvas\",\"top_units\":\"canvas\",\"bottom_units\":\"canvas\",\"line_color\":\"black\",\"line_alpha\":1.0,\"line_width\":2,\"line_dash\":[4,4],\"fill_color\":\"lightgrey\",\"fill_alpha\":0.5}}}},{\"type\":\"object\",\"name\":\"ResetTool\",\"id\":\"p1356\"}],\"active_drag\":{\"id\":\"p1349\"},\"active_scroll\":{\"id\":\"p1324\"}}},\"left\":[{\"type\":\"object\",\"name\":\"LinearAxis\",\"id\":\"p1343\",\"attributes\":{\"ticker\":{\"type\":\"object\",\"name\":\"BasicTicker\",\"id\":\"p1344\",\"attributes\":{\"mantissas\":[1,2,5]}},\"formatter\":{\"type\":\"object\",\"name\":\"BasicTickFormatter\",\"id\":\"p1345\"},\"axis_label\":\"estimateArrive\",\"major_label_policy\":{\"type\":\"object\",\"name\":\"AllLabels\",\"id\":\"p1346\"}}}],\"below\":[{\"type\":\"object\",\"name\":\"CategoricalAxis\",\"id\":\"p1338\",\"attributes\":{\"ticker\":{\"type\":\"object\",\"name\":\"CategoricalTicker\",\"id\":\"p1339\"},\"formatter\":{\"type\":\"object\",\"name\":\"CategoricalTickFormatter\",\"id\":\"p1340\"},\"axis_label\":\"MinimunFrequency\",\"major_label_policy\":{\"type\":\"object\",\"name\":\"AllLabels\",\"id\":\"p1341\"}}}],\"center\":[{\"type\":\"object\",\"name\":\"Grid\",\"id\":\"p1342\",\"attributes\":{\"axis\":{\"id\":\"p1338\"},\"grid_line_color\":null}},{\"type\":\"object\",\"name\":\"Grid\",\"id\":\"p1347\",\"attributes\":{\"dimension\":1,\"axis\":{\"id\":\"p1343\"},\"grid_line_color\":null}}],\"min_border_top\":10,\"min_border_bottom\":10,\"min_border_left\":10,\"min_border_right\":10,\"output_backend\":\"webgl\"}},{\"type\":\"object\",\"name\":\"Spacer\",\"id\":\"p1371\",\"attributes\":{\"name\":\"HSpacer01492\",\"stylesheets\":[\"\\n:host(.pn-loading):before, .pn-loading:before {\\n  background-color: #c3c3c3;\\n  mask-size: auto calc(min(50%, 400px));\\n  -webkit-mask-size: auto calc(min(50%, 400px));\\n}\",{\"id\":\"p1317\"},{\"id\":\"p1315\"},{\"id\":\"p1316\"}],\"margin\":0,\"sizing_mode\":\"stretch_width\",\"align\":\"start\"}}]}}],\"defs\":[{\"type\":\"model\",\"name\":\"ReactiveHTML1\"},{\"type\":\"model\",\"name\":\"FlexBox1\",\"properties\":[{\"name\":\"align_content\",\"kind\":\"Any\",\"default\":\"flex-start\"},{\"name\":\"align_items\",\"kind\":\"Any\",\"default\":\"flex-start\"},{\"name\":\"flex_direction\",\"kind\":\"Any\",\"default\":\"row\"},{\"name\":\"flex_wrap\",\"kind\":\"Any\",\"default\":\"wrap\"},{\"name\":\"justify_content\",\"kind\":\"Any\",\"default\":\"flex-start\"},{\"name\":\"gap\",\"kind\":\"Any\",\"default\":\"\"}]},{\"type\":\"model\",\"name\":\"FloatPanel1\",\"properties\":[{\"name\":\"config\",\"kind\":\"Any\",\"default\":{\"type\":\"map\"}},{\"name\":\"contained\",\"kind\":\"Any\",\"default\":true},{\"name\":\"position\",\"kind\":\"Any\",\"default\":\"right-top\"},{\"name\":\"offsetx\",\"kind\":\"Any\",\"default\":null},{\"name\":\"offsety\",\"kind\":\"Any\",\"default\":null},{\"name\":\"theme\",\"kind\":\"Any\",\"default\":\"primary\"},{\"name\":\"status\",\"kind\":\"Any\",\"default\":\"normalized\"}]},{\"type\":\"model\",\"name\":\"GridStack1\",\"properties\":[{\"name\":\"mode\",\"kind\":\"Any\",\"default\":\"warn\"},{\"name\":\"ncols\",\"kind\":\"Any\",\"default\":null},{\"name\":\"nrows\",\"kind\":\"Any\",\"default\":null},{\"name\":\"allow_resize\",\"kind\":\"Any\",\"default\":true},{\"name\":\"allow_drag\",\"kind\":\"Any\",\"default\":true},{\"name\":\"state\",\"kind\":\"Any\",\"default\":[]}]},{\"type\":\"model\",\"name\":\"drag1\",\"properties\":[{\"name\":\"slider_width\",\"kind\":\"Any\",\"default\":5},{\"name\":\"slider_color\",\"kind\":\"Any\",\"default\":\"black\"},{\"name\":\"value\",\"kind\":\"Any\",\"default\":50}]},{\"type\":\"model\",\"name\":\"click1\",\"properties\":[{\"name\":\"terminal_output\",\"kind\":\"Any\",\"default\":\"\"},{\"name\":\"debug_name\",\"kind\":\"Any\",\"default\":\"\"},{\"name\":\"clears\",\"kind\":\"Any\",\"default\":0}]},{\"type\":\"model\",\"name\":\"FastWrapper1\",\"properties\":[{\"name\":\"object\",\"kind\":\"Any\",\"default\":null},{\"name\":\"style\",\"kind\":\"Any\",\"default\":null}]},{\"type\":\"model\",\"name\":\"NotificationAreaBase1\",\"properties\":[{\"name\":\"js_events\",\"kind\":\"Any\",\"default\":{\"type\":\"map\"}},{\"name\":\"position\",\"kind\":\"Any\",\"default\":\"bottom-right\"},{\"name\":\"_clear\",\"kind\":\"Any\",\"default\":0}]},{\"type\":\"model\",\"name\":\"NotificationArea1\",\"properties\":[{\"name\":\"js_events\",\"kind\":\"Any\",\"default\":{\"type\":\"map\"}},{\"name\":\"notifications\",\"kind\":\"Any\",\"default\":[]},{\"name\":\"position\",\"kind\":\"Any\",\"default\":\"bottom-right\"},{\"name\":\"_clear\",\"kind\":\"Any\",\"default\":0},{\"name\":\"types\",\"kind\":\"Any\",\"default\":[{\"type\":\"map\",\"entries\":[[\"type\",\"warning\"],[\"background\",\"#ffc107\"],[\"icon\",{\"type\":\"map\",\"entries\":[[\"className\",\"fas fa-exclamation-triangle\"],[\"tagName\",\"i\"],[\"color\",\"white\"]]}]]},{\"type\":\"map\",\"entries\":[[\"type\",\"info\"],[\"background\",\"#007bff\"],[\"icon\",{\"type\":\"map\",\"entries\":[[\"className\",\"fas fa-info-circle\"],[\"tagName\",\"i\"],[\"color\",\"white\"]]}]]}]}]},{\"type\":\"model\",\"name\":\"Notification\",\"properties\":[{\"name\":\"background\",\"kind\":\"Any\",\"default\":null},{\"name\":\"duration\",\"kind\":\"Any\",\"default\":3000},{\"name\":\"icon\",\"kind\":\"Any\",\"default\":null},{\"name\":\"message\",\"kind\":\"Any\",\"default\":\"\"},{\"name\":\"notification_type\",\"kind\":\"Any\",\"default\":null},{\"name\":\"_destroyed\",\"kind\":\"Any\",\"default\":false}]},{\"type\":\"model\",\"name\":\"TemplateActions1\",\"properties\":[{\"name\":\"open_modal\",\"kind\":\"Any\",\"default\":0},{\"name\":\"close_modal\",\"kind\":\"Any\",\"default\":0}]},{\"type\":\"model\",\"name\":\"BootstrapTemplateActions1\",\"properties\":[{\"name\":\"open_modal\",\"kind\":\"Any\",\"default\":0},{\"name\":\"close_modal\",\"kind\":\"Any\",\"default\":0}]},{\"type\":\"model\",\"name\":\"TemplateEditor1\",\"properties\":[{\"name\":\"layout\",\"kind\":\"Any\",\"default\":[]}]},{\"type\":\"model\",\"name\":\"MaterialTemplateActions1\",\"properties\":[{\"name\":\"open_modal\",\"kind\":\"Any\",\"default\":0},{\"name\":\"close_modal\",\"kind\":\"Any\",\"default\":0}]},{\"type\":\"model\",\"name\":\"copy_to_clipboard1\",\"properties\":[{\"name\":\"fill\",\"kind\":\"Any\",\"default\":\"none\"},{\"name\":\"value\",\"kind\":\"Any\",\"default\":null}]}]}};\n",
       "  var render_items = [{\"docid\":\"07f8cca1-52f0-464d-8a87-66fb9164e492\",\"roots\":{\"p1314\":\"decbdad3-9811-48cf-bd2d-3aa5609bf6a1\"},\"root_ids\":[\"p1314\"]}];\n",
       "  var docs = Object.values(docs_json)\n",
       "  if (!docs) {\n",
       "    return\n",
       "  }\n",
       "  const py_version = docs[0].version.replace('rc', '-rc.').replace('.dev', '-dev.')\n",
       "  function embed_document(root) {\n",
       "    var Bokeh = get_bokeh(root)\n",
       "    Bokeh.embed.embed_items_notebook(docs_json, render_items);\n",
       "    for (const render_item of render_items) {\n",
       "      for (const root_id of render_item.root_ids) {\n",
       "\tconst id_el = document.getElementById(root_id)\n",
       "\tif (id_el.children.length && (id_el.children[0].className === 'bk-root')) {\n",
       "\t  const root_el = id_el.children[0]\n",
       "\t  root_el.id = root_el.id + '-rendered'\n",
       "\t}\n",
       "      }\n",
       "    }\n",
       "  }\n",
       "  function get_bokeh(root) {\n",
       "    if (root.Bokeh === undefined) {\n",
       "      return null\n",
       "    } else if (root.Bokeh.version !== py_version) {\n",
       "      if (root.Bokeh.versions === undefined || !root.Bokeh.versions.has(py_version)) {\n",
       "\treturn null\n",
       "      }\n",
       "      return root.Bokeh.versions.get(py_version);\n",
       "    } else if (root.Bokeh.version === py_version) {\n",
       "      return root.Bokeh\n",
       "    }\n",
       "    return null\n",
       "  }\n",
       "  function is_loaded(root) {\n",
       "    var Bokeh = get_bokeh(root)\n",
       "    return (Bokeh != null && Bokeh.Panel !== undefined)\n",
       "  }\n",
       "  if (is_loaded(root)) {\n",
       "    embed_document(root);\n",
       "  } else {\n",
       "    var attempts = 0;\n",
       "    var timer = setInterval(function(root) {\n",
       "      if (is_loaded(root)) {\n",
       "        clearInterval(timer);\n",
       "        embed_document(root);\n",
       "      } else if (document.readyState == \"complete\") {\n",
       "        attempts++;\n",
       "        if (attempts > 200) {\n",
       "          clearInterval(timer);\n",
       "\t  var Bokeh = get_bokeh(root)\n",
       "\t  if (Bokeh == null || Bokeh.Panel == null) {\n",
       "            console.warn(\"Panel: ERROR: Unable to run Panel code because Bokeh or Panel library is missing\");\n",
       "\t  } else {\n",
       "\t    console.warn(\"Panel: WARNING: Attempting to render but not all required libraries could be resolved.\")\n",
       "\t    embed_document(root)\n",
       "\t  }\n",
       "        }\n",
       "      }\n",
       "    }, 25, root)\n",
       "  }\n",
       "})(window);</script>"
      ],
      "text/plain": [
       ":Bars   [MinimunFrequency]   (estimateArrive)"
      ]
     },
     "execution_count": 62,
     "metadata": {
      "application/vnd.holoviews_exec.v0+json": {
       "id": "p1314"
      }
     },
     "output_type": "execute_result"
    }
   ],
   "source": [
    "sample_data.group_by(pl.col('MinimunFrequency')).mean().select(pl.col('MinimunFrequency'),pl.col('estimateArrive')).collect().plot.bar(x='MinimunFrequency')"
   ]
  },
  {
   "cell_type": "markdown",
   "metadata": {},
   "source": [
    "## Variable `MaximumFrequency`"
   ]
  },
  {
   "cell_type": "markdown",
   "metadata": {},
   "source": [
    "### Valores nulos"
   ]
  },
  {
   "cell_type": "code",
   "execution_count": 63,
   "metadata": {},
   "outputs": [
    {
     "data": {
      "text/html": [
       "<div><style>\n",
       ".dataframe > thead > tr,\n",
       ".dataframe > tbody > tr {\n",
       "  text-align: right;\n",
       "  white-space: pre-wrap;\n",
       "}\n",
       "</style>\n",
       "<small>shape: (11, 2)</small><table border=\"1\" class=\"dataframe\"><thead><tr><th>MaximumFrequency</th><th>count</th></tr><tr><td>i64</td><td>u32</td></tr></thead><tbody><tr><td>null</td><td>536287</td></tr><tr><td>30</td><td>46285</td></tr><tr><td>29</td><td>13685</td></tr><tr><td>26</td><td>54788</td></tr><tr><td>24</td><td>100265</td></tr><tr><td>&hellip;</td><td>&hellip;</td></tr><tr><td>21</td><td>23971</td></tr><tr><td>20</td><td>37703</td></tr><tr><td>17</td><td>49856</td></tr><tr><td>15</td><td>61887</td></tr><tr><td>12</td><td>48280</td></tr></tbody></table></div>"
      ],
      "text/plain": [
       "shape: (11, 2)\n",
       "┌──────────────────┬────────┐\n",
       "│ MaximumFrequency ┆ count  │\n",
       "│ ---              ┆ ---    │\n",
       "│ i64              ┆ u32    │\n",
       "╞══════════════════╪════════╡\n",
       "│ null             ┆ 536287 │\n",
       "│ 30               ┆ 46285  │\n",
       "│ 29               ┆ 13685  │\n",
       "│ 26               ┆ 54788  │\n",
       "│ 24               ┆ 100265 │\n",
       "│ …                ┆ …      │\n",
       "│ 21               ┆ 23971  │\n",
       "│ 20               ┆ 37703  │\n",
       "│ 17               ┆ 49856  │\n",
       "│ 15               ┆ 61887  │\n",
       "│ 12               ┆ 48280  │\n",
       "└──────────────────┴────────┘"
      ]
     },
     "execution_count": 63,
     "metadata": {},
     "output_type": "execute_result"
    }
   ],
   "source": [
    "sample_data.group_by(pl.col('MaximumFrequency')).count().sort(pl.col('MaximumFrequency'),descending=True).collect()"
   ]
  },
  {
   "cell_type": "markdown",
   "metadata": {},
   "source": [
    "### Correlación"
   ]
  },
  {
   "cell_type": "code",
   "execution_count": 64,
   "metadata": {},
   "outputs": [
    {
     "data": {
      "text/html": [
       "<div><style>\n",
       ".dataframe > thead > tr,\n",
       ".dataframe > tbody > tr {\n",
       "  text-align: right;\n",
       "  white-space: pre-wrap;\n",
       "}\n",
       "</style>\n",
       "<small>shape: (1, 1)</small><table border=\"1\" class=\"dataframe\"><thead><tr><th>MaximumFrequency</th></tr><tr><td>f64</td></tr></thead><tbody><tr><td>0.256202</td></tr></tbody></table></div>"
      ],
      "text/plain": [
       "shape: (1, 1)\n",
       "┌──────────────────┐\n",
       "│ MaximumFrequency │\n",
       "│ ---              │\n",
       "│ f64              │\n",
       "╞══════════════════╡\n",
       "│ 0.256202         │\n",
       "└──────────────────┘"
      ]
     },
     "execution_count": 64,
     "metadata": {},
     "output_type": "execute_result"
    }
   ],
   "source": [
    "sample_data.select(pl.corr('MaximumFrequency','estimateArrive')).head().collect()"
   ]
  },
  {
   "cell_type": "markdown",
   "metadata": {},
   "source": [
    "### Gráfico"
   ]
  },
  {
   "cell_type": "code",
   "execution_count": 65,
   "metadata": {},
   "outputs": [
    {
     "data": {},
     "metadata": {},
     "output_type": "display_data"
    },
    {
     "data": {
      "application/vnd.holoviews_exec.v0+json": "",
      "text/html": [
       "<div id='p1376'>\n",
       "  <div id=\"a09d3624-63fb-4000-9af7-b1c2df7f2e7d\" data-root-id=\"p1376\" style=\"display: contents;\"></div>\n",
       "</div>\n",
       "<script type=\"application/javascript\">(function(root) {\n",
       "  var docs_json = {\"bab24797-64de-40ea-ae0d-e5f70668d41f\":{\"version\":\"3.4.0\",\"title\":\"Bokeh Application\",\"roots\":[{\"type\":\"object\",\"name\":\"Row\",\"id\":\"p1376\",\"attributes\":{\"name\":\"Row01593\",\"tags\":[\"embedded\"],\"stylesheets\":[\"\\n:host(.pn-loading):before, .pn-loading:before {\\n  background-color: #c3c3c3;\\n  mask-size: auto calc(min(50%, 400px));\\n  -webkit-mask-size: auto calc(min(50%, 400px));\\n}\",{\"type\":\"object\",\"name\":\"ImportedStyleSheet\",\"id\":\"p1379\",\"attributes\":{\"url\":\"https://cdn.holoviz.org/panel/1.4.0/dist/css/loading.css\"}},{\"type\":\"object\",\"name\":\"ImportedStyleSheet\",\"id\":\"p1435\",\"attributes\":{\"url\":\"https://cdn.holoviz.org/panel/1.4.0/dist/css/listpanel.css\"}},{\"type\":\"object\",\"name\":\"ImportedStyleSheet\",\"id\":\"p1377\",\"attributes\":{\"url\":\"https://cdn.holoviz.org/panel/1.4.0/dist/bundled/theme/default.css\"}},{\"type\":\"object\",\"name\":\"ImportedStyleSheet\",\"id\":\"p1378\",\"attributes\":{\"url\":\"https://cdn.holoviz.org/panel/1.4.0/dist/bundled/theme/native.css\"}}],\"min_width\":700,\"margin\":0,\"sizing_mode\":\"stretch_width\",\"align\":\"start\",\"children\":[{\"type\":\"object\",\"name\":\"Spacer\",\"id\":\"p1380\",\"attributes\":{\"name\":\"HSpacer01600\",\"stylesheets\":[\"\\n:host(.pn-loading):before, .pn-loading:before {\\n  background-color: #c3c3c3;\\n  mask-size: auto calc(min(50%, 400px));\\n  -webkit-mask-size: auto calc(min(50%, 400px));\\n}\",{\"id\":\"p1379\"},{\"id\":\"p1377\"},{\"id\":\"p1378\"}],\"margin\":0,\"sizing_mode\":\"stretch_width\",\"align\":\"start\"}},{\"type\":\"object\",\"name\":\"Figure\",\"id\":\"p1388\",\"attributes\":{\"width\":700,\"height\":300,\"margin\":[5,10],\"sizing_mode\":\"fixed\",\"align\":\"start\",\"x_range\":{\"type\":\"object\",\"name\":\"FactorRange\",\"id\":\"p1381\",\"attributes\":{\"tags\":[[[\"MaximumFrequency\",\"MaximumFrequency\",null]],[]],\"factors\":[\"15\",\"24\",\"12\",\"17\",\"20\",\"nan\",\"22\",\"26\",\"21\",\"30\",\"29\"]}},\"y_range\":{\"type\":\"object\",\"name\":\"Range1d\",\"id\":\"p1382\",\"attributes\":{\"tags\":[[[\"estimateArrive\",\"estimateArrive\",null]],{\"type\":\"map\",\"entries\":[[\"invert_yaxis\",false],[\"autorange\",false]]}],\"end\":836.6715166806719,\"reset_start\":0.0,\"reset_end\":836.6715166806719}},\"x_scale\":{\"type\":\"object\",\"name\":\"CategoricalScale\",\"id\":\"p1398\"},\"y_scale\":{\"type\":\"object\",\"name\":\"LinearScale\",\"id\":\"p1399\"},\"title\":{\"type\":\"object\",\"name\":\"Title\",\"id\":\"p1391\",\"attributes\":{\"text_color\":\"black\",\"text_font_size\":\"12pt\"}},\"renderers\":[{\"type\":\"object\",\"name\":\"GlyphRenderer\",\"id\":\"p1428\",\"attributes\":{\"data_source\":{\"type\":\"object\",\"name\":\"ColumnDataSource\",\"id\":\"p1419\",\"attributes\":{\"selected\":{\"type\":\"object\",\"name\":\"Selection\",\"id\":\"p1420\",\"attributes\":{\"indices\":[],\"line_indices\":[]}},\"selection_policy\":{\"type\":\"object\",\"name\":\"UnionRenderers\",\"id\":\"p1421\"},\"data\":{\"type\":\"map\",\"entries\":[[\"MaximumFrequency\",[\"15\",\"24\",\"12\",\"17\",\"20\",\"nan\",\"22\",\"26\",\"21\",\"30\",\"29\"]],[\"estimateArrive\",{\"type\":\"ndarray\",\"array\":{\"type\":\"bytes\",\"data\":\"epzEKqPlekAC0IvxVMOIQH7/Q2/b3XVAtp+Oqou2fECfLmJcVkeDQNPS039G34VAtDVqnTUUiEAxKWSRHWaHQKe7/xKPmYNAnAUyXG9qhUAXCXJw0XyDQA==\"},\"shape\":[11],\"dtype\":\"float64\",\"order\":\"little\"}]]}}},\"view\":{\"type\":\"object\",\"name\":\"CDSView\",\"id\":\"p1429\",\"attributes\":{\"filter\":{\"type\":\"object\",\"name\":\"AllIndices\",\"id\":\"p1430\"}}},\"glyph\":{\"type\":\"object\",\"name\":\"VBar\",\"id\":\"p1425\",\"attributes\":{\"tags\":[\"apply_ranges\"],\"x\":{\"type\":\"field\",\"field\":\"MaximumFrequency\"},\"width\":{\"type\":\"value\",\"value\":0.8},\"top\":{\"type\":\"field\",\"field\":\"estimateArrive\"},\"fill_color\":{\"type\":\"value\",\"value\":\"#30a2da\"},\"hatch_color\":{\"type\":\"value\",\"value\":\"#30a2da\"}}},\"selection_glyph\":{\"type\":\"object\",\"name\":\"VBar\",\"id\":\"p1431\",\"attributes\":{\"tags\":[\"apply_ranges\"],\"x\":{\"type\":\"field\",\"field\":\"MaximumFrequency\"},\"width\":{\"type\":\"value\",\"value\":0.8},\"bottom\":{\"type\":\"value\",\"value\":0},\"top\":{\"type\":\"field\",\"field\":\"estimateArrive\"},\"line_color\":{\"type\":\"value\",\"value\":\"black\"},\"line_alpha\":{\"type\":\"value\",\"value\":1.0},\"line_width\":{\"type\":\"value\",\"value\":1},\"line_join\":{\"type\":\"value\",\"value\":\"bevel\"},\"line_cap\":{\"type\":\"value\",\"value\":\"butt\"},\"line_dash\":{\"type\":\"value\",\"value\":[]},\"line_dash_offset\":{\"type\":\"value\",\"value\":0},\"fill_color\":{\"type\":\"value\",\"value\":\"#30a2da\"},\"fill_alpha\":{\"type\":\"value\",\"value\":1.0},\"hatch_color\":{\"type\":\"value\",\"value\":\"#30a2da\"},\"hatch_alpha\":{\"type\":\"value\",\"value\":1.0},\"hatch_scale\":{\"type\":\"value\",\"value\":12.0},\"hatch_pattern\":{\"type\":\"value\",\"value\":null},\"hatch_weight\":{\"type\":\"value\",\"value\":1.0}}},\"nonselection_glyph\":{\"type\":\"object\",\"name\":\"VBar\",\"id\":\"p1426\",\"attributes\":{\"tags\":[\"apply_ranges\"],\"x\":{\"type\":\"field\",\"field\":\"MaximumFrequency\"},\"width\":{\"type\":\"value\",\"value\":0.8},\"top\":{\"type\":\"field\",\"field\":\"estimateArrive\"},\"line_alpha\":{\"type\":\"value\",\"value\":0.1},\"fill_color\":{\"type\":\"value\",\"value\":\"#30a2da\"},\"fill_alpha\":{\"type\":\"value\",\"value\":0.1},\"hatch_color\":{\"type\":\"value\",\"value\":\"#30a2da\"},\"hatch_alpha\":{\"type\":\"value\",\"value\":0.1}}},\"muted_glyph\":{\"type\":\"object\",\"name\":\"VBar\",\"id\":\"p1427\",\"attributes\":{\"tags\":[\"apply_ranges\"],\"x\":{\"type\":\"field\",\"field\":\"MaximumFrequency\"},\"width\":{\"type\":\"value\",\"value\":0.8},\"top\":{\"type\":\"field\",\"field\":\"estimateArrive\"},\"line_alpha\":{\"type\":\"value\",\"value\":0.2},\"fill_color\":{\"type\":\"value\",\"value\":\"#30a2da\"},\"fill_alpha\":{\"type\":\"value\",\"value\":0.2},\"hatch_color\":{\"type\":\"value\",\"value\":\"#30a2da\"},\"hatch_alpha\":{\"type\":\"value\",\"value\":0.2}}}}}],\"toolbar\":{\"type\":\"object\",\"name\":\"Toolbar\",\"id\":\"p1397\",\"attributes\":{\"tools\":[{\"type\":\"object\",\"name\":\"WheelZoomTool\",\"id\":\"p1386\",\"attributes\":{\"tags\":[\"hv_created\"],\"renderers\":\"auto\",\"zoom_together\":\"none\"}},{\"type\":\"object\",\"name\":\"HoverTool\",\"id\":\"p1387\",\"attributes\":{\"tags\":[\"hv_created\"],\"renderers\":[{\"id\":\"p1428\"}],\"tooltips\":[[\"MaximumFrequency\",\"@{MaximumFrequency}\"],[\"estimateArrive\",\"@{estimateArrive}\"]]}},{\"type\":\"object\",\"name\":\"SaveTool\",\"id\":\"p1410\"},{\"type\":\"object\",\"name\":\"PanTool\",\"id\":\"p1411\"},{\"type\":\"object\",\"name\":\"BoxZoomTool\",\"id\":\"p1412\",\"attributes\":{\"overlay\":{\"type\":\"object\",\"name\":\"BoxAnnotation\",\"id\":\"p1413\",\"attributes\":{\"syncable\":false,\"level\":\"overlay\",\"visible\":false,\"left\":{\"type\":\"number\",\"value\":\"nan\"},\"right\":{\"type\":\"number\",\"value\":\"nan\"},\"top\":{\"type\":\"number\",\"value\":\"nan\"},\"bottom\":{\"type\":\"number\",\"value\":\"nan\"},\"left_units\":\"canvas\",\"right_units\":\"canvas\",\"top_units\":\"canvas\",\"bottom_units\":\"canvas\",\"line_color\":\"black\",\"line_alpha\":1.0,\"line_width\":2,\"line_dash\":[4,4],\"fill_color\":\"lightgrey\",\"fill_alpha\":0.5}}}},{\"type\":\"object\",\"name\":\"ResetTool\",\"id\":\"p1418\"}],\"active_drag\":{\"id\":\"p1411\"},\"active_scroll\":{\"id\":\"p1386\"}}},\"left\":[{\"type\":\"object\",\"name\":\"LinearAxis\",\"id\":\"p1405\",\"attributes\":{\"ticker\":{\"type\":\"object\",\"name\":\"BasicTicker\",\"id\":\"p1406\",\"attributes\":{\"mantissas\":[1,2,5]}},\"formatter\":{\"type\":\"object\",\"name\":\"BasicTickFormatter\",\"id\":\"p1407\"},\"axis_label\":\"estimateArrive\",\"major_label_policy\":{\"type\":\"object\",\"name\":\"AllLabels\",\"id\":\"p1408\"}}}],\"below\":[{\"type\":\"object\",\"name\":\"CategoricalAxis\",\"id\":\"p1400\",\"attributes\":{\"ticker\":{\"type\":\"object\",\"name\":\"CategoricalTicker\",\"id\":\"p1401\"},\"formatter\":{\"type\":\"object\",\"name\":\"CategoricalTickFormatter\",\"id\":\"p1402\"},\"axis_label\":\"MaximumFrequency\",\"major_label_policy\":{\"type\":\"object\",\"name\":\"AllLabels\",\"id\":\"p1403\"}}}],\"center\":[{\"type\":\"object\",\"name\":\"Grid\",\"id\":\"p1404\",\"attributes\":{\"axis\":{\"id\":\"p1400\"},\"grid_line_color\":null}},{\"type\":\"object\",\"name\":\"Grid\",\"id\":\"p1409\",\"attributes\":{\"dimension\":1,\"axis\":{\"id\":\"p1405\"},\"grid_line_color\":null}}],\"min_border_top\":10,\"min_border_bottom\":10,\"min_border_left\":10,\"min_border_right\":10,\"output_backend\":\"webgl\"}},{\"type\":\"object\",\"name\":\"Spacer\",\"id\":\"p1433\",\"attributes\":{\"name\":\"HSpacer01601\",\"stylesheets\":[\"\\n:host(.pn-loading):before, .pn-loading:before {\\n  background-color: #c3c3c3;\\n  mask-size: auto calc(min(50%, 400px));\\n  -webkit-mask-size: auto calc(min(50%, 400px));\\n}\",{\"id\":\"p1379\"},{\"id\":\"p1377\"},{\"id\":\"p1378\"}],\"margin\":0,\"sizing_mode\":\"stretch_width\",\"align\":\"start\"}}]}}],\"defs\":[{\"type\":\"model\",\"name\":\"ReactiveHTML1\"},{\"type\":\"model\",\"name\":\"FlexBox1\",\"properties\":[{\"name\":\"align_content\",\"kind\":\"Any\",\"default\":\"flex-start\"},{\"name\":\"align_items\",\"kind\":\"Any\",\"default\":\"flex-start\"},{\"name\":\"flex_direction\",\"kind\":\"Any\",\"default\":\"row\"},{\"name\":\"flex_wrap\",\"kind\":\"Any\",\"default\":\"wrap\"},{\"name\":\"justify_content\",\"kind\":\"Any\",\"default\":\"flex-start\"},{\"name\":\"gap\",\"kind\":\"Any\",\"default\":\"\"}]},{\"type\":\"model\",\"name\":\"FloatPanel1\",\"properties\":[{\"name\":\"config\",\"kind\":\"Any\",\"default\":{\"type\":\"map\"}},{\"name\":\"contained\",\"kind\":\"Any\",\"default\":true},{\"name\":\"position\",\"kind\":\"Any\",\"default\":\"right-top\"},{\"name\":\"offsetx\",\"kind\":\"Any\",\"default\":null},{\"name\":\"offsety\",\"kind\":\"Any\",\"default\":null},{\"name\":\"theme\",\"kind\":\"Any\",\"default\":\"primary\"},{\"name\":\"status\",\"kind\":\"Any\",\"default\":\"normalized\"}]},{\"type\":\"model\",\"name\":\"GridStack1\",\"properties\":[{\"name\":\"mode\",\"kind\":\"Any\",\"default\":\"warn\"},{\"name\":\"ncols\",\"kind\":\"Any\",\"default\":null},{\"name\":\"nrows\",\"kind\":\"Any\",\"default\":null},{\"name\":\"allow_resize\",\"kind\":\"Any\",\"default\":true},{\"name\":\"allow_drag\",\"kind\":\"Any\",\"default\":true},{\"name\":\"state\",\"kind\":\"Any\",\"default\":[]}]},{\"type\":\"model\",\"name\":\"drag1\",\"properties\":[{\"name\":\"slider_width\",\"kind\":\"Any\",\"default\":5},{\"name\":\"slider_color\",\"kind\":\"Any\",\"default\":\"black\"},{\"name\":\"value\",\"kind\":\"Any\",\"default\":50}]},{\"type\":\"model\",\"name\":\"click1\",\"properties\":[{\"name\":\"terminal_output\",\"kind\":\"Any\",\"default\":\"\"},{\"name\":\"debug_name\",\"kind\":\"Any\",\"default\":\"\"},{\"name\":\"clears\",\"kind\":\"Any\",\"default\":0}]},{\"type\":\"model\",\"name\":\"FastWrapper1\",\"properties\":[{\"name\":\"object\",\"kind\":\"Any\",\"default\":null},{\"name\":\"style\",\"kind\":\"Any\",\"default\":null}]},{\"type\":\"model\",\"name\":\"NotificationAreaBase1\",\"properties\":[{\"name\":\"js_events\",\"kind\":\"Any\",\"default\":{\"type\":\"map\"}},{\"name\":\"position\",\"kind\":\"Any\",\"default\":\"bottom-right\"},{\"name\":\"_clear\",\"kind\":\"Any\",\"default\":0}]},{\"type\":\"model\",\"name\":\"NotificationArea1\",\"properties\":[{\"name\":\"js_events\",\"kind\":\"Any\",\"default\":{\"type\":\"map\"}},{\"name\":\"notifications\",\"kind\":\"Any\",\"default\":[]},{\"name\":\"position\",\"kind\":\"Any\",\"default\":\"bottom-right\"},{\"name\":\"_clear\",\"kind\":\"Any\",\"default\":0},{\"name\":\"types\",\"kind\":\"Any\",\"default\":[{\"type\":\"map\",\"entries\":[[\"type\",\"warning\"],[\"background\",\"#ffc107\"],[\"icon\",{\"type\":\"map\",\"entries\":[[\"className\",\"fas fa-exclamation-triangle\"],[\"tagName\",\"i\"],[\"color\",\"white\"]]}]]},{\"type\":\"map\",\"entries\":[[\"type\",\"info\"],[\"background\",\"#007bff\"],[\"icon\",{\"type\":\"map\",\"entries\":[[\"className\",\"fas fa-info-circle\"],[\"tagName\",\"i\"],[\"color\",\"white\"]]}]]}]}]},{\"type\":\"model\",\"name\":\"Notification\",\"properties\":[{\"name\":\"background\",\"kind\":\"Any\",\"default\":null},{\"name\":\"duration\",\"kind\":\"Any\",\"default\":3000},{\"name\":\"icon\",\"kind\":\"Any\",\"default\":null},{\"name\":\"message\",\"kind\":\"Any\",\"default\":\"\"},{\"name\":\"notification_type\",\"kind\":\"Any\",\"default\":null},{\"name\":\"_destroyed\",\"kind\":\"Any\",\"default\":false}]},{\"type\":\"model\",\"name\":\"TemplateActions1\",\"properties\":[{\"name\":\"open_modal\",\"kind\":\"Any\",\"default\":0},{\"name\":\"close_modal\",\"kind\":\"Any\",\"default\":0}]},{\"type\":\"model\",\"name\":\"BootstrapTemplateActions1\",\"properties\":[{\"name\":\"open_modal\",\"kind\":\"Any\",\"default\":0},{\"name\":\"close_modal\",\"kind\":\"Any\",\"default\":0}]},{\"type\":\"model\",\"name\":\"TemplateEditor1\",\"properties\":[{\"name\":\"layout\",\"kind\":\"Any\",\"default\":[]}]},{\"type\":\"model\",\"name\":\"MaterialTemplateActions1\",\"properties\":[{\"name\":\"open_modal\",\"kind\":\"Any\",\"default\":0},{\"name\":\"close_modal\",\"kind\":\"Any\",\"default\":0}]},{\"type\":\"model\",\"name\":\"copy_to_clipboard1\",\"properties\":[{\"name\":\"fill\",\"kind\":\"Any\",\"default\":\"none\"},{\"name\":\"value\",\"kind\":\"Any\",\"default\":null}]}]}};\n",
       "  var render_items = [{\"docid\":\"bab24797-64de-40ea-ae0d-e5f70668d41f\",\"roots\":{\"p1376\":\"a09d3624-63fb-4000-9af7-b1c2df7f2e7d\"},\"root_ids\":[\"p1376\"]}];\n",
       "  var docs = Object.values(docs_json)\n",
       "  if (!docs) {\n",
       "    return\n",
       "  }\n",
       "  const py_version = docs[0].version.replace('rc', '-rc.').replace('.dev', '-dev.')\n",
       "  function embed_document(root) {\n",
       "    var Bokeh = get_bokeh(root)\n",
       "    Bokeh.embed.embed_items_notebook(docs_json, render_items);\n",
       "    for (const render_item of render_items) {\n",
       "      for (const root_id of render_item.root_ids) {\n",
       "\tconst id_el = document.getElementById(root_id)\n",
       "\tif (id_el.children.length && (id_el.children[0].className === 'bk-root')) {\n",
       "\t  const root_el = id_el.children[0]\n",
       "\t  root_el.id = root_el.id + '-rendered'\n",
       "\t}\n",
       "      }\n",
       "    }\n",
       "  }\n",
       "  function get_bokeh(root) {\n",
       "    if (root.Bokeh === undefined) {\n",
       "      return null\n",
       "    } else if (root.Bokeh.version !== py_version) {\n",
       "      if (root.Bokeh.versions === undefined || !root.Bokeh.versions.has(py_version)) {\n",
       "\treturn null\n",
       "      }\n",
       "      return root.Bokeh.versions.get(py_version);\n",
       "    } else if (root.Bokeh.version === py_version) {\n",
       "      return root.Bokeh\n",
       "    }\n",
       "    return null\n",
       "  }\n",
       "  function is_loaded(root) {\n",
       "    var Bokeh = get_bokeh(root)\n",
       "    return (Bokeh != null && Bokeh.Panel !== undefined)\n",
       "  }\n",
       "  if (is_loaded(root)) {\n",
       "    embed_document(root);\n",
       "  } else {\n",
       "    var attempts = 0;\n",
       "    var timer = setInterval(function(root) {\n",
       "      if (is_loaded(root)) {\n",
       "        clearInterval(timer);\n",
       "        embed_document(root);\n",
       "      } else if (document.readyState == \"complete\") {\n",
       "        attempts++;\n",
       "        if (attempts > 200) {\n",
       "          clearInterval(timer);\n",
       "\t  var Bokeh = get_bokeh(root)\n",
       "\t  if (Bokeh == null || Bokeh.Panel == null) {\n",
       "            console.warn(\"Panel: ERROR: Unable to run Panel code because Bokeh or Panel library is missing\");\n",
       "\t  } else {\n",
       "\t    console.warn(\"Panel: WARNING: Attempting to render but not all required libraries could be resolved.\")\n",
       "\t    embed_document(root)\n",
       "\t  }\n",
       "        }\n",
       "      }\n",
       "    }, 25, root)\n",
       "  }\n",
       "})(window);</script>"
      ],
      "text/plain": [
       ":Bars   [MaximumFrequency]   (estimateArrive)"
      ]
     },
     "execution_count": 65,
     "metadata": {
      "application/vnd.holoviews_exec.v0+json": {
       "id": "p1376"
      }
     },
     "output_type": "execute_result"
    }
   ],
   "source": [
    "sample_data.group_by(pl.col('MaximumFrequency')).mean().select(pl.col('MaximumFrequency'),pl.col('estimateArrive')).collect().plot.bar(x='MaximumFrequency')"
   ]
  },
  {
   "cell_type": "markdown",
   "metadata": {},
   "source": [
    "### Conclusión\n",
    "Las variables `MinimunFrequency ` y `MaximumFrequency ` tienen muchos valores nulos pero si que están relacionadas con el `ETA`. Una opción es mantener solo una de ellas ya que es probable que aporten la misma información. De momento mantenemos las dos."
   ]
  },
  {
   "cell_type": "markdown",
   "metadata": {},
   "source": [
    "## Variable `isHead`"
   ]
  },
  {
   "cell_type": "markdown",
   "metadata": {},
   "source": [
    "### Valores nulos"
   ]
  },
  {
   "cell_type": "code",
   "execution_count": 66,
   "metadata": {},
   "outputs": [
    {
     "data": {
      "text/html": [
       "<div><style>\n",
       ".dataframe > thead > tr,\n",
       ".dataframe > tbody > tr {\n",
       "  text-align: right;\n",
       "  white-space: pre-wrap;\n",
       "}\n",
       "</style>\n",
       "<small>shape: (2, 2)</small><table border=\"1\" class=\"dataframe\"><thead><tr><th>isHead</th><th>count</th></tr><tr><td>u8</td><td>u32</td></tr></thead><tbody><tr><td>1</td><td>62640</td></tr><tr><td>0</td><td>1070991</td></tr></tbody></table></div>"
      ],
      "text/plain": [
       "shape: (2, 2)\n",
       "┌────────┬─────────┐\n",
       "│ isHead ┆ count   │\n",
       "│ ---    ┆ ---     │\n",
       "│ u8     ┆ u32     │\n",
       "╞════════╪═════════╡\n",
       "│ 1      ┆ 62640   │\n",
       "│ 0      ┆ 1070991 │\n",
       "└────────┴─────────┘"
      ]
     },
     "execution_count": 66,
     "metadata": {},
     "output_type": "execute_result"
    }
   ],
   "source": [
    "sample_data.group_by(pl.col('isHead')).count().head().collect()"
   ]
  },
  {
   "cell_type": "markdown",
   "metadata": {},
   "source": [
    "### Correlación"
   ]
  },
  {
   "cell_type": "code",
   "execution_count": 67,
   "metadata": {},
   "outputs": [
    {
     "data": {
      "text/html": [
       "<div><style>\n",
       ".dataframe > thead > tr,\n",
       ".dataframe > tbody > tr {\n",
       "  text-align: right;\n",
       "  white-space: pre-wrap;\n",
       "}\n",
       "</style>\n",
       "<small>shape: (1, 1)</small><table border=\"1\" class=\"dataframe\"><thead><tr><th>isHead</th></tr><tr><td>f64</td></tr></thead><tbody><tr><td>0.026346</td></tr></tbody></table></div>"
      ],
      "text/plain": [
       "shape: (1, 1)\n",
       "┌──────────┐\n",
       "│ isHead   │\n",
       "│ ---      │\n",
       "│ f64      │\n",
       "╞══════════╡\n",
       "│ 0.026346 │\n",
       "└──────────┘"
      ]
     },
     "execution_count": 67,
     "metadata": {},
     "output_type": "execute_result"
    }
   ],
   "source": [
    "sample_data.select(pl.corr('isHead','estimateArrive')).head().collect()"
   ]
  },
  {
   "cell_type": "markdown",
   "metadata": {},
   "source": [
    "### Gráfico"
   ]
  },
  {
   "cell_type": "code",
   "execution_count": 68,
   "metadata": {},
   "outputs": [
    {
     "data": {},
     "metadata": {},
     "output_type": "display_data"
    },
    {
     "data": {
      "application/vnd.holoviews_exec.v0+json": "",
      "text/html": [
       "<div id='p1438'>\n",
       "  <div id=\"d27fea9c-7afb-4f86-a611-87b4da7f7da5\" data-root-id=\"p1438\" style=\"display: contents;\"></div>\n",
       "</div>\n",
       "<script type=\"application/javascript\">(function(root) {\n",
       "  var docs_json = {\"b41f7843-4bbf-4094-b38f-9432fa087a34\":{\"version\":\"3.4.0\",\"title\":\"Bokeh Application\",\"roots\":[{\"type\":\"object\",\"name\":\"Row\",\"id\":\"p1438\",\"attributes\":{\"name\":\"Row01702\",\"tags\":[\"embedded\"],\"stylesheets\":[\"\\n:host(.pn-loading):before, .pn-loading:before {\\n  background-color: #c3c3c3;\\n  mask-size: auto calc(min(50%, 400px));\\n  -webkit-mask-size: auto calc(min(50%, 400px));\\n}\",{\"type\":\"object\",\"name\":\"ImportedStyleSheet\",\"id\":\"p1441\",\"attributes\":{\"url\":\"https://cdn.holoviz.org/panel/1.4.0/dist/css/loading.css\"}},{\"type\":\"object\",\"name\":\"ImportedStyleSheet\",\"id\":\"p1497\",\"attributes\":{\"url\":\"https://cdn.holoviz.org/panel/1.4.0/dist/css/listpanel.css\"}},{\"type\":\"object\",\"name\":\"ImportedStyleSheet\",\"id\":\"p1439\",\"attributes\":{\"url\":\"https://cdn.holoviz.org/panel/1.4.0/dist/bundled/theme/default.css\"}},{\"type\":\"object\",\"name\":\"ImportedStyleSheet\",\"id\":\"p1440\",\"attributes\":{\"url\":\"https://cdn.holoviz.org/panel/1.4.0/dist/bundled/theme/native.css\"}}],\"min_width\":700,\"margin\":0,\"sizing_mode\":\"stretch_width\",\"align\":\"start\",\"children\":[{\"type\":\"object\",\"name\":\"Spacer\",\"id\":\"p1442\",\"attributes\":{\"name\":\"HSpacer01709\",\"stylesheets\":[\"\\n:host(.pn-loading):before, .pn-loading:before {\\n  background-color: #c3c3c3;\\n  mask-size: auto calc(min(50%, 400px));\\n  -webkit-mask-size: auto calc(min(50%, 400px));\\n}\",{\"id\":\"p1441\"},{\"id\":\"p1439\"},{\"id\":\"p1440\"}],\"margin\":0,\"sizing_mode\":\"stretch_width\",\"align\":\"start\"}},{\"type\":\"object\",\"name\":\"Figure\",\"id\":\"p1450\",\"attributes\":{\"width\":700,\"height\":300,\"margin\":[5,10],\"sizing_mode\":\"fixed\",\"align\":\"start\",\"x_range\":{\"type\":\"object\",\"name\":\"FactorRange\",\"id\":\"p1443\",\"attributes\":{\"tags\":[[[\"isHead\",\"isHead\",null]],[]],\"factors\":[\"0\",\"1\"]}},\"y_range\":{\"type\":\"object\",\"name\":\"Range1d\",\"id\":\"p1444\",\"attributes\":{\"tags\":[[[\"estimateArrive\",\"estimateArrive\",null]],{\"type\":\"map\",\"entries\":[[\"invert_yaxis\",false],[\"autorange\",false]]}],\"end\":732.9770461666735,\"reset_start\":0.0,\"reset_end\":732.9770461666735}},\"x_scale\":{\"type\":\"object\",\"name\":\"CategoricalScale\",\"id\":\"p1460\"},\"y_scale\":{\"type\":\"object\",\"name\":\"LinearScale\",\"id\":\"p1461\"},\"title\":{\"type\":\"object\",\"name\":\"Title\",\"id\":\"p1453\",\"attributes\":{\"text_color\":\"black\",\"text_font_size\":\"12pt\"}},\"renderers\":[{\"type\":\"object\",\"name\":\"GlyphRenderer\",\"id\":\"p1490\",\"attributes\":{\"data_source\":{\"type\":\"object\",\"name\":\"ColumnDataSource\",\"id\":\"p1481\",\"attributes\":{\"selected\":{\"type\":\"object\",\"name\":\"Selection\",\"id\":\"p1482\",\"attributes\":{\"indices\":[],\"line_indices\":[]}},\"selection_policy\":{\"type\":\"object\",\"name\":\"UnionRenderers\",\"id\":\"p1483\"},\"data\":{\"type\":\"map\",\"entries\":[[\"isHead\",[\"0\",\"1\"]],[\"estimateArrive\",{\"type\":\"ndarray\",\"array\":{\"type\":\"bytes\",\"data\":\"HXULjcX6hEDLiPx+/rqGQA==\"},\"shape\":[2],\"dtype\":\"float64\",\"order\":\"little\"}]]}}},\"view\":{\"type\":\"object\",\"name\":\"CDSView\",\"id\":\"p1491\",\"attributes\":{\"filter\":{\"type\":\"object\",\"name\":\"AllIndices\",\"id\":\"p1492\"}}},\"glyph\":{\"type\":\"object\",\"name\":\"VBar\",\"id\":\"p1487\",\"attributes\":{\"tags\":[\"apply_ranges\"],\"x\":{\"type\":\"field\",\"field\":\"isHead\"},\"width\":{\"type\":\"value\",\"value\":0.8},\"top\":{\"type\":\"field\",\"field\":\"estimateArrive\"},\"fill_color\":{\"type\":\"value\",\"value\":\"#30a2da\"},\"hatch_color\":{\"type\":\"value\",\"value\":\"#30a2da\"}}},\"selection_glyph\":{\"type\":\"object\",\"name\":\"VBar\",\"id\":\"p1493\",\"attributes\":{\"tags\":[\"apply_ranges\"],\"x\":{\"type\":\"field\",\"field\":\"isHead\"},\"width\":{\"type\":\"value\",\"value\":0.8},\"bottom\":{\"type\":\"value\",\"value\":0},\"top\":{\"type\":\"field\",\"field\":\"estimateArrive\"},\"line_color\":{\"type\":\"value\",\"value\":\"black\"},\"line_alpha\":{\"type\":\"value\",\"value\":1.0},\"line_width\":{\"type\":\"value\",\"value\":1},\"line_join\":{\"type\":\"value\",\"value\":\"bevel\"},\"line_cap\":{\"type\":\"value\",\"value\":\"butt\"},\"line_dash\":{\"type\":\"value\",\"value\":[]},\"line_dash_offset\":{\"type\":\"value\",\"value\":0},\"fill_color\":{\"type\":\"value\",\"value\":\"#30a2da\"},\"fill_alpha\":{\"type\":\"value\",\"value\":1.0},\"hatch_color\":{\"type\":\"value\",\"value\":\"#30a2da\"},\"hatch_alpha\":{\"type\":\"value\",\"value\":1.0},\"hatch_scale\":{\"type\":\"value\",\"value\":12.0},\"hatch_pattern\":{\"type\":\"value\",\"value\":null},\"hatch_weight\":{\"type\":\"value\",\"value\":1.0}}},\"nonselection_glyph\":{\"type\":\"object\",\"name\":\"VBar\",\"id\":\"p1488\",\"attributes\":{\"tags\":[\"apply_ranges\"],\"x\":{\"type\":\"field\",\"field\":\"isHead\"},\"width\":{\"type\":\"value\",\"value\":0.8},\"top\":{\"type\":\"field\",\"field\":\"estimateArrive\"},\"line_alpha\":{\"type\":\"value\",\"value\":0.1},\"fill_color\":{\"type\":\"value\",\"value\":\"#30a2da\"},\"fill_alpha\":{\"type\":\"value\",\"value\":0.1},\"hatch_color\":{\"type\":\"value\",\"value\":\"#30a2da\"},\"hatch_alpha\":{\"type\":\"value\",\"value\":0.1}}},\"muted_glyph\":{\"type\":\"object\",\"name\":\"VBar\",\"id\":\"p1489\",\"attributes\":{\"tags\":[\"apply_ranges\"],\"x\":{\"type\":\"field\",\"field\":\"isHead\"},\"width\":{\"type\":\"value\",\"value\":0.8},\"top\":{\"type\":\"field\",\"field\":\"estimateArrive\"},\"line_alpha\":{\"type\":\"value\",\"value\":0.2},\"fill_color\":{\"type\":\"value\",\"value\":\"#30a2da\"},\"fill_alpha\":{\"type\":\"value\",\"value\":0.2},\"hatch_color\":{\"type\":\"value\",\"value\":\"#30a2da\"},\"hatch_alpha\":{\"type\":\"value\",\"value\":0.2}}}}}],\"toolbar\":{\"type\":\"object\",\"name\":\"Toolbar\",\"id\":\"p1459\",\"attributes\":{\"tools\":[{\"type\":\"object\",\"name\":\"WheelZoomTool\",\"id\":\"p1448\",\"attributes\":{\"tags\":[\"hv_created\"],\"renderers\":\"auto\",\"zoom_together\":\"none\"}},{\"type\":\"object\",\"name\":\"HoverTool\",\"id\":\"p1449\",\"attributes\":{\"tags\":[\"hv_created\"],\"renderers\":[{\"id\":\"p1490\"}],\"tooltips\":[[\"isHead\",\"@{isHead}\"],[\"estimateArrive\",\"@{estimateArrive}\"]]}},{\"type\":\"object\",\"name\":\"SaveTool\",\"id\":\"p1472\"},{\"type\":\"object\",\"name\":\"PanTool\",\"id\":\"p1473\"},{\"type\":\"object\",\"name\":\"BoxZoomTool\",\"id\":\"p1474\",\"attributes\":{\"overlay\":{\"type\":\"object\",\"name\":\"BoxAnnotation\",\"id\":\"p1475\",\"attributes\":{\"syncable\":false,\"level\":\"overlay\",\"visible\":false,\"left\":{\"type\":\"number\",\"value\":\"nan\"},\"right\":{\"type\":\"number\",\"value\":\"nan\"},\"top\":{\"type\":\"number\",\"value\":\"nan\"},\"bottom\":{\"type\":\"number\",\"value\":\"nan\"},\"left_units\":\"canvas\",\"right_units\":\"canvas\",\"top_units\":\"canvas\",\"bottom_units\":\"canvas\",\"line_color\":\"black\",\"line_alpha\":1.0,\"line_width\":2,\"line_dash\":[4,4],\"fill_color\":\"lightgrey\",\"fill_alpha\":0.5}}}},{\"type\":\"object\",\"name\":\"ResetTool\",\"id\":\"p1480\"}],\"active_drag\":{\"id\":\"p1473\"},\"active_scroll\":{\"id\":\"p1448\"}}},\"left\":[{\"type\":\"object\",\"name\":\"LinearAxis\",\"id\":\"p1467\",\"attributes\":{\"ticker\":{\"type\":\"object\",\"name\":\"BasicTicker\",\"id\":\"p1468\",\"attributes\":{\"mantissas\":[1,2,5]}},\"formatter\":{\"type\":\"object\",\"name\":\"BasicTickFormatter\",\"id\":\"p1469\"},\"axis_label\":\"estimateArrive\",\"major_label_policy\":{\"type\":\"object\",\"name\":\"AllLabels\",\"id\":\"p1470\"}}}],\"below\":[{\"type\":\"object\",\"name\":\"CategoricalAxis\",\"id\":\"p1462\",\"attributes\":{\"ticker\":{\"type\":\"object\",\"name\":\"CategoricalTicker\",\"id\":\"p1463\"},\"formatter\":{\"type\":\"object\",\"name\":\"CategoricalTickFormatter\",\"id\":\"p1464\"},\"axis_label\":\"isHead\",\"major_label_policy\":{\"type\":\"object\",\"name\":\"AllLabels\",\"id\":\"p1465\"}}}],\"center\":[{\"type\":\"object\",\"name\":\"Grid\",\"id\":\"p1466\",\"attributes\":{\"axis\":{\"id\":\"p1462\"},\"grid_line_color\":null}},{\"type\":\"object\",\"name\":\"Grid\",\"id\":\"p1471\",\"attributes\":{\"dimension\":1,\"axis\":{\"id\":\"p1467\"},\"grid_line_color\":null}}],\"min_border_top\":10,\"min_border_bottom\":10,\"min_border_left\":10,\"min_border_right\":10,\"output_backend\":\"webgl\"}},{\"type\":\"object\",\"name\":\"Spacer\",\"id\":\"p1495\",\"attributes\":{\"name\":\"HSpacer01710\",\"stylesheets\":[\"\\n:host(.pn-loading):before, .pn-loading:before {\\n  background-color: #c3c3c3;\\n  mask-size: auto calc(min(50%, 400px));\\n  -webkit-mask-size: auto calc(min(50%, 400px));\\n}\",{\"id\":\"p1441\"},{\"id\":\"p1439\"},{\"id\":\"p1440\"}],\"margin\":0,\"sizing_mode\":\"stretch_width\",\"align\":\"start\"}}]}}],\"defs\":[{\"type\":\"model\",\"name\":\"ReactiveHTML1\"},{\"type\":\"model\",\"name\":\"FlexBox1\",\"properties\":[{\"name\":\"align_content\",\"kind\":\"Any\",\"default\":\"flex-start\"},{\"name\":\"align_items\",\"kind\":\"Any\",\"default\":\"flex-start\"},{\"name\":\"flex_direction\",\"kind\":\"Any\",\"default\":\"row\"},{\"name\":\"flex_wrap\",\"kind\":\"Any\",\"default\":\"wrap\"},{\"name\":\"justify_content\",\"kind\":\"Any\",\"default\":\"flex-start\"},{\"name\":\"gap\",\"kind\":\"Any\",\"default\":\"\"}]},{\"type\":\"model\",\"name\":\"FloatPanel1\",\"properties\":[{\"name\":\"config\",\"kind\":\"Any\",\"default\":{\"type\":\"map\"}},{\"name\":\"contained\",\"kind\":\"Any\",\"default\":true},{\"name\":\"position\",\"kind\":\"Any\",\"default\":\"right-top\"},{\"name\":\"offsetx\",\"kind\":\"Any\",\"default\":null},{\"name\":\"offsety\",\"kind\":\"Any\",\"default\":null},{\"name\":\"theme\",\"kind\":\"Any\",\"default\":\"primary\"},{\"name\":\"status\",\"kind\":\"Any\",\"default\":\"normalized\"}]},{\"type\":\"model\",\"name\":\"GridStack1\",\"properties\":[{\"name\":\"mode\",\"kind\":\"Any\",\"default\":\"warn\"},{\"name\":\"ncols\",\"kind\":\"Any\",\"default\":null},{\"name\":\"nrows\",\"kind\":\"Any\",\"default\":null},{\"name\":\"allow_resize\",\"kind\":\"Any\",\"default\":true},{\"name\":\"allow_drag\",\"kind\":\"Any\",\"default\":true},{\"name\":\"state\",\"kind\":\"Any\",\"default\":[]}]},{\"type\":\"model\",\"name\":\"drag1\",\"properties\":[{\"name\":\"slider_width\",\"kind\":\"Any\",\"default\":5},{\"name\":\"slider_color\",\"kind\":\"Any\",\"default\":\"black\"},{\"name\":\"value\",\"kind\":\"Any\",\"default\":50}]},{\"type\":\"model\",\"name\":\"click1\",\"properties\":[{\"name\":\"terminal_output\",\"kind\":\"Any\",\"default\":\"\"},{\"name\":\"debug_name\",\"kind\":\"Any\",\"default\":\"\"},{\"name\":\"clears\",\"kind\":\"Any\",\"default\":0}]},{\"type\":\"model\",\"name\":\"FastWrapper1\",\"properties\":[{\"name\":\"object\",\"kind\":\"Any\",\"default\":null},{\"name\":\"style\",\"kind\":\"Any\",\"default\":null}]},{\"type\":\"model\",\"name\":\"NotificationAreaBase1\",\"properties\":[{\"name\":\"js_events\",\"kind\":\"Any\",\"default\":{\"type\":\"map\"}},{\"name\":\"position\",\"kind\":\"Any\",\"default\":\"bottom-right\"},{\"name\":\"_clear\",\"kind\":\"Any\",\"default\":0}]},{\"type\":\"model\",\"name\":\"NotificationArea1\",\"properties\":[{\"name\":\"js_events\",\"kind\":\"Any\",\"default\":{\"type\":\"map\"}},{\"name\":\"notifications\",\"kind\":\"Any\",\"default\":[]},{\"name\":\"position\",\"kind\":\"Any\",\"default\":\"bottom-right\"},{\"name\":\"_clear\",\"kind\":\"Any\",\"default\":0},{\"name\":\"types\",\"kind\":\"Any\",\"default\":[{\"type\":\"map\",\"entries\":[[\"type\",\"warning\"],[\"background\",\"#ffc107\"],[\"icon\",{\"type\":\"map\",\"entries\":[[\"className\",\"fas fa-exclamation-triangle\"],[\"tagName\",\"i\"],[\"color\",\"white\"]]}]]},{\"type\":\"map\",\"entries\":[[\"type\",\"info\"],[\"background\",\"#007bff\"],[\"icon\",{\"type\":\"map\",\"entries\":[[\"className\",\"fas fa-info-circle\"],[\"tagName\",\"i\"],[\"color\",\"white\"]]}]]}]}]},{\"type\":\"model\",\"name\":\"Notification\",\"properties\":[{\"name\":\"background\",\"kind\":\"Any\",\"default\":null},{\"name\":\"duration\",\"kind\":\"Any\",\"default\":3000},{\"name\":\"icon\",\"kind\":\"Any\",\"default\":null},{\"name\":\"message\",\"kind\":\"Any\",\"default\":\"\"},{\"name\":\"notification_type\",\"kind\":\"Any\",\"default\":null},{\"name\":\"_destroyed\",\"kind\":\"Any\",\"default\":false}]},{\"type\":\"model\",\"name\":\"TemplateActions1\",\"properties\":[{\"name\":\"open_modal\",\"kind\":\"Any\",\"default\":0},{\"name\":\"close_modal\",\"kind\":\"Any\",\"default\":0}]},{\"type\":\"model\",\"name\":\"BootstrapTemplateActions1\",\"properties\":[{\"name\":\"open_modal\",\"kind\":\"Any\",\"default\":0},{\"name\":\"close_modal\",\"kind\":\"Any\",\"default\":0}]},{\"type\":\"model\",\"name\":\"TemplateEditor1\",\"properties\":[{\"name\":\"layout\",\"kind\":\"Any\",\"default\":[]}]},{\"type\":\"model\",\"name\":\"MaterialTemplateActions1\",\"properties\":[{\"name\":\"open_modal\",\"kind\":\"Any\",\"default\":0},{\"name\":\"close_modal\",\"kind\":\"Any\",\"default\":0}]},{\"type\":\"model\",\"name\":\"copy_to_clipboard1\",\"properties\":[{\"name\":\"fill\",\"kind\":\"Any\",\"default\":\"none\"},{\"name\":\"value\",\"kind\":\"Any\",\"default\":null}]}]}};\n",
       "  var render_items = [{\"docid\":\"b41f7843-4bbf-4094-b38f-9432fa087a34\",\"roots\":{\"p1438\":\"d27fea9c-7afb-4f86-a611-87b4da7f7da5\"},\"root_ids\":[\"p1438\"]}];\n",
       "  var docs = Object.values(docs_json)\n",
       "  if (!docs) {\n",
       "    return\n",
       "  }\n",
       "  const py_version = docs[0].version.replace('rc', '-rc.').replace('.dev', '-dev.')\n",
       "  function embed_document(root) {\n",
       "    var Bokeh = get_bokeh(root)\n",
       "    Bokeh.embed.embed_items_notebook(docs_json, render_items);\n",
       "    for (const render_item of render_items) {\n",
       "      for (const root_id of render_item.root_ids) {\n",
       "\tconst id_el = document.getElementById(root_id)\n",
       "\tif (id_el.children.length && (id_el.children[0].className === 'bk-root')) {\n",
       "\t  const root_el = id_el.children[0]\n",
       "\t  root_el.id = root_el.id + '-rendered'\n",
       "\t}\n",
       "      }\n",
       "    }\n",
       "  }\n",
       "  function get_bokeh(root) {\n",
       "    if (root.Bokeh === undefined) {\n",
       "      return null\n",
       "    } else if (root.Bokeh.version !== py_version) {\n",
       "      if (root.Bokeh.versions === undefined || !root.Bokeh.versions.has(py_version)) {\n",
       "\treturn null\n",
       "      }\n",
       "      return root.Bokeh.versions.get(py_version);\n",
       "    } else if (root.Bokeh.version === py_version) {\n",
       "      return root.Bokeh\n",
       "    }\n",
       "    return null\n",
       "  }\n",
       "  function is_loaded(root) {\n",
       "    var Bokeh = get_bokeh(root)\n",
       "    return (Bokeh != null && Bokeh.Panel !== undefined)\n",
       "  }\n",
       "  if (is_loaded(root)) {\n",
       "    embed_document(root);\n",
       "  } else {\n",
       "    var attempts = 0;\n",
       "    var timer = setInterval(function(root) {\n",
       "      if (is_loaded(root)) {\n",
       "        clearInterval(timer);\n",
       "        embed_document(root);\n",
       "      } else if (document.readyState == \"complete\") {\n",
       "        attempts++;\n",
       "        if (attempts > 200) {\n",
       "          clearInterval(timer);\n",
       "\t  var Bokeh = get_bokeh(root)\n",
       "\t  if (Bokeh == null || Bokeh.Panel == null) {\n",
       "            console.warn(\"Panel: ERROR: Unable to run Panel code because Bokeh or Panel library is missing\");\n",
       "\t  } else {\n",
       "\t    console.warn(\"Panel: WARNING: Attempting to render but not all required libraries could be resolved.\")\n",
       "\t    embed_document(root)\n",
       "\t  }\n",
       "        }\n",
       "      }\n",
       "    }, 25, root)\n",
       "  }\n",
       "})(window);</script>"
      ],
      "text/plain": [
       ":Bars   [isHead]   (estimateArrive)"
      ]
     },
     "execution_count": 68,
     "metadata": {
      "application/vnd.holoviews_exec.v0+json": {
       "id": "p1438"
      }
     },
     "output_type": "execute_result"
    }
   ],
   "source": [
    "sample_data.group_by(pl.col('isHead')).mean().select(pl.col('isHead'),pl.col('estimateArrive')).head().collect().plot.bar(x='isHead')"
   ]
  },
  {
   "cell_type": "markdown",
   "metadata": {},
   "source": [
    "### Conclusión"
   ]
  },
  {
   "cell_type": "code",
   "execution_count": 69,
   "metadata": {},
   "outputs": [
    {
     "data": {
      "text/html": [
       "<div><style>\n",
       ".dataframe > thead > tr,\n",
       ".dataframe > tbody > tr {\n",
       "  text-align: right;\n",
       "  white-space: pre-wrap;\n",
       "}\n",
       "</style>\n",
       "<small>shape: (2, 2)</small><table border=\"1\" class=\"dataframe\"><thead><tr><th>isHead</th><th>estimateArrive</th></tr><tr><td>u8</td><td>f64</td></tr></thead><tbody><tr><td>1</td><td>727.374266</td></tr><tr><td>0</td><td>671.34646</td></tr></tbody></table></div>"
      ],
      "text/plain": [
       "shape: (2, 2)\n",
       "┌────────┬────────────────┐\n",
       "│ isHead ┆ estimateArrive │\n",
       "│ ---    ┆ ---            │\n",
       "│ u8     ┆ f64            │\n",
       "╞════════╪════════════════╡\n",
       "│ 1      ┆ 727.374266     │\n",
       "│ 0      ┆ 671.34646      │\n",
       "└────────┴────────────────┘"
      ]
     },
     "execution_count": 69,
     "metadata": {},
     "output_type": "execute_result"
    }
   ],
   "source": [
    "sample_data.group_by(pl.col('isHead')).mean().select(pl.col('isHead'),pl.col('estimateArrive')).head().collect()"
   ]
  },
  {
   "cell_type": "markdown",
   "metadata": {},
   "source": [
    "Mantenemos esta variable ya que está bastante relacionada con el `ETA`"
   ]
  },
  {
   "cell_type": "markdown",
   "metadata": {},
   "source": [
    "## Variable `dayType`"
   ]
  },
  {
   "cell_type": "markdown",
   "metadata": {},
   "source": [
    "### Valores nulos"
   ]
  },
  {
   "cell_type": "code",
   "execution_count": 70,
   "metadata": {},
   "outputs": [
    {
     "data": {
      "text/html": [
       "<div><style>\n",
       ".dataframe > thead > tr,\n",
       ".dataframe > tbody > tr {\n",
       "  text-align: right;\n",
       "  white-space: pre-wrap;\n",
       "}\n",
       "</style>\n",
       "<small>shape: (2, 2)</small><table border=\"1\" class=\"dataframe\"><thead><tr><th>dayType</th><th>count</th></tr><tr><td>str</td><td>u32</td></tr></thead><tbody><tr><td>null</td><td>536287</td></tr><tr><td>&quot;LA&quot;</td><td>597344</td></tr></tbody></table></div>"
      ],
      "text/plain": [
       "shape: (2, 2)\n",
       "┌─────────┬────────┐\n",
       "│ dayType ┆ count  │\n",
       "│ ---     ┆ ---    │\n",
       "│ str     ┆ u32    │\n",
       "╞═════════╪════════╡\n",
       "│ null    ┆ 536287 │\n",
       "│ LA      ┆ 597344 │\n",
       "└─────────┴────────┘"
      ]
     },
     "execution_count": 70,
     "metadata": {},
     "output_type": "execute_result"
    }
   ],
   "source": [
    "sample_data.group_by(pl.col('dayType')).count().head().collect()"
   ]
  },
  {
   "cell_type": "markdown",
   "metadata": {},
   "source": [
    "**Vemos de que tipo son los días nulos utilizando la fecha**"
   ]
  },
  {
   "cell_type": "code",
   "execution_count": 38,
   "metadata": {},
   "outputs": [],
   "source": [
    "def get_type_day(date):\n",
    "    \n",
    "    day = date.strftime(\"%A\")\n",
    "    \n",
    "    if day in ['Monday','Tuesday','Wednesday','Thursday','Friday']:\n",
    "        \n",
    "        type = 'LA'\n",
    "    elif day == 'Saturday':\n",
    "        type = 'SA'\n",
    "    else:\n",
    "        type = 'FE'\n",
    "        \n",
    "    return type"
   ]
  },
  {
   "cell_type": "code",
   "execution_count": 72,
   "metadata": {},
   "outputs": [],
   "source": [
    "sample_data = sample_data.with_columns(pl.when(pl.col('dayType').is_null()).then(pl.col('date').apply(get_type_day)).otherwise(pl.col('dayType')).alias('dayType'))"
   ]
  },
  {
   "cell_type": "code",
   "execution_count": 73,
   "metadata": {},
   "outputs": [
    {
     "data": {
      "text/html": [
       "<div><style>\n",
       ".dataframe > thead > tr,\n",
       ".dataframe > tbody > tr {\n",
       "  text-align: right;\n",
       "  white-space: pre-wrap;\n",
       "}\n",
       "</style>\n",
       "<small>shape: (1, 2)</small><table border=\"1\" class=\"dataframe\"><thead><tr><th>dayType</th><th>count</th></tr><tr><td>str</td><td>u32</td></tr></thead><tbody><tr><td>&quot;LA&quot;</td><td>1133631</td></tr></tbody></table></div>"
      ],
      "text/plain": [
       "shape: (1, 2)\n",
       "┌─────────┬─────────┐\n",
       "│ dayType ┆ count   │\n",
       "│ ---     ┆ ---     │\n",
       "│ str     ┆ u32     │\n",
       "╞═════════╪═════════╡\n",
       "│ LA      ┆ 1133631 │\n",
       "└─────────┴─────────┘"
      ]
     },
     "execution_count": 73,
     "metadata": {},
     "output_type": "execute_result"
    }
   ],
   "source": [
    "sample_data.group_by(pl.col('dayType')).count().head().collect()"
   ]
  },
  {
   "cell_type": "markdown",
   "metadata": {},
   "source": [
    "## Variable `strike`"
   ]
  },
  {
   "cell_type": "markdown",
   "metadata": {},
   "source": [
    "### Valores nulos"
   ]
  },
  {
   "cell_type": "code",
   "execution_count": 74,
   "metadata": {},
   "outputs": [
    {
     "data": {
      "text/html": [
       "<div><style>\n",
       ".dataframe > thead > tr,\n",
       ".dataframe > tbody > tr {\n",
       "  text-align: right;\n",
       "  white-space: pre-wrap;\n",
       "}\n",
       "</style>\n",
       "<small>shape: (2, 2)</small><table border=\"1\" class=\"dataframe\"><thead><tr><th>strike</th><th>count</th></tr><tr><td>str</td><td>u32</td></tr></thead><tbody><tr><td>&quot;N&quot;</td><td>597344</td></tr><tr><td>null</td><td>536287</td></tr></tbody></table></div>"
      ],
      "text/plain": [
       "shape: (2, 2)\n",
       "┌────────┬────────┐\n",
       "│ strike ┆ count  │\n",
       "│ ---    ┆ ---    │\n",
       "│ str    ┆ u32    │\n",
       "╞════════╪════════╡\n",
       "│ N      ┆ 597344 │\n",
       "│ null   ┆ 536287 │\n",
       "└────────┴────────┘"
      ]
     },
     "execution_count": 74,
     "metadata": {},
     "output_type": "execute_result"
    }
   ],
   "source": [
    "sample_data.group_by(pl.col('strike')).count().head().collect()"
   ]
  },
  {
   "cell_type": "markdown",
   "metadata": {},
   "source": [
    "### Conclusión"
   ]
  },
  {
   "cell_type": "code",
   "execution_count": 75,
   "metadata": {},
   "outputs": [
    {
     "data": {
      "text/html": [
       "<div><style>\n",
       ".dataframe > thead > tr,\n",
       ".dataframe > tbody > tr {\n",
       "  text-align: right;\n",
       "  white-space: pre-wrap;\n",
       "}\n",
       "</style>\n",
       "<small>shape: (2, 2)</small><table border=\"1\" class=\"dataframe\"><thead><tr><th>strike</th><th>estimateArrive</th></tr><tr><td>str</td><td>f64</td></tr></thead><tbody><tr><td>null</td><td>699.909423</td></tr><tr><td>&quot;N&quot;</td><td>651.578347</td></tr></tbody></table></div>"
      ],
      "text/plain": [
       "shape: (2, 2)\n",
       "┌────────┬────────────────┐\n",
       "│ strike ┆ estimateArrive │\n",
       "│ ---    ┆ ---            │\n",
       "│ str    ┆ f64            │\n",
       "╞════════╪════════════════╡\n",
       "│ null   ┆ 699.909423     │\n",
       "│ N      ┆ 651.578347     │\n",
       "└────────┴────────────────┘"
      ]
     },
     "execution_count": 75,
     "metadata": {},
     "output_type": "execute_result"
    }
   ],
   "source": [
    "sample_data.group_by(pl.col('strike')).mean().select(pl.col('strike'),pl.col('estimateArrive')).head().collect()"
   ]
  },
  {
   "cell_type": "markdown",
   "metadata": {},
   "source": [
    "- La variable `Strike` toma solo 'N' o nulo, por lo que para ningún día se tiene constancia de que hubo huelga. Por tanto para estos datos esta variable no va a aportar información."
   ]
  },
  {
   "cell_type": "code",
   "execution_count": 76,
   "metadata": {},
   "outputs": [
    {
     "data": {
      "text/html": [
       "<div><style>\n",
       ".dataframe > thead > tr,\n",
       ".dataframe > tbody > tr {\n",
       "  text-align: right;\n",
       "  white-space: pre-wrap;\n",
       "}\n",
       "</style>\n",
       "<small>shape: (5, 16)</small><table border=\"1\" class=\"dataframe\"><thead><tr><th>PK</th><th>date</th><th>datetime</th><th>bus</th><th>line</th><th>stop</th><th>positionBusLon</th><th>positionBusLat</th><th>positionTypeBus</th><th>DistanceBus</th><th>destination</th><th>MinimunFrequency</th><th>MaximumFrequency</th><th>isHead</th><th>dayType</th><th>estimateArrive</th></tr><tr><td>str</td><td>date</td><td>str</td><td>str</td><td>str</td><td>i64</td><td>f64</td><td>f64</td><td>i64</td><td>i64</td><td>str</td><td>i64</td><td>i64</td><td>u8</td><td>str</td><td>i64</td></tr></thead><tbody><tr><td>&quot;2024-03-26 12:…</td><td>2024-03-26</td><td>&quot;2024-03-26 12:…</td><td>&quot;2211&quot;</td><td>&quot;10&quot;</td><td>78</td><td>-3.682484</td><td>40.406849</td><td>0</td><td>1535</td><td>&quot;CIBELES&quot;</td><td>null</td><td>null</td><td>0</td><td>&quot;LA&quot;</td><td>492</td></tr><tr><td>&quot;2024-03-26 09:…</td><td>2024-03-26</td><td>&quot;2024-03-26 09:…</td><td>&quot;510&quot;</td><td>&quot;70&quot;</td><td>220</td><td>-3.688406</td><td>40.46687</td><td>0</td><td>257</td><td>&quot;ALSACIA&quot;</td><td>4</td><td>17</td><td>0</td><td>&quot;LA&quot;</td><td>54</td></tr><tr><td>&quot;2024-03-26 16:…</td><td>2024-03-26</td><td>&quot;2024-03-26 16:…</td><td>&quot;4814&quot;</td><td>&quot;128&quot;</td><td>1364</td><td>-3.708807</td><td>40.46117</td><td>0</td><td>1985</td><td>&quot;BARRIO DEL PIL…</td><td>null</td><td>null</td><td>0</td><td>&quot;LA&quot;</td><td>484</td></tr><tr><td>&quot;2024-03-26 15:…</td><td>2024-03-26</td><td>&quot;2024-03-26 15:…</td><td>&quot;8810&quot;</td><td>&quot;7&quot;</td><td>499</td><td>-3.691057</td><td>40.443766</td><td>0</td><td>5660</td><td>&quot;MANOTERAS&quot;</td><td>null</td><td>null</td><td>0</td><td>&quot;LA&quot;</td><td>1572</td></tr><tr><td>&quot;2024-03-26 09:…</td><td>2024-03-26</td><td>&quot;2024-03-26 09:…</td><td>&quot;9125&quot;</td><td>&quot;177&quot;</td><td>5798</td><td>-3.700084</td><td>40.470905</td><td>0</td><td>1777</td><td>&quot;MARQUES DE VIA…</td><td>9</td><td>24</td><td>0</td><td>&quot;LA&quot;</td><td>1175</td></tr></tbody></table></div>"
      ],
      "text/plain": [
       "shape: (5, 16)\n",
       "┌─────────────┬────────────┬─────────────┬──────┬───┬─────────────┬────────┬─────────┬─────────────┐\n",
       "│ PK          ┆ date       ┆ datetime    ┆ bus  ┆ … ┆ MaximumFreq ┆ isHead ┆ dayType ┆ estimateArr │\n",
       "│ ---         ┆ ---        ┆ ---         ┆ ---  ┆   ┆ uency       ┆ ---    ┆ ---     ┆ ive         │\n",
       "│ str         ┆ date       ┆ str         ┆ str  ┆   ┆ ---         ┆ u8     ┆ str     ┆ ---         │\n",
       "│             ┆            ┆             ┆      ┆   ┆ i64         ┆        ┆         ┆ i64         │\n",
       "╞═════════════╪════════════╪═════════════╪══════╪═══╪═════════════╪════════╪═════════╪═════════════╡\n",
       "│ 2024-03-26  ┆ 2024-03-26 ┆ 2024-03-26  ┆ 2211 ┆ … ┆ null        ┆ 0      ┆ LA      ┆ 492         │\n",
       "│ 12:55:06.98 ┆            ┆ 12:55:06.98 ┆      ┆   ┆             ┆        ┆         ┆             │\n",
       "│ 2706_B2211… ┆            ┆ 2706        ┆      ┆   ┆             ┆        ┆         ┆             │\n",
       "│ 2024-03-26  ┆ 2024-03-26 ┆ 2024-03-26  ┆ 510  ┆ … ┆ 17          ┆ 0      ┆ LA      ┆ 54          │\n",
       "│ 09:22:06.50 ┆            ┆ 09:22:06.50 ┆      ┆   ┆             ┆        ┆         ┆             │\n",
       "│ 7434_B510_… ┆            ┆ 7434        ┆      ┆   ┆             ┆        ┆         ┆             │\n",
       "│ 2024-03-26  ┆ 2024-03-26 ┆ 2024-03-26  ┆ 4814 ┆ … ┆ null        ┆ 0      ┆ LA      ┆ 484         │\n",
       "│ 16:40:06.81 ┆            ┆ 16:40:06.81 ┆      ┆   ┆             ┆        ┆         ┆             │\n",
       "│ 0109_B4814… ┆            ┆ 0109        ┆      ┆   ┆             ┆        ┆         ┆             │\n",
       "│ 2024-03-26  ┆ 2024-03-26 ┆ 2024-03-26  ┆ 8810 ┆ … ┆ null        ┆ 0      ┆ LA      ┆ 1572        │\n",
       "│ 15:18:06.73 ┆            ┆ 15:18:06.73 ┆      ┆   ┆             ┆        ┆         ┆             │\n",
       "│ 6080_B8810… ┆            ┆ 6080        ┆      ┆   ┆             ┆        ┆         ┆             │\n",
       "│ 2024-03-26  ┆ 2024-03-26 ┆ 2024-03-26  ┆ 9125 ┆ … ┆ 24          ┆ 0      ┆ LA      ┆ 1175        │\n",
       "│ 09:43:08.19 ┆            ┆ 09:43:08.19 ┆      ┆   ┆             ┆        ┆         ┆             │\n",
       "│ 8955_B9125… ┆            ┆ 8955        ┆      ┆   ┆             ┆        ┆         ┆             │\n",
       "└─────────────┴────────────┴─────────────┴──────┴───┴─────────────┴────────┴─────────┴─────────────┘"
      ]
     },
     "execution_count": 76,
     "metadata": {},
     "output_type": "execute_result"
    }
   ],
   "source": [
    "sample_data = sample_data.drop('strike')\n",
    "sample_data.head().collect()"
   ]
  },
  {
   "cell_type": "markdown",
   "metadata": {},
   "source": [
    "## Variable `estimateArrive`"
   ]
  },
  {
   "cell_type": "markdown",
   "metadata": {},
   "source": [
    "### Valores nulos"
   ]
  },
  {
   "cell_type": "code",
   "execution_count": 77,
   "metadata": {},
   "outputs": [
    {
     "data": {
      "text/html": [
       "<div><style>\n",
       ".dataframe > thead > tr,\n",
       ".dataframe > tbody > tr {\n",
       "  text-align: right;\n",
       "  white-space: pre-wrap;\n",
       "}\n",
       "</style>\n",
       "<small>shape: (5, 2)</small><table border=\"1\" class=\"dataframe\"><thead><tr><th>estimateArrive</th><th>count</th></tr><tr><td>i64</td><td>u32</td></tr></thead><tbody><tr><td>1453</td><td>252</td></tr><tr><td>673</td><td>753</td></tr><tr><td>1876</td><td>63</td></tr><tr><td>1465</td><td>262</td></tr><tr><td>1709</td><td>124</td></tr></tbody></table></div>"
      ],
      "text/plain": [
       "shape: (5, 2)\n",
       "┌────────────────┬───────┐\n",
       "│ estimateArrive ┆ count │\n",
       "│ ---            ┆ ---   │\n",
       "│ i64            ┆ u32   │\n",
       "╞════════════════╪═══════╡\n",
       "│ 1453           ┆ 252   │\n",
       "│ 673            ┆ 753   │\n",
       "│ 1876           ┆ 63    │\n",
       "│ 1465           ┆ 262   │\n",
       "│ 1709           ┆ 124   │\n",
       "└────────────────┴───────┘"
      ]
     },
     "execution_count": 77,
     "metadata": {},
     "output_type": "execute_result"
    }
   ],
   "source": [
    "sample_data.group_by(pl.col('estimateArrive')).count().head().collect()"
   ]
  },
  {
   "cell_type": "markdown",
   "metadata": {},
   "source": [
    "### Resumen\n"
   ]
  },
  {
   "cell_type": "code",
   "execution_count": 78,
   "metadata": {},
   "outputs": [
    {
     "data": {
      "text/html": [
       "<div><style>\n",
       ".dataframe > thead > tr,\n",
       ".dataframe > tbody > tr {\n",
       "  text-align: right;\n",
       "  white-space: pre-wrap;\n",
       "}\n",
       "</style>\n",
       "<small>shape: (9, 2)</small><table border=\"1\" class=\"dataframe\"><thead><tr><th>statistic</th><th>estimateArrive</th></tr><tr><td>str</td><td>f64</td></tr></thead><tbody><tr><td>&quot;count&quot;</td><td>1.133631e6</td></tr><tr><td>&quot;null_count&quot;</td><td>0.0</td></tr><tr><td>&quot;mean&quot;</td><td>674.442337</td></tr><tr><td>&quot;std&quot;</td><td>485.891962</td></tr><tr><td>&quot;min&quot;</td><td>0.0</td></tr><tr><td>&quot;25%&quot;</td><td>278.0</td></tr><tr><td>&quot;50%&quot;</td><td>606.0</td></tr><tr><td>&quot;75%&quot;</td><td>992.0</td></tr><tr><td>&quot;max&quot;</td><td>2399.0</td></tr></tbody></table></div>"
      ],
      "text/plain": [
       "shape: (9, 2)\n",
       "┌────────────┬────────────────┐\n",
       "│ statistic  ┆ estimateArrive │\n",
       "│ ---        ┆ ---            │\n",
       "│ str        ┆ f64            │\n",
       "╞════════════╪════════════════╡\n",
       "│ count      ┆ 1.133631e6     │\n",
       "│ null_count ┆ 0.0            │\n",
       "│ mean       ┆ 674.442337     │\n",
       "│ std        ┆ 485.891962     │\n",
       "│ min        ┆ 0.0            │\n",
       "│ 25%        ┆ 278.0          │\n",
       "│ 50%        ┆ 606.0          │\n",
       "│ 75%        ┆ 992.0          │\n",
       "│ max        ┆ 2399.0         │\n",
       "└────────────┴────────────────┘"
      ]
     },
     "execution_count": 78,
     "metadata": {},
     "output_type": "execute_result"
    }
   ],
   "source": [
    "sample_data.select(pl.col('estimateArrive')).describe()"
   ]
  },
  {
   "cell_type": "markdown",
   "metadata": {},
   "source": [
    "### Conclusion\n",
    "\n",
    "\n",
    "- Las variables `MinimunFrequency ` y `MaximumFrequency ` están muy relacionadas entre ellas. Se podría dejar tan solo `MinimumFrequency` ya que aporta mas informacion al `ETA` que la otra\n",
    "\n",
    "\n",
    " "
   ]
  },
  {
   "cell_type": "code",
   "execution_count": 79,
   "metadata": {},
   "outputs": [
    {
     "data": {
      "text/html": [
       "<div><style>\n",
       ".dataframe > thead > tr,\n",
       ".dataframe > tbody > tr {\n",
       "  text-align: right;\n",
       "  white-space: pre-wrap;\n",
       "}\n",
       "</style>\n",
       "<small>shape: (5, 15)</small><table border=\"1\" class=\"dataframe\"><thead><tr><th>PK</th><th>date</th><th>datetime</th><th>bus</th><th>line</th><th>stop</th><th>positionBusLon</th><th>positionBusLat</th><th>positionTypeBus</th><th>DistanceBus</th><th>destination</th><th>MinimunFrequency</th><th>isHead</th><th>dayType</th><th>estimateArrive</th></tr><tr><td>str</td><td>date</td><td>str</td><td>str</td><td>str</td><td>i64</td><td>f64</td><td>f64</td><td>i64</td><td>i64</td><td>str</td><td>i64</td><td>u8</td><td>str</td><td>i64</td></tr></thead><tbody><tr><td>&quot;2024-03-26 19:…</td><td>2024-03-26</td><td>&quot;2024-03-26 19:…</td><td>&quot;5551&quot;</td><td>&quot;42&quot;</td><td>1494</td><td>-3.701973</td><td>40.474</td><td>0</td><td>26</td><td>&quot;BARRIO PEÑAGRA…</td><td>7</td><td>0</td><td>&quot;LA&quot;</td><td>40</td></tr><tr><td>&quot;2024-03-26 20:…</td><td>2024-03-26</td><td>&quot;2024-03-26 20:…</td><td>&quot;5584&quot;</td><td>&quot;14&quot;</td><td>66</td><td>-3.692112</td><td>40.40974</td><td>0</td><td>1538</td><td>&quot;PIO XII&quot;</td><td>null</td><td>0</td><td>&quot;LA&quot;</td><td>551</td></tr><tr><td>&quot;2024-03-26 22:…</td><td>2024-03-26</td><td>&quot;2024-03-26 22:…</td><td>&quot;2496&quot;</td><td>&quot;173&quot;</td><td>1488</td><td>-3.689007</td><td>40.467983</td><td>0</td><td>607</td><td>&quot;SANCHINARRO&quot;</td><td>7</td><td>0</td><td>&quot;LA&quot;</td><td>338</td></tr><tr><td>&quot;2024-03-26 21:…</td><td>2024-03-26</td><td>&quot;2024-03-26 21:…</td><td>&quot;4860&quot;</td><td>&quot;49&quot;</td><td>1544</td><td>-3.711195</td><td>40.474428</td><td>0</td><td>1091</td><td>&quot;PITIS&quot;</td><td>4</td><td>0</td><td>&quot;LA&quot;</td><td>384</td></tr><tr><td>&quot;2024-03-26 11:…</td><td>2024-03-26</td><td>&quot;2024-03-26 11:…</td><td>&quot;5556&quot;</td><td>&quot;124&quot;</td><td>1530</td><td>-3.686169</td><td>40.478116</td><td>0</td><td>1297</td><td>&quot;CUATRO CAMINOS…</td><td>null</td><td>0</td><td>&quot;LA&quot;</td><td>372</td></tr></tbody></table></div>"
      ],
      "text/plain": [
       "shape: (5, 15)\n",
       "┌─────────────┬────────────┬─────────────┬──────┬───┬─────────────┬────────┬─────────┬─────────────┐\n",
       "│ PK          ┆ date       ┆ datetime    ┆ bus  ┆ … ┆ MinimunFreq ┆ isHead ┆ dayType ┆ estimateArr │\n",
       "│ ---         ┆ ---        ┆ ---         ┆ ---  ┆   ┆ uency       ┆ ---    ┆ ---     ┆ ive         │\n",
       "│ str         ┆ date       ┆ str         ┆ str  ┆   ┆ ---         ┆ u8     ┆ str     ┆ ---         │\n",
       "│             ┆            ┆             ┆      ┆   ┆ i64         ┆        ┆         ┆ i64         │\n",
       "╞═════════════╪════════════╪═════════════╪══════╪═══╪═════════════╪════════╪═════════╪═════════════╡\n",
       "│ 2024-03-26  ┆ 2024-03-26 ┆ 2024-03-26  ┆ 5551 ┆ … ┆ 7           ┆ 0      ┆ LA      ┆ 40          │\n",
       "│ 19:20:07.01 ┆            ┆ 19:20:07.01 ┆      ┆   ┆             ┆        ┆         ┆             │\n",
       "│ 7572_B5551… ┆            ┆ 7572        ┆      ┆   ┆             ┆        ┆         ┆             │\n",
       "│ 2024-03-26  ┆ 2024-03-26 ┆ 2024-03-26  ┆ 5584 ┆ … ┆ null        ┆ 0      ┆ LA      ┆ 551         │\n",
       "│ 20:01:06.64 ┆            ┆ 20:01:06.64 ┆      ┆   ┆             ┆        ┆         ┆             │\n",
       "│ 3261_B5584… ┆            ┆ 3261        ┆      ┆   ┆             ┆        ┆         ┆             │\n",
       "│ 2024-03-26  ┆ 2024-03-26 ┆ 2024-03-26  ┆ 2496 ┆ … ┆ 7           ┆ 0      ┆ LA      ┆ 338         │\n",
       "│ 22:30:06.13 ┆            ┆ 22:30:06.13 ┆      ┆   ┆             ┆        ┆         ┆             │\n",
       "│ 1475_B2496… ┆            ┆ 1475        ┆      ┆   ┆             ┆        ┆         ┆             │\n",
       "│ 2024-03-26  ┆ 2024-03-26 ┆ 2024-03-26  ┆ 4860 ┆ … ┆ 4           ┆ 0      ┆ LA      ┆ 384         │\n",
       "│ 21:50:06.91 ┆            ┆ 21:50:06.91 ┆      ┆   ┆             ┆        ┆         ┆             │\n",
       "│ 0425_B4860… ┆            ┆ 0425        ┆      ┆   ┆             ┆        ┆         ┆             │\n",
       "│ 2024-03-26  ┆ 2024-03-26 ┆ 2024-03-26  ┆ 5556 ┆ … ┆ null        ┆ 0      ┆ LA      ┆ 372         │\n",
       "│ 11:58:06.47 ┆            ┆ 11:58:06.47 ┆      ┆   ┆             ┆        ┆         ┆             │\n",
       "│ 0168_B5556… ┆            ┆ 0168        ┆      ┆   ┆             ┆        ┆         ┆             │\n",
       "└─────────────┴────────────┴─────────────┴──────┴───┴─────────────┴────────┴─────────┴─────────────┘"
      ]
     },
     "execution_count": 79,
     "metadata": {},
     "output_type": "execute_result"
    }
   ],
   "source": [
    "sample_data = sample_data.drop('MaximumFrequency')\n",
    "sample_data.head().collect()"
   ]
  },
  {
   "cell_type": "markdown",
   "metadata": {},
   "source": [
    "# Conclusión"
   ]
  },
  {
   "cell_type": "markdown",
   "metadata": {},
   "source": [
    "Para cada _.csv_ de un día concreto vamos a crear otro _.csv_ que tan solo tenga las columnas:\n",
    "- `PK`\n",
    "- `predict_arrival_date`\n",
    "- `reliable_arrival_date`\n",
    "\n",
    "Por otro lado vamos a crear otro _.csv_ que tenga las columnas:\n",
    "- `PK`\n",
    "- `date`\n",
    "- `datetime`\n",
    "- `bus`\n",
    "- `line`\n",
    "- `stop`\n",
    "- `positionBusLon`\n",
    "- `positionBusLat` \n",
    "- `DistanceBus`\n",
    "- `destination`\n",
    "- `MinimunFrequency`\n",
    "- `isHead`\n",
    "- `dayType`\n",
    "- `estimateArrive`\n",
    "\n",
    "El dataset de entrenamiento será la concatenación de todos los días y el join de ambos mediante la `PK`\n"
   ]
  },
  {
   "cell_type": "markdown",
   "metadata": {},
   "source": [
    "# DATASET AUXILIAR"
   ]
  },
  {
   "cell_type": "code",
   "execution_count": 34,
   "metadata": {},
   "outputs": [],
   "source": [
    "EMT_TRAIN_PATH = os.path.join(ROOT_PATH, \"data\",'train','emt','2024','03')"
   ]
  },
  {
   "cell_type": "markdown",
   "metadata": {},
   "source": [
    "# Generación de los dataset para cada día"
   ]
  },
  {
   "cell_type": "markdown",
   "metadata": {},
   "source": [
    "## Dataset final"
   ]
  },
  {
   "cell_type": "code",
   "execution_count": 70,
   "metadata": {},
   "outputs": [],
   "source": [
    "def create_final_dataset(sample_data):\n",
    "    sample_data = sample_data.with_columns((pl.col('datetime').cast(pl.String)+\"_B\"+pl.col('bus').cast(pl.String)+\"_L\"+ pl.col('line').cast(pl.String)+\"_S\"+pl.col('stop').cast(pl.String)).alias('PK'))\n",
    "    \n",
    "    # ETA <2400\n",
    "    sample_data = sample_data.filter(pl.col('estimateArrive')<888888)\n",
    "    sample_data = sample_data.group_by('PK').min()\n",
    "    \n",
    "    sample_data = sample_data.with_columns(pl.col(\"date\").cast(pl.Date),pl.col('bus').cast(pl.String),pl.col('line').cast(pl.String),pl.col('isHead').cast(pl.UInt8))\n",
    "    \n",
    "    sample_data = sample_data.with_columns(pl.col('datetime').map_elements(lambda x: datetime.strptime(x, \"%Y-%m-%d %H:%M:%S.%f\")))\n",
    "    \n",
    "    # Rellenamos valores nulos de dayType\n",
    "    sample_data = sample_data.with_columns(pl.when(pl.col('dayType').is_null()).then(pl.col('date').apply(get_type_day)).otherwise(pl.col('dayType')).alias('dayType'))\n",
    "    \n",
    "    # Eliminamos variables\n",
    "    sample_data = sample_data.drop('positionTypeBus','deviation','MaximumFrequency','StartTime','StopTime','strike')\n",
    "    \n",
    "\n",
    "    \n",
    "    return sample_data.collect()"
   ]
  },
  {
   "cell_type": "markdown",
   "metadata": {},
   "source": [
    "## Dataset auxiliar"
   ]
  },
  {
   "cell_type": "code",
   "execution_count": 71,
   "metadata": {},
   "outputs": [],
   "source": [
    "def calculate_predict_arrival_date(date_datetime,second):\n",
    "    new_date_datetime = date_datetime + timedelta(seconds=second)\n",
    "    \n",
    "    return new_date_datetime"
   ]
  },
  {
   "cell_type": "code",
   "execution_count": 72,
   "metadata": {},
   "outputs": [],
   "source": [
    "def get_interval_time(date_datetime):\n",
    "    hour= int(date_datetime.hour)\n",
    "    minute = int(date_datetime.minute)\n",
    "    \n",
    "    return [hour - 1, hour + 1]"
   ]
  },
  {
   "cell_type": "code",
   "execution_count": 73,
   "metadata": {},
   "outputs": [],
   "source": [
    "def create_auxiliar_dataset(sample_data):\n",
    "    \n",
    "    sample_data_aux = sample_data.with_columns(pl.struct(datetime = pl.col('datetime'), estimateArrive = pl.col('estimateArrive').alias('struct')).map_elements(lambda x: calculate_predict_arrival_date(x['datetime'], x['estimateArrive'])).alias('predict_arrival_date'))\n",
    "    \n",
    "    sample_data_aux = sample_data_aux.with_columns(pl.col('datetime').apply(get_interval_time).alias('interval_time'))\n",
    "    \n",
    "    small_sample_data = sample_data_aux.filter(pl.col('estimateArrive')<=60).group_by(pl.col('bus'),pl.col('line'),pl.col('stop'),pl.col('destination'),pl.col('date'),pl.col('interval_time')).min().with_columns(pl.col('predict_arrival_date').alias('reliable_arrival_date'))\n",
    "    \n",
    "    final_sample_data = sample_data_aux.join(small_sample_data,on=[pl.col('bus'),pl.col('line'),pl.col('stop'),pl.col('destination'),pl.col('date'),pl.col('interval_time')],how = 'left')\n",
    "    \n",
    "    \n",
    "    final_sample_data = final_sample_data.filter(pl.col('reliable_arrival_date').is_not_null())\n",
    "    \n",
    "    final_sample_data = final_sample_data.select(pl.col('PK'),pl.col('reliable_arrival_date'),pl.col('predict_arrival_date'),pl.col('interval_time'),pl.col('estimateArrive'))\n",
    "    \n",
    "    return final_sample_data"
   ]
  },
  {
   "cell_type": "code",
   "execution_count": 74,
   "metadata": {},
   "outputs": [],
   "source": [
    "data = pl.scan_csv(os.path.join(EMT_DATA_PATH, \"2024\", \"03\", f\"emt_202403.csv\"))\n",
    "list_day = ['02','03','04','05','06','07','08','11','12','13','14','15','16','17','18','19','20','21','22','23','24','25','26','27','28','29','30','31']"
   ]
  },
  {
   "cell_type": "code",
   "execution_count": 75,
   "metadata": {},
   "outputs": [
    {
     "name": "stdout",
     "output_type": "stream",
     "text": [
      "02 <class 'str'>\n",
      "03 <class 'str'>\n",
      "04 <class 'str'>\n",
      "05 <class 'str'>\n",
      "06 <class 'str'>\n",
      "07 <class 'str'>\n",
      "08 <class 'str'>\n",
      "11 <class 'str'>\n",
      "12 <class 'str'>\n",
      "13 <class 'str'>\n",
      "14 <class 'str'>\n",
      "15 <class 'str'>\n",
      "16 <class 'str'>\n",
      "17 <class 'str'>\n",
      "18 <class 'str'>\n",
      "19 <class 'str'>\n",
      "20 <class 'str'>\n",
      "21 <class 'str'>\n",
      "22 <class 'str'>\n",
      "23 <class 'str'>\n",
      "24 <class 'str'>\n",
      "25 <class 'str'>\n",
      "26 <class 'str'>\n",
      "27 <class 'str'>\n",
      "28 <class 'str'>\n",
      "29 <class 'str'>\n",
      "30 <class 'str'>\n",
      "31 <class 'str'>\n"
     ]
    }
   ],
   "source": [
    "for day in list_day:\n",
    "    path_folder = os.path.join(EMT_TRAIN_PATH, day)\n",
    "    path_file = os.path.join(EMT_DATA_PATH,day)\n",
    "    if not os.path.exists(path_folder):\n",
    "        os.mkdir(path_folder)\n",
    "        \n",
    "    sample_data = data.filter(pl.col('date')==f\"2024-03-{day}\")\n",
    "    sample_data = create_final_dataset(sample_data)\n",
    "    sample_data.to_pandas().to_csv(f'{EMT_TRAIN_PATH}/{day}/emt_202403{day}.csv')\n",
    "    \n",
    "    sample_data_aux = create_auxiliar_dataset(sample_data)  \n",
    "    sample_data_aux.to_pandas().to_csv(f'{EMT_TRAIN_PATH}/{day}/emt_202403{day}_aux.csv')"
   ]
  },
  {
   "cell_type": "code",
   "execution_count": null,
   "metadata": {},
   "outputs": [],
   "source": []
  }
 ],
 "metadata": {
  "kernelspec": {
   "display_name": "venv",
   "language": "python",
   "name": "python3"
  },
  "language_info": {
   "codemirror_mode": {
    "name": "ipython",
    "version": 3
   },
   "file_extension": ".py",
   "mimetype": "text/x-python",
   "name": "python",
   "nbconvert_exporter": "python",
   "pygments_lexer": "ipython3",
   "version": "3.10.12"
  },
  "orig_nbformat": 4
 },
 "nbformat": 4,
 "nbformat_minor": 2
}
