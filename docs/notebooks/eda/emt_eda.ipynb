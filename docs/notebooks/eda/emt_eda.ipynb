{
 "cells": [
  {
   "cell_type": "code",
   "execution_count": 2,
   "metadata": {},
   "outputs": [],
   "source": [
    "import os\n",
    "import matplotlib.pyplot as plt\n",
    "import numpy as np\n",
    "import seaborn as sns\n",
    "import polars as pl\n",
    "\n",
    "sns.set_palette(\"deep\")\n",
    "import warnings\n",
    "\n",
    "warnings.filterwarnings(\"ignore\")"
   ]
  },
  {
   "cell_type": "code",
   "execution_count": 3,
   "metadata": {},
   "outputs": [
    {
     "data": {
      "text/plain": [
       "'/home/mlia/proyectos/data-generation'"
      ]
     },
     "execution_count": 3,
     "metadata": {},
     "output_type": "execute_result"
    }
   ],
   "source": [
    "ROOT_PATH = os.path.dirname(os.path.dirname(os.path.dirname(os.path.abspath(os.getcwd()))))\n",
    "ROOT_PATH"
   ]
  },
  {
   "cell_type": "code",
   "execution_count": 4,
   "metadata": {},
   "outputs": [
    {
     "data": {
      "text/plain": [
       "'/home/mlia/proyectos/data-generation/data/processed/emt'"
      ]
     },
     "execution_count": 4,
     "metadata": {},
     "output_type": "execute_result"
    }
   ],
   "source": [
    "\n",
    "DATA_PATH = os.path.join(ROOT_PATH, \"data\", \"processed\")\n",
    "EMT_DATA_PATH = os.path.join(DATA_PATH, \"emt\")\n",
    "EMT_DATA_PATH"
   ]
  },
  {
   "cell_type": "code",
   "execution_count": 5,
   "metadata": {},
   "outputs": [],
   "source": [
    "df = pl.read_csv(os.path.join(EMT_DATA_PATH, \"2024\", \"03\", \"emt_202403.csv\"))"
   ]
  },
  {
   "cell_type": "code",
   "execution_count": 6,
   "metadata": {},
   "outputs": [
    {
     "data": {
      "text/html": [
       "<div><style>\n",
       ".dataframe > thead > tr,\n",
       ".dataframe > tbody > tr {\n",
       "  text-align: right;\n",
       "  white-space: pre-wrap;\n",
       "}\n",
       "</style>\n",
       "<small>shape: (5, 19)</small><table border=\"1\" class=\"dataframe\"><thead><tr><th>date</th><th>datetime</th><th>bus</th><th>line</th><th>stop</th><th>positionBusLon</th><th>positionBusLat</th><th>positionTypeBus</th><th>DistanceBus</th><th>destination</th><th>deviation</th><th>StartTime</th><th>StopTime</th><th>MinimunFrequency</th><th>MaximumFrequency</th><th>isHead</th><th>dayType</th><th>strike</th><th>estimateArrive</th></tr><tr><td>str</td><td>str</td><td>i64</td><td>str</td><td>i64</td><td>f64</td><td>f64</td><td>i64</td><td>i64</td><td>str</td><td>i64</td><td>str</td><td>str</td><td>i64</td><td>i64</td><td>bool</td><td>str</td><td>str</td><td>i64</td></tr></thead><tbody><tr><td>&quot;2024-03-02&quot;</td><td>&quot;2024-03-02 07:…</td><td>579</td><td>&quot;27&quot;</td><td>33</td><td>-3.702641</td><td>40.40528</td><td>0</td><td>7528</td><td>&quot;PLAZA CASTILLA…</td><td>0</td><td>&quot;05:55&quot;</td><td>&quot;23:30&quot;</td><td>9</td><td>16</td><td>false</td><td>&quot;SA&quot;</td><td>&quot;N&quot;</td><td>1409</td></tr><tr><td>&quot;2024-03-02&quot;</td><td>&quot;2024-03-02 07:…</td><td>581</td><td>&quot;27&quot;</td><td>33</td><td>-3.689498</td><td>40.437068</td><td>0</td><td>2771</td><td>&quot;PLAZA CASTILLA…</td><td>0</td><td>&quot;05:55&quot;</td><td>&quot;23:30&quot;</td><td>9</td><td>16</td><td>false</td><td>&quot;SA&quot;</td><td>&quot;N&quot;</td><td>476</td></tr><tr><td>&quot;2024-03-02&quot;</td><td>&quot;2024-03-02 07:…</td><td>4855</td><td>&quot;5&quot;</td><td>33</td><td>-3.695955</td><td>40.435</td><td>0</td><td>10663</td><td>&quot;CHAMARTIN&quot;</td><td>0</td><td>null</td><td>null</td><td>null</td><td>null</td><td>false</td><td>null</td><td>null</td><td>2481</td></tr><tr><td>&quot;2024-03-02&quot;</td><td>&quot;2024-03-02 07:…</td><td>4857</td><td>&quot;5&quot;</td><td>33</td><td>-3.688575</td><td>40.430257</td><td>0</td><td>4550</td><td>&quot;CHAMARTIN&quot;</td><td>0</td><td>null</td><td>null</td><td>null</td><td>null</td><td>false</td><td>null</td><td>null</td><td>967</td></tr><tr><td>&quot;2024-03-02&quot;</td><td>&quot;2024-03-02 07:…</td><td>5631</td><td>&quot;147&quot;</td><td>33</td><td>-3.705854</td><td>40.428887</td><td>0</td><td>4754</td><td>&quot;BARRIO DEL PIL…</td><td>0</td><td>null</td><td>null</td><td>null</td><td>null</td><td>false</td><td>null</td><td>null</td><td>899</td></tr></tbody></table></div>"
      ],
      "text/plain": [
       "shape: (5, 19)\n",
       "┌────────────┬─────────────────┬──────┬──────┬───┬────────┬─────────┬────────┬────────────────┐\n",
       "│ date       ┆ datetime        ┆ bus  ┆ line ┆ … ┆ isHead ┆ dayType ┆ strike ┆ estimateArrive │\n",
       "│ ---        ┆ ---             ┆ ---  ┆ ---  ┆   ┆ ---    ┆ ---     ┆ ---    ┆ ---            │\n",
       "│ str        ┆ str             ┆ i64  ┆ str  ┆   ┆ bool   ┆ str     ┆ str    ┆ i64            │\n",
       "╞════════════╪═════════════════╪══════╪══════╪═══╪════════╪═════════╪════════╪════════════════╡\n",
       "│ 2024-03-02 ┆ 2024-03-02      ┆ 579  ┆ 27   ┆ … ┆ false  ┆ SA      ┆ N      ┆ 1409           │\n",
       "│            ┆ 07:59:38.430943 ┆      ┆      ┆   ┆        ┆         ┆        ┆                │\n",
       "│ 2024-03-02 ┆ 2024-03-02      ┆ 581  ┆ 27   ┆ … ┆ false  ┆ SA      ┆ N      ┆ 476            │\n",
       "│            ┆ 07:59:38.430943 ┆      ┆      ┆   ┆        ┆         ┆        ┆                │\n",
       "│ 2024-03-02 ┆ 2024-03-02      ┆ 4855 ┆ 5    ┆ … ┆ false  ┆ null    ┆ null   ┆ 2481           │\n",
       "│            ┆ 07:59:38.430943 ┆      ┆      ┆   ┆        ┆         ┆        ┆                │\n",
       "│ 2024-03-02 ┆ 2024-03-02      ┆ 4857 ┆ 5    ┆ … ┆ false  ┆ null    ┆ null   ┆ 967            │\n",
       "│            ┆ 07:59:38.430943 ┆      ┆      ┆   ┆        ┆         ┆        ┆                │\n",
       "│ 2024-03-02 ┆ 2024-03-02      ┆ 5631 ┆ 147  ┆ … ┆ false  ┆ null    ┆ null   ┆ 899            │\n",
       "│            ┆ 07:59:38.430943 ┆      ┆      ┆   ┆        ┆         ┆        ┆                │\n",
       "└────────────┴─────────────────┴──────┴──────┴───┴────────┴─────────┴────────┴────────────────┘"
      ]
     },
     "execution_count": 6,
     "metadata": {},
     "output_type": "execute_result"
    }
   ],
   "source": [
    "df.head()"
   ]
  },
  {
   "cell_type": "code",
   "execution_count": null,
   "metadata": {},
   "outputs": [],
   "source": [
    "## VVNC"
   ]
  },
  {
   "cell_type": "markdown",
   "metadata": {},
   "source": [
    "### Distribuciones"
   ]
  },
  {
   "cell_type": "code",
   "execution_count": null,
   "metadata": {},
   "outputs": [],
   "source": [
    "var_name = \"DistanceBus\""
   ]
  },
  {
   "cell_type": "code",
   "execution_count": null,
   "metadata": {},
   "outputs": [
    {
     "name": "stdout",
     "output_type": "stream",
     "text": [
      "\n",
      "Estadísticas descriptivas:\n"
     ]
    },
    {
     "name": "stdout",
     "output_type": "stream",
     "text": [
      "shape: (9, 2)\n",
      "┌────────────┬─────────────┐\n",
      "│ statistic  ┆ value       │\n",
      "│ ---        ┆ ---         │\n",
      "│ str        ┆ f64         │\n",
      "╞════════════╪═════════════╡\n",
      "│ count      ┆ 2.7659028e7 │\n",
      "│ null_count ┆ 0.0         │\n",
      "│ mean       ┆ 3382.528037 │\n",
      "│ std        ┆ 3099.132083 │\n",
      "│ min        ┆ -20433.0    │\n",
      "│ 25%        ┆ 1133.0      │\n",
      "│ 50%        ┆ 2580.0      │\n",
      "│ 75%        ┆ 4704.0      │\n",
      "│ max        ┆ 42672.0     │\n",
      "└────────────┴─────────────┘\n"
     ]
    }
   ],
   "source": [
    "# Estadísticas descriptivas\n",
    "print(\"\\nEstadísticas descriptivas:\")\n",
    "print(df[var_name].describe())"
   ]
  },
  {
   "cell_type": "code",
   "execution_count": null,
   "metadata": {},
   "outputs": [
    {
     "data": {
      "text/html": [
       "<div><style>\n",
       ".dataframe > thead > tr,\n",
       ".dataframe > tbody > tr {\n",
       "  text-align: right;\n",
       "  white-space: pre-wrap;\n",
       "}\n",
       "</style>\n",
       "<small>shape: (27_659_028,)</small><table border=\"1\" class=\"dataframe\"><thead><tr><th>DistanceBus</th></tr><tr><td>i64</td></tr></thead><tbody><tr><td>7528</td></tr><tr><td>2771</td></tr><tr><td>10663</td></tr><tr><td>4550</td></tr><tr><td>4754</td></tr><tr><td>&hellip;</td></tr><tr><td>5750</td></tr><tr><td>0</td></tr><tr><td>17015</td></tr><tr><td>8024</td></tr><tr><td>13556</td></tr></tbody></table></div>"
      ],
      "text/plain": [
       "shape: (27_659_028,)\n",
       "Series: 'DistanceBus' [i64]\n",
       "[\n",
       "\t7528\n",
       "\t2771\n",
       "\t10663\n",
       "\t4550\n",
       "\t4754\n",
       "\t…\n",
       "\t5750\n",
       "\t0\n",
       "\t17015\n",
       "\t8024\n",
       "\t13556\n",
       "]"
      ]
     },
     "execution_count": 9,
     "metadata": {},
     "output_type": "execute_result"
    }
   ],
   "source": [
    "df[var_name]"
   ]
  },
  {
   "cell_type": "code",
   "execution_count": null,
   "metadata": {},
   "outputs": [],
   "source": [
    "sns.histplot(df[var_name]);"
   ]
  },
  {
   "cell_type": "code",
   "execution_count": null,
   "metadata": {},
   "outputs": [],
   "source": [
    "plt.figure(figsize=(15, 6))\n",
    "sns.boxplot(x=df.iloc[:10000][var_name]);"
   ]
  },
  {
   "cell_type": "code",
   "execution_count": null,
   "metadata": {},
   "outputs": [],
   "source": [
    "var_name = \"estimateArrive\""
   ]
  },
  {
   "cell_type": "code",
   "execution_count": null,
   "metadata": {},
   "outputs": [],
   "source": [
    "# Estadísticas descriptivas\n",
    "print(\"\\nEstadísticas descriptivas:\")\n",
    "print(df[var_name].describe())"
   ]
  },
  {
   "cell_type": "markdown",
   "metadata": {},
   "source": [
    "### Paradas por línea"
   ]
  },
  {
   "cell_type": "code",
   "execution_count": null,
   "metadata": {},
   "outputs": [],
   "source": [
    "# stops by line\n",
    "stop_gr = df.groupby(\"line\")[\"stop\"].nunique().reset_index()\n",
    "top_10_stop = stop_gr.sort_values(by=\"stop\", ascending=False).head(10)\n",
    "\n",
    "sns.barplot(data=top_10_stop, x=\"stop\", y=\"line\", orient=\"h\", order=top_10_stop[\"line\"])\n",
    "plt.xlabel(\"Stops\")\n",
    "plt.ylabel(\"Line\")\n",
    "plt.title(\"Stops by Line\")\n",
    "plt.show()"
   ]
  },
  {
   "cell_type": "markdown",
   "metadata": {},
   "source": [
    "### ETA de cada línea"
   ]
  },
  {
   "cell_type": "code",
   "execution_count": null,
   "metadata": {},
   "outputs": [],
   "source": [
    "# estimateArrive and line\n",
    "\n",
    "line_estimate_arrive_sorted = df.sort_values(by=\"estimateArrive\", ascending=False)\n",
    "\n",
    "plt.figure(figsize=(12, 6))\n",
    "sns.barplot(\n",
    "    x=\"estimateArrive\",\n",
    "    y=\"line\",\n",
    "    data=line_estimate_arrive_sorted,\n",
    "    orient=\"h\",\n",
    "    order=line_estimate_arrive_sorted[\"line\"].value_counts().head(10).index,\n",
    ")\n",
    "plt.xlabel(\"ETA (sec)\")\n",
    "plt.ylabel(\"Line\")\n",
    "plt.title(\"ETA by line\")\n",
    "plt.show()"
   ]
  },
  {
   "cell_type": "markdown",
   "metadata": {},
   "source": [
    "### ETA por destino"
   ]
  },
  {
   "cell_type": "code",
   "execution_count": null,
   "metadata": {},
   "outputs": [],
   "source": [
    "# ETA trends by destination\n",
    "destination = df.groupby(\"destination\")[\"estimateArrive\"].mean().reset_index()\n",
    "top_10_dest = destination.sort_values(by=\"estimateArrive\", ascending=False).head(10)\n",
    "\n",
    "sns.barplot(data=top_10_dest, x=\"estimateArrive\", y=\"destination\", orient=\"h\")\n",
    "plt.xlabel(\"AVG ETA (sec)\")\n",
    "plt.ylabel(\"Destination\")\n",
    "plt.title(\"ETA by Destination\")\n",
    "plt.show()"
   ]
  },
  {
   "cell_type": "markdown",
   "metadata": {},
   "source": [
    "# MLIA"
   ]
  },
  {
   "cell_type": "code",
   "execution_count": 1,
   "metadata": {},
   "outputs": [],
   "source": [
    "import os\n",
    "import matplotlib.pyplot as plt\n",
    "import numpy as np\n",
    "import seaborn as sns\n",
    "import polars as pl\n",
    "\n",
    "sns.set_palette(\"deep\")\n",
    "import warnings\n",
    "\n",
    "warnings.filterwarnings(\"ignore\")"
   ]
  },
  {
   "cell_type": "code",
   "execution_count": 2,
   "metadata": {},
   "outputs": [],
   "source": [
    "ROOT_PATH = os.path.dirname(os.path.dirname(os.path.dirname(os.path.abspath(os.getcwd()))))\n",
    "DATA_PATH = os.path.join(ROOT_PATH, \"data\", \"processed\")\n",
    "EMT_DATA_PATH = os.path.join(DATA_PATH, \"emt\")\n"
   ]
  },
  {
   "cell_type": "code",
   "execution_count": 3,
   "metadata": {},
   "outputs": [],
   "source": [
    "lf = pl.scan_csv(os.path.join(EMT_DATA_PATH, \"2024\", \"03\", \"emt_202403.csv\"))"
   ]
  },
  {
   "cell_type": "code",
   "execution_count": 4,
   "metadata": {},
   "outputs": [
    {
     "data": {
      "text/html": [
       "<div><style>\n",
       ".dataframe > thead > tr,\n",
       ".dataframe > tbody > tr {\n",
       "  text-align: right;\n",
       "  white-space: pre-wrap;\n",
       "}\n",
       "</style>\n",
       "<small>shape: (5, 19)</small><table border=\"1\" class=\"dataframe\"><thead><tr><th>date</th><th>datetime</th><th>bus</th><th>line</th><th>stop</th><th>positionBusLon</th><th>positionBusLat</th><th>positionTypeBus</th><th>DistanceBus</th><th>destination</th><th>deviation</th><th>StartTime</th><th>StopTime</th><th>MinimunFrequency</th><th>MaximumFrequency</th><th>isHead</th><th>dayType</th><th>strike</th><th>estimateArrive</th></tr><tr><td>str</td><td>str</td><td>i64</td><td>str</td><td>i64</td><td>f64</td><td>f64</td><td>i64</td><td>i64</td><td>str</td><td>i64</td><td>str</td><td>str</td><td>i64</td><td>i64</td><td>bool</td><td>str</td><td>str</td><td>i64</td></tr></thead><tbody><tr><td>&quot;2024-03-02&quot;</td><td>&quot;2024-03-02 07:…</td><td>579</td><td>&quot;27&quot;</td><td>33</td><td>-3.702641</td><td>40.40528</td><td>0</td><td>7528</td><td>&quot;PLAZA CASTILLA…</td><td>0</td><td>&quot;05:55&quot;</td><td>&quot;23:30&quot;</td><td>9</td><td>16</td><td>false</td><td>&quot;SA&quot;</td><td>&quot;N&quot;</td><td>1409</td></tr><tr><td>&quot;2024-03-02&quot;</td><td>&quot;2024-03-02 07:…</td><td>581</td><td>&quot;27&quot;</td><td>33</td><td>-3.689498</td><td>40.437068</td><td>0</td><td>2771</td><td>&quot;PLAZA CASTILLA…</td><td>0</td><td>&quot;05:55&quot;</td><td>&quot;23:30&quot;</td><td>9</td><td>16</td><td>false</td><td>&quot;SA&quot;</td><td>&quot;N&quot;</td><td>476</td></tr><tr><td>&quot;2024-03-02&quot;</td><td>&quot;2024-03-02 07:…</td><td>4855</td><td>&quot;5&quot;</td><td>33</td><td>-3.695955</td><td>40.435</td><td>0</td><td>10663</td><td>&quot;CHAMARTIN&quot;</td><td>0</td><td>null</td><td>null</td><td>null</td><td>null</td><td>false</td><td>null</td><td>null</td><td>2481</td></tr><tr><td>&quot;2024-03-02&quot;</td><td>&quot;2024-03-02 07:…</td><td>4857</td><td>&quot;5&quot;</td><td>33</td><td>-3.688575</td><td>40.430257</td><td>0</td><td>4550</td><td>&quot;CHAMARTIN&quot;</td><td>0</td><td>null</td><td>null</td><td>null</td><td>null</td><td>false</td><td>null</td><td>null</td><td>967</td></tr><tr><td>&quot;2024-03-02&quot;</td><td>&quot;2024-03-02 07:…</td><td>5631</td><td>&quot;147&quot;</td><td>33</td><td>-3.705854</td><td>40.428887</td><td>0</td><td>4754</td><td>&quot;BARRIO DEL PIL…</td><td>0</td><td>null</td><td>null</td><td>null</td><td>null</td><td>false</td><td>null</td><td>null</td><td>899</td></tr></tbody></table></div>"
      ],
      "text/plain": [
       "shape: (5, 19)\n",
       "┌────────────┬─────────────────┬──────┬──────┬───┬────────┬─────────┬────────┬────────────────┐\n",
       "│ date       ┆ datetime        ┆ bus  ┆ line ┆ … ┆ isHead ┆ dayType ┆ strike ┆ estimateArrive │\n",
       "│ ---        ┆ ---             ┆ ---  ┆ ---  ┆   ┆ ---    ┆ ---     ┆ ---    ┆ ---            │\n",
       "│ str        ┆ str             ┆ i64  ┆ str  ┆   ┆ bool   ┆ str     ┆ str    ┆ i64            │\n",
       "╞════════════╪═════════════════╪══════╪══════╪═══╪════════╪═════════╪════════╪════════════════╡\n",
       "│ 2024-03-02 ┆ 2024-03-02      ┆ 579  ┆ 27   ┆ … ┆ false  ┆ SA      ┆ N      ┆ 1409           │\n",
       "│            ┆ 07:59:38.430943 ┆      ┆      ┆   ┆        ┆         ┆        ┆                │\n",
       "│ 2024-03-02 ┆ 2024-03-02      ┆ 581  ┆ 27   ┆ … ┆ false  ┆ SA      ┆ N      ┆ 476            │\n",
       "│            ┆ 07:59:38.430943 ┆      ┆      ┆   ┆        ┆         ┆        ┆                │\n",
       "│ 2024-03-02 ┆ 2024-03-02      ┆ 4855 ┆ 5    ┆ … ┆ false  ┆ null    ┆ null   ┆ 2481           │\n",
       "│            ┆ 07:59:38.430943 ┆      ┆      ┆   ┆        ┆         ┆        ┆                │\n",
       "│ 2024-03-02 ┆ 2024-03-02      ┆ 4857 ┆ 5    ┆ … ┆ false  ┆ null    ┆ null   ┆ 967            │\n",
       "│            ┆ 07:59:38.430943 ┆      ┆      ┆   ┆        ┆         ┆        ┆                │\n",
       "│ 2024-03-02 ┆ 2024-03-02      ┆ 5631 ┆ 147  ┆ … ┆ false  ┆ null    ┆ null   ┆ 899            │\n",
       "│            ┆ 07:59:38.430943 ┆      ┆      ┆   ┆        ┆         ┆        ┆                │\n",
       "└────────────┴─────────────────┴──────┴──────┴───┴────────┴─────────┴────────┴────────────────┘"
      ]
     },
     "execution_count": 4,
     "metadata": {},
     "output_type": "execute_result"
    }
   ],
   "source": [
    "lf.head().collect()"
   ]
  },
  {
   "cell_type": "code",
   "execution_count": 5,
   "metadata": {},
   "outputs": [
    {
     "data": {
      "text/plain": [
       "'\\n  Csv SCAN /home/mlia/proyectos/data-generation/data/processed/emt/2024/03/emt_202403.csv\\n  PROJECT */19 COLUMNS'"
      ]
     },
     "execution_count": 5,
     "metadata": {},
     "output_type": "execute_result"
    }
   ],
   "source": [
    "lf.explain(optimized=True)"
   ]
  },
  {
   "cell_type": "markdown",
   "metadata": {},
   "source": [
    "# 1. Borramos la columna `positionTypeBus`"
   ]
  },
  {
   "cell_type": "code",
   "execution_count": 41,
   "metadata": {},
   "outputs": [],
   "source": [
    "query_1  = lf.drop('positionTypeBus')"
   ]
  },
  {
   "cell_type": "markdown",
   "metadata": {},
   "source": [
    "# 2. Creamos la PK"
   ]
  },
  {
   "cell_type": "code",
   "execution_count": 42,
   "metadata": {},
   "outputs": [],
   "source": [
    "query = query_1.with_columns((pl.col('datetime').cast(pl.String)+\"_B\"+pl.col('bus').cast(pl.String)+\"_L\"+ pl.col('line').cast(pl.String)+\"_S\"+pl.col('stop').cast(pl.String)).alias('PK'))"
   ]
  },
  {
   "cell_type": "code",
   "execution_count": 43,
   "metadata": {},
   "outputs": [
    {
     "data": {
      "text/html": [
       "<div><style>\n",
       ".dataframe > thead > tr,\n",
       ".dataframe > tbody > tr {\n",
       "  text-align: right;\n",
       "  white-space: pre-wrap;\n",
       "}\n",
       "</style>\n",
       "<small>shape: (5, 19)</small><table border=\"1\" class=\"dataframe\"><thead><tr><th>date</th><th>datetime</th><th>bus</th><th>line</th><th>stop</th><th>positionBusLon</th><th>positionBusLat</th><th>DistanceBus</th><th>destination</th><th>deviation</th><th>StartTime</th><th>StopTime</th><th>MinimunFrequency</th><th>MaximumFrequency</th><th>isHead</th><th>dayType</th><th>strike</th><th>estimateArrive</th><th>PK</th></tr><tr><td>str</td><td>str</td><td>i64</td><td>str</td><td>i64</td><td>f64</td><td>f64</td><td>i64</td><td>str</td><td>i64</td><td>str</td><td>str</td><td>i64</td><td>i64</td><td>bool</td><td>str</td><td>str</td><td>i64</td><td>str</td></tr></thead><tbody><tr><td>&quot;2024-03-02&quot;</td><td>&quot;2024-03-02 07:…</td><td>579</td><td>&quot;27&quot;</td><td>33</td><td>-3.702641</td><td>40.40528</td><td>7528</td><td>&quot;PLAZA CASTILLA…</td><td>0</td><td>&quot;05:55&quot;</td><td>&quot;23:30&quot;</td><td>9</td><td>16</td><td>false</td><td>&quot;SA&quot;</td><td>&quot;N&quot;</td><td>1409</td><td>&quot;2024-03-02 07:…</td></tr><tr><td>&quot;2024-03-02&quot;</td><td>&quot;2024-03-02 07:…</td><td>581</td><td>&quot;27&quot;</td><td>33</td><td>-3.689498</td><td>40.437068</td><td>2771</td><td>&quot;PLAZA CASTILLA…</td><td>0</td><td>&quot;05:55&quot;</td><td>&quot;23:30&quot;</td><td>9</td><td>16</td><td>false</td><td>&quot;SA&quot;</td><td>&quot;N&quot;</td><td>476</td><td>&quot;2024-03-02 07:…</td></tr><tr><td>&quot;2024-03-02&quot;</td><td>&quot;2024-03-02 07:…</td><td>4855</td><td>&quot;5&quot;</td><td>33</td><td>-3.695955</td><td>40.435</td><td>10663</td><td>&quot;CHAMARTIN&quot;</td><td>0</td><td>null</td><td>null</td><td>null</td><td>null</td><td>false</td><td>null</td><td>null</td><td>2481</td><td>&quot;2024-03-02 07:…</td></tr><tr><td>&quot;2024-03-02&quot;</td><td>&quot;2024-03-02 07:…</td><td>4857</td><td>&quot;5&quot;</td><td>33</td><td>-3.688575</td><td>40.430257</td><td>4550</td><td>&quot;CHAMARTIN&quot;</td><td>0</td><td>null</td><td>null</td><td>null</td><td>null</td><td>false</td><td>null</td><td>null</td><td>967</td><td>&quot;2024-03-02 07:…</td></tr><tr><td>&quot;2024-03-02&quot;</td><td>&quot;2024-03-02 07:…</td><td>5631</td><td>&quot;147&quot;</td><td>33</td><td>-3.705854</td><td>40.428887</td><td>4754</td><td>&quot;BARRIO DEL PIL…</td><td>0</td><td>null</td><td>null</td><td>null</td><td>null</td><td>false</td><td>null</td><td>null</td><td>899</td><td>&quot;2024-03-02 07:…</td></tr></tbody></table></div>"
      ],
      "text/plain": [
       "shape: (5, 19)\n",
       "┌────────────┬────────────────┬──────┬──────┬───┬─────────┬────────┬───────────────┬───────────────┐\n",
       "│ date       ┆ datetime       ┆ bus  ┆ line ┆ … ┆ dayType ┆ strike ┆ estimateArriv ┆ PK            │\n",
       "│ ---        ┆ ---            ┆ ---  ┆ ---  ┆   ┆ ---     ┆ ---    ┆ e             ┆ ---           │\n",
       "│ str        ┆ str            ┆ i64  ┆ str  ┆   ┆ str     ┆ str    ┆ ---           ┆ str           │\n",
       "│            ┆                ┆      ┆      ┆   ┆         ┆        ┆ i64           ┆               │\n",
       "╞════════════╪════════════════╪══════╪══════╪═══╪═════════╪════════╪═══════════════╪═══════════════╡\n",
       "│ 2024-03-02 ┆ 2024-03-02 07: ┆ 579  ┆ 27   ┆ … ┆ SA      ┆ N      ┆ 1409          ┆ 2024-03-02    │\n",
       "│            ┆ 59:38.430943   ┆      ┆      ┆   ┆         ┆        ┆               ┆ 07:59:38.4309 │\n",
       "│            ┆                ┆      ┆      ┆   ┆         ┆        ┆               ┆ 43_B579_…     │\n",
       "│ 2024-03-02 ┆ 2024-03-02 07: ┆ 581  ┆ 27   ┆ … ┆ SA      ┆ N      ┆ 476           ┆ 2024-03-02    │\n",
       "│            ┆ 59:38.430943   ┆      ┆      ┆   ┆         ┆        ┆               ┆ 07:59:38.4309 │\n",
       "│            ┆                ┆      ┆      ┆   ┆         ┆        ┆               ┆ 43_B581_…     │\n",
       "│ 2024-03-02 ┆ 2024-03-02 07: ┆ 4855 ┆ 5    ┆ … ┆ null    ┆ null   ┆ 2481          ┆ 2024-03-02    │\n",
       "│            ┆ 59:38.430943   ┆      ┆      ┆   ┆         ┆        ┆               ┆ 07:59:38.4309 │\n",
       "│            ┆                ┆      ┆      ┆   ┆         ┆        ┆               ┆ 43_B4855…     │\n",
       "│ 2024-03-02 ┆ 2024-03-02 07: ┆ 4857 ┆ 5    ┆ … ┆ null    ┆ null   ┆ 967           ┆ 2024-03-02    │\n",
       "│            ┆ 59:38.430943   ┆      ┆      ┆   ┆         ┆        ┆               ┆ 07:59:38.4309 │\n",
       "│            ┆                ┆      ┆      ┆   ┆         ┆        ┆               ┆ 43_B4857…     │\n",
       "│ 2024-03-02 ┆ 2024-03-02 07: ┆ 5631 ┆ 147  ┆ … ┆ null    ┆ null   ┆ 899           ┆ 2024-03-02    │\n",
       "│            ┆ 59:38.430943   ┆      ┆      ┆   ┆         ┆        ┆               ┆ 07:59:38.4309 │\n",
       "│            ┆                ┆      ┆      ┆   ┆         ┆        ┆               ┆ 43_B5631…     │\n",
       "└────────────┴────────────────┴──────┴──────┴───┴─────────┴────────┴───────────────┴───────────────┘"
      ]
     },
     "execution_count": 43,
     "metadata": {},
     "output_type": "execute_result"
    }
   ],
   "source": [
    "query.head().collect()"
   ]
  },
  {
   "cell_type": "markdown",
   "metadata": {},
   "source": [
    "# 3. Filtramos para el 2 de marzo"
   ]
  },
  {
   "cell_type": "code",
   "execution_count": 44,
   "metadata": {},
   "outputs": [],
   "source": [
    "query_2 = query.filter(pl.col('date') == \"2024-03-02\")"
   ]
  },
  {
   "cell_type": "code",
   "execution_count": 45,
   "metadata": {},
   "outputs": [],
   "source": [
    "march_02 = query_2.head().collect()"
   ]
  },
  {
   "cell_type": "code",
   "execution_count": 46,
   "metadata": {},
   "outputs": [
    {
     "data": {
      "text/html": [
       "<div><style>\n",
       ".dataframe > thead > tr,\n",
       ".dataframe > tbody > tr {\n",
       "  text-align: right;\n",
       "  white-space: pre-wrap;\n",
       "}\n",
       "</style>\n",
       "<small>shape: (5, 19)</small><table border=\"1\" class=\"dataframe\"><thead><tr><th>date</th><th>datetime</th><th>bus</th><th>line</th><th>stop</th><th>positionBusLon</th><th>positionBusLat</th><th>DistanceBus</th><th>destination</th><th>deviation</th><th>StartTime</th><th>StopTime</th><th>MinimunFrequency</th><th>MaximumFrequency</th><th>isHead</th><th>dayType</th><th>strike</th><th>estimateArrive</th><th>PK</th></tr><tr><td>str</td><td>str</td><td>i64</td><td>str</td><td>i64</td><td>f64</td><td>f64</td><td>i64</td><td>str</td><td>i64</td><td>str</td><td>str</td><td>i64</td><td>i64</td><td>bool</td><td>str</td><td>str</td><td>i64</td><td>str</td></tr></thead><tbody><tr><td>&quot;2024-03-02&quot;</td><td>&quot;2024-03-02 07:…</td><td>579</td><td>&quot;27&quot;</td><td>33</td><td>-3.702641</td><td>40.40528</td><td>7528</td><td>&quot;PLAZA CASTILLA…</td><td>0</td><td>&quot;05:55&quot;</td><td>&quot;23:30&quot;</td><td>9</td><td>16</td><td>false</td><td>&quot;SA&quot;</td><td>&quot;N&quot;</td><td>1409</td><td>&quot;2024-03-02 07:…</td></tr><tr><td>&quot;2024-03-02&quot;</td><td>&quot;2024-03-02 07:…</td><td>581</td><td>&quot;27&quot;</td><td>33</td><td>-3.689498</td><td>40.437068</td><td>2771</td><td>&quot;PLAZA CASTILLA…</td><td>0</td><td>&quot;05:55&quot;</td><td>&quot;23:30&quot;</td><td>9</td><td>16</td><td>false</td><td>&quot;SA&quot;</td><td>&quot;N&quot;</td><td>476</td><td>&quot;2024-03-02 07:…</td></tr><tr><td>&quot;2024-03-02&quot;</td><td>&quot;2024-03-02 07:…</td><td>4855</td><td>&quot;5&quot;</td><td>33</td><td>-3.695955</td><td>40.435</td><td>10663</td><td>&quot;CHAMARTIN&quot;</td><td>0</td><td>null</td><td>null</td><td>null</td><td>null</td><td>false</td><td>null</td><td>null</td><td>2481</td><td>&quot;2024-03-02 07:…</td></tr><tr><td>&quot;2024-03-02&quot;</td><td>&quot;2024-03-02 07:…</td><td>4857</td><td>&quot;5&quot;</td><td>33</td><td>-3.688575</td><td>40.430257</td><td>4550</td><td>&quot;CHAMARTIN&quot;</td><td>0</td><td>null</td><td>null</td><td>null</td><td>null</td><td>false</td><td>null</td><td>null</td><td>967</td><td>&quot;2024-03-02 07:…</td></tr><tr><td>&quot;2024-03-02&quot;</td><td>&quot;2024-03-02 07:…</td><td>5631</td><td>&quot;147&quot;</td><td>33</td><td>-3.705854</td><td>40.428887</td><td>4754</td><td>&quot;BARRIO DEL PIL…</td><td>0</td><td>null</td><td>null</td><td>null</td><td>null</td><td>false</td><td>null</td><td>null</td><td>899</td><td>&quot;2024-03-02 07:…</td></tr></tbody></table></div>"
      ],
      "text/plain": [
       "shape: (5, 19)\n",
       "┌────────────┬────────────────┬──────┬──────┬───┬─────────┬────────┬───────────────┬───────────────┐\n",
       "│ date       ┆ datetime       ┆ bus  ┆ line ┆ … ┆ dayType ┆ strike ┆ estimateArriv ┆ PK            │\n",
       "│ ---        ┆ ---            ┆ ---  ┆ ---  ┆   ┆ ---     ┆ ---    ┆ e             ┆ ---           │\n",
       "│ str        ┆ str            ┆ i64  ┆ str  ┆   ┆ str     ┆ str    ┆ ---           ┆ str           │\n",
       "│            ┆                ┆      ┆      ┆   ┆         ┆        ┆ i64           ┆               │\n",
       "╞════════════╪════════════════╪══════╪══════╪═══╪═════════╪════════╪═══════════════╪═══════════════╡\n",
       "│ 2024-03-02 ┆ 2024-03-02 07: ┆ 579  ┆ 27   ┆ … ┆ SA      ┆ N      ┆ 1409          ┆ 2024-03-02    │\n",
       "│            ┆ 59:38.430943   ┆      ┆      ┆   ┆         ┆        ┆               ┆ 07:59:38.4309 │\n",
       "│            ┆                ┆      ┆      ┆   ┆         ┆        ┆               ┆ 43_B579_…     │\n",
       "│ 2024-03-02 ┆ 2024-03-02 07: ┆ 581  ┆ 27   ┆ … ┆ SA      ┆ N      ┆ 476           ┆ 2024-03-02    │\n",
       "│            ┆ 59:38.430943   ┆      ┆      ┆   ┆         ┆        ┆               ┆ 07:59:38.4309 │\n",
       "│            ┆                ┆      ┆      ┆   ┆         ┆        ┆               ┆ 43_B581_…     │\n",
       "│ 2024-03-02 ┆ 2024-03-02 07: ┆ 4855 ┆ 5    ┆ … ┆ null    ┆ null   ┆ 2481          ┆ 2024-03-02    │\n",
       "│            ┆ 59:38.430943   ┆      ┆      ┆   ┆         ┆        ┆               ┆ 07:59:38.4309 │\n",
       "│            ┆                ┆      ┆      ┆   ┆         ┆        ┆               ┆ 43_B4855…     │\n",
       "│ 2024-03-02 ┆ 2024-03-02 07: ┆ 4857 ┆ 5    ┆ … ┆ null    ┆ null   ┆ 967           ┆ 2024-03-02    │\n",
       "│            ┆ 59:38.430943   ┆      ┆      ┆   ┆         ┆        ┆               ┆ 07:59:38.4309 │\n",
       "│            ┆                ┆      ┆      ┆   ┆         ┆        ┆               ┆ 43_B4857…     │\n",
       "│ 2024-03-02 ┆ 2024-03-02 07: ┆ 5631 ┆ 147  ┆ … ┆ null    ┆ null   ┆ 899           ┆ 2024-03-02    │\n",
       "│            ┆ 59:38.430943   ┆      ┆      ┆   ┆         ┆        ┆               ┆ 07:59:38.4309 │\n",
       "│            ┆                ┆      ┆      ┆   ┆         ┆        ┆               ┆ 43_B5631…     │\n",
       "└────────────┴────────────────┴──────┴──────┴───┴─────────┴────────┴───────────────┴───────────────┘"
      ]
     },
     "execution_count": 46,
     "metadata": {},
     "output_type": "execute_result"
    }
   ],
   "source": [
    "march_02"
   ]
  },
  {
   "cell_type": "code",
   "execution_count": 10,
   "metadata": {},
   "outputs": [],
   "source": [
    "query_3 = query_2.group_by(by = [pl.col('bus'),pl.col('line'),pl.col('stop'),pl.col('datetime')]).count().filter(pl.col('count')==1)"
   ]
  },
  {
   "cell_type": "code",
   "execution_count": 52,
   "metadata": {},
   "outputs": [],
   "source": [
    "query_4 = query_2.select('PK').group_by(by = [pl.col('bus'),pl.col('line'),pl.col('stop'),pl.col('datetime')]).count().filter(pl.col('count')>1)"
   ]
  },
  {
   "cell_type": "code",
   "execution_count": 53,
   "metadata": {},
   "outputs": [
    {
     "ename": "ColumnNotFoundError",
     "evalue": "bus\n\nError originated just after this operation:\n SELECT [col(\"PK\")] FROM\n  FILTER [(col(\"date\")) == (String(2024-03-02))] FROM\n\n   WITH_COLUMNS:\n   [[([([([([([(col(\"datetime\").strict_cast(String)) + (String(_B))]) + (col(\"bus\").strict_cast(String))]) + (String(_L))]) + (col(\"line\").strict_cast(String))]) + (String(_S))]) + (col(\"stop\").strict_cast(String))].alias(\"PK\")]\n     SELECT [col(\"date\"), col(\"datetime\"), col(\"bus\"), col(\"line\"), col(\"stop\"), col(\"positionBusLon\"), col(\"positionBusLat\"), col(\"DistanceBus\"), col(\"destination\"), col(\"deviation\"), col(\"StartTime\"), col(\"StopTime\"), col(\"MinimunFrequency\"), col(\"MaximumFrequency\"), col(\"isHead\"), col(\"dayType\"), col(\"strike\"), col(\"estimateArrive\")] FROM\n\n        Csv SCAN /home/mlia/proyectos/data-generation/data/processed/emt/2024/03/emt_202403.csv\n        PROJECT */19 COLUMNS\n\nLogicalPlan had already failed with the above error; after failure, 1 additional operation was attempted on the LazyFrame",
     "output_type": "error",
     "traceback": [
      "\u001b[0;31m---------------------------------------------------------------------------\u001b[0m",
      "\u001b[0;31mColumnNotFoundError\u001b[0m                       Traceback (most recent call last)",
      "Cell \u001b[0;32mIn[53], line 1\u001b[0m\n\u001b[0;32m----> 1\u001b[0m query_4\u001b[39m.\u001b[39;49mcollect()\n",
      "File \u001b[0;32m~/proyectos/data-generation/venv/lib/python3.10/site-packages/polars/lazyframe/frame.py:1943\u001b[0m, in \u001b[0;36mLazyFrame.collect\u001b[0;34m(self, type_coercion, predicate_pushdown, projection_pushdown, simplify_expression, slice_pushdown, comm_subplan_elim, comm_subexpr_elim, no_optimization, streaming, background, _eager)\u001b[0m\n\u001b[1;32m   1940\u001b[0m \u001b[39mif\u001b[39;00m background:\n\u001b[1;32m   1941\u001b[0m     \u001b[39mreturn\u001b[39;00m InProcessQuery(ldf\u001b[39m.\u001b[39mcollect_concurrently())\n\u001b[0;32m-> 1943\u001b[0m \u001b[39mreturn\u001b[39;00m wrap_df(ldf\u001b[39m.\u001b[39;49mcollect())\n",
      "\u001b[0;31mColumnNotFoundError\u001b[0m: bus\n\nError originated just after this operation:\n SELECT [col(\"PK\")] FROM\n  FILTER [(col(\"date\")) == (String(2024-03-02))] FROM\n\n   WITH_COLUMNS:\n   [[([([([([([(col(\"datetime\").strict_cast(String)) + (String(_B))]) + (col(\"bus\").strict_cast(String))]) + (String(_L))]) + (col(\"line\").strict_cast(String))]) + (String(_S))]) + (col(\"stop\").strict_cast(String))].alias(\"PK\")]\n     SELECT [col(\"date\"), col(\"datetime\"), col(\"bus\"), col(\"line\"), col(\"stop\"), col(\"positionBusLon\"), col(\"positionBusLat\"), col(\"DistanceBus\"), col(\"destination\"), col(\"deviation\"), col(\"StartTime\"), col(\"StopTime\"), col(\"MinimunFrequency\"), col(\"MaximumFrequency\"), col(\"isHead\"), col(\"dayType\"), col(\"strike\"), col(\"estimateArrive\")] FROM\n\n        Csv SCAN /home/mlia/proyectos/data-generation/data/processed/emt/2024/03/emt_202403.csv\n        PROJECT */19 COLUMNS\n\nLogicalPlan had already failed with the above error; after failure, 1 additional operation was attempted on the LazyFrame"
     ]
    }
   ],
   "source": [
    "query_4.collect()"
   ]
  },
  {
   "cell_type": "code",
   "execution_count": 12,
   "metadata": {},
   "outputs": [
    {
     "data": {
      "text/html": [
       "<div><style>\n",
       ".dataframe > thead > tr,\n",
       ".dataframe > tbody > tr {\n",
       "  text-align: right;\n",
       "  white-space: pre-wrap;\n",
       "}\n",
       "</style>\n",
       "<small>shape: (5, 5)</small><table border=\"1\" class=\"dataframe\"><thead><tr><th>bus</th><th>line</th><th>stop</th><th>datetime</th><th>count</th></tr><tr><td>i64</td><td>str</td><td>i64</td><td>str</td><td>u32</td></tr></thead><tbody><tr><td>2506</td><td>&quot;172&quot;</td><td>4493</td><td>&quot;2024-03-02 12:…</td><td>1</td></tr><tr><td>2070</td><td>&quot;174&quot;</td><td>5887</td><td>&quot;2024-03-02 09:…</td><td>1</td></tr><tr><td>4844</td><td>&quot;64&quot;</td><td>3733</td><td>&quot;2024-03-02 11:…</td><td>1</td></tr><tr><td>2071</td><td>&quot;174&quot;</td><td>51022</td><td>&quot;2024-03-02 13:…</td><td>1</td></tr><tr><td>2134</td><td>&quot;107&quot;</td><td>1839</td><td>&quot;2024-03-02 11:…</td><td>1</td></tr></tbody></table></div>"
      ],
      "text/plain": [
       "shape: (5, 5)\n",
       "┌──────┬──────┬───────┬────────────────────────────┬───────┐\n",
       "│ bus  ┆ line ┆ stop  ┆ datetime                   ┆ count │\n",
       "│ ---  ┆ ---  ┆ ---   ┆ ---                        ┆ ---   │\n",
       "│ i64  ┆ str  ┆ i64   ┆ str                        ┆ u32   │\n",
       "╞══════╪══════╪═══════╪════════════════════════════╪═══════╡\n",
       "│ 2506 ┆ 172  ┆ 4493  ┆ 2024-03-02 12:51:14.244764 ┆ 1     │\n",
       "│ 2070 ┆ 174  ┆ 5887  ┆ 2024-03-02 09:16:17.117900 ┆ 1     │\n",
       "│ 4844 ┆ 64   ┆ 3733  ┆ 2024-03-02 11:42:14.345380 ┆ 1     │\n",
       "│ 2071 ┆ 174  ┆ 51022 ┆ 2024-03-02 13:35:06.055783 ┆ 1     │\n",
       "│ 2134 ┆ 107  ┆ 1839  ┆ 2024-03-02 11:43:22.659140 ┆ 1     │\n",
       "└──────┴──────┴───────┴────────────────────────────┴───────┘"
      ]
     },
     "execution_count": 12,
     "metadata": {},
     "output_type": "execute_result"
    }
   ],
   "source": [
    "query_3.head().collect()"
   ]
  },
  {
   "cell_type": "code",
   "execution_count": 12,
   "metadata": {},
   "outputs": [],
   "source": [
    "query_day = lf.group_by(['datetime','bus','line','stop']).count().filter(pl.col('count')==1)"
   ]
  },
  {
   "cell_type": "markdown",
   "metadata": {},
   "source": [
    "# Estimation of the passing time from ETAs\n",
    "## 4.2.1 Filtering non real-time estimations"
   ]
  },
  {
   "cell_type": "code",
   "execution_count": 34,
   "metadata": {},
   "outputs": [
    {
     "data": {
      "text/html": [
       "<div><style>\n",
       ".dataframe > thead > tr,\n",
       ".dataframe > tbody > tr {\n",
       "  text-align: right;\n",
       "  white-space: pre-wrap;\n",
       "}\n",
       "</style>\n",
       "<small>shape: (9, 6)</small><table border=\"1\" class=\"dataframe\"><thead><tr><th>statistic</th><th>datetime</th><th>bus</th><th>line</th><th>stop</th><th>count</th></tr><tr><td>str</td><td>str</td><td>f64</td><td>str</td><td>f64</td><td>f64</td></tr></thead><tbody><tr><td>&quot;count&quot;</td><td>&quot;560973&quot;</td><td>560973.0</td><td>&quot;560973&quot;</td><td>560973.0</td><td>560973.0</td></tr><tr><td>&quot;null_count&quot;</td><td>&quot;0&quot;</td><td>0.0</td><td>&quot;0&quot;</td><td>0.0</td><td>0.0</td></tr><tr><td>&quot;mean&quot;</td><td>null</td><td>3468.028269</td><td>null</td><td>2445.628836</td><td>1.0</td></tr><tr><td>&quot;std&quot;</td><td>null</td><td>2182.301776</td><td>null</td><td>4254.104916</td><td>0.0</td></tr><tr><td>&quot;min&quot;</td><td>&quot;2024-03-02 07:…</td><td>51.0</td><td>&quot;1&quot;</td><td>29.0</td><td>1.0</td></tr><tr><td>&quot;25%&quot;</td><td>null</td><td>2144.0</td><td>null</td><td>218.0</td><td>1.0</td></tr><tr><td>&quot;50%&quot;</td><td>null</td><td>2505.0</td><td>null</td><td>1544.0</td><td>1.0</td></tr><tr><td>&quot;75%&quot;</td><td>null</td><td>5538.0</td><td>null</td><td>3796.0</td><td>1.0</td></tr><tr><td>&quot;max&quot;</td><td>&quot;2024-03-02 15:…</td><td>9125.0</td><td>&quot;E1&quot;</td><td>51023.0</td><td>1.0</td></tr></tbody></table></div>"
      ],
      "text/plain": [
       "shape: (9, 6)\n",
       "┌────────────┬────────────────────────────┬─────────────┬────────┬─────────────┬──────────┐\n",
       "│ statistic  ┆ datetime                   ┆ bus         ┆ line   ┆ stop        ┆ count    │\n",
       "│ ---        ┆ ---                        ┆ ---         ┆ ---    ┆ ---         ┆ ---      │\n",
       "│ str        ┆ str                        ┆ f64         ┆ str    ┆ f64         ┆ f64      │\n",
       "╞════════════╪════════════════════════════╪═════════════╪════════╪═════════════╪══════════╡\n",
       "│ count      ┆ 560973                     ┆ 560973.0    ┆ 560973 ┆ 560973.0    ┆ 560973.0 │\n",
       "│ null_count ┆ 0                          ┆ 0.0         ┆ 0      ┆ 0.0         ┆ 0.0      │\n",
       "│ mean       ┆ null                       ┆ 3468.028269 ┆ null   ┆ 2445.628836 ┆ 1.0      │\n",
       "│ std        ┆ null                       ┆ 2182.301776 ┆ null   ┆ 4254.104916 ┆ 0.0      │\n",
       "│ min        ┆ 2024-03-02 07:59:38.430943 ┆ 51.0        ┆ 1      ┆ 29.0        ┆ 1.0      │\n",
       "│ 25%        ┆ null                       ┆ 2144.0      ┆ null   ┆ 218.0       ┆ 1.0      │\n",
       "│ 50%        ┆ null                       ┆ 2505.0      ┆ null   ┆ 1544.0      ┆ 1.0      │\n",
       "│ 75%        ┆ null                       ┆ 5538.0      ┆ null   ┆ 3796.0      ┆ 1.0      │\n",
       "│ max        ┆ 2024-03-02 15:01:24.905362 ┆ 9125.0      ┆ E1     ┆ 51023.0     ┆ 1.0      │\n",
       "└────────────┴────────────────────────────┴─────────────┴────────┴─────────────┴──────────┘"
      ]
     },
     "execution_count": 34,
     "metadata": {},
     "output_type": "execute_result"
    }
   ],
   "source": [
    "pk = march_02.group_by(['datetime','bus','line','stop']).count()\n",
    "march_02 = pk.filter(pk['count']==1)\n",
    "march_02.describe()\n"
   ]
  },
  {
   "cell_type": "code",
   "execution_count": null,
   "metadata": {},
   "outputs": [],
   "source": []
  }
 ],
 "metadata": {
  "kernelspec": {
   "display_name": "venv",
   "language": "python",
   "name": "python3"
  },
  "language_info": {
   "codemirror_mode": {
    "name": "ipython",
    "version": 3
   },
   "file_extension": ".py",
   "mimetype": "text/x-python",
   "name": "python",
   "nbconvert_exporter": "python",
   "pygments_lexer": "ipython3",
   "version": "3.10.12"
  },
  "orig_nbformat": 4
 },
 "nbformat": 4,
 "nbformat_minor": 2
}
