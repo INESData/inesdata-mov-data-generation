{
 "cells": [
  {
   "cell_type": "markdown",
   "metadata": {},
   "source": [
    "<div id=\"top\">\n",
    "<!-- <div style=\"background-image: url(https://www.emtmadrid.es/getattachment/da3be644-cb9d-44db-8011-e3f40f1c5c34); opacity: 0.2\"/> -->\n",
    "<img src=\"https://www.gmv.com/sites/default/files/content/image/2021/11/03/115/gmv_rgbredblack.png\" alt=\"GMV Logo\" style=\"width: 200px\">\n",
    "<img src=\"https://www.upm.es/sfs/Rectorado/Gabinete%20del%20Rector/Logos/UPM/CEI/LOGOTIPO%20leyenda%20color%20JPG%20p.png\" alt=\"UPM Logo\" style=\"float: right; width: 200px\">\n",
    "<h1><b>QA: AEMET dataset 🌥️</b></h1>\n",
    "<h5 style=\"text-align: right\">INESDATA-MOV</h5>\n",
    "</div>\n",
    "\n",
    "# Análisis de calidad\n",
    "Este cuaderno analiza la calidad del dataset proveniente de la fuente de datos de la Agencia Estatal de Meteorología ([AEMET](https://www.aemet.es/es/portada)). La calidad del mismo se validará teniendo en cuenta los siguientes aspectos:\n",
    "* Análisis de las variables\n",
    "* Conversiones de tipos de datos\n",
    "* Checks de calidad del dato\n",
    "* Análisis Exploratorio de los datos (EDA)\n",
    "\n",
    "La **calidad del dato** se refiere a la medida en que los datos son adecuados para su uso, por lo que es esencial para garantizar la confiabilidad y utilidad de los datos en diversas aplicaciones y contextos. Así, en este notebook se evaluarán también las cinco dimensiones de la calidad del dato:\n",
    "1. **Unicidad**: Ausencia de duplicados o registros repetidos en un conjunto de datos. Los datos son únicos cuando cada registro o entidad en el conjunto de datos es único y no hay duplicados presentes.\n",
    "2. **Exactitud**: Los datos exactos son libres de errores y representan con precisión la realidad que están destinados a describir. Esto implica que los datos deben ser correctos y confiables para su uso en análisis y toma de decisiones.\n",
    "3. **Completitud**: Los datos completos contienen toda la información necesaria para el análisis y no tienen valores faltantes o nulos que puedan afectar la interpretación o validez de los resultados.\n",
    "4. **Consistencia**: Los datos consistentes mantienen el mismo formato, estructura y significado en todas las instancias, lo que facilita su comparación y análisis sin ambigüedad.\n",
    "5. **Validez**: Medida en que los datos son precisos y representan con exactitud la realidad que están destinados a describir. "
   ]
  },
  {
   "cell_type": "markdown",
   "metadata": {},
   "source": [
    "<div class=\"admonition info\">\n",
    "<p class=\"admonition-title\">Nota</p>\n",
    "<p>\n",
    "Este dataset ha sido creado ejecutando el comando <code>create</code> del paquete de Python <a href=\"https://github.com/oeg-upm/inesdata-mov-data-generation\"><code>inesdata_mov_datasets</code></a>.<br>\n",
    "Para poder ejecutar este comando es necesario haber ejecutado antes el comando <code>extract</code>, que realiza la extracción de datos de la API de la AEMET y los almacena en Minio. El comando <code>create</code> se encargaría de descargar dichos datos y unirlos todos en un único dataset.\n",
    "</p>\n",
    "</div>"
   ]
  },
  {
   "cell_type": "code",
   "execution_count": 1,
   "metadata": {},
   "outputs": [],
   "source": [
    "import os\n",
    "from datetime import datetime\n",
    "\n",
    "import matplotlib.pyplot as plt\n",
    "import numpy as np\n",
    "import pandas as pd\n",
    "import seaborn as sns\n",
    "from ydata_profiling import ProfileReport\n",
    "\n",
    "sns.set_palette(\"deep\")\n",
    "import warnings\n",
    "\n",
    "warnings.filterwarnings(\"ignore\")"
   ]
  },
  {
   "cell_type": "code",
   "execution_count": 2,
   "metadata": {},
   "outputs": [
    {
     "data": {
      "text/plain": [
       "'/home/code/inesdata-mov/data-generation/data/processed/aemet'"
      ]
     },
     "execution_count": 2,
     "metadata": {},
     "output_type": "execute_result"
    }
   ],
   "source": [
    "ROOT_PATH = os.path.dirname(os.path.dirname(os.path.abspath(os.getcwd())))\n",
    "DATA_PATH = os.path.join(ROOT_PATH, \"data\", \"processed\")\n",
    "AEMET_DATA_PATH = os.path.join(DATA_PATH, \"aemet\")\n",
    "AEMET_DATA_PATH"
   ]
  },
  {
   "cell_type": "code",
   "execution_count": 3,
   "metadata": {},
   "outputs": [
    {
     "name": "stdout",
     "output_type": "stream",
     "text": [
      "('/home/code/inesdata-mov/data-generation/data/processed/aemet', ['2024'], [])\n",
      "('/home/code/inesdata-mov/data-generation/data/processed/aemet/2024', ['03'], [])\n",
      "('/home/code/inesdata-mov/data-generation/data/processed/aemet/2024/03', ['06', '07', '12', '02', '05', '11', '04', '03', '08', '13'], [])\n",
      "('/home/code/inesdata-mov/data-generation/data/processed/aemet/2024/03/06', [], ['aemet_20240306.csv'])\n",
      "('/home/code/inesdata-mov/data-generation/data/processed/aemet/2024/03/07', [], ['aemet_20240307.csv'])\n",
      "('/home/code/inesdata-mov/data-generation/data/processed/aemet/2024/03/12', [], ['aemet_20240312.csv'])\n",
      "('/home/code/inesdata-mov/data-generation/data/processed/aemet/2024/03/02', [], ['aemet_20240302.csv'])\n",
      "('/home/code/inesdata-mov/data-generation/data/processed/aemet/2024/03/05', [], ['aemet_20240305.csv'])\n",
      "('/home/code/inesdata-mov/data-generation/data/processed/aemet/2024/03/11', [], ['aemet_20240311.csv'])\n",
      "('/home/code/inesdata-mov/data-generation/data/processed/aemet/2024/03/04', [], ['aemet_20240304.csv'])\n",
      "('/home/code/inesdata-mov/data-generation/data/processed/aemet/2024/03/03', [], ['aemet_20240303.csv'])\n",
      "('/home/code/inesdata-mov/data-generation/data/processed/aemet/2024/03/08', [], ['aemet_20240308.csv'])\n",
      "('/home/code/inesdata-mov/data-generation/data/processed/aemet/2024/03/13', [], ['aemet_20240313.csv'])\n"
     ]
    }
   ],
   "source": [
    "for w in os.walk(AEMET_DATA_PATH):\n",
    "    print(w)"
   ]
  },
  {
   "cell_type": "markdown",
   "metadata": {},
   "source": [
    "**Cada fila de este dataset representa la meteorología de Madrid para una determinada fecha y hora concretos.**"
   ]
  },
  {
   "cell_type": "markdown",
   "metadata": {},
   "source": [
    "<div class=\"admonition warning\">\n",
    "<p class=\"admonition-title\">-</p>\n",
    "<p>\n",
    "Vamos a analizar la calidad del dataset generado solamente para el día 13 de marzo, en el futuro dispondremos de más días.\n",
    "</p>\n",
    "</div>"
   ]
  },
  {
   "cell_type": "code",
   "execution_count": 4,
   "metadata": {},
   "outputs": [
    {
     "data": {
      "text/html": [
       "<div>\n",
       "<style scoped>\n",
       "    .dataframe tbody tr th:only-of-type {\n",
       "        vertical-align: middle;\n",
       "    }\n",
       "\n",
       "    .dataframe tbody tr th {\n",
       "        vertical-align: top;\n",
       "    }\n",
       "\n",
       "    .dataframe thead th {\n",
       "        text-align: right;\n",
       "    }\n",
       "</style>\n",
       "<table border=\"1\" class=\"dataframe\">\n",
       "  <thead>\n",
       "    <tr style=\"text-align: right;\">\n",
       "      <th></th>\n",
       "      <th>estadoCielo_value</th>\n",
       "      <th>estadoCielo_descripcion</th>\n",
       "      <th>precipitacion_value</th>\n",
       "      <th>probPrecipitacion_value</th>\n",
       "      <th>probTormenta_value</th>\n",
       "      <th>nieve_value</th>\n",
       "      <th>probNieve_value</th>\n",
       "      <th>temperatura_value</th>\n",
       "      <th>sensTermica_value</th>\n",
       "      <th>humedadRelativa_value</th>\n",
       "      <th>direccion</th>\n",
       "      <th>velocidad</th>\n",
       "      <th>vientoAndRachaMax_value</th>\n",
       "      <th>datetime</th>\n",
       "    </tr>\n",
       "  </thead>\n",
       "  <tbody>\n",
       "    <tr>\n",
       "      <th>0</th>\n",
       "      <td>17n</td>\n",
       "      <td>Nubes altas</td>\n",
       "      <td>0.0</td>\n",
       "      <td>NaN</td>\n",
       "      <td>NaN</td>\n",
       "      <td>0.0</td>\n",
       "      <td>NaN</td>\n",
       "      <td>8.0</td>\n",
       "      <td>6.0</td>\n",
       "      <td>68.0</td>\n",
       "      <td>['NE']</td>\n",
       "      <td>['10']</td>\n",
       "      <td>NaN</td>\n",
       "      <td>2024-03-13 00:00:00</td>\n",
       "    </tr>\n",
       "    <tr>\n",
       "      <th>1</th>\n",
       "      <td>17n</td>\n",
       "      <td>Nubes altas</td>\n",
       "      <td>0.0</td>\n",
       "      <td>NaN</td>\n",
       "      <td>NaN</td>\n",
       "      <td>0.0</td>\n",
       "      <td>NaN</td>\n",
       "      <td>8.0</td>\n",
       "      <td>6.0</td>\n",
       "      <td>68.0</td>\n",
       "      <td>NaN</td>\n",
       "      <td>NaN</td>\n",
       "      <td>18.0</td>\n",
       "      <td>2024-03-13 00:00:00</td>\n",
       "    </tr>\n",
       "    <tr>\n",
       "      <th>2</th>\n",
       "      <td>17n</td>\n",
       "      <td>Nubes altas</td>\n",
       "      <td>0.0</td>\n",
       "      <td>NaN</td>\n",
       "      <td>NaN</td>\n",
       "      <td>0.0</td>\n",
       "      <td>NaN</td>\n",
       "      <td>6.0</td>\n",
       "      <td>3.0</td>\n",
       "      <td>75.0</td>\n",
       "      <td>['NE']</td>\n",
       "      <td>['12']</td>\n",
       "      <td>NaN</td>\n",
       "      <td>2024-03-13 01:00:00</td>\n",
       "    </tr>\n",
       "    <tr>\n",
       "      <th>3</th>\n",
       "      <td>17n</td>\n",
       "      <td>Nubes altas</td>\n",
       "      <td>0.0</td>\n",
       "      <td>NaN</td>\n",
       "      <td>NaN</td>\n",
       "      <td>0.0</td>\n",
       "      <td>NaN</td>\n",
       "      <td>6.0</td>\n",
       "      <td>3.0</td>\n",
       "      <td>75.0</td>\n",
       "      <td>NaN</td>\n",
       "      <td>NaN</td>\n",
       "      <td>17.0</td>\n",
       "      <td>2024-03-13 01:00:00</td>\n",
       "    </tr>\n",
       "    <tr>\n",
       "      <th>4</th>\n",
       "      <td>NaN</td>\n",
       "      <td>NaN</td>\n",
       "      <td>NaN</td>\n",
       "      <td>0.0</td>\n",
       "      <td>0.0</td>\n",
       "      <td>NaN</td>\n",
       "      <td>0.0</td>\n",
       "      <td>NaN</td>\n",
       "      <td>NaN</td>\n",
       "      <td>NaN</td>\n",
       "      <td>NaN</td>\n",
       "      <td>NaN</td>\n",
       "      <td>NaN</td>\n",
       "      <td>2024-03-13 01:07:00</td>\n",
       "    </tr>\n",
       "    <tr>\n",
       "      <th>5</th>\n",
       "      <td>17n</td>\n",
       "      <td>Nubes altas</td>\n",
       "      <td>0.0</td>\n",
       "      <td>NaN</td>\n",
       "      <td>NaN</td>\n",
       "      <td>0.0</td>\n",
       "      <td>NaN</td>\n",
       "      <td>6.0</td>\n",
       "      <td>4.0</td>\n",
       "      <td>73.0</td>\n",
       "      <td>['NE']</td>\n",
       "      <td>['11']</td>\n",
       "      <td>NaN</td>\n",
       "      <td>2024-03-13 02:00:00</td>\n",
       "    </tr>\n",
       "    <tr>\n",
       "      <th>6</th>\n",
       "      <td>17n</td>\n",
       "      <td>Nubes altas</td>\n",
       "      <td>0.0</td>\n",
       "      <td>NaN</td>\n",
       "      <td>NaN</td>\n",
       "      <td>0.0</td>\n",
       "      <td>NaN</td>\n",
       "      <td>6.0</td>\n",
       "      <td>4.0</td>\n",
       "      <td>73.0</td>\n",
       "      <td>NaN</td>\n",
       "      <td>NaN</td>\n",
       "      <td>16.0</td>\n",
       "      <td>2024-03-13 02:00:00</td>\n",
       "    </tr>\n",
       "    <tr>\n",
       "      <th>7</th>\n",
       "      <td>12n</td>\n",
       "      <td>Poco nuboso</td>\n",
       "      <td>0.0</td>\n",
       "      <td>NaN</td>\n",
       "      <td>NaN</td>\n",
       "      <td>0.0</td>\n",
       "      <td>NaN</td>\n",
       "      <td>6.0</td>\n",
       "      <td>4.0</td>\n",
       "      <td>74.0</td>\n",
       "      <td>['NE']</td>\n",
       "      <td>['11']</td>\n",
       "      <td>NaN</td>\n",
       "      <td>2024-03-13 03:00:00</td>\n",
       "    </tr>\n",
       "    <tr>\n",
       "      <th>8</th>\n",
       "      <td>12n</td>\n",
       "      <td>Poco nuboso</td>\n",
       "      <td>0.0</td>\n",
       "      <td>NaN</td>\n",
       "      <td>NaN</td>\n",
       "      <td>0.0</td>\n",
       "      <td>NaN</td>\n",
       "      <td>6.0</td>\n",
       "      <td>4.0</td>\n",
       "      <td>74.0</td>\n",
       "      <td>NaN</td>\n",
       "      <td>NaN</td>\n",
       "      <td>17.0</td>\n",
       "      <td>2024-03-13 03:00:00</td>\n",
       "    </tr>\n",
       "    <tr>\n",
       "      <th>9</th>\n",
       "      <td>12n</td>\n",
       "      <td>Poco nuboso</td>\n",
       "      <td>0.0</td>\n",
       "      <td>NaN</td>\n",
       "      <td>NaN</td>\n",
       "      <td>0.0</td>\n",
       "      <td>NaN</td>\n",
       "      <td>6.0</td>\n",
       "      <td>3.0</td>\n",
       "      <td>75.0</td>\n",
       "      <td>['NE']</td>\n",
       "      <td>['12']</td>\n",
       "      <td>NaN</td>\n",
       "      <td>2024-03-13 04:00:00</td>\n",
       "    </tr>\n",
       "  </tbody>\n",
       "</table>\n",
       "</div>"
      ],
      "text/plain": [
       "  estadoCielo_value estadoCielo_descripcion  precipitacion_value  \\\n",
       "0               17n             Nubes altas                  0.0   \n",
       "1               17n             Nubes altas                  0.0   \n",
       "2               17n             Nubes altas                  0.0   \n",
       "3               17n             Nubes altas                  0.0   \n",
       "4               NaN                     NaN                  NaN   \n",
       "5               17n             Nubes altas                  0.0   \n",
       "6               17n             Nubes altas                  0.0   \n",
       "7               12n             Poco nuboso                  0.0   \n",
       "8               12n             Poco nuboso                  0.0   \n",
       "9               12n             Poco nuboso                  0.0   \n",
       "\n",
       "   probPrecipitacion_value  probTormenta_value  nieve_value  probNieve_value  \\\n",
       "0                      NaN                 NaN          0.0              NaN   \n",
       "1                      NaN                 NaN          0.0              NaN   \n",
       "2                      NaN                 NaN          0.0              NaN   \n",
       "3                      NaN                 NaN          0.0              NaN   \n",
       "4                      0.0                 0.0          NaN              0.0   \n",
       "5                      NaN                 NaN          0.0              NaN   \n",
       "6                      NaN                 NaN          0.0              NaN   \n",
       "7                      NaN                 NaN          0.0              NaN   \n",
       "8                      NaN                 NaN          0.0              NaN   \n",
       "9                      NaN                 NaN          0.0              NaN   \n",
       "\n",
       "   temperatura_value  sensTermica_value  humedadRelativa_value direccion  \\\n",
       "0                8.0                6.0                   68.0    ['NE']   \n",
       "1                8.0                6.0                   68.0       NaN   \n",
       "2                6.0                3.0                   75.0    ['NE']   \n",
       "3                6.0                3.0                   75.0       NaN   \n",
       "4                NaN                NaN                    NaN       NaN   \n",
       "5                6.0                4.0                   73.0    ['NE']   \n",
       "6                6.0                4.0                   73.0       NaN   \n",
       "7                6.0                4.0                   74.0    ['NE']   \n",
       "8                6.0                4.0                   74.0       NaN   \n",
       "9                6.0                3.0                   75.0    ['NE']   \n",
       "\n",
       "  velocidad  vientoAndRachaMax_value            datetime  \n",
       "0    ['10']                      NaN 2024-03-13 00:00:00  \n",
       "1       NaN                     18.0 2024-03-13 00:00:00  \n",
       "2    ['12']                      NaN 2024-03-13 01:00:00  \n",
       "3       NaN                     17.0 2024-03-13 01:00:00  \n",
       "4       NaN                      NaN 2024-03-13 01:07:00  \n",
       "5    ['11']                      NaN 2024-03-13 02:00:00  \n",
       "6       NaN                     16.0 2024-03-13 02:00:00  \n",
       "7    ['11']                      NaN 2024-03-13 03:00:00  \n",
       "8       NaN                     17.0 2024-03-13 03:00:00  \n",
       "9    ['12']                      NaN 2024-03-13 04:00:00  "
      ]
     },
     "execution_count": 4,
     "metadata": {},
     "output_type": "execute_result"
    }
   ],
   "source": [
    "df = pd.read_csv(\n",
    "    os.path.join(AEMET_DATA_PATH, \"2024\", \"03\", \"13\", \"aemet_20240313.csv\"),\n",
    "    parse_dates=[\"datetime\"],\n",
    ")\n",
    "df.head(10)"
   ]
  },
  {
   "cell_type": "code",
   "execution_count": 5,
   "metadata": {},
   "outputs": [
    {
     "data": {
      "text/plain": [
       "(52, 14)"
      ]
     },
     "execution_count": 5,
     "metadata": {},
     "output_type": "execute_result"
    }
   ],
   "source": [
    "df.shape"
   ]
  },
  {
   "cell_type": "code",
   "execution_count": 6,
   "metadata": {},
   "outputs": [
    {
     "name": "stdout",
     "output_type": "stream",
     "text": [
      "<class 'pandas.core.frame.DataFrame'>\n",
      "RangeIndex: 52 entries, 0 to 51\n",
      "Data columns (total 14 columns):\n",
      " #   Column                   Non-Null Count  Dtype         \n",
      "---  ------                   --------------  -----         \n",
      " 0   estadoCielo_value        48 non-null     object        \n",
      " 1   estadoCielo_descripcion  48 non-null     object        \n",
      " 2   precipitacion_value      48 non-null     float64       \n",
      " 3   probPrecipitacion_value  4 non-null      float64       \n",
      " 4   probTormenta_value       4 non-null      float64       \n",
      " 5   nieve_value              48 non-null     float64       \n",
      " 6   probNieve_value          4 non-null      float64       \n",
      " 7   temperatura_value        48 non-null     float64       \n",
      " 8   sensTermica_value        48 non-null     float64       \n",
      " 9   humedadRelativa_value    48 non-null     float64       \n",
      " 10  direccion                24 non-null     object        \n",
      " 11  velocidad                24 non-null     object        \n",
      " 12  vientoAndRachaMax_value  24 non-null     float64       \n",
      " 13  datetime                 52 non-null     datetime64[ns]\n",
      "dtypes: datetime64[ns](1), float64(9), object(4)\n",
      "memory usage: 5.8+ KB\n"
     ]
    }
   ],
   "source": [
    "df.info()"
   ]
  },
  {
   "cell_type": "code",
   "execution_count": 7,
   "metadata": {},
   "outputs": [
    {
     "data": {
      "text/plain": [
       "Index(['estadoCielo_value', 'estadoCielo_descripcion', 'precipitacion_value',\n",
       "       'probPrecipitacion_value', 'probTormenta_value', 'nieve_value',\n",
       "       'probNieve_value', 'temperatura_value', 'sensTermica_value',\n",
       "       'humedadRelativa_value', 'direccion', 'velocidad',\n",
       "       'vientoAndRachaMax_value', 'datetime'],\n",
       "      dtype='object')"
      ]
     },
     "execution_count": 7,
     "metadata": {},
     "output_type": "execute_result"
    }
   ],
   "source": [
    "df.columns"
   ]
  },
  {
   "cell_type": "code",
   "execution_count": 8,
   "metadata": {},
   "outputs": [
    {
     "data": {
      "text/plain": [
       "estadoCielo_descripcion\n",
       "Nubes altas    28\n",
       "Despejado      14\n",
       "Poco nuboso     6\n",
       "Name: count, dtype: int64"
      ]
     },
     "execution_count": 8,
     "metadata": {},
     "output_type": "execute_result"
    }
   ],
   "source": [
    "df[\"estadoCielo_descripcion\"].value_counts()"
   ]
  },
  {
   "cell_type": "markdown",
   "metadata": {},
   "source": [
    "## Conversiones de tipos"
   ]
  },
  {
   "cell_type": "markdown",
   "metadata": {},
   "source": [
    "La variable `estadoCielo_value` tiene valores iguales pero terminados en 'n' que significan lo mismo. Además, indican la categoría descrita en la columna `estadoCielo_descripción`. Por tanto, esta columna puede ser eliminada, y la renombramos para que los nombres de las variables estén unificados. También la convertimos a categorías."
   ]
  },
  {
   "cell_type": "code",
   "execution_count": 9,
   "metadata": {},
   "outputs": [
    {
     "data": {
      "text/plain": [
       "estadoCielo_value\n",
       "17     16\n",
       "17n    12\n",
       "11n     8\n",
       "11      6\n",
       "12n     4\n",
       "12      2\n",
       "Name: count, dtype: int64"
      ]
     },
     "execution_count": 9,
     "metadata": {},
     "output_type": "execute_result"
    }
   ],
   "source": [
    "df[\"estadoCielo_value\"].value_counts()"
   ]
  },
  {
   "cell_type": "code",
   "execution_count": 10,
   "metadata": {},
   "outputs": [
    {
     "data": {
      "text/plain": [
       "estadoCielo_value\n",
       "Nubes altas    28\n",
       "Despejado      14\n",
       "Poco nuboso     6\n",
       "Name: count, dtype: int64"
      ]
     },
     "execution_count": 10,
     "metadata": {},
     "output_type": "execute_result"
    }
   ],
   "source": [
    "df.drop(columns='estadoCielo_value', inplace=True)\n",
    "df.rename(columns={'estadoCielo_descripcion': 'estadoCielo_value'}, inplace=True)\n",
    "\n",
    "df[\"estadoCielo_value\"] = df[\"estadoCielo_value\"].astype('category')\n",
    "df[\"estadoCielo_value\"].value_counts()"
   ]
  },
  {
   "cell_type": "markdown",
   "metadata": {},
   "source": [
    "La variable `direccion` representa los valores de norte, sur, este, oeste. Como vienen en una lista, los sacamos y los convertimos a categorías."
   ]
  },
  {
   "cell_type": "code",
   "execution_count": 11,
   "metadata": {},
   "outputs": [
    {
     "data": {
      "text/plain": [
       "direccion\n",
       "['NE']    10\n",
       "['E']      5\n",
       "['S']      5\n",
       "['NO']     3\n",
       "['SE']     1\n",
       "Name: count, dtype: int64"
      ]
     },
     "execution_count": 11,
     "metadata": {},
     "output_type": "execute_result"
    }
   ],
   "source": [
    "df[\"direccion\"].value_counts()"
   ]
  },
  {
   "cell_type": "code",
   "execution_count": 12,
   "metadata": {},
   "outputs": [
    {
     "data": {
      "text/plain": [
       "direccion\n",
       "NE    10\n",
       "E      5\n",
       "S      5\n",
       "NO     3\n",
       "SE     1\n",
       "Name: count, dtype: int64"
      ]
     },
     "execution_count": 12,
     "metadata": {},
     "output_type": "execute_result"
    }
   ],
   "source": [
    "df[\"direccion\"] = df[\"direccion\"].str.replace(\"['\", \"\").str.replace(\"']\", \"\").astype('category')\n",
    "df[\"direccion\"].value_counts()"
   ]
  },
  {
   "cell_type": "markdown",
   "metadata": {},
   "source": [
    "Los valores de la variable `velocidad` vienen en una lista, los sacamos y los convertimos a `float`."
   ]
  },
  {
   "cell_type": "code",
   "execution_count": 13,
   "metadata": {},
   "outputs": [
    {
     "data": {
      "text/plain": [
       "velocidad\n",
       "['8']     5\n",
       "['10']    4\n",
       "['12']    3\n",
       "['11']    3\n",
       "['7']     3\n",
       "['6']     2\n",
       "['9']     2\n",
       "['5']     1\n",
       "['4']     1\n",
       "Name: count, dtype: int64"
      ]
     },
     "execution_count": 13,
     "metadata": {},
     "output_type": "execute_result"
    }
   ],
   "source": [
    "df['velocidad'].value_counts()"
   ]
  },
  {
   "cell_type": "code",
   "execution_count": 14,
   "metadata": {},
   "outputs": [
    {
     "data": {
      "text/plain": [
       "velocidad\n",
       "8.0     5\n",
       "10.0    4\n",
       "12.0    3\n",
       "11.0    3\n",
       "7.0     3\n",
       "6.0     2\n",
       "9.0     2\n",
       "5.0     1\n",
       "4.0     1\n",
       "Name: count, dtype: int64"
      ]
     },
     "execution_count": 14,
     "metadata": {},
     "output_type": "execute_result"
    }
   ],
   "source": [
    "df[\"velocidad\"] = df[\"velocidad\"].str.replace(\"['\", \"\").str.replace(\"']\", \"\").astype(float)\n",
    "df[\"velocidad\"].value_counts()"
   ]
  },
  {
   "cell_type": "markdown",
   "metadata": {},
   "source": [
    "Obtenemos los tipos de las variables:"
   ]
  },
  {
   "cell_type": "code",
   "execution_count": 15,
   "metadata": {},
   "outputs": [
    {
     "name": "stdout",
     "output_type": "stream",
     "text": [
      "<class 'pandas.core.frame.DataFrame'>\n",
      "RangeIndex: 52 entries, 0 to 51\n",
      "Data columns (total 13 columns):\n",
      " #   Column                   Non-Null Count  Dtype         \n",
      "---  ------                   --------------  -----         \n",
      " 0   estadoCielo_value        48 non-null     category      \n",
      " 1   precipitacion_value      48 non-null     float64       \n",
      " 2   probPrecipitacion_value  4 non-null      float64       \n",
      " 3   probTormenta_value       4 non-null      float64       \n",
      " 4   nieve_value              48 non-null     float64       \n",
      " 5   probNieve_value          4 non-null      float64       \n",
      " 6   temperatura_value        48 non-null     float64       \n",
      " 7   sensTermica_value        48 non-null     float64       \n",
      " 8   humedadRelativa_value    48 non-null     float64       \n",
      " 9   direccion                24 non-null     category      \n",
      " 10  velocidad                24 non-null     float64       \n",
      " 11  vientoAndRachaMax_value  24 non-null     float64       \n",
      " 12  datetime                 52 non-null     datetime64[ns]\n",
      "dtypes: category(2), datetime64[ns](1), float64(10)\n",
      "memory usage: 5.0 KB\n"
     ]
    }
   ],
   "source": [
    "df.info()"
   ]
  },
  {
   "cell_type": "code",
   "execution_count": 16,
   "metadata": {},
   "outputs": [
    {
     "name": "stdout",
     "output_type": "stream",
     "text": [
      "Numeric cols: ['precipitacion_value', 'probPrecipitacion_value', 'probTormenta_value', 'nieve_value', 'probNieve_value', 'temperatura_value', 'sensTermica_value', 'humedadRelativa_value', 'velocidad', 'vientoAndRachaMax_value']\n",
      "Categoric cols: ['estadoCielo_value', 'direccion']\n",
      "Date cols: ['datetime']\n"
     ]
    }
   ],
   "source": [
    "num_cols = list(df.select_dtypes(include=np.number).columns)\n",
    "cat_cols = list(df.select_dtypes(include=[\"category\"]).columns)\n",
    "date_cols = list(df.select_dtypes(exclude=[np.number, \"category\"]).columns)\n",
    "\n",
    "print(f\"Numeric cols: {num_cols}\")\n",
    "print(f\"Categoric cols: {cat_cols}\")\n",
    "print(f\"Date cols: {date_cols}\")"
   ]
  },
  {
   "cell_type": "markdown",
   "metadata": {},
   "source": [
    "## QA checks ✅"
   ]
  },
  {
   "cell_type": "markdown",
   "metadata": {},
   "source": [
    "### Unicidad\n",
    "Como hemos comentado anteriormente, **cada fila de este dataset representa la meteorología de Madrid para una determinada fecha y hora concretos.** Por tanto, las claves primarias de este dataset se conformarán teniendo en cuenta dichos atributos:"
   ]
  },
  {
   "cell_type": "code",
   "execution_count": 17,
   "metadata": {},
   "outputs": [
    {
     "data": {
      "text/plain": [
       "28"
      ]
     },
     "execution_count": 17,
     "metadata": {},
     "output_type": "execute_result"
    }
   ],
   "source": [
    "df['datetime'].nunique()"
   ]
  },
  {
   "cell_type": "code",
   "execution_count": 18,
   "metadata": {},
   "outputs": [],
   "source": [
    "#  TODO"
   ]
  },
  {
   "cell_type": "markdown",
   "metadata": {},
   "source": [
    "### Exactitud y Completitud"
   ]
  },
  {
   "cell_type": "code",
   "execution_count": 19,
   "metadata": {},
   "outputs": [],
   "source": [
    "#  TODO"
   ]
  },
  {
   "cell_type": "markdown",
   "metadata": {},
   "source": [
    "### Consistencia y Validez"
   ]
  },
  {
   "cell_type": "code",
   "execution_count": 20,
   "metadata": {},
   "outputs": [],
   "source": [
    "#  TODO"
   ]
  },
  {
   "cell_type": "markdown",
   "metadata": {},
   "source": [
    "## PROFILING 📑"
   ]
  },
  {
   "cell_type": "code",
   "execution_count": 21,
   "metadata": {},
   "outputs": [
    {
     "data": {
      "application/vnd.jupyter.widget-view+json": {
       "model_id": "337bbd5f42a840a9807b15875f2713ec",
       "version_major": 2,
       "version_minor": 0
      },
      "text/plain": [
       "Summarize dataset:   0%|          | 0/5 [00:00<?, ?it/s]"
      ]
     },
     "metadata": {},
     "output_type": "display_data"
    },
    {
     "data": {
      "application/vnd.jupyter.widget-view+json": {
       "model_id": "06ac49f8a09847bdbeb84d34569557c9",
       "version_major": 2,
       "version_minor": 0
      },
      "text/plain": [
       "Generate report structure:   0%|          | 0/1 [00:00<?, ?it/s]"
      ]
     },
     "metadata": {},
     "output_type": "display_data"
    },
    {
     "data": {
      "application/vnd.jupyter.widget-view+json": {
       "model_id": "2609894af6524e40bcc68161a1e3ac11",
       "version_major": 2,
       "version_minor": 0
      },
      "text/plain": [
       "Render HTML:   0%|          | 0/1 [00:00<?, ?it/s]"
      ]
     },
     "metadata": {},
     "output_type": "display_data"
    },
    {
     "data": {
      "application/vnd.jupyter.widget-view+json": {
       "model_id": "2791878c9bab469487f6775560ce40b5",
       "version_major": 2,
       "version_minor": 0
      },
      "text/plain": [
       "Export report to file:   0%|          | 0/1 [00:00<?, ?it/s]"
      ]
     },
     "metadata": {},
     "output_type": "display_data"
    }
   ],
   "source": [
    "profile = ProfileReport(\n",
    "    df,\n",
    "    title=\"🌥️ AEMET QA\",\n",
    "    dataset={\n",
    "        \"description\": \"AEMET - Estado de la meteorología\",\n",
    "        \"url\": \"https://opendata.aemet.es/dist/index.html\",\n",
    "    },\n",
    "    variables={\n",
    "        \"descriptions\": {\n",
    "            \"PK\": \"Identificador único (Primary Key) del dataset, compuesto por <datetime>_TODO\",\n",
    "            \"datetime\": \"Fecha y hora de la petición a la API\",\n",
    "            \"estadoCielo_value\": \"Estado del cielo\",\n",
    "            \"precipitacion_value\": \"Precipitación\",\n",
    "            \"probPrecipitacion_value\": \"Probabilidad de precipitación\",\n",
    "            \"probTormenta_value\": \"Probabilidad de tormenta\",\n",
    "            \"nieve_value\": \"Nieve\",\n",
    "            \"probNieve_value\": \"Probabilidad de nieve\",\n",
    "            \"temperatura_value\": \"Temperatura\",\n",
    "            \"sensTermica_value\": \"Sensación térmica\",\n",
    "            \"humedadRelativa_value\": \"Humedad relativa\",\n",
    "            \"direccion\": \"Dirección del viento\",\n",
    "            \"velocidad\": \"Velocidad del viento\",\n",
    "            \"vientoAndRachaMax_value\": \"Viento racha máxima\",\n",
    "        }\n",
    "    },\n",
    "    interactions=None,\n",
    "    explorative=True,\n",
    "    dark_mode=True,\n",
    ")\n",
    "profile.to_file(os.path.join(ROOT_PATH, \"docs\", \"qa\", \"aemet_report.html\"))\n",
    "# profile.to_notebook_iframe()"
   ]
  },
  {
   "cell_type": "markdown",
   "metadata": {},
   "source": [
    "## EDA 📊🔍"
   ]
  },
  {
   "cell_type": "code",
   "execution_count": null,
   "metadata": {},
   "outputs": [],
   "source": [
    "#  TODO"
   ]
  },
  {
   "cell_type": "code",
   "execution_count": null,
   "metadata": {},
   "outputs": [],
   "source": []
  }
 ],
 "metadata": {
  "kernelspec": {
   "display_name": "Python 3.11.7 ('venv': venv)",
   "language": "python",
   "name": "python3"
  },
  "language_info": {
   "codemirror_mode": {
    "name": "ipython",
    "version": 3
   },
   "file_extension": ".py",
   "mimetype": "text/x-python",
   "name": "python",
   "nbconvert_exporter": "python",
   "pygments_lexer": "ipython3",
   "version": "3.10.12"
  },
  "orig_nbformat": 4,
  "vscode": {
   "interpreter": {
    "hash": "7056b316d281e41af8bb677c2c15c6d2127a9166071d02d66c8bc69014a8260f"
   }
  }
 },
 "nbformat": 4,
 "nbformat_minor": 2
}
